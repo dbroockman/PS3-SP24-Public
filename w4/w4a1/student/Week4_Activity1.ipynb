{
 "cells": [
  {
   "cell_type": "markdown",
   "id": "e9ab3ff1",
   "metadata": {
    "tags": [
     "include"
    ]
   },
   "source": [
    "# POLSCI 3\n",
    "\n",
    "## Week 4 Activity 1: Causality and Potential Outcomes"
   ]
  },
  {
   "cell_type": "markdown",
   "id": "c12382ba",
   "metadata": {},
   "source": [
    "For this activity, we will use what we've learned from class about potential outcomes in order to analyze data from a company's workplace wellness program.\n",
    "\n",
    "Many companies and organizations have workplace wellness programs that encourage employees to live healthier lives. (<a href=\"https://hr.berkeley.edu/hr-network/central-guide-managing-hr/managing-hr/wellness/health-safety/services/health-matters\" target=\"_blank\">Berkeley has one too!</a>) One reason is that companies/organizations have to pay higher health insurance costs if their employees use lots of expensive medical care. So, **workplace wellness programs try to encourage employees to live healthier lives, with the goal of reducing the amount of money the employees spend on medical care---thereby reducing how much money the company has to spend on employee health insurance**.\n",
    "\n",
    "But do these workplace wellness programs actually reduce employees' medical care costs? This week, we'll analyze data from a real study that looked at this question. Today, though, we'll pretend we are omniscent and can see all the potential outcomes in this study."
   ]
  },
  {
   "cell_type": "markdown",
   "id": "f30a44a0",
   "metadata": {},
   "source": [
    "### Part 1: Importing the Data"
   ]
  },
  {
   "cell_type": "code",
   "execution_count": null,
   "id": "47b9cd92",
   "metadata": {},
   "outputs": [],
   "source": [
    "#RUN THIS CELL\n",
    "library(testthat)\n",
    "\n",
    "# Read in the data.\n",
    "data <- read.csv('ps3_wellness_with_POs.csv', stringsAsFactors = F)\n",
    "data # Let's take a look at the data."
   ]
  },
  {
   "cell_type": "markdown",
   "id": "c93ef207",
   "metadata": {},
   "source": [
    "This dataset contains real data on participants in a wellness program... and a couple fake variables we've added in: the potential outcomes.\n",
    "\n",
    "Each row in this dataset represents a unique person, and the data measures medical care costs before and after the wellness program started. Here is more information about the variables:\n",
    "\n",
    "- `name`: Respondent Name\n",
    "- `participate`: `0` if the person did not participate in the workplace wellness program; `1` if the person did participate in the workplace wellness program\n",
    "- `baseline`: Amount of monthly average medical costs at baseline; that is, before the program started.\n",
    "- `po_control`: Monthly cost of medical care for this person after the workplace wellness program started, **if the person _did not_ participate in the program**. In this study, this is the control potential outcome (because this is what would have happened if these people did not recieve the treatment; i.e., if they did not participate in the wellness program).\n",
    "- `po_treat`: Monthly cost of medical care for this person after the workplace wellness program started, **if the person _did_ participate in the program**. In this study, this is the treatment potential outcome (because this is what would have happened if these people received the treatment, which is the wellness program)."
   ]
  },
  {
   "cell_type": "markdown",
   "id": "134051cd",
   "metadata": {},
   "source": [
    "-----\n",
    "\n",
    "### Part 2: Data Analysis"
   ]
  },
  {
   "cell_type": "markdown",
   "id": "f442a1e7",
   "metadata": {
    "deletable": false,
    "editable": false
   },
   "source": [
    "----\n",
    "\n",
    "**Question 1a (multiple choice).** In this example, what is the \"**treatment**\"?\n",
    "\n",
    "- `a`: Respondent's names\n",
    "- `b`: Participating in the wellness program\n",
    "- `c`: Average monthly medical costs before the program started\n",
    "- `d`: Average monthly medical costs after the program started\n",
    "\n",
    "Enter `a`, `b`, `c`, or `d` between the quotes below to answer the question. For example, to answer `a`, write `q1a.answer <- 'a'`.\n"
   ]
  },
  {
   "cell_type": "code",
   "execution_count": null,
   "id": "e6e33e95",
   "metadata": {
    "tags": []
   },
   "outputs": [],
   "source": [
    "q1a.answer <- '...'"
   ]
  },
  {
   "cell_type": "markdown",
   "id": "e6a19f57",
   "metadata": {
    "deletable": false,
    "editable": false
   },
   "source": [
    "----\n",
    "\n",
    "**Question 1b (multiple choice).** In this example, what is the \"**outcome**\"?\n",
    "\n",
    "- `a`: Respondent's names\n",
    "- `b`: Participating in the wellness program\n",
    "- `c`: Average monthly medical costs before the program started\n",
    "- `d`: Average monthly medical costs after the program started\n",
    "\n",
    "Enter `a`, `b`, `c`, or `d` between the quotes below to answer the question. For example, to answer `a`, write `q1b.answer <- 'a'`.\n"
   ]
  },
  {
   "cell_type": "code",
   "execution_count": null,
   "id": "458fac5b",
   "metadata": {
    "tags": []
   },
   "outputs": [],
   "source": [
    "q1b.answer <- '...'"
   ]
  },
  {
   "cell_type": "markdown",
   "id": "2e99b565",
   "metadata": {
    "deletable": false,
    "editable": false
   },
   "source": [
    "-----\n",
    "\n",
    "**Question 2.** Create a new variable in the dataset called `treatment_effect` which contains the treatment effect for every individual. Do this by calculating the treatment potential outcome minus the control potential outcome.\n",
    "\n",
    "*Hint: The last slide of the lecture gave you the line of code to do this!*\n"
   ]
  },
  {
   "cell_type": "code",
   "execution_count": null,
   "id": "de6e6b29",
   "metadata": {
    "tags": []
   },
   "outputs": [],
   "source": [
    "# Replace ... with the right answer\n",
    "data$treatment_effect <- ...\n",
    "data$treatment_effect # Let's print the result."
   ]
  },
  {
   "cell_type": "markdown",
   "id": "02bfb063",
   "metadata": {
    "deletable": false,
    "editable": false
   },
   "source": [
    "----\n",
    "\n",
    "**Question 3 (multiple choice).** Why is the treatment effect defined as the treatment potential outcome minus the control potential outcome?\n",
    "\n",
    "- `a`: To understand the effect of the treatment, we compare outcomes after the treatment was administered to outcomes from before the treatment was administered\n",
    "- `b`: We want to control for confounding factors when analyzing data\n",
    "- `c`: This captures what additional effect (if any) the treatment would have relative to what would have happened anyway if the treatment had not been administered\n",
    "- `d`: The people in the sample might not be representative of the broader population, and we use the control potential outcome to adjust for this\n",
    "\n",
    "Enter `a`, `b`, `c`, or `d` between the quotes below to answer the question. For example, to answer `a`, write `q3.answer <- 'a'`.\n"
   ]
  },
  {
   "cell_type": "code",
   "execution_count": null,
   "id": "0f35d437",
   "metadata": {
    "tags": []
   },
   "outputs": [],
   "source": [
    "q3.answer <- '...'"
   ]
  },
  {
   "cell_type": "markdown",
   "id": "dbe3d66b",
   "metadata": {},
   "source": [
    "------\n",
    "\n",
    "Before we move on, let's look at what the dataset looks like now that we've added our new variable to it, `treatment_effect`:"
   ]
  },
  {
   "cell_type": "code",
   "execution_count": null,
   "id": "a2dbaa60",
   "metadata": {
    "scrolled": true
   },
   "outputs": [],
   "source": [
    "data # Just run this cell, no need to change it."
   ]
  },
  {
   "cell_type": "markdown",
   "id": "793d59b2",
   "metadata": {},
   "source": [
    "As you can see, the treatment effect is zero for most people, but some people have non-zero treatment effects.\n",
    "\n",
    "Let's look at the data for one person, Haley, whose treatment effect isn't zero:"
   ]
  },
  {
   "cell_type": "code",
   "execution_count": null,
   "id": "a22a1569",
   "metadata": {
    "scrolled": true
   },
   "outputs": [],
   "source": [
    "subset(data, name == 'Haley') # Just run this cell, no need to change it."
   ]
  },
  {
   "cell_type": "markdown",
   "id": "1b2ed47d",
   "metadata": {
    "deletable": false,
    "editable": false
   },
   "source": [
    "----\n",
    "\n",
    "**Question 4 (multiple choice).** What does it mean that Haley's treatment effect is -50?\n",
    "\n",
    "- `a`: By random chance, Haley happened to spend less on medical care during the month when she was participating in the workplace wellness program.\n",
    "- `b`: If Haley participated in the workplace wellness program, she would spend \\$50 less per month on medical care than if she did not participate in the workplace wellness program.\n",
    "- `c`: The workplace wellness program causes Haley to spend \\$50 more per month on medical care.\n",
    "- `d`: Haley spent $50 less per month on medical care during the workplace wellness program than she did in the month before the program started.\n",
    "\n",
    "Enter `a`, `b`, `c`, or `d` between the quotes below to answer the question. For example, to answer `a`, write `q3.answer <- 'a'`.\n"
   ]
  },
  {
   "cell_type": "code",
   "execution_count": null,
   "id": "f0887d06",
   "metadata": {
    "tags": []
   },
   "outputs": [],
   "source": [
    "q4.answer <- '...'"
   ]
  },
  {
   "cell_type": "markdown",
   "id": "7d152c99",
   "metadata": {
    "deletable": false,
    "editable": false
   },
   "source": [
    "-----\n",
    "\n",
    "**Question 5.** Now let's think about everyone in this dataset, not just Haley. What is the *average treatment effect* of the workplace wellness program for the people in the `data` dataset? (This isn't a trick question: what is the average or *mean* of the `treatment_effect` variable?)\n"
   ]
  },
  {
   "cell_type": "code",
   "execution_count": null,
   "id": "618eeb2f",
   "metadata": {
    "tags": []
   },
   "outputs": [],
   "source": [
    "average.treatment.effect <- NULL # YOUR CODE HERE\n",
    "average.treatment.effect # Prints your answer."
   ]
  },
  {
   "cell_type": "markdown",
   "id": "bfeab634",
   "metadata": {
    "deletable": false,
    "editable": false
   },
   "source": [
    "-----\n",
    "\n",
    "**Question 6.** Which of the following claims is/are true?\n",
    "\n",
    "1. In real life, we could never observe the true treatment effect of the wellness treatment for any specific individual\n",
    "2. An individual's treatment effect cannot be zero\n",
    "\n",
    "- `a`: Only number 1 is true\n",
    "- `b`: Only number 2 is true\n",
    "- `c`: 1 and 2 are both true\n",
    "- `d`: Neither 1 nor 2 are true (both are false)\n",
    "\n",
    "Enter `a`, `b`, `c`, or `d` between the quotes below to answer the question. For example, to answer `a`, write `q5.answer <- 'a'`.\n"
   ]
  },
  {
   "cell_type": "code",
   "execution_count": null,
   "id": "f7c12cc1",
   "metadata": {
    "tags": []
   },
   "outputs": [],
   "source": [
    "q6.answer <- '...'"
   ]
  },
  {
   "cell_type": "markdown",
   "id": "85d90b57",
   "metadata": {},
   "source": [
    "----"
   ]
  },
  {
   "cell_type": "markdown",
   "id": "dacbd861",
   "metadata": {
    "deletable": false,
    "editable": false
   },
   "source": [
    "## Submission\n",
    "\n",
    "Make sure you have run all cells in your notebook in order before running the cell below, so that all images/graphs appear in the output. The cell below will generate a zip file for you to submit."
   ]
  },
  {
   "cell_type": "code",
   "execution_count": null,
   "id": "bfcab024",
   "metadata": {
    "deletable": false,
    "editable": false
   },
   "outputs": [],
   "source": [
    "ottr::export(\"Week4_Activity1.ipynb\", pdf = TRUE, force_save = TRUE)"
   ]
  },
  {
   "cell_type": "markdown",
   "id": "dbd46d7c",
   "metadata": {},
   "source": [
    " "
   ]
  }
 ],
 "metadata": {
  "kernelspec": {
   "display_name": "R",
   "language": "R",
   "name": "ir"
  },
  "language_info": {
   "codemirror_mode": "r",
   "file_extension": ".r",
   "mimetype": "text/x-r-source",
   "name": "R",
   "pygments_lexer": "r",
   "version": "4.3.1"
  },
  "latex_envs": {
   "LaTeX_envs_menu_present": true,
   "autoclose": false,
   "autocomplete": true,
   "bibliofile": "biblio.bib",
   "cite_by": "apalike",
   "current_citInitial": 1,
   "eqLabelWithNumbers": true,
   "eqNumInitial": 1,
   "hotkeys": {
    "equation": "Ctrl-E",
    "itemize": "Ctrl-I"
   },
   "labels_anchors": false,
   "latex_user_defs": false,
   "report_style_numbering": false,
   "user_envs_cfg": false
  }
 },
 "nbformat": 4,
 "nbformat_minor": 5
}
