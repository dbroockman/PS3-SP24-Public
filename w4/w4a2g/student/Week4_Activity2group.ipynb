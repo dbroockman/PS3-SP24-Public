{
 "cells": [
  {
   "cell_type": "markdown",
   "metadata": {},
   "source": [
    "# POLSCI 3\n",
    "\n",
    "## Week 4, Lecture Notebook 2: Revisiting Omitted Variable/Selection Bias\n",
    "\n",
    "We'll continue using the wellness data from earlier this week, although this time we'll be using the real data. This means we won't be able to see both potential outcomes for everyone -- only the outcome that actually happened given the treatment they actually got."
   ]
  },
  {
   "cell_type": "markdown",
   "metadata": {},
   "source": [
    "### Revisiting the Data"
   ]
  },
  {
   "cell_type": "markdown",
   "metadata": {},
   "source": [
    "Let's read in the wellness dataset and recap what each of the variables represent. "
   ]
  },
  {
   "cell_type": "code",
   "execution_count": null,
   "metadata": {},
   "outputs": [],
   "source": [
    "# Do not edit this cell, just run it.\n",
    "library(testthat)\n",
    "wellness <- read.csv('ps3_wellness_real.csv')\n",
    "head(wellness)"
   ]
  },
  {
   "cell_type": "markdown",
   "metadata": {},
   "source": [
    "This dataset contains real data on participants in a wellness program. Each row represents a unique respondent, and the data measures medical expenditure before and after the wellness treatment. Here is more information about the variables:\n",
    "\n",
    "`id`: Respondent ID (anonymized identifier for each respondent)\n",
    "\n",
    "`treat`: Whether or not the treatment was offered to the participant (treatment here is the wellness program) (`1` = was offered wellness program, `0` = wasn't offered wellness program). This is randomly assigned.\n",
    "\n",
    "`participate`: Whether respondent **actually participated** in the wellness program (`1` = actually participated, `0` = didn't particiapte)\n",
    "\n",
    "`baseline`: Monthly average medical costs at baseline; that is, before the program started.\n",
    "\n",
    "`outcome_post`: Monthly cost of medical care for this person after the workplace wellness program started (regardless of whether they participated or not)."
   ]
  },
  {
   "cell_type": "markdown",
   "metadata": {},
   "source": [
    "### Groups in the dataset"
   ]
  },
  {
   "cell_type": "markdown",
   "metadata": {},
   "source": [
    "The researchers first randomized people to have the opportunity to participate in the wellness program or not. Then, among the people who had the chance to participate, some chose to do so and some chose not to do so. This means there are three groups of people:\n",
    "\n",
    "1. `treat == 0`, people assigned to the control group and who therefore didn't have the chance to participate (so `participate == 0` for all of them, too)\n",
    "2. `treat == 1` and `participate == 0`, people who had the opportunity to participate and chose **not** to\n",
    "3. `treat == 1` and `participate == 1`, people who had the opportunity to participate and **did** choose to"
   ]
  },
  {
   "cell_type": "markdown",
   "metadata": {},
   "source": [
    "---------\n",
    "\n",
    "**Question 1.** Let's think about what groups to compare to understand the effect of this wellness program. One idea someone might have is to compare groups 2 and 3. So that we can do this, create two new subsets in the dataset:\n",
    "\n",
    "- a subset called `chose.not.to.participate` that includes group 2 above: the people who 1) were assigned to the treatment group, and so had a chance to participate, but 2) chose not to\n",
    "- a subset called `chose.to.participate` that includes group 3 above: the people who 1) were assigned to the treatment group and 2) *did* choose to participate\n",
    "\n",
    "In the below cell, make those subsets.\n"
   ]
  },
  {
   "cell_type": "code",
   "execution_count": null,
   "metadata": {
    "tags": []
   },
   "outputs": [],
   "source": [
    "chose.not.to.participate <- NULL # YOUR CODE HERE\n",
    "chose.to.participate <- NULL # YOUR CODE HERE"
   ]
  },
  {
   "cell_type": "code",
   "execution_count": null,
   "metadata": {
    "deletable": false,
    "editable": false
   },
   "outputs": [],
   "source": [
    ". = ottr::check(\"tests/q1.R\")"
   ]
  },
  {
   "cell_type": "markdown",
   "metadata": {},
   "source": [
    "------\n",
    "\n",
    "**Question 2.** Next, let's use the strategy of comparing outcomes (medical costs after the wellness program started) among those who choose to participate in the program to those who choose not to participate in the program.\n",
    "\n",
    "- On the first line below, take the mean of `outcome_post` in `chose.not.to.participate`.\n",
    "- On the second line below, take the mean of `outcome_post` in `chose.to.participate`.\n"
   ]
  },
  {
   "cell_type": "code",
   "execution_count": null,
   "metadata": {
    "tags": []
   },
   "outputs": [],
   "source": [
    "mean.spending.non.participants <- NULL # YOUR CODE HERE\n",
    "mean.spending.participants <- NULL # YOUR CODE HERE\n",
    "\n",
    "# The next line will print a summary of what you did, you do not need to change it.\n",
    "paste0(\"Wellness program participants spent \", round(mean.spending.participants), \" dollars on medical care after the program started. \",\n",
    "       \"People who did not participate spent \", round(mean.spending.non.participants), \" dollars on medical care after the program started. \",\n",
    "      \"On average, wellness program participants therefore spent \", round(mean.spending.non.participants - mean.spending.participants),\n",
    "      \" dollars less on medical care than did non-participants in the months after the program.\")"
   ]
  },
  {
   "cell_type": "code",
   "execution_count": null,
   "metadata": {
    "deletable": false,
    "editable": false
   },
   "outputs": [],
   "source": [
    ". = ottr::check(\"tests/q2.R\")"
   ]
  },
  {
   "cell_type": "markdown",
   "metadata": {},
   "source": [
    "<!-- BEGIN QUESTION -->\n",
    "\n",
    "-------\n",
    "\n",
    "**Question 3.** If we want to know the effect of the wellness program on medical costs, is it a good idea to compare the medical costs of people who choose to participate in the program to the people who choose not to? Why or why not?\n",
    "\n",
    "*Please limit your answer to 2-3 sentences.*\n"
   ]
  },
  {
   "cell_type": "markdown",
   "metadata": {},
   "source": [
    "_Type your answer here, replacing this text._"
   ]
  },
  {
   "cell_type": "markdown",
   "metadata": {},
   "source": [
    "<!-- END QUESTION -->\n",
    "\n",
    "------\n",
    "\n",
    "**Question 4.** Remember that the dataset also contains the `baseline` variable, which measured how much people spent on medical care **before** the wellness program began. Let's compare how much the people who *later* decided to or not to participate in the wellness program spent on medical care *before* the wellness program even started.\n",
    "\n",
    "- On the first line below, take the mean of `baseline` in `chose.not.to.participate`.\n",
    "- On the second line below, take the mean of `baseline` in `chose.to.participate`.\n"
   ]
  },
  {
   "cell_type": "code",
   "execution_count": null,
   "metadata": {
    "tags": []
   },
   "outputs": [],
   "source": [
    "mean.baseline.spending.non.participants <- NULL # YOUR CODE HERE\n",
    "mean.baseline.spending.participants <- NULL # YOUR CODE HERE\n",
    "\n",
    "# The next line will print a summary of what you did, you do not need to change it.\n",
    "paste0(\"On average, wellness program participants spent \", round(mean.baseline.spending.participants),\n",
    "       \" dollars on medical care before the program started. \",\n",
    "       \"On average, people who did not participate spent \", round(mean.baseline.spending.non.participants),\n",
    "       \" dollars on medical care before the program started. \",\n",
    "      \"On average, wellness program participants therefore spent \",\n",
    "       round(mean.baseline.spending.non.participants - mean.baseline.spending.participants),\n",
    "      \" dollars per month less on medical care before the wellness program started.\")"
   ]
  },
  {
   "cell_type": "code",
   "execution_count": null,
   "metadata": {
    "deletable": false,
    "editable": false
   },
   "outputs": [],
   "source": [
    ". = ottr::check(\"tests/q4.R\")"
   ]
  },
  {
   "cell_type": "markdown",
   "metadata": {},
   "source": [
    "<!-- BEGIN QUESTION -->\n",
    "\n",
    "------\n",
    "\n",
    "**Question 5a.** Tell a story about why the results in Question 4 might look like they do. Why is there such a big difference between these groups to start with, before the program even started?\n",
    "\n",
    "*Please limit your answer to 1-3 sentences.*\n"
   ]
  },
  {
   "cell_type": "markdown",
   "metadata": {},
   "source": [
    "_Type your answer here, replacing this text._"
   ]
  },
  {
   "cell_type": "markdown",
   "metadata": {},
   "source": [
    "<!-- END QUESTION -->\n",
    "\n",
    "<!-- BEGIN QUESTION -->\n",
    "\n",
    "-----\n",
    "\n",
    "**Question 5b.** What do your answers to Question 4 and 5a indicate about whether it is a good idea to measure the effect of the wellness program by comparing people who choose to and not to participate?\n",
    "\n",
    "*Please limit your answer to 1-3 sentences.*\n"
   ]
  },
  {
   "cell_type": "markdown",
   "metadata": {},
   "source": [
    "_Type your answer here, replacing this text._"
   ]
  },
  {
   "cell_type": "markdown",
   "metadata": {},
   "source": [
    "<!-- END QUESTION -->\n",
    "\n",
    "### P.S. What if we analyze the data the right way?\n",
    "\n",
    "A teaser: Next week, we'll start to learn how to analyze experiments the *right* way. Below is code that analyzes the data from <a href=\"https://academic.oup.com/qje/article/134/4/1747/5550759?login=true\" target=\"_blank\">the study</a> the right way: by comparing the randomly assigned treatment and control groups. We'll dig deeper into how to analyze this the right way next week."
   ]
  },
  {
   "cell_type": "code",
   "execution_count": null,
   "metadata": {},
   "outputs": [],
   "source": [
    "# This is medical spending among those randomly assigned to the wellness program.\n",
    "mean(subset(wellness, treat == 1)$outcome_post)"
   ]
  },
  {
   "cell_type": "code",
   "execution_count": null,
   "metadata": {},
   "outputs": [],
   "source": [
    "# This is medical spending among those randomly assigned to the control group.\n",
    "mean(subset(wellness, treat == 0)$outcome_post)"
   ]
  },
  {
   "cell_type": "markdown",
   "metadata": {},
   "source": [
    "It looks like we can reach the same conclusions as <a href=\"https://academic.oup.com/qje/article/134/4/1747/5550759?login=true\" target=\"_blank\">the study</a>:\n",
    "\n",
    "> We find strong patterns of selection: during the year prior to the intervention, program participants had lower medical expenditures and healthier behaviors than nonparticipants. ... we do not find significant causal effects of treatment on total medical expenditures."
   ]
  },
  {
   "cell_type": "markdown",
   "metadata": {},
   "source": [
    "------\n",
    "\n",
    "# Submitting Your Notebook (please read carefully!)\n",
    "\n",
    "To submit your notebook...\n",
    "\n",
    "### 1. Click `File` $\\rightarrow$ `Save and Checkpoint`.\n",
    "\n",
    "### 2. Wait 5 seconds.\n",
    "\n",
    "### 3. Select the cell below and hit run."
   ]
  },
  {
   "cell_type": "code",
   "execution_count": null,
   "metadata": {},
   "outputs": [],
   "source": [
    "ottr::export(\"Week4_Activity2group.ipynb\", pdf = TRUE)"
   ]
  },
  {
   "cell_type": "markdown",
   "metadata": {},
   "source": [
    "### 4. Submit the .zip file you just downloaded <a href=\"https://www.gradescope.com/\" target=\"_blank\">on Gradescope here</a>.\n",
    "\n",
    "Notes:\n",
    "\n",
    "- **This does not seem to work on Chrome for iPad or iPhone.** If you're using an iPad or iPhone, you need to download the file using **Safari**.\n",
    "- If your web browser automatically unzips the .zip file (so you see a folder instead of a .zip file), you can just upload the .ipynb file that is inside the folder.\n",
    "- If this method is not working for you, try this: hit `File`, then `Download as`, then `Notebook (.ipynb)` and submit that.\n",
    "\n",
    "### 5. In Gradescope, add your group members' names."
   ]
  }
 ],
 "metadata": {
  "kernelspec": {
   "display_name": "R",
   "language": "R",
   "name": "ir"
  },
  "language_info": {
   "codemirror_mode": "r",
   "file_extension": ".r",
   "mimetype": "text/x-r-source",
   "name": "R",
   "pygments_lexer": "r",
   "version": "4.1.2"
  },
  "latex_envs": {
   "LaTeX_envs_menu_present": true,
   "autoclose": false,
   "autocomplete": true,
   "bibliofile": "biblio.bib",
   "cite_by": "apalike",
   "current_citInitial": 1,
   "eqLabelWithNumbers": true,
   "eqNumInitial": 1,
   "hotkeys": {
    "equation": "Ctrl-E",
    "itemize": "Ctrl-I"
   },
   "labels_anchors": false,
   "latex_user_defs": false,
   "report_style_numbering": false,
   "user_envs_cfg": false
  }
 },
 "nbformat": 4,
 "nbformat_minor": 2
}
