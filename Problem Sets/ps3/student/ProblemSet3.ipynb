{
 "cells": [
  {
   "cell_type": "markdown",
   "id": "b14f1edc",
   "metadata": {},
   "source": [
    "# POLSCI 3\n",
    "\n",
    "## <span style=\"color:red\">READ THIS!</span> Important Notes about Problem Sets in PS 3\n",
    "\n",
    "- Just like with your in-class assignments, most of the questions in this problem set will be automatically graded. Therefore, you need to answer the questions exactly as we asked them: if we ask you to compute something, write the code to compute that exact value.\n",
    "- The coding questions below will tell you if you have the right or wrong answer if you run your code and then run the `ottr::check` cell just below it. (The multiple choice questions do not do this.)\n",
    "    - You'll know you got a question right if it says `\"All tests passed!\"` afterwards.\n",
    "    - If you see an error when you run the check cell, it means you got the question wrong and should try again. The question should show a hint.\n",
    "    - If you don't see anything when you run the check cell, this means the question doesn't tell you if you got the right or wrong answer.\n",
    "- Some of the questions below are short answer questions and will be graded by a GSI. For these questions, we expect around 1-2 sentences on average. You just need to write enough to answer the question, don't stress about how short your answer is. To encourage you not to write too much, your GSI will only mark the first 60 words to your answer. For many of these questions, you do *not* need to write all 60 words.\n",
    "- Do *not* convert your answers from decimals to percentages. For example, if you are asked the proportion of voters in `data` who are female, simply present `mean(data$female)` as your answer. Do *not* multiply the expression by 100 to obtain a percentage.\n",
    "- **IF YOU EMAIL YOUR GSI A QUESTION ABOUT YOUR CODE, PLEASE ATTACH YOUR NOTEBOOK AS A .PDF IN YOUR EMAIL TO YOUR GSI SO THAT YOUR GSI CAN SEE ALL OF YOUR CODE. YOU CAN DOWNLOAD THE NOTEBOOK AS A .PDF BY GOING TO FILE $\\rightarrow$ DOWNLOAD AS $\\rightarrow$ PDF.**\n",
    "- Do not ask your GSI or the professor to look at your answer and tell you whether it is correct. We cannot give you the answers."
   ]
  },
  {
   "cell_type": "markdown",
   "id": "5cd18726",
   "metadata": {},
   "source": [
    "## Problem Set 3: Does Party \"Trump\" Ideology? \n",
    "\n",
    "In this problem set, we explore a long-standing question in American politics.\n",
    "\n",
    "Are people Republicans because they are conservatives and Democrats because they are liberals? That is, do their political ideologies dictate which party they choose to be a member of?\n",
    "\n",
    "Or is it the reverse? Instead, are people conservative because they are Republicans and liberals because they are Democrats? That is, do their partisan loyalties come first and cause them to adopt the political ideologies of their party?\n",
    "\n",
    "This is the exact question [Barber and Pope (2018)](https://doi.org/10.1017/S0003055418000795) studied. We'll analyze data from their study in this problem set.\n",
    "\n",
    "Let's first load the requisite packages and dataset. Please run the code in the cell below."
   ]
  },
  {
   "cell_type": "markdown",
   "id": "6df9671d",
   "metadata": {},
   "source": [
    "### About the Study\n",
    "\n",
    "In the study, the researchers fielded a survey through YouGov, an online survey firm. On YouGov's website, it states:\n",
    "> For each survey, a representative sample of 1,500 respondents is selected from YouGov’s U.S. research panel. Panelists are invited to each survey, based upon their age, gender, race, and education, in proportion to their frequency to the frequency of adult citizens in the most recent American Community Survey.\n",
    "\n",
    "(The American Community Survey is a rigorous measurement of characteristics of the US population from the US Census.)\n",
    "\n",
    "The survey asked respondents whether they agreed with ten liberal positions (the `support` variable) on ten different issues. Each row in this dataset is one person's response to one of the questions.\n",
    "\n",
    "There was also an experiment at this point, which we'll describe in more detail in part 2 of this problem set.\n",
    "\n",
    "After recording the respondents' positions on each issue, the researchers ask respondents about their gender (`male`), race (`white`), age (`age`), their approval of Trump on a 5-point scale (`trump_approve`) and their party identification (`party`).\n",
    "\n",
    "Let's take a look at the data:"
   ]
  },
  {
   "cell_type": "code",
   "execution_count": null,
   "id": "4f478b9c",
   "metadata": {
    "editable": false,
    "scrolled": false
   },
   "outputs": [],
   "source": [
    "# You *must* run this cell, do not change its contents.\n",
    "library(testthat)\n",
    "library(ggplot2)\n",
    "library(estimatr)\n",
    "bp_data <- read.csv(\"ps3.csv\")\n",
    "\n",
    "# Let's look at the structure of the data\n",
    "head(bp_data)"
   ]
  },
  {
   "cell_type": "markdown",
   "id": "d5c10ac7",
   "metadata": {},
   "source": [
    "To recap, here are what the variables mean:\n",
    "- `question`: the issue question asked\n",
    "- `support`: equals `1` if the respondent supported the liberal position on the issue; `0` if the respondent opposes the liberal position (i.e., has the conservative position); equals `NA` (i.e., missing data) if the respondent said 'don't know' (we can ignore the 'don't know' cases for the purposes of the problem set)\n",
    "- `race_white`: equals `1` if the respondent is white; equals `0` if the respondent is non-white\n",
    "- `age`: the respondent's age in years\n",
    "- `high.income`: equals `1` if the respondent has a high income (above \\$100,000 per year); equals `0` otherwise\n",
    "- `trump_approve`: the respondent's approval of Trump, from 1 (strongly disapprove) to 5 (strongly approve)\n",
    "- `party`: what political party the respondent said they identified with; equal to `\"democrat\"`, `\"republican\"`, or `\"independent\"`\n",
    "- `treat`: either `\"control\"` if only asked their own opinion or `\"libtrump\"` if the question also mentioned that Donald Trump had the liberal position on the policy (this is explained in more detail below)\n",
    "- `weight`: the survey weight"
   ]
  },
  {
   "cell_type": "markdown",
   "id": "152093a6",
   "metadata": {},
   "source": [
    "-----\n",
    "\n",
    "### Part 1: Analyzing the experiment\n",
    "\n",
    "As mentioned above, the authors were interested in whether our issue views cause us to pick our political loyalties (to parties or politicians) or, rather, if our political loyalties (to parties and politicians) cause our issue views. To examine this big question, the authors decided to investigate whether telling people about Donald Trump's positions on the issues on the survey would change survey respondent's own stated views on these issues.\n",
    "\n",
    "The authors thought that Donald Trump represented a unique opportunity to examine these questions because Trump had previously expressed both liberal and conservative positions on all ten issues at various times. It's not common that Republican politicians express liberal views on issues, so they took this unique opportunity to see how both Democrats and Republicans would react to (accurate!) information about the liberal positions on these issues that Trump had espoused (at one point in time).\n",
    "\n",
    "To do this, the respondents to this survey were randomly assigned to various treatment conditions. For this assignment, we will focus only (and you only have data on) the following 2 treatment conditions:\n",
    "\n",
    "- Control group (`treat` equals `\"control\"`): respondents were asked of whether they support or oppose the liberal position\n",
    "- Liberal Trump group (`treat` equals `\"libtrump\"`): respondents were first told that Donald Trump *supports* the liberal position, then the respondents were asked of whether they support or oppose the liberal position\n",
    "\n",
    "Let's take the example of the question on the minimum wage. Those in the control group would see the following version of the minimum wage question:\n",
    "\n",
    "![](self.png) \n",
    "\n",
    "But those randomly assigned to the \"liberal Trump\" group would see the following:\n",
    "\n",
    "![](liberal_trump.png)\n",
    "\n",
    "As seen above, the liberal Trump group simply includes the additional sentence \"Donald Trump has said that he supports the policy.\"\n",
    "\n",
    "Note that the respondents were in the same treatment condition for *all* of the 10 questions. For example, if a respondent was shown the liberal Trump position for the minimum wage in the question text, she would also see the liberal Trump position for the Iran Nuclear Deal in the question text as well.\n",
    "\n",
    "As a reminder, here's what the treatment variable looks like:"
   ]
  },
  {
   "cell_type": "code",
   "execution_count": null,
   "id": "ddac7a73",
   "metadata": {},
   "outputs": [],
   "source": [
    "table(bp_data$treat)"
   ]
  },
  {
   "cell_type": "markdown",
   "id": "aa5c8186",
   "metadata": {},
   "source": [
    "------\n",
    "\n",
    "**Question 1. Looking at the entire sample, use `difference_in_means()` to estimate the treatment effect of receiving the liberal Trump treatment (relative to the control) on stating support for liberal policies (`support`)? Save your output to `treat_effect_avg`.** (1 point)\n"
   ]
  },
  {
   "cell_type": "code",
   "execution_count": null,
   "id": "88089979",
   "metadata": {
    "tags": []
   },
   "outputs": [],
   "source": [
    "# Replace `NULL # YOUR CODE HERE` with your answer. \n",
    "# Hint: You can finish this question with one line of code\n",
    "trump_effect_avg <- NULL # YOUR CODE HERE\n",
    "\n",
    "# Now, let's see what is in trump_effect_avg\n",
    "trump_effect_avg"
   ]
  },
  {
   "cell_type": "code",
   "execution_count": null,
   "id": "b71aa055",
   "metadata": {
    "deletable": false,
    "editable": false
   },
   "outputs": [],
   "source": [
    ". = ottr::check(\"tests/q1.R\")"
   ]
  },
  {
   "cell_type": "markdown",
   "id": "2e4e0f20",
   "metadata": {},
   "source": [
    "------\n",
    "\n",
    "Next, let's see how this effect varies by whether people identify as Democrats or Republicans.\n",
    "\n",
    "As a reminder, this is the `party` variable:"
   ]
  },
  {
   "cell_type": "code",
   "execution_count": null,
   "id": "1489938b",
   "metadata": {},
   "outputs": [],
   "source": [
    "table(bp_data$party)"
   ]
  },
  {
   "cell_type": "markdown",
   "id": "dd12d4ce",
   "metadata": {},
   "source": [
    "------\n",
    "\n",
    "**Question 2. Looking at _just Republicans_ (so `party` equals `'republican'`), use `difference_in_means()` to estimate the treatment effect of receiving the liberal Trump treatment (relative to the control) on stating support for liberal policies (`support`)? Save your output to `trump_effect_reps`.**\n"
   ]
  },
  {
   "cell_type": "code",
   "execution_count": null,
   "id": "136eaaee",
   "metadata": {
    "tags": []
   },
   "outputs": [],
   "source": [
    "# First produce a subset of the data with only Republicans \n",
    "reps_only <- NULL # YOUR CODE HERE\n",
    "\n",
    "# Now, estimate the treatment effect among Republican respondents\n",
    "trump_effect_reps <- NULL # YOUR CODE HERE\n",
    "\n",
    "# Now, let's see what is in treat_effect_reps\n",
    "trump_effect_reps"
   ]
  },
  {
   "cell_type": "code",
   "execution_count": null,
   "id": "80690281",
   "metadata": {
    "deletable": false,
    "editable": false
   },
   "outputs": [],
   "source": [
    ". = ottr::check(\"tests/q2.R\")"
   ]
  },
  {
   "cell_type": "markdown",
   "id": "7e97666f",
   "metadata": {},
   "source": [
    "-------\n",
    "\n",
    "**Question 3. Looking at _just Democrats_ (so `party` equals `'democrat'`), use `difference_in_means()` to estimate the treatment effect of receiving the liberal Trump treatment (relative to the control) on stating support for liberal policies (`support`)? Save your output to `trump_effect_dem`.** (1 point)\n",
    "\n"
   ]
  },
  {
   "cell_type": "code",
   "execution_count": null,
   "id": "914c62dd",
   "metadata": {
    "scrolled": true,
    "tags": []
   },
   "outputs": [],
   "source": [
    "# Replace \"NULL # YOUR CODE HERE\" with your code. First produce a subset of the data with only Democrats \n",
    "dems_only <- NULL # YOUR CODE HERE\n",
    "\n",
    "# Let's find the treatment effect among Democrat respondents\n",
    "trump_effect_dem <- NULL # YOUR CODE HERE\n",
    "\n",
    "# Now, let's see what is in trump_effect_dem\n",
    "trump_effect_dem"
   ]
  },
  {
   "cell_type": "code",
   "execution_count": null,
   "id": "f4e23340",
   "metadata": {
    "deletable": false,
    "editable": false
   },
   "outputs": [],
   "source": [
    ". = ottr::check(\"tests/q3.R\")"
   ]
  },
  {
   "cell_type": "markdown",
   "id": "f4ed93e4",
   "metadata": {},
   "source": [
    "-------------\n",
    "\n",
    "**Question 4. `TRUE` or `FALSE`: Based on the results in Questions 2 and 3, the treatment effect of the liberal Trump treatment is larger among Republican respondents than Democrat respondents.** (1 point)\n",
    "\n",
    "Save your answer in `q4.answer`. Do not use quotes. For example, to answer `TRUE`, type `q4.answer <- TRUE`.\n",
    "\n",
    "_Note: this question will not tell you whether you got the right answer or not._\n",
    "\n"
   ]
  },
  {
   "cell_type": "code",
   "execution_count": null,
   "id": "e6494521",
   "metadata": {
    "tags": []
   },
   "outputs": [],
   "source": [
    "q4.answer <- NULL # YOUR CODE HERE"
   ]
  },
  {
   "cell_type": "markdown",
   "id": "ad5502c8",
   "metadata": {},
   "source": [
    "-----\n",
    "\n",
    "**Question 5. `TRUE` or `FALSE`: The results in Questions 3 and 4 indicate that being Republican _causes_ people to have a larger treatment effect from the liberal Trump prime. That is, if the Democrats in the study decided to become Republicans, they would start to react in a similar way to the liberal Trump treatment.** (1 point)\n",
    "\n",
    "Save your answer in `q5.answer`. Do not use quotes. For example, to answer `TRUE`, type `q5.answer <- TRUE`.\n",
    "\n",
    "_Note: this question will not tell you whether you got the right answer or not._\n",
    "\n"
   ]
  },
  {
   "cell_type": "code",
   "execution_count": null,
   "id": "ed264b2a",
   "metadata": {
    "tags": []
   },
   "outputs": [],
   "source": [
    "q5.answer <- NULL # YOUR CODE HERE"
   ]
  },
  {
   "cell_type": "markdown",
   "id": "e87ca06a",
   "metadata": {},
   "source": [
    "<!-- BEGIN QUESTION -->\n",
    "\n",
    "------\n",
    "\n",
    "**Question 6a. How do you interpret the findings of the study? That is, what does this study indicate about the sources of people's political opinions? Summarize the study's findings in your on words.** (1 point)\n",
    "\n",
    "*Note: Your GSI will only mark the first 60 words to your answer.*\n"
   ]
  },
  {
   "cell_type": "markdown",
   "id": "97391d54",
   "metadata": {},
   "source": [
    "_Type your answer here, replacing this text._"
   ]
  },
  {
   "cell_type": "markdown",
   "id": "f942b48e",
   "metadata": {},
   "source": [
    "<!-- END QUESTION -->\n",
    "\n",
    "<!-- BEGIN QUESTION -->\n",
    "\n",
    "------\n",
    "\n",
    "**Question 6b. Think about how you summarized the study's findings in Question 6a. Other than issues related to sampling, state a possible reason why these findings might not generalize outside of the context in which it was conducted and discuss it briefly.** (1 point)\n",
    "\n",
    "*Note: Your GSI will only mark the first 60 words to your answer.*\n"
   ]
  },
  {
   "cell_type": "markdown",
   "id": "bb45ba70",
   "metadata": {},
   "source": [
    "_Type your answer here, replacing this text._"
   ]
  },
  {
   "cell_type": "markdown",
   "id": "3e247a44",
   "metadata": {},
   "source": [
    "<!-- END QUESTION -->\n",
    "\n",
    "----\n",
    "\n",
    "### Part 2: Descriptive Analyses\n",
    "\n",
    "Let's next perform some descriptive analysis using the survey questions in dataset. For this second set of questions, we'll ignore the experiment and just look at the relationship between people's background and whether they have liberal opinions on these issues.\n",
    "\n",
    "**Question 7a. Do those with high incomes have different political opinions? Use `difference_in_means()` to obtain the difference in support for liberal policies (`support`) between people where `high.income` equals 1 and 0. Store the result in `diff_opinions`.** (1 point)\n",
    "\n",
    "_Remember to weight your analysis using the `weight` variable!!_\n"
   ]
  },
  {
   "cell_type": "code",
   "execution_count": null,
   "id": "54f51c2e",
   "metadata": {
    "tags": []
   },
   "outputs": [],
   "source": [
    "# Replace \"NULL # YOUR CODE HERE\" with your answer. \n",
    "# Hint: You can finish this question with one line of code\n",
    "diff_opinions <- NULL # YOUR CODE HERE\n",
    "\n",
    "# Now, let's see what is in diff_opinions\n",
    "diff_opinions"
   ]
  },
  {
   "cell_type": "code",
   "execution_count": null,
   "id": "1025f338",
   "metadata": {
    "deletable": false,
    "editable": false
   },
   "outputs": [],
   "source": [
    ". = ottr::check(\"tests/q7a.R\")"
   ]
  },
  {
   "cell_type": "markdown",
   "id": "0ed447b3",
   "metadata": {},
   "source": [
    "-----\n",
    "\n",
    "**Question 7b. `TRUE` or `FALSE`: Based on our answer to Question 7a, our best guess is that people with high incomes are more politically liberal than people with lower incomes.** (1 point)\n",
    "\n",
    "Save your answer in `q7b.answer`. Do not use quotes. For example, to answer `TRUE`, type `q7b.answer <- TRUE`.\n",
    "\n",
    "_Note: this question will not tell you whether you got the right answer or not._\n"
   ]
  },
  {
   "cell_type": "code",
   "execution_count": null,
   "id": "97dbf4fa",
   "metadata": {
    "tags": []
   },
   "outputs": [],
   "source": [
    "q7b.answer <- NULL # YOUR CODE HERE"
   ]
  },
  {
   "cell_type": "markdown",
   "id": "5fa57d0e",
   "metadata": {},
   "source": [
    "-----\n",
    "\n",
    "**Question 8a. `TRUE` or `FALSE`: The results in Question 7 indicate the following: \"earning more money *causes* people to have different political opinions on the 10 issues asked about on this survey.\"** (1 point)\n",
    "\n",
    "Save your answer in `q8a.answer`. Do not use quotes. For example, to answer `TRUE`, type `q8a.answer <- TRUE`.\n",
    "\n",
    "_Note: this question will not tell you whether you got the right answer or not._\n"
   ]
  },
  {
   "cell_type": "code",
   "execution_count": null,
   "id": "efae9b87",
   "metadata": {
    "tags": []
   },
   "outputs": [],
   "source": [
    "q8a.answer <- NULL # YOUR CODE HERE"
   ]
  },
  {
   "cell_type": "markdown",
   "id": "ca9c29bc",
   "metadata": {},
   "source": [
    "<!-- BEGIN QUESTION -->\n",
    "\n",
    "-----\n",
    "\n",
    "**Question 8b. Justify your answer to Question 8a.** (1 point)\n",
    "\n",
    "*Note: Your GSI will only mark the first 60 words to your answer.*\n"
   ]
  },
  {
   "cell_type": "markdown",
   "id": "bbab0c6b",
   "metadata": {},
   "source": [
    "_Type your answer here, replacing this text._"
   ]
  },
  {
   "cell_type": "markdown",
   "id": "eae00beb",
   "metadata": {},
   "source": [
    "<!-- END QUESTION -->\n",
    "\n",
    "------\n",
    "\n",
    "**Question 9. Let's now look at the relationship between Trump approval and age. Using `qplot()`, plot the respondents' Trump approval (`trump_approve`, should be on the y-axis) against their age (should be on the x-axis).** (1 point)\n"
   ]
  },
  {
   "cell_type": "code",
   "execution_count": null,
   "id": "c714b80b",
   "metadata": {
    "scrolled": false,
    "tags": []
   },
   "outputs": [],
   "source": [
    "# Replace the ... with your code. (You can answer this in one line, too.)\n",
    "trump_support_age_plot <- ...\n",
    "# Now, let's plot the diagram that you have saved to trump_support_age_plot. \n",
    "trump_support_age_plot\n",
    "# Please don't worry if the plot looks a bit weird!"
   ]
  },
  {
   "cell_type": "code",
   "execution_count": null,
   "id": "cfc3b48f",
   "metadata": {
    "deletable": false,
    "editable": false
   },
   "outputs": [],
   "source": [
    ". = ottr::check(\"tests/q9.R\")"
   ]
  },
  {
   "cell_type": "markdown",
   "id": "e1b6a3b3",
   "metadata": {},
   "source": [
    "------\n",
    "\n",
    "A scatterplot is not necessarily very helpful when the dependent variable is categorical, or when the relationship is not very strong. Let's try a regression instead.\n",
    "\n",
    "**Question 10. Run a bivarate regression, predicting Trump approval (outcome) using age. Save the output from `summary(lm())` to `trump_support_age_reg` and print it.** (1 point)\n"
   ]
  },
  {
   "cell_type": "code",
   "execution_count": null,
   "id": "6a3e743d",
   "metadata": {
    "tags": []
   },
   "outputs": [],
   "source": [
    "# Replace `...` with your answer. \n",
    "# Hint: You can finish this question with one line of code\n",
    "trump_support_age_reg <- NULL # YOUR CODE HERE\n",
    "\n",
    "# Now, let's see what is in trump_support_age_reg\n",
    "trump_support_age_reg"
   ]
  },
  {
   "cell_type": "code",
   "execution_count": null,
   "id": "81efa6b7",
   "metadata": {
    "deletable": false,
    "editable": false
   },
   "outputs": [],
   "source": [
    ". = ottr::check(\"tests/q10.R\")"
   ]
  },
  {
   "cell_type": "markdown",
   "id": "f9f65d95",
   "metadata": {},
   "source": [
    "<!-- BEGIN QUESTION -->\n",
    "\n",
    "-----\n",
    "\n",
    "**Question 11. Interpret the intercept term in the output of Question 10 (that is, the number next to `(Intercept)`) in Question 10. What does this number mean?** (1 point)\n",
    "\n",
    "*Note: Your GSI will only mark the first 60 words to your answer.*\n"
   ]
  },
  {
   "cell_type": "markdown",
   "id": "2ac5c773",
   "metadata": {},
   "source": [
    "_Type your answer here, replacing this text._"
   ]
  },
  {
   "cell_type": "markdown",
   "id": "ac62b3f9",
   "metadata": {},
   "source": [
    "<!-- END QUESTION -->\n",
    "\n",
    "-----\n",
    "\n",
    "Let's try to use the output of the regression to predict something more useful. What's our best guess for average Trump approval for people who are 46 years old?\n",
    "\n",
    "**Question 12. Using the regression results from Question 10, compute, by hand, the expected average level of Trump approval on the 5-point scale for those who are 46 years of age. Store your answer in `trump_approval_46_estimate`.</span>** (1 point)\n",
    "\n",
    "_Note: This question will not tell you whether you got the answer right or not._\n",
    "\n",
    "\n",
    "*Hint: For this question, you can manually copy the coefficients from the output printed on the screen in Question 10, with at least 3 significant figures, to compute your answer. The autograder will only look at 2 significant figures.*"
   ]
  },
  {
   "cell_type": "code",
   "execution_count": null,
   "id": "7b9a6cde",
   "metadata": {
    "scrolled": true,
    "tags": []
   },
   "outputs": [],
   "source": [
    "# Replace `...` with your answer. \n",
    "# Hint: You can finish this question with one line of code\n",
    "trump_approval_46_estimate <- NULL # YOUR CODE HERE\n",
    "\n",
    "# Now, let's see what is in `trump_approval_46_estimate`\n",
    "trump_approval_46_estimate"
   ]
  },
  {
   "cell_type": "markdown",
   "id": "15e6089a",
   "metadata": {},
   "source": [
    "<!-- BEGIN QUESTION -->\n",
    "\n",
    "-----\n",
    "\n",
    "**Question 13. Is it a good idea to compute the average level of Trump support among those who are 150 years old using the estimates from the bivariate regression `trump_support_age_reg`? Why or why not? </span>** (1.5 points)\n",
    "\n",
    "*Note: Your GSI will only mark the first 60 words to your answer.*\n",
    "\n"
   ]
  },
  {
   "cell_type": "markdown",
   "id": "c02170ab",
   "metadata": {},
   "source": [
    "_Type your answer here, replacing this text._"
   ]
  },
  {
   "cell_type": "markdown",
   "id": "240c4a4f",
   "metadata": {},
   "source": [
    "<!-- END QUESTION -->\n",
    "\n",
    "<!-- BEGIN QUESTION -->\n",
    "\n",
    "-----\n",
    "\n",
    "**Question 14. Do you think this survey is likely to be contaminated by sampling bias? Why or why not?** (1 point)\n",
    "\n",
    "*Note: Your GSI will only mark the first 60 words to your answer.*\n"
   ]
  },
  {
   "cell_type": "markdown",
   "id": "0a86b077",
   "metadata": {},
   "source": [
    "_Type your answer here, replacing this text._"
   ]
  },
  {
   "cell_type": "markdown",
   "id": "fc0e1570",
   "metadata": {},
   "source": [
    "<!-- END QUESTION -->\n",
    "\n",
    "----\n",
    "\n",
    "# Submitting Your Notebook (please read carefully!)\n",
    "\n",
    "To submit your notebook...\n",
    "\n",
    "### 1. Click `File` $\\rightarrow$ `Save and Checkpoint`.\n",
    "\n",
    "### 2. Wait 5 seconds.\n",
    "\n",
    "### 3. Select the cell below and hit run."
   ]
  },
  {
   "cell_type": "code",
   "execution_count": null,
   "id": "994d6cec",
   "metadata": {},
   "outputs": [],
   "source": [
    "ottr::export(\"ProblemSet3.ipynb\", pdf = TRUE)"
   ]
  },
  {
   "cell_type": "markdown",
   "id": "d364179d",
   "metadata": {},
   "source": [
    "After you hit \"Run\" on the cell above, click the download link. A .zip file should download to your computer.\n",
    "\n",
    "(If you make changes to your notebook, you'll need to hit save and then run the cell above again before you submit to get a new version of it.)\n",
    "\n",
    "### 4. Submit the .zip file you just downloaded <a href=\"https://www.gradescope.com/\" target=\"_blank\">on Gradescope here</a>.\n",
    "\n",
    "Notes:\n",
    "\n",
    "- **This does not seem to work on Chrome for iPad or iPhone.** If you're using an iPad or iPhone, you need to download the file using **Safari**.\n",
    "- If your web browser automatically unzips the .zip file (so you see a folder instead of a .zip file), you can just upload the .ipynb file that is inside the folder.\n",
    "- If this method is not working for you, try the \"old way\": hit `File`, then `Download as`, then `Notebook (.ipynb)` and submit that."
   ]
  },
  {
   "cell_type": "markdown",
   "id": "3a1dcabd",
   "metadata": {
    "deletable": false,
    "editable": false
   },
   "source": [
    "## Submission\n",
    "\n",
    "Make sure you have run all cells in your notebook in order before running the cell below, so that all images/graphs appear in the output. The cell below will generate a zip file for you to submit. **Please save before exporting!**"
   ]
  },
  {
   "cell_type": "code",
   "execution_count": null,
   "id": "a3c5b4f8",
   "metadata": {
    "deletable": false,
    "editable": false
   },
   "outputs": [],
   "source": [
    "# Save your notebook first, then run this cell to export your submission.\n",
    "ottr::export(\"ProblemSet3.ipynb\")"
   ]
  },
  {
   "cell_type": "markdown",
   "id": "5141f152",
   "metadata": {},
   "source": [
    " "
   ]
  }
 ],
 "metadata": {
  "kernelspec": {
   "display_name": "R",
   "language": "R",
   "name": "ir"
  },
  "language_info": {
   "codemirror_mode": "r",
   "file_extension": ".r",
   "mimetype": "text/x-r-source",
   "name": "R",
   "pygments_lexer": "r",
   "version": "4.1.2"
  },
  "latex_envs": {
   "LaTeX_envs_menu_present": true,
   "autoclose": false,
   "autocomplete": true,
   "bibliofile": "biblio.bib",
   "cite_by": "apalike",
   "current_citInitial": 1,
   "eqLabelWithNumbers": true,
   "eqNumInitial": 1,
   "hotkeys": {
    "equation": "Ctrl-E",
    "itemize": "Ctrl-I"
   },
   "labels_anchors": false,
   "latex_user_defs": false,
   "report_style_numbering": false,
   "user_envs_cfg": false
  }
 },
 "nbformat": 4,
 "nbformat_minor": 5
}
