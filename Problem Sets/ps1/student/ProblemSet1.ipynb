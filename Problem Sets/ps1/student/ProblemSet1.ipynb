{
 "cells": [
  {
   "cell_type": "markdown",
   "id": "0a92bdfd",
   "metadata": {
    "tags": [
     "include"
    ]
   },
   "source": [
    "# PS 3 Problem Set 1\n",
    "\n",
    "## <span style=\"color:red\">READ THIS!</span> Important Notes about Problem Sets in PS 3\n",
    "\n",
    "- Just like with your in-class assignments, most of the questions in this problem set will be automatically graded. Therefore, you need to answer the questions exactly as we asked them: if we ask you to compute something, write the code to compute that exact value.\n",
    "- Some of the coding questions below will tell you if you have the right or wrong answer if you run your code and then run the `ottr::check` cell just below it. (The multiple choice questions do not do this.)\n",
    "    - You'll know you got a question right if it says `\"All tests passed!\"` afterwards.\n",
    "    - If you see an error when you run the check cell, it means you got the question wrong and should try again. The question should show a hint.\n",
    "    - If you don't see anything when you run the check cell, this means the question _doesn't tell you_ if you got the right or wrong answer.\n",
    "- Some of the questions below are short answer questions and will be graded by a GSI. For these questions:\n",
    "    - We expect around 2-3 sentences on average. You just need to write enough to answer the question, don't stress about how short your answer is. \n",
    "    - To encourage you not to write too much, **your GSI will only mark the first 60 words to your answer**. For many of these questions, you do *not* need to write all 60 words.\n",
    "    - Focus on answering just the question asked. Don't reference unnecessary or unrelated concepts; if you mention something off topic that is incorrect, you will lose points for saying something incorrect.\n",
    "- Do *not* convert your answers from decimals to percentages. For example, if you are asked the proportion of voters in `data` who are female, simply present `mean(data$female)` as your answer. Do _not_ multiply the expression by 100 to obtain a percentage.\n",
    "- **IF YOU EMAIL YOUR GSI A QUESTION ABOUT YOUR CODE, PLEASE ATTACH YOUR NOTEBOOK AS A .PDF IN YOUR EMAIL TO YOUR GSI SO THAT YOUR GSI CAN SEE ALL OF YOUR CODE. YOU CAN DOWNLOAD THE NOTEBOOK AS A .PDF BY GOING TO FILE $\\rightarrow$ DOWNLOAD AS $\\rightarrow$ PDF.**\n",
    "- Do not ask your GSI or the professor to look at your answer and tell you whether it is correct. We cannot give you the answers.\n",
    "- This is a completely individual assignment. You can discuss the problems with your classmates, but you must do your own work and write up your own answers.\n",
    "\n",
    "## Do Politicians Racially Discriminate Against Constituents?\n",
    "\n",
    "In this problem set, we will explore some data from [Butler and Broockman (2011)](https://doi.org/10.1111/j.1540-5907.2011.00515.x)'s field experiment on whether state legislators racially discriminate against their constituents. (You do not need to read the study.)\n",
    "\n",
    "By the end of the problem set, not only would you be able to review some key skills that you have picked up in the course so far, you would also be able to replicate some of the main findings from this study!"
   ]
  },
  {
   "cell_type": "markdown",
   "id": "8aa95899",
   "metadata": {},
   "source": [
    "Let's first load the requisite package and dataset. By doing so, we can see the structure of the data. Please run the code in the cell below."
   ]
  },
  {
   "cell_type": "code",
   "execution_count": null,
   "id": "9719c30a",
   "metadata": {
    "editable": false
   },
   "outputs": [],
   "source": [
    "# You *must* run this cell first. Do not change the contents of this cell.\n",
    "library(testthat)\n",
    "library(ottr)\n",
    "bb_data <- read.csv(\"ps1.csv\")\n",
    "head(bb_data)"
   ]
  },
  {
   "cell_type": "markdown",
   "id": "23fbe6b3",
   "metadata": {},
   "source": [
    "In the experiment, the researchers sent every state legislator in the United States an email. In the email, the researchers posed as a constituent inquiring about how to register to vote.\n",
    "\n",
    "The emails were identical except for the name of the sender: the researchers randomly assigned names of the sender. To determine which names to use, the researchers used data from the US Census to find first and last names that are most distinctively Black or distinctively White--that is that, if you look at people with the names, a very high percentage of them either are Black or White. Based on the US Census data, the researchers used the names DeShawn Jackson for the Black name/alias (`treat_deshawn` equal `1`) and Jake Mueller for the White name/alias (`treat_deshawn` equals `0`). (An \"alias\" is a fake name; DeShawn Jackson and Jake Mueller were not real people, but the researchers sent emails from email addresses that made it look like they were from people named DeShawn Jackson or Jake Mueller.)\n",
    "\n",
    "The researchers then coded whether the legislator replied to the email at all in the variable `reply_atall`.\n",
    "\n",
    "The partisanship and race of the legislators who were sent the emails are given in the variables `leg_republican` and `leg_white`.\n",
    "\n",
    "**Codebook:** Here is an overview of what the variables mean:\n",
    "- `reply_atall = 1`: legislator replied; `reply_atall = 0`: legislator did not reply\n",
    "- `treat_deshawn = 1`: email sent from DeShawn Jackson (Black alias); `treat_deshawn = 0`: email sent from Jake Mueller (White alias)\n",
    "- `leg_republican = 1`: legislator to whom email was sent is a Republican; `leg_republican = 0` legislator to whom email was sent is a Democrat\n",
    "- `leg_white = 1`: legislator to whom email was sent is White; `leg_white = 0` legislator is non-White\n",
    "\n",
    "Now, let's first look at Republican state legislators and how they behave."
   ]
  },
  {
   "cell_type": "markdown",
   "id": "568cab11",
   "metadata": {
    "deletable": false,
    "editable": false
   },
   "source": [
    "### Republican State Legislators\n",
    "\n",
    "**<span style=\"color:blue\"> Question 1. Create a subset of the data comprising only Republican state legislators. Save this subset as `republican_subset`. (1 pt) </span>**\n"
   ]
  },
  {
   "cell_type": "code",
   "execution_count": null,
   "id": "f17bbfa5",
   "metadata": {
    "tags": []
   },
   "outputs": [],
   "source": [
    "# Replace \"NULL # YOUR CODE HERE\" with your code. Hint: you can finish this question using one line of code.\n",
    "republican_subset <- NULL # YOUR CODE HERE"
   ]
  },
  {
   "cell_type": "code",
   "execution_count": null,
   "id": "b4c66c01",
   "metadata": {
    "deletable": false,
    "editable": false
   },
   "outputs": [],
   "source": [
    ". = ottr::check(\"tests/q1.R\")"
   ]
  },
  {
   "cell_type": "markdown",
   "id": "426c37da",
   "metadata": {},
   "source": [
    "-------"
   ]
  },
  {
   "cell_type": "markdown",
   "id": "2ea3fac4",
   "metadata": {
    "deletable": false,
    "editable": false
   },
   "source": [
    "**<span style=\"color:blue\"> Question 2. What is the response rate <span style=\"text-decoration:underline\">to the Black (DeShawn) alias</span> by <span style=\"text-decoration:underline\">Republican state legislators</span>? Print this out below. (1 pt) </span>**\n",
    "\n",
    "*The response rate is expressed as a proportion. Please do not convert it into a percentage. We do that for you.*"
   ]
  },
  {
   "cell_type": "code",
   "execution_count": null,
   "id": "8ce5e823",
   "metadata": {
    "scrolled": true,
    "tags": []
   },
   "outputs": [],
   "source": [
    "# Let's first create a further subset of the data, subsetting only to 1) Republican\n",
    "# state legislators 2) who were randomly assigned to receive email from the DeShawn alias.\n",
    "# Hint: Start with republican_subset and subset further based on treat_deshawn.\n",
    "republican_deshawn_subset <- NULL # YOUR CODE HERE\n",
    "\n",
    "# Now, we can find the average response rate in this subset and store it in the \n",
    "# republican_deshawn_rrate variable.\n",
    "# Hint: calculate the response rate by taking the mean of the reply_atall variable.\n",
    "republican_deshawn_rrate <- NULL # YOUR CODE HERE\n",
    "\n",
    "# Let's display the solution below as a percentage.\n",
    "republican_deshawn_rrate * 100"
   ]
  },
  {
   "cell_type": "code",
   "execution_count": null,
   "id": "c12d2055",
   "metadata": {
    "deletable": false,
    "editable": false
   },
   "outputs": [],
   "source": [
    ". = ottr::check(\"tests/q2.R\")"
   ]
  },
  {
   "cell_type": "markdown",
   "id": "5e345089",
   "metadata": {},
   "source": [
    "-------"
   ]
  },
  {
   "cell_type": "markdown",
   "id": "537ecbff",
   "metadata": {
    "deletable": false,
    "editable": false
   },
   "source": [
    "**<span style=\"color:blue\"> Question 3. What is the response rate <span style=\"text-decoration:underline\">to the White (Jake) alias</span> by <span style=\"text-decoration:underline\">Republican state legislators</span>? Save this in the variable `republican_jake_rrate` below. (1 pt) </span>**\n"
   ]
  },
  {
   "cell_type": "code",
   "execution_count": null,
   "id": "6a450764",
   "metadata": {
    "tags": []
   },
   "outputs": [],
   "source": [
    "# First create a further subset of the data with Republican state legislators\n",
    "# (republican_subset) who are randomly assigned to the white (Jake) alias\n",
    "# (based on values of the treat_deshawn variable)\n",
    "republican_jake_subset <- NULL # YOUR CODE HERE\n",
    "\n",
    "# Now, we can find the response rate and store it in the republican_jake_rrate variable\n",
    "republican_jake_rrate <- NULL # YOUR CODE HERE\n",
    "\n",
    "# Let's display the solution below as a percentage.\n",
    "republican_jake_rrate * 100"
   ]
  },
  {
   "cell_type": "code",
   "execution_count": null,
   "id": "e5cd6ad7",
   "metadata": {
    "deletable": false,
    "editable": false
   },
   "outputs": [],
   "source": [
    ". = ottr::check(\"tests/q3.R\")"
   ]
  },
  {
   "cell_type": "markdown",
   "id": "00fff4db",
   "metadata": {},
   "source": [
    "-------"
   ]
  },
  {
   "cell_type": "markdown",
   "id": "a6e203d8",
   "metadata": {
    "deletable": false,
    "editable": false
   },
   "source": [
    "**<span style=\"color:blue\"> Question 4. How much more (or less) likely is the email sent by the Black (DeShawn) alias to get a response from a Republican state legislator, as compared to the email from the White (Jake) alias? (1 pt) </span>**\n",
    "\n",
    "**Hint: you've already computed the response rates to the Black (DeShawn) and White (Jake) alias above, so you just need to do some arithmetic with the variables you've already computed.**\n",
    "\n",
    "*Note: compute the Black (DeShawn) minus the White (Jake) response rate. **Do not** do the reverse.*\n"
   ]
  },
  {
   "cell_type": "code",
   "execution_count": null,
   "id": "82b44c72",
   "metadata": {
    "tags": []
   },
   "outputs": [],
   "source": [
    "# Store your answer in republican_rrate_diff\n",
    "republican_rrate_diff <- NULL # YOUR CODE HERE\n",
    "\n",
    "# Let's print the solution, in percentage points.\n",
    "republican_rrate_diff * 100"
   ]
  },
  {
   "cell_type": "code",
   "execution_count": null,
   "id": "dfcb26c1",
   "metadata": {
    "deletable": false,
    "editable": false
   },
   "outputs": [],
   "source": [
    ". = ottr::check(\"tests/q4.R\")"
   ]
  },
  {
   "cell_type": "markdown",
   "id": "7903aa77",
   "metadata": {},
   "source": [
    "-------"
   ]
  },
  {
   "cell_type": "markdown",
   "id": "ffcf68c2",
   "metadata": {
    "deletable": false,
    "editable": false
   },
   "source": [
    "<!-- BEGIN QUESTION -->\n",
    "\n",
    "**<span style=\"color:blue\"> Question 5. Provide an interpretation for the results (i.e., difference in response rates to emails from Black and White constituents by Republican state legislators). (1 pt) </span>**\n",
    "\n",
    "*Hint:* This question is just asking you to describe what you've found so far, not to make any speculations about why you might have found this or critiques of the researchd design.\n",
    "\n",
    "*Note: your GSI will only mark the first 60 words to your answer.*\n"
   ]
  },
  {
   "cell_type": "markdown",
   "id": "15d5f14d",
   "metadata": {},
   "source": [
    "_Type your answer here, replacing this text._"
   ]
  },
  {
   "cell_type": "markdown",
   "id": "4d9b7257",
   "metadata": {
    "deletable": false,
    "editable": false
   },
   "source": [
    "<!-- END QUESTION -->\n",
    "\n",
    "-------"
   ]
  },
  {
   "cell_type": "markdown",
   "id": "7409c288",
   "metadata": {
    "deletable": false,
    "editable": false
   },
   "source": [
    "### Democratic State Legislators\n",
    "\n",
    "Now, let's look at state legislators who are Democrats.\n",
    "\n",
    "**<span style=\"color:blue\"> Question 6. What is the difference in response rate between a black alias and the white alias among _Democratic state legislators_? (1 pt) </span>** Store your answer in a variable called `democrat_rrate_diff` and print it.\n",
    "\n",
    "The steps to answer this question are the same as the steps for questions 1-4, but now with Democratic state legislators.\n",
    "\n",
    "*Note: compute the response rate to the black alias minus the response rate to the white alias, as in Question 4 (but this time for Democratic state legislators).*\n"
   ]
  },
  {
   "cell_type": "code",
   "execution_count": null,
   "id": "d8a280c5",
   "metadata": {
    "tags": []
   },
   "outputs": [],
   "source": [
    "# Store your final answer in a variable called democrat_rrate_diff. \n",
    "# You should store the intermediate objects using the names provided.\n",
    "\n",
    "# First subset to Democratic state legislators.\n",
    "democrat_subset <- NULL # YOUR CODE HERE\n",
    "\n",
    "# Then subset to Democratic state legislators who received an email from \n",
    "# the Black (DeShawn) alias.\n",
    "democrat_deshawn_subset <- NULL # YOUR CODE HERE\n",
    "\n",
    "# Then make another subset of Democratic state legislators who received \n",
    "# an email from the White (Jake) alias.\n",
    "democrat_jake_subset <- NULL # YOUR CODE HERE\n",
    "\n",
    "# Now compute the difference in the average response rates.\n",
    "democrat_rrate_diff <- NULL # YOUR CODE HERE\n",
    "\n",
    "# Let's print the difference below in percentage points.\n",
    "democrat_rrate_diff * 100"
   ]
  },
  {
   "cell_type": "code",
   "execution_count": null,
   "id": "81d9fc60",
   "metadata": {
    "deletable": false,
    "editable": false
   },
   "outputs": [],
   "source": [
    ". = ottr::check(\"tests/q6.R\")"
   ]
  },
  {
   "cell_type": "markdown",
   "id": "af9346a9",
   "metadata": {},
   "source": [
    "-------"
   ]
  },
  {
   "cell_type": "markdown",
   "id": "f7ae86e0",
   "metadata": {
    "deletable": false,
    "editable": false
   },
   "source": [
    "<!-- BEGIN QUESTION -->\n",
    "\n",
    "**<span style=\"color:blue\"> Question 7. What does the number you calculated in Question 6 mean? State your answer in plain language that someone who hasn't taken this class would understand. (1 pt) </span>**\n",
    "\n",
    "*Note: your GSI will only mark the first 60 words to your answer.*\n"
   ]
  },
  {
   "cell_type": "markdown",
   "id": "1975f12e",
   "metadata": {},
   "source": [
    "_Type your answer here, replacing this text._"
   ]
  },
  {
   "cell_type": "markdown",
   "id": "4f6c6627",
   "metadata": {
    "deletable": false,
    "editable": false
   },
   "source": [
    "<!-- END QUESTION -->\n",
    "\n",
    "-------"
   ]
  },
  {
   "cell_type": "markdown",
   "id": "4499638a",
   "metadata": {
    "deletable": false,
    "editable": false
   },
   "source": [
    "### State Legislator Race/Ethnicity\n",
    "\n",
    "So far, it seems like we've discovered something about legislator political party and how this relates to racially discriminatory behavior. But, after we dig a little deeper, we'll learn this isn't quite the whole story.\n",
    "\n",
    "Let's go back to the main dataset (`bb_data`) and examine whether the response rates would vary between White state legislators and non-White state legislators. To understand why we might want to do this, let's first examine the racial make-up of state legislators among the two parties.\n",
    "\n",
    "**<span style=\"color:blue\"> Question 8a. Using `table()`, produce a one-way table of legislator race (`leg_white`) among Democratic state legislators (using `democrat_subset`) (0.5 pt). </span>**\n"
   ]
  },
  {
   "cell_type": "code",
   "execution_count": null,
   "id": "21448523",
   "metadata": {
    "tags": []
   },
   "outputs": [],
   "source": [
    "leg_race_democrats <- NULL # YOUR CODE HERE\n",
    "leg_race_democrats # print the result"
   ]
  },
  {
   "cell_type": "code",
   "execution_count": null,
   "id": "a78ec8fc",
   "metadata": {
    "deletable": false,
    "editable": false
   },
   "outputs": [],
   "source": [
    ". = ottr::check(\"tests/q8a.R\")"
   ]
  },
  {
   "cell_type": "markdown",
   "id": "0106f8f3",
   "metadata": {},
   "source": [
    "-------"
   ]
  },
  {
   "cell_type": "markdown",
   "id": "e2643afd",
   "metadata": {
    "deletable": false,
    "editable": false
   },
   "source": [
    "**<span style=\"color:blue\"> Question 8b. Using `table()`, produce a one-way table of legislator race (`leg_white`) among Republican state legislators (using `republican_subset`) (0.5 pt). </span>**\n"
   ]
  },
  {
   "cell_type": "code",
   "execution_count": null,
   "id": "a3dd47c9",
   "metadata": {
    "tags": []
   },
   "outputs": [],
   "source": [
    "leg_race_republicans <- NULL # YOUR CODE HERE\n",
    "leg_race_republicans # print the result"
   ]
  },
  {
   "cell_type": "code",
   "execution_count": null,
   "id": "9d804641",
   "metadata": {
    "deletable": false,
    "editable": false
   },
   "outputs": [],
   "source": [
    ". = ottr::check(\"tests/q8b.R\")"
   ]
  },
  {
   "cell_type": "markdown",
   "id": "4729f251",
   "metadata": {},
   "source": [
    "We can see that there are many non-white Democratic state legislators but far fewer non-white Republican state legislators. This raises a question: are the differences we found between Democratic and Republican state legislator behavior just driven by the differences in the racial composition of the parties? To answer this, let's take a look at how White Democratic legislators behave and compare it to how non-White Democratic legislators behave.\n",
    "\n",
    "Let's first find the difference in response rates rate among white Democrats."
   ]
  },
  {
   "cell_type": "markdown",
   "id": "7102b72c",
   "metadata": {},
   "source": [
    "-------"
   ]
  },
  {
   "cell_type": "markdown",
   "id": "d8e4f76b",
   "metadata": {
    "deletable": false,
    "editable": false
   },
   "source": [
    "**<span style=\"color:blue\"> Question 9. Find the difference in response rates to the Black alias and the White alias among _white Democratic state legislators_ (1 pt). Save this as `white_democrat_rrate_diff` and print it. </span>**\n",
    "\n",
    "*Note: as before, compute response to black alias minus response rate to white alias.*"
   ]
  },
  {
   "cell_type": "code",
   "execution_count": null,
   "id": "d6a2b6f9",
   "metadata": {
    "tags": []
   },
   "outputs": [],
   "source": [
    "# Store your answer in a variable called white_democrat_rrate_diff\n",
    "# You can (but are not required) store the intermediate variables \n",
    "# using the names provided. \n",
    "white_democrat_subset <- NULL # YOUR CODE HERE\n",
    "white_democrat_deshawn_subset <- NULL # YOUR CODE HERE\n",
    "white_democrat_jake_subset <- NULL # YOUR CODE HERE\n",
    "white_democrat_rrate_diff <- NULL # YOUR CODE HERE\n",
    "\n",
    "# Let's print the difference below in percentage points\n",
    "white_democrat_rrate_diff * 100"
   ]
  },
  {
   "cell_type": "code",
   "execution_count": null,
   "id": "20fe619b",
   "metadata": {
    "deletable": false,
    "editable": false
   },
   "outputs": [],
   "source": [
    ". = ottr::check(\"tests/q9.R\")"
   ]
  },
  {
   "cell_type": "markdown",
   "id": "9c67441d",
   "metadata": {},
   "source": [
    "-------"
   ]
  },
  {
   "cell_type": "markdown",
   "id": "a719d396",
   "metadata": {
    "deletable": false,
    "editable": false
   },
   "source": [
    "**<span style=\"color:blue\"> Question 10. Find the difference in response rates rate among non-white Democrats. Save this as `nonwhite_democrat_rrate_diff` and print it. (1 pt) </span>**\n",
    "\n",
    "*Note: as before, compute response to black alias minus response rate to white alias.*"
   ]
  },
  {
   "cell_type": "code",
   "execution_count": null,
   "id": "2f413ec5",
   "metadata": {
    "tags": []
   },
   "outputs": [],
   "source": [
    "# Store your answer in a variable called nonwhite_democrat_rrate_diff\n",
    "# You can (but are not required) store the intermediate objects using the names provided. \n",
    "# They are listed below as a hint\n",
    "\n",
    "nonwhite_democrat_subset <- NULL # YOUR CODE HERE\n",
    "nonwhite_democrat_deshawn_subset <- NULL # YOUR CODE HERE\n",
    "nonwhite_democrat_jake_subset <- NULL # YOUR CODE HERE\n",
    "nonwhite_democrat_rrate_diff <- NULL # YOUR CODE HERE\n",
    "\n",
    "# Let's print the difference below in percentage points\n",
    "nonwhite_democrat_rrate_diff * 100"
   ]
  },
  {
   "cell_type": "code",
   "execution_count": null,
   "id": "4f50d63c",
   "metadata": {
    "deletable": false,
    "editable": false
   },
   "outputs": [],
   "source": [
    ". = ottr::check(\"tests/q10.R\")"
   ]
  },
  {
   "cell_type": "markdown",
   "id": "a2d54017",
   "metadata": {},
   "source": [
    "-------"
   ]
  },
  {
   "cell_type": "markdown",
   "id": "ef29c5b3",
   "metadata": {
    "deletable": false,
    "editable": false
   },
   "source": [
    "<!-- BEGIN QUESTION -->\n",
    "\n",
    "**<span style=\"color:blue\"> Question 11. Think about the behavior you saw among: Republican legislators, white Democratic legislators, and non-white Democratic legislators. Suppose a person said to you: \"Republican legislators discriminate, but Democratic legislators don't.\" What would their conclusion be missing? (1.5 pts) </span>**\n",
    "\n",
    "*Note: your GSI will only mark the first 60 words to your answer.*"
   ]
  },
  {
   "cell_type": "markdown",
   "id": "7f5cc71a",
   "metadata": {},
   "source": [
    "_Type your answer here, replacing this text._"
   ]
  },
  {
   "cell_type": "markdown",
   "id": "cbb90780",
   "metadata": {
    "deletable": false,
    "editable": false
   },
   "source": [
    "<!-- END QUESTION -->\n",
    "\n",
    "------\n",
    "\n",
    "**<span style=\"color:blue\"> Evaluate the following claim from a voter. \"My state legislator is a Republican. The Butler and Broockman data we analyzed in this problem set shows that my legislator racially discriminates against non-White constituents in my district.\" Is this true or false? Why or why not? (2 pts) </span>**\n",
    "\n",
    "*Hint: when answering this question, think about what we learned about potential outcomes in Week 4.*\n",
    "\n",
    "**Question 12a.** Is this statement `TRUE` or `FALSE`? Replace the `...` below with `TRUE` or `FALSE`. (1 point)\n",
    "\n",
    "<span style=\"color:red\">You **will _not_ get credit** if you type `True` or `False`. You **must** type `TRUE` or `FALSE`. </span>"
   ]
  },
  {
   "cell_type": "code",
   "execution_count": null,
   "id": "da1a2a33",
   "metadata": {
    "tags": []
   },
   "outputs": [],
   "source": [
    "# Replace the NULL with TRUE or FALSE (without quotes), must be all capital letters\n",
    "q12a.answer <- NULL # YOUR CODE HERE"
   ]
  },
  {
   "cell_type": "markdown",
   "id": "e6186978",
   "metadata": {
    "deletable": false,
    "editable": false
   },
   "source": [
    "<!-- BEGIN QUESTION -->\n",
    "\n",
    "------\n",
    "\n",
    "**Question 12b.** Explain your answer to Question 12a. (1 point)\n",
    "\n",
    "*Note: your GSI will only mark the first 60 words to your answer.*\n"
   ]
  },
  {
   "cell_type": "markdown",
   "id": "3825dc2c",
   "metadata": {},
   "source": [
    "_Type your answer here, replacing this text._"
   ]
  },
  {
   "cell_type": "markdown",
   "id": "16f18a51",
   "metadata": {
    "deletable": false,
    "editable": false
   },
   "source": [
    "<!-- END QUESTION -->\n",
    "\n",
    "-------"
   ]
  },
  {
   "cell_type": "markdown",
   "id": "ae7c9dd1",
   "metadata": {},
   "source": [
    "### Practicing Interpretation: Interpreting A Hypothetical Scenario\n",
    "\n",
    "An IT analyst for a legislature has compiled data on how many emails every member of the legislature has sent to White and non-White constituents. The two-way table below shows the mean number of emails sent to White / non-White constituents from White / non-White constituents over a legislative session. \n",
    "\n",
    "<table>\n",
    "<thead>\n",
    "  <tr>\n",
    "    <th></th>\n",
    "    <th></th>\n",
    "    <th colspan=\"2\">Race of Constituents</th>\n",
    "  </tr>\n",
    "</thead>\n",
    "<tbody>\n",
    "  <tr>\n",
    "    <td></td>\n",
    "    <td></td>\n",
    "    <td>White</td>\n",
    "    <td>Non-White</td>\n",
    "  </tr>\n",
    "  <tr>\n",
    "      <td rowspan=\"2\"><b>Legislator Race</b></td>\n",
    "    <td>White</td>\n",
    "    <td>243.3</td>\n",
    "    <td>149.2</td>\n",
    "  </tr>\n",
    "  <tr>\n",
    "    <td>Non-White</td>\n",
    "    <td>183.1</td>\n",
    "    <td>203.1</td>\n",
    "  </tr>\n",
    "</tbody>\n",
    "</table>\n",
    "\n",
    "**For questions 13 and 14, please evaluate whether the statements are true or false (0.5 pt) and provide your reasoning (1 pt). _Only use the Table above to answer these questions, not Butler and Broockman (2011)'s data._**"
   ]
  },
  {
   "cell_type": "markdown",
   "id": "a4044e69",
   "metadata": {
    "deletable": false,
    "editable": false
   },
   "source": [
    "----\n",
    "\n",
    "**<span style=\"color:blue\"> Question 13. The IT analyst claims: \"this table shows that White legislators on average write more messages to White constituents than they do to non-White constituents.\" (0.5 pts) </span>**\n",
    "\n",
    "**Question 13a.** Is this `TRUE` or `FALSE`? Replace the `...` below with `TRUE` or `FALSE`. (0.5 points)\n"
   ]
  },
  {
   "cell_type": "code",
   "execution_count": null,
   "id": "6c59b0b0",
   "metadata": {
    "tags": []
   },
   "outputs": [],
   "source": [
    "# Replace the NULL with TRUE or FALSE (without quotes), must be all capital letters\n",
    "q13a.answer <- NULL # YOUR CODE HERE"
   ]
  },
  {
   "cell_type": "markdown",
   "id": "7a5cf312",
   "metadata": {
    "deletable": false,
    "editable": false
   },
   "source": [
    "<!-- BEGIN QUESTION -->\n",
    "\n",
    "-----\n",
    "\n",
    "**Question 13b.** Explain your answer. (1 point)\n",
    "\n",
    "*Note: your GSI will only mark the first 60 words to your answer.*\n"
   ]
  },
  {
   "cell_type": "markdown",
   "id": "fe342973",
   "metadata": {},
   "source": [
    "_Type your answer here, replacing this text._"
   ]
  },
  {
   "cell_type": "markdown",
   "id": "eeee4cd0",
   "metadata": {
    "deletable": false,
    "editable": false
   },
   "source": [
    "<!-- END QUESTION -->\n",
    "\n",
    "-------"
   ]
  },
  {
   "cell_type": "markdown",
   "id": "3b6e2c34",
   "metadata": {
    "deletable": false,
    "editable": false
   },
   "source": [
    "**<span style=\"color:blue\"> Question 14. An activist in this state claims: \"The table here shows that electing a White legislator _causes_ non-Whites to receive fewer messages from their legislators. We can conclude based on the table that non-White people are less likely to receive a message from their legislator if their district elects a White legislator.\" Is it `TRUE` or `FALSE` that the table above demonstrates what the activist says that it does? Why or why not? (0.5 pts) </span>**\n",
    "\n",
    "*Hint: Thinking back to Week 3, Lecture 2, think very carefully about what \"A\" and \"B\" are in this scenario.*\n",
    "\n",
    "Question 14a. Is this statement `TRUE` or `FALSE`? Replace the `...` below with `TRUE` or `FALSE`. (0.5 points)\n"
   ]
  },
  {
   "cell_type": "code",
   "execution_count": null,
   "id": "27786f34",
   "metadata": {
    "tags": []
   },
   "outputs": [],
   "source": [
    "# Replace the NULL with TRUE or FALSE (without quotes), must be all capital letters\n",
    "q14a.answer <- NULL # YOUR CODE HERE"
   ]
  },
  {
   "cell_type": "markdown",
   "id": "67c47275",
   "metadata": {
    "deletable": false,
    "editable": false
   },
   "source": [
    "<!-- BEGIN QUESTION -->\n",
    "\n",
    "-----\n",
    "\n",
    "**Question 14b. Explain your answer.** (1 point)\n",
    "\n",
    "*Note: your GSI will only mark the first 60 words to your answer.*\n"
   ]
  },
  {
   "cell_type": "markdown",
   "id": "d3a4deea",
   "metadata": {},
   "source": [
    "_Type your answer here, replacing this text._"
   ]
  },
  {
   "cell_type": "markdown",
   "id": "97d9ab91",
   "metadata": {
    "deletable": false,
    "editable": false
   },
   "source": [
    "<!-- END QUESTION -->\n",
    "\n",
    "----\n",
    "\n",
    "# Submitting Your Notebook (please read carefully!)\n",
    "\n",
    "To submit your notebook...\n",
    "\n",
    "### 1. Click `File` $\\rightarrow$ `Save Notebook`.\n",
    "\n",
    "### 2. Wait 5 seconds.\n",
    "\n",
    "### 3. Select the cell below and hit run."
   ]
  },
  {
   "cell_type": "code",
   "execution_count": null,
   "id": "81465d92-6cd6-4d45-bfd4-613be464434c",
   "metadata": {},
   "outputs": [],
   "source": [
    "ottr::export(\"ProblemSet1.ipynb\")"
   ]
  },
  {
   "cell_type": "markdown",
   "id": "ec81db77-0b40-4b63-a306-8ea1935871ba",
   "metadata": {},
   "source": [
    "After you hit \"Run\" on the cell above, click the download link. A .zip file should download to your computer.\n",
    "\n",
    "(If you make changes to your notebook, you'll need to hit save and then run the cell above again before you submit to get a new version of it.)\n",
    "\n",
    "### 4. Submit the .zip file you just downloaded <a href=\"https://www.gradescope.com/\" target=\"_blank\">on Gradescope here</a>.\n",
    "\n",
    "Notes:\n",
    "\n",
    "- **This does not seem to work on Chrome for iPad or iPhone.** If you're using an iPad or iPhone, you need to download the file using **Safari**.\n",
    "- If your web browser automatically unzips the .zip file (so you see a folder instead of a .zip file), you can just upload the .ipynb file that is inside the folder.\n",
    "- If this method is not working for you, try this: hit `File`, then `Download as`, then `Notebook (.ipynb)` and submit that."
   ]
  }
 ],
 "metadata": {
  "kernelspec": {
   "display_name": "R",
   "language": "R",
   "name": "ir"
  },
  "language_info": {
   "codemirror_mode": "r",
   "file_extension": ".r",
   "mimetype": "text/x-r-source",
   "name": "R",
   "pygments_lexer": "r",
   "version": "4.3.2"
  },
  "latex_envs": {
   "LaTeX_envs_menu_present": true,
   "autoclose": false,
   "autocomplete": true,
   "bibliofile": "biblio.bib",
   "cite_by": "apalike",
   "current_citInitial": 1,
   "eqLabelWithNumbers": true,
   "eqNumInitial": 1,
   "hotkeys": {
    "equation": "Ctrl-E",
    "itemize": "Ctrl-I"
   },
   "labels_anchors": false,
   "latex_user_defs": false,
   "report_style_numbering": false,
   "user_envs_cfg": false
  }
 },
 "nbformat": 4,
 "nbformat_minor": 5
}
