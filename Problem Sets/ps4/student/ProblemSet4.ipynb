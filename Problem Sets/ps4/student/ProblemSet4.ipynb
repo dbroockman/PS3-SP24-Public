{
 "cells": [
  {
   "cell_type": "markdown",
   "id": "15d2f84c",
   "metadata": {},
   "source": [
    "# POLSCI 3\n",
    "\n",
    "## <span style=\"color:red\">READ THIS!</span> Important Notes about Problem Sets in PS 3\n",
    "\n",
    "- Just like with your in-class assignments, most of the questions in this problem set will be automatically graded. Therefore, you need to answer the questions exactly as we asked them: if we ask you to compute something, write the code to compute that exact value.\n",
    "- Some of the coding questions below will tell you if you have the right or wrong answer if you run your code and then run the `ottr::check` cell just below it. (The multiple choice questions do not do this.)\n",
    "    - You'll know you got a question right if it says `\"All tests passed!\"` afterwards.\n",
    "    - If you see an error when you run the check cell, it means you got the question wrong and should try again. The question should show a hint.\n",
    "    - If you don't see anything when you run the check cell, this means the question _doesn't tell you_ if you got the right or wrong answer.\n",
    "- Some of the questions below are short answer questions and will be graded by a GSI. For these questions, we expect around 1-2 sentences on average. You just need to write enough to answer the question, don't stress about how short your answer is. To encourage you not to write too much, your GSI will only mark the first 60 words to your answer. For many of these questions, you do *not* need to write all 60 words.\n",
    "- Do *not* convert your answers from decimals to percentages. For example, if you are asked the proportion of voters in `data` who are female, simply present `mean(data$female)` as your answer. Do _not_ multiply the expression by 100 to obtain a percentage.\n",
    "- **IF YOU EMAIL YOUR GSI A QUESTION ABOUT YOUR CODE, PLEASE ATTACH YOUR NOTEBOOK AS A .PDF IN YOUR EMAIL TO YOUR GSI SO THAT YOUR GSI CAN SEE ALL OF YOUR CODE. YOU CAN DOWNLOAD THE NOTEBOOK AS A .PDF BY GOING TO FILE $\\rightarrow$ DOWNLOAD AS $\\rightarrow$ PDF.**\n",
    "\n",
    "## OTHER IMPORTANT ANNOUNCEMENTS - PLEASE READ!\n",
    "\n",
    "- All free response questions are capped at 60 words. We will not be prompting this again in each question. \n",
    "- Please be as concise as possible. You will not be penalized for writing irrelevant materials within the word limit, but if the additional material shows some major misunderstanding, your score will be negatively affected.\n",
    "- Please do not show your GSIs your answers and ask them if they are right or not. Your GSI will _not_ look at your answers and tell you whether they are correct.\n",
    "  - What your GSI will answer before the assignment is due: clarification questions about course content or problem set questions; help understanding why your code is not running\n",
    "  - What your GSI will *not* answer: feedback on your draft answers, questions on the problems other than clarifying the wordings"
   ]
  },
  {
   "cell_type": "markdown",
   "id": "f2a9d1b2",
   "metadata": {},
   "source": [
    "## Problem Set 4: Running and Interpreting Regressions\n",
    "\n",
    "There are two parts to this problem set. In part I, you will run regressions in data from a study of ethnic voting in Mali. In part II, you will read regression tables to find the main takeaways from two interesting papers on a) how news on the economy affects voting decisions and b) partisan-motivated evaluations of sexual misconduct in the era of #MeToo."
   ]
  },
  {
   "cell_type": "markdown",
   "id": "5602eb27",
   "metadata": {},
   "source": [
    "### Part I: Getting in the Weeds of Regression - Making Democracy Work in Diverse Mali (11.5 points)\n",
    "\n",
    "#### Background\n",
    "\n",
    "Many social scientists believe the politicization of ethnicity in politics can be corrosive to democracy. For example, if ethnicity is politicized, people may engage in *ethnic voting*, in which they vote for in-group candidates and parties aimed at advancing the welfare *only* for their own groups. Yet, there are immensely diverse societies in which ethnicity is not very salient in politics. Mali, a landlocked country in West Africa, is one of them.\n",
    "\n",
    "In [Dunning and Harrison (2010)](http://www.thaddunning.com/wp-content/uploads/2009/12/CrossCutting_APSR-preprint.pdf)'s paper, they study a previously under-studied \"cross-cutting cleavage,\" which means an attribute where \"dimensions of identity or interest along which members of the same ethnic group may have diverse allegiances.\" In particular, they argue that the presence of *cousinage* is one reason why ethnic voting is not as strong in Mali.\n",
    "\n",
    "So, what is *cousinage*? During the Mali Empire (1230 to about 1600), families formed alliances on the basis of patronyms (i.e., surnames), even if were are of different ethnic or religious backgrounds. Even up to today, in countries such as current-day Mali (as well as Senegal, The Gambia, Guinea, and Burkina Faso), members of different ethnic groups feel close to their so-called _\"joking cousins\"_ even if they are not from the same group. \n",
    "\n",
    "In other words, cousinage **cross-cuts** ethnicity. While people favor their co-ethnics, they also favor their joking cousins, who very often are not in the same ethnic group."
   ]
  },
  {
   "cell_type": "markdown",
   "id": "b341c528",
   "metadata": {},
   "source": [
    "#### About the study\n",
    "\n",
    "Dunning and Harrison study whether the presence of this cross-cutting cleavage -- \"joking cousins\" -- helps reduce ethnic voting.\n",
    "\n",
    "Here is a brief description of the experiment's procedures from their paper:\n",
    "\n",
    "> To measure the effect of cousinage on voter preferences, we showed videotaped political speeches to experimental subjects, who were recruited through door-to-door canvassing in almost all neighborhoods in the capital city of Bamako. Subjects were told that the candidate in the video was a political independent who was considering launching a campaign for deputy in the National Assembly. [In all trials], we asked subjects to evaluate ... the attractiveness of the candidate (`global_eval`). **The content of speeches viewed by all subjects was identical. The experimental manipulation (`treat_assign`) consisted of what subjects were told about the politician’s last name, which conveys information about both ethnic identity and cousinage ties in Mali.** _(Emphasis and variable names added)_\n",
    "\n",
    "The treatment conditions are:\n",
    "  1. Same ethnicity, joking cousin\n",
    "  2. Same ethnicity, not joking cousin\n",
    "  3. Different ethnicity, joking cousin\n",
    "  4. Different ethnicity, not joking cousin\n",
    "\n",
    "Now, let's take a look at the data. "
   ]
  },
  {
   "cell_type": "code",
   "execution_count": null,
   "id": "99ae8e79",
   "metadata": {
    "editable": false,
    "scrolled": true
   },
   "outputs": [],
   "source": [
    "# You *must* run this cell, do not change its contents.\n",
    "library(testthat)\n",
    "dh_data <- read.csv(\"ps4.csv\")\n",
    "head(dh_data)"
   ]
  },
  {
   "cell_type": "markdown",
   "id": "8bb3c4d5",
   "metadata": {},
   "source": [
    "To recap, here are what the variables mean:\n",
    "- `participantid`: a unique identifier for each subject (each person in the experiment)\n",
    "- `vote_prefer`: 'On a scale from 1 to 7, how much does this speech make you want to vote for (name of politician)?' 7 = most likely to want to vote for; 1 = least likely to want to vote for\n",
    "- `treat_assign_coethnic`: `1` if the subject (meaning person in the experiment) was randomly assigned to be shown a candidate with a co-ethnic surname, `0` otherwise\n",
    "- `treat_assign_joking_cousin`: `1` if the subject was randomly assigned to a treatment group with a candidate who was a joking cousin, `0` otherwise\n",
    "- `actor`: this number indicates which actor each participant watched. Speeches were filmed in July 2008 in NYC, with two Malians actors. (`1`: Mamadou Doumbia; `2`: Bamadou Diallo)\n",
    "- `female`: equals `1` if the respondent identifies as female, `0` otherwise\n",
    "- `inscrite`: `1` if subject is registered to vote, `0` otherwise\n",
    "- `cousin_subject`: `1` if subject **belives** the actor is their joking cousin after viewing the speech, `0` otherwise\n",
    "- `education`: `1` if the subject received higher education, `0` otherwise\n",
    "- `vecu_ailleurs`: `1` if subject has lived elsewhere from Bamako, `0` otherwise\n",
    "\n",
    "**Note: the treatment condition is represented by two variables here, `treat_assign_coethnic` and `treat_assign_joking_cousin`. Since each of them can take two values (`1` and `0`), they represent the four treatment conditions**"
   ]
  },
  {
   "cell_type": "markdown",
   "id": "f381ab26",
   "metadata": {
    "deletable": false,
    "editable": false
   },
   "source": [
    "------\n",
    "\n",
    "**Question 1. Use the `summary(lm())` function to estimate the effect of the co-ethnic treatment (`treat_assign_coethnic`) on the `vote_prefer` outcome. Save the output to `reg_1`.** (1 point)\n"
   ]
  },
  {
   "cell_type": "code",
   "execution_count": null,
   "id": "272b7847",
   "metadata": {
    "scrolled": true,
    "tags": []
   },
   "outputs": [],
   "source": [
    "# Replace `...` with your answer. \n",
    "# Hint: You can finish this question with one line of code\n",
    "reg_1 <- NULL # YOUR CODE HERE\n",
    "\n",
    "# Now, let's see what is in reg_1\n",
    "reg_1"
   ]
  },
  {
   "cell_type": "code",
   "execution_count": null,
   "id": "0aa53bed",
   "metadata": {
    "deletable": false,
    "editable": false
   },
   "outputs": [],
   "source": [
    ". = ottr::check(\"tests/q1.R\")"
   ]
  },
  {
   "cell_type": "markdown",
   "id": "1e4619a7",
   "metadata": {
    "deletable": false,
    "editable": false
   },
   "source": [
    "------\n",
    "\n",
    "**Question 2. Use the `summary(lm())` function to estimate the effect of the joking cousin treatment condition (`treat_assign_joking_cousin`) on the `vote_prefer` outcome. Save your output to `reg_2`** (1 point)\n"
   ]
  },
  {
   "cell_type": "code",
   "execution_count": null,
   "id": "c3dedf5d",
   "metadata": {
    "tags": []
   },
   "outputs": [],
   "source": [
    "# Replace `...` with your answer. \n",
    "# Hint: You can finish this question with one line of code\n",
    "reg_2 <- NULL # YOUR CODE HERE\n",
    "\n",
    "# Now, let's see what is in reg_2\n",
    "reg_2"
   ]
  },
  {
   "cell_type": "code",
   "execution_count": null,
   "id": "5df6c031",
   "metadata": {
    "deletable": false,
    "editable": false
   },
   "outputs": [],
   "source": [
    ". = ottr::check(\"tests/q2.R\")"
   ]
  },
  {
   "cell_type": "markdown",
   "id": "8e840e5d",
   "metadata": {},
   "source": [
    "------\n",
    "\n",
    "In the regression you ran in Question 1, the value of the `(Intercept)` term was the following:"
   ]
  },
  {
   "cell_type": "code",
   "execution_count": null,
   "id": "6f7b1cfc",
   "metadata": {
    "editable": false
   },
   "outputs": [],
   "source": [
    "reg_1$coefficients[1,1]"
   ]
  },
  {
   "cell_type": "markdown",
   "id": "bbd8e220",
   "metadata": {
    "deletable": false,
    "editable": false
   },
   "source": [
    "**Question 3. `TRUE` or `FALSE`: This value tells us what the average of the `vote_prefer` outcome is among the observations where `treat_assign_coethnic` is equal to 0.** (1 point)\n",
    "\n",
    "Save your answer in `q3.answer`. Do not use quotes. For example, to answer `TRUE`, type `q3.answer <- TRUE`.\n",
    "\n",
    "_Note: this question will not tell you whether you got the right answer or not._\n"
   ]
  },
  {
   "cell_type": "code",
   "execution_count": null,
   "id": "1fcf1caf",
   "metadata": {
    "tags": []
   },
   "outputs": [],
   "source": [
    "q3.answer <- NULL # YOUR CODE HERE"
   ]
  },
  {
   "cell_type": "markdown",
   "id": "551881d6",
   "metadata": {},
   "source": [
    "------\n",
    "\n",
    "In Question 1, the Estimate on the `treat_assign_coethnic` variable was:"
   ]
  },
  {
   "cell_type": "code",
   "execution_count": null,
   "id": "826b4399",
   "metadata": {
    "editable": false
   },
   "outputs": [],
   "source": [
    "reg_1$coefficients[2,1]"
   ]
  },
  {
   "cell_type": "markdown",
   "id": "f3d87d7f",
   "metadata": {
    "deletable": false,
    "editable": false
   },
   "source": [
    "**Question 4. Which one of the following is the correct interpretation of what this number estimates?** (1 point)\n",
    "\n",
    "- `'a'`: it describes the difference in support for a candidate (`vote_prefer`) when the voter is their coethnic relative to when they are not. It is descriptive but not causal as there may be omitted variable bias.\n",
    "- `'b'`: it describes the difference in support for a candidate (`vote_prefer`) when the voter is their coethnic relative to when they are not. It is descriptive but not causal as the study is not a survey experiment.\n",
    "- `'c'`: it is the *causal* effect in terms of support for a candidate (`vote_prefer`) when the voter is their coethnic relative to when they are not. It is causal as the p-value is smaller than 0.05.\n",
    "- `'d'`: it is the *causal* effect in terms of support for a candidate (`vote_prefer`) when the voter is their coethnic relative to when they are not. It is causal as the treatment conditions were randomly assigned.\n",
    "- `'e'`: none of the above\n",
    "\n",
    "\n",
    "_Note: this question will not tell you whether you got the right answer or not._\n",
    "\n",
    "Enter your answer between quotes. For example, if you wanted to answer `'a'`, you would type `q4.answer <- 'a'`.\n",
    "\n"
   ]
  },
  {
   "cell_type": "code",
   "execution_count": null,
   "id": "c3f89ad5",
   "metadata": {
    "tags": []
   },
   "outputs": [],
   "source": [
    "q4.answer <- '...'"
   ]
  },
  {
   "cell_type": "markdown",
   "id": "b87a36c3",
   "metadata": {},
   "source": [
    "-----\n",
    "\n",
    "As a reminder, your answer to Question 1 looked like this:"
   ]
  },
  {
   "cell_type": "code",
   "execution_count": null,
   "id": "72e803e2",
   "metadata": {
    "editable": false
   },
   "outputs": [],
   "source": [
    "reg_1"
   ]
  },
  {
   "cell_type": "markdown",
   "id": "fe7dd5b5",
   "metadata": {},
   "source": [
    "and your answer to Question 2 looked like this:"
   ]
  },
  {
   "cell_type": "code",
   "execution_count": null,
   "id": "4ca299ec",
   "metadata": {
    "editable": false
   },
   "outputs": [],
   "source": [
    "reg_2"
   ]
  },
  {
   "cell_type": "markdown",
   "id": "a86a4f07",
   "metadata": {
    "deletable": false,
    "editable": false
   },
   "source": [
    "**Question 5.  Which one of the following _`CANNOT`_ be inferred from the regression results from Questions 1 and 2?** (1 point)\n",
    "\n",
    "- `'a'`: a candidate being a co-ethnic causes voters to express more support\n",
    "- `'b'`: a candidate being a joking cousin causes voters to express more support\n",
    "- `'c'`: our best guess is that the effect of being a co-ethnic is larger than the effect of being a joking cousin\n",
    "- `'d'`: all of the statements above can be inferred\n",
    "\n",
    "_Note: this question will not tell you whether you got the right answer or not._\n",
    "\n",
    "Enter your answer between quotes. For example, if you wanted to answer `'a'`, you would type `q5.answer <- 'a'`.\n",
    "\n"
   ]
  },
  {
   "cell_type": "code",
   "execution_count": null,
   "id": "8123815b",
   "metadata": {
    "tags": []
   },
   "outputs": [],
   "source": [
    "q5.answer <- '...'"
   ]
  },
  {
   "cell_type": "markdown",
   "id": "910a7fae",
   "metadata": {
    "deletable": false,
    "editable": false
   },
   "source": [
    "------\n",
    "\n",
    "**Question 6. Use the `summary(lm())` function to estimate the effect of the joking cousin treatment condition (`treat_assign_joking_cousin`) on voter support (`vote_prefer`), but controlling for gender (`female`), voter registration (`inscrite`) and education (`education`). Save your output to `reg_6`.** (1 point)\n",
    "\n",
    "_Note: This question will not tell you whether you got the right answer or not._\n"
   ]
  },
  {
   "cell_type": "code",
   "execution_count": null,
   "id": "0f3e11da",
   "metadata": {
    "scrolled": true,
    "tags": []
   },
   "outputs": [],
   "source": [
    "# Replace `...` with your answer. \n",
    "# Hint: You can finish this question with one line of code\n",
    "reg_6 <- NULL # YOUR CODE HERE\n",
    "\n",
    "# Now, let's see what is in reg_6\n",
    "reg_6"
   ]
  },
  {
   "cell_type": "markdown",
   "id": "3926c769",
   "metadata": {
    "deletable": false,
    "editable": false
   },
   "source": [
    "-----\n",
    "**Question 7a. `TRUE` or `FALSE`: The reason to include control variables in the regression in Question 6 is to do our best to try to reduce potential omitted variable bias.** (1 point)\n",
    "\n",
    "Save your answer in `q7a.answer`. Do not use quotes. For example, to answer `TRUE`, type `q7a.answer <- TRUE`.\n",
    "\n",
    "_Note: this question will not tell you whether you got the right answer or not._\n"
   ]
  },
  {
   "cell_type": "code",
   "execution_count": null,
   "id": "6053eb11",
   "metadata": {
    "tags": []
   },
   "outputs": [],
   "source": [
    "q7a.answer <- NULL # YOUR CODE HERE"
   ]
  },
  {
   "cell_type": "markdown",
   "id": "a53d9fc3",
   "metadata": {
    "deletable": false,
    "editable": false
   },
   "source": [
    "<!-- BEGIN QUESTION -->\n",
    "\n",
    "-----\n",
    "**Question 7b. If your answer to the previous part is `TRUE`, explain how including these control variables helps reduce the potential for omitted variable bias. If your answer to the previous part is `FALSE`, explain why did we include these control variables.** (1.5 point)\n"
   ]
  },
  {
   "cell_type": "markdown",
   "id": "da0d3e25",
   "metadata": {},
   "source": [
    "_Type your answer here, replacing this text._"
   ]
  },
  {
   "cell_type": "markdown",
   "id": "d009054d",
   "metadata": {
    "deletable": false,
    "editable": false
   },
   "source": [
    "<!-- END QUESTION -->\n",
    "\n",
    "----\n",
    "\n",
    "The p-value for the estimate of `female` in the regression you ran in Question 6 was:"
   ]
  },
  {
   "cell_type": "code",
   "execution_count": null,
   "id": "e2328fd3",
   "metadata": {
    "editable": false
   },
   "outputs": [],
   "source": [
    "reg_6$coefficients['female', 4]"
   ]
  },
  {
   "cell_type": "markdown",
   "id": "0c042ee7",
   "metadata": {
    "deletable": false,
    "editable": false
   },
   "source": [
    "**Question 7c. Which one of the following is the correct interpretation of this number?** (1 point)\n",
    "\n",
    "- `'a'`: There is a 4.6% chance that those who are female assign the same ratings (`vote_prefer`) as those who are not female\n",
    "- `'b'`: If there were no average difference between the ratings females and non-females gave, there is only a 4.6% chance that we would see the difference between their ratings that we saw\n",
    "- `'c'`: If there were no average difference between the ratings females and non-females gave, there is only a 4.6% chance that we would see the difference between ther ratings that is as large or larger than the one that we saw\n",
    "- `'d'`: After holding all other factors constant, if there were no average difference between the ratings females and non-females gave, there is only a 4.6% chance that we would see the difference between ther ratings that is as large or larger than the one that we saw\n",
    "\n",
    "_Note: this question will not tell you whether you got the right answer or not._\n",
    "\n",
    "Enter your answer between quotes. For example, if you wanted to answer `'a'`, you would type `q7c.answer <- 'a'`.\n",
    "\n"
   ]
  },
  {
   "cell_type": "code",
   "execution_count": null,
   "id": "90a311b5",
   "metadata": {
    "tags": []
   },
   "outputs": [],
   "source": [
    "q7c.answer <- '...'"
   ]
  },
  {
   "cell_type": "markdown",
   "id": "035dedde",
   "metadata": {
    "deletable": false,
    "editable": false
   },
   "source": [
    "-----\n",
    "\n",
    "As noted above, the dataset also includes the `cousin_subject` variable. As reviewed above, it is:\n",
    "> `1` if subject **belives** the actor is their joking cousin after viewing the speech, `0` otherwise\n",
    "\n",
    "**Question 8a. Should we include `cousin_subject` in the regression as a control variable to estimate the effect of `treat_assign_joking_cousin` with less noise? Answer `TRUE` if this is a good idea. Answer `FALSE` if this is a bad idea.** (1 point)\n",
    "\n",
    "Save your answer in `q8a.answer`. Do not use quotes. For example, to answer `TRUE`, type `q8a.answer <- TRUE`.\n",
    "\n",
    "_Hint: Review Week 11, Lecture 2._\n",
    "\n",
    "_Note: this question will not tell you whether you got the right answer or not._\n"
   ]
  },
  {
   "cell_type": "code",
   "execution_count": null,
   "id": "ed50ed35",
   "metadata": {
    "tags": []
   },
   "outputs": [],
   "source": [
    "q8a.answer <- NULL # YOUR CODE HERE"
   ]
  },
  {
   "cell_type": "markdown",
   "id": "733a9ae1",
   "metadata": {
    "deletable": false,
    "editable": false
   },
   "source": [
    "<!-- BEGIN QUESTION -->\n",
    "\n",
    "-----\n",
    "**Question 8b. If your answer to the previous part is `TRUE` (i.e., we should do so), explain why including this variable may be helpful. If your answer to the previous part is `FALSE` (i.e., we should not do so), explain why including this variable is problematic.** (1 point)\n"
   ]
  },
  {
   "cell_type": "markdown",
   "id": "739efe4c",
   "metadata": {},
   "source": [
    "_Type your answer here, replacing this text._"
   ]
  },
  {
   "cell_type": "markdown",
   "id": "ba8d8b55",
   "metadata": {
    "deletable": false,
    "editable": false
   },
   "source": [
    "<!-- END QUESTION -->\n",
    "\n",
    "-----\n",
    "\n",
    "### Part IIa: Media Inﬂuence on Vote Choices: Unemployment News and Incumbents’ Electoral Prospects (5.5 points)\n",
    "\n",
    "In [Garz and Martin (2021)](https://onlinelibrary-wiley-com.libproxy.berkeley.edu/doi/epdf/10.1111/ajps.12539)'s paper, they look at how the mere fact that more / less news on unemployment is being reported can influence incumbent candidates' electoral prospects. Here is the abstract of their paper:\n",
    "\n",
    "> How does news about the economy influence voting decisions? We isolate the effect of the information environment from the effect of change in the underlying economic conditions themselves by taking advantage of left-digit bias. We show that unemployment figures crossing a round-number “milestone” cause a discontinuous increase in the amount of media coverage devoted to unemployment conditions, and we use this discontinuity to estimate the effect of attention to unemployment news on voting, holding constant the actual economic conditions on the ground. Milestone effects on incumbent U.S. governor vote shares are large and notably asymmetric: Bad milestone events hurt roughly twice as much as good milestone events help.\n",
    "\n",
    "So what is a milestone?\n",
    "\n",
    "> We apply the following criteria to find “bad” milestones in the state unemployment rate: (a) the rate exceeds a round number that it did not exceed in the previous month; and (b) the rate did not exceed the same round number in the 6 months prior to that event. Here, a round number is any value that contains a zero after the decimal point (e.g., 5.0% or 12.0%). Similarly, we consider it a “good” milestone if (a) the rate falls to or below a round number; and (b) the rate did not fall to or below the same round number in the 6 months before. We apply the same criteria to the state’s number of unemployed, except that a round number is any value that contains only zeros after the first digit (e.g., 700,000 or 2,000,000 unemployed people).\n",
    "\n",
    "Now, let's look at the main results from the regression. The dependent variable here is the vote share gained by the incumbent party / candidate, and the independent variables are whether there was a good / bad milestone in the last unemployment release before election day or not. Here is more information on the sample for the main findings:\n",
    "\n",
    "> The sample includes 342 gubernatorial elections between 1994 and 2018. The incumbent governor was standing for reelection in 195 of these elections"
   ]
  },
  {
   "cell_type": "markdown",
   "id": "b4d3c143",
   "metadata": {},
   "source": [
    "Below are the abridged tables of the main findings. \n",
    "\n",
    "![](gm_table3.jpg)\n",
    "![](gm_table4.jpg)"
   ]
  },
  {
   "cell_type": "markdown",
   "id": "a14fe6f7",
   "metadata": {
    "deletable": false,
    "editable": false
   },
   "source": [
    "------\n",
    "\n",
    "**Question 9. What does the `Party * Year Fixed Effects` row tell us?** (1 point)\n",
    "\n",
    "- `'a'`: it indicates that the regression includes a control variable for each party and year\n",
    "- `'b'`: it indicates that we only examine the gubernatorial candidates from one party over one year\n",
    "- `'c'`: it indicates that we attempted to include some control variables but are unable to compute them\n",
    "- `'d'`: it indicates us that the estimates from some control variables are identical in the model\n",
    "- `'e'`: none of the above\n",
    "\n",
    "_Note: this question will not tell you whether you got the right answer or not._\n",
    "\n",
    "Enter your answer between quotes. For example, if you wanted to answer `'a'`, you would type `q9.answer <- 'a'`.\n",
    "\n"
   ]
  },
  {
   "cell_type": "code",
   "execution_count": null,
   "id": "815f2bb2",
   "metadata": {
    "tags": []
   },
   "outputs": [],
   "source": [
    "q9.answer <- '...'"
   ]
  },
  {
   "cell_type": "markdown",
   "id": "6e2fdd23",
   "metadata": {
    "deletable": false,
    "editable": false
   },
   "source": [
    "--------\n",
    "\n",
    "**Question 10. The estimate of `Bad Milestone` from Table 3 has no stars. When viewed together with the estimate, what does this row mean?** (1 point)\n",
    "\n",
    "- `'a'`: it shows that the p-value of the estimate is greater than 0.05, and so the true relationship between `Bad Milestone` and incumbent party vote is likely, but not certainly, to be zero\n",
    "- `'b'`: it shows that the p-value of the estimate is greater than 0.05, and so the true relationship between `Bad Milestone` and incumbent party vote is certainly zero\n",
    "- `'c'`: it shows that the p-value of the estimate is greater than 0.05, and our best guess of the true relationship between `Bad Milestone` and incumbent party vote is -2.4%\n",
    "- `'d'`: it provides no information on the p-value of the estimate, and there is insufficient information to make any best guess of the relationship between `Bad Milestone` and incumbent party vote\n",
    "- `'e'`: it shows that the p-value of the estimate is smaller than 0.05, and there is a statistically significant relationship between `Bad Milestone` and incumbent party vote\n",
    "- `'f'`: none of the above\n",
    "\n",
    "_Note: this question will not tell you whether you got the right answer or not._\n",
    "\n",
    "Enter your answer between quotes. For example, if you wanted to answer `'a'`, you would type `q10.answer <- 'a'`.\n",
    "\n"
   ]
  },
  {
   "cell_type": "code",
   "execution_count": null,
   "id": "b57926a2",
   "metadata": {
    "tags": []
   },
   "outputs": [],
   "source": [
    "q10.answer <- '...'"
   ]
  },
  {
   "cell_type": "markdown",
   "id": "59b2e3bd",
   "metadata": {
    "deletable": false,
    "editable": false
   },
   "source": [
    "<!-- BEGIN QUESTION -->\n",
    "\n",
    "-----\n",
    "\n",
    "**Question 11. Do you think the findings above suffer from omitted variable bias? Why or why not?** (2 points)\n",
    "\n",
    "You can either answer yes or no to this question but must defend your answer.\n",
    "- If you are answering yes, be sure to name your omitted variable, and explain clearly how it would cause bias.\n",
    "- If you are answering no, explain why the cases with bad milestones and without bad milestones are likely to be otherwise similar.\n",
    "\n",
    "*For this question **only**, you are allowed to write up to 100 words.*\n",
    "\n"
   ]
  },
  {
   "cell_type": "markdown",
   "id": "f02981ec",
   "metadata": {},
   "source": [
    "_Type your answer here, replacing this text._"
   ]
  },
  {
   "cell_type": "markdown",
   "id": "44740b2b",
   "metadata": {
    "deletable": false,
    "editable": false
   },
   "source": [
    "<!-- END QUESTION -->\n",
    "\n",
    "<!-- BEGIN QUESTION -->\n",
    "\n",
    "-----\n",
    "\n",
    "As noted in the abstract above, Garz and Martin (2021) find that there is more newspaper coverage of unemployment rates when it passes a milestone. Imagine that a researcher sees this data from Garz and Martin (2021) and plans to analyze it using an instrumental variables approach to estimate the effect of bad media coverage of the economy on governor elections. In this setup, `Bad Milestone` would be the instrument, newspaper coverage would be the treatment, and a governor's performance in the next election would be the outcome.\n",
    "\n",
    "**Question 12. Explain what the exclusion restriction would require in this case and how it might be violated.** (1.5 points)\n"
   ]
  },
  {
   "cell_type": "markdown",
   "id": "eafc3edf",
   "metadata": {},
   "source": [
    "_Type your answer here, replacing this text._"
   ]
  },
  {
   "cell_type": "markdown",
   "id": "94fb8556",
   "metadata": {
    "deletable": false,
    "editable": false
   },
   "source": [
    "<!-- END QUESTION -->\n",
    "\n",
    "-----\n",
    "\n",
    "### Part IIb: Partisan-Motivated Evaluations of Sexual Misconduct and the Mitigating Role of the #MeToo Movement (5 points)\n",
    "\n",
    "[Klar and McCoy (2021)](https://onlinelibrary-wiley-com.libproxy.berkeley.edu/doi/epdf/10.1111/ajps.12619) look at partisan-motivated evaluations of sexual misconduct. That is, whether individuals are more likely to view out-party members as guilty of sexual misconduct (e.g., a Democrat forming judgments about a Republican instead of a fellow Democrat). Moreover, they examine whether people who are less likely to reflect on their biases demonstrate this bias to a greater extent. In particular, using a two-wave survey-based experiment, they examine at how outside forces such as the #MeToo movement can promote reflection and reduce partisan-motivated evaluations of sexual misconducts.\n",
    "\n",
    "In the problem set, we examine the first part of their argument: that individuals have partisan-motivated evaluations of sexual misconduct."
   ]
  },
  {
   "cell_type": "markdown",
   "id": "06c73ee7",
   "metadata": {},
   "source": [
    "The design of the survey experiment is as follows:\n",
    "\n",
    "> We instructed participants to read a fictitious scenario and to answer several questions that followed. We randomly assigned respondents to one of eight different experimental groups. Each group read a short fictitious vignette about an accusation of sexual misconduct in politics. The details of the vignette were constant across groups: A political candidate makes an unwanted sexual advance toward an individual. Across experimental groups, we manipulated the gender and partisanship of the accuser, and the gender and partisanship of the accused. In every scenario, either a woman accused a man or a man accused a woman (i.e., there were no same-sex scenarios). The vignette read as follows:\n",
    "> *Andrew (Katherine) Hannigan, a Democratic (Republican) candidate for state office, is facing sexual harassment complaints from a 31-year-old woman (man) who works for the Democratic (Republican) Party. The accuser says the 45-year-old man (woman), a rising star in the Democratic (Republican) Party, approached her (him) at a 2016 political event and made unwanted sexual advances towards her (him).*\n",
    "> *The accuser, a data analyst for the Democratic (Republican) Party, says that Hannigan offered her (him) a high-paying job in his (her) campaign if she (he) agreed to have an affair with him (her). Andrew (Katherine) Hannigan denies the allegations, calling them \"unequivocally false.\"*\n",
    "\n",
    "For the outcome variable, the researchers measured the outcome by a 7-point response scale, ranging from \"Definitely not guilty\" (1) to \"Definitely guilty\" (7). The midpoint (4) was labeled \"Not sure.\"\n",
    "\n",
    "Here is a summary of the treatment conditions (where participants were randomly assigned into):\n",
    "\n",
    "![](km_table1.png)"
   ]
  },
  {
   "cell_type": "markdown",
   "id": "e553e9e7",
   "metadata": {
    "deletable": false,
    "editable": false
   },
   "source": [
    "<!-- BEGIN QUESTION -->\n",
    "\n",
    "-----\n",
    "\n",
    "**Question 13. Let's first look at Table 1. A researcher notes \"given a set overall sample size, there is a disadvantage for the precision of the experiment to also including 8 additional treatment conditions describing the same-sex scenarios.\" Assuming the overall sample size of the experiment were to stay the same, why is this?** (1 point)\n",
    "\n",
    "*Hint: it may help to review Week 6, Lecture 1.*\n"
   ]
  },
  {
   "cell_type": "markdown",
   "id": "6fe50846",
   "metadata": {},
   "source": [
    "_Type your answer here, replacing this text._"
   ]
  },
  {
   "cell_type": "markdown",
   "id": "0a628b2a",
   "metadata": {
    "deletable": false,
    "editable": false
   },
   "source": [
    "<!-- END QUESTION -->\n",
    "\n",
    "------\n",
    "\n",
    "The table below shows the results from the main regresions in the experiment. The outcome in each regression is as described above, a 7-point scale of perceptions of guilt ranging from \"definitely not guilty\" (1) to \"definitely guilty\" (7).\n",
    "\n",
    "The first column represents a regression run on the full set of observations in the survey experiment. The successive columns represents the regression run on a subset of observations as labelled (e.g., the \"Democrats\" column shows the results _among respondents to the survey who identify as Democrats_).\n",
    "\n",
    "![](km_table2.png)\n",
    "\n",
    "The remaining questions all concern this Table."
   ]
  },
  {
   "cell_type": "markdown",
   "id": "35b165cd",
   "metadata": {
    "deletable": false,
    "editable": false
   },
   "source": [
    "-----\n",
    "**Question 14. `TRUE` or `FALSE`: \"The Table shows that there are more Democrats than Republicans in this sample.\"** (1 point)\n",
    "\n",
    "Save your answer in `q14.answer`. Do not use quotes. For example, to answer `TRUE`, type `q14.answer <- TRUE`.\n",
    "\n",
    "_Note: this question will not tell you whether you got the right answer or not._\n"
   ]
  },
  {
   "cell_type": "code",
   "execution_count": null,
   "id": "2ca2d8a0",
   "metadata": {
    "tags": []
   },
   "outputs": [],
   "source": [
    "q14.answer <- NULL # YOUR CODE HERE"
   ]
  },
  {
   "cell_type": "markdown",
   "id": "3ed0bfd8",
   "metadata": {
    "deletable": false,
    "editable": false
   },
   "source": [
    "-----\n",
    "**Question 15. `TRUE` or `FALSE`: \"When examining the results in the full sample, there is statistically significant evidence that people are more likely to presume guilt if a woman accuses a man than if a man accuses a woman in these experiments.\"** (1 point)\n",
    "\n",
    "Save your answer in `q15.answer`. Do not use quotes. For example, to answer `TRUE`, type `q15.answer <- TRUE`.\n",
    "\n",
    "_Note: this question will not tell you whether you got the right answer or not._\n"
   ]
  },
  {
   "cell_type": "code",
   "execution_count": null,
   "id": "64b98aa9",
   "metadata": {
    "tags": []
   },
   "outputs": [],
   "source": [
    "q15.answer <- NULL # YOUR CODE HERE"
   ]
  },
  {
   "cell_type": "markdown",
   "id": "2a7a0f9a",
   "metadata": {
    "deletable": false,
    "editable": false
   },
   "source": [
    "-----\n",
    "**Question 16. Looking at the Table, what is our best guess for the effect of the harasser being the same partisanship as the survey respondent on presumptions of guilt _among men_?** (1 point)\n",
    "\n",
    "Save your answer in `q16.answer`. Do not use quotes. For example, to answer 0.123, type `q16.answer <- 0.123`.\n",
    "\n",
    "_Note: this question will not tell you whether you got the right answer or not._\n"
   ]
  },
  {
   "cell_type": "code",
   "execution_count": null,
   "id": "5c2560fb",
   "metadata": {
    "tags": []
   },
   "outputs": [],
   "source": [
    "q16.answer <- NULL # YOUR CODE HERE"
   ]
  },
  {
   "cell_type": "markdown",
   "id": "9736bab7",
   "metadata": {
    "deletable": false,
    "editable": false
   },
   "source": [
    "-----\n",
    "**Question 17. The p-value of the variable `Woman accuses man` in the regression run on the subset consisting of participants who identify as women is...** (1 point)\n",
    "\n",
    "- `'a'`: smaller than 0.01\n",
    "- `'b'`: exactly 0.01\n",
    "- `'c'`: between 0.01 and 0.05\n",
    "- `'d'`: exactly 0.05\n",
    "- `'e'`: between 0.05 and 0.1\n",
    "- `'f'`: exactly 0.1\n",
    "- `'g'`: above 0.1\n",
    "- `'h'`: none of the above\n",
    "\n",
    "_Note: this question will not tell you whether you got the right answer or not._\n",
    "\n",
    "Enter your answer between quotes. For example, if you wanted to answer `'a'`, you would type `q17.answer <- 'a'`.\n",
    "\n"
   ]
  },
  {
   "cell_type": "code",
   "execution_count": null,
   "id": "aa3996b9",
   "metadata": {
    "tags": []
   },
   "outputs": [],
   "source": [
    "q17.answer <- '...'"
   ]
  },
  {
   "cell_type": "markdown",
   "id": "621564ff",
   "metadata": {},
   "source": [
    "----\n",
    "\n",
    "# Submitting Your Notebook (please read carefully!)\n",
    "\n",
    "To submit your notebook...\n",
    "\n",
    "### 1. Click `File` $\\rightarrow$ `Save Notebook`.\n",
    "\n",
    "### 2. Wait 5 seconds.\n",
    "\n",
    "### 3. Select the cell below and hit run."
   ]
  },
  {
   "cell_type": "code",
   "execution_count": null,
   "id": "07e8a900-7ccb-4532-b182-ffc9645b799b",
   "metadata": {},
   "outputs": [],
   "source": [
    "ottr::export(\"ProblemSet4.ipynb\")"
   ]
  },
  {
   "cell_type": "markdown",
   "id": "8e646324-ff70-4ef7-ac1a-065182444527",
   "metadata": {},
   "source": [
    "After you hit \"Run\" on the cell above, click the download link. A .zip file should download to your computer.\n",
    "\n",
    "(If you make changes to your notebook, you'll need to hit save and then run the cell above again before you submit to get a new version of it.)\n",
    "\n",
    "### 4. Submit the .zip file you just downloaded <a href=\"https://www.gradescope.com/\" target=\"_blank\">on Gradescope here</a>.\n",
    "\n",
    "Notes:\n",
    "\n",
    "- **This does not seem to work on Chrome for iPad or iPhone.** If you're using an iPad or iPhone, you need to download the file using **Safari**.\n",
    "- If your web browser automatically unzips the .zip file (so you see a folder instead of a .zip file), you can just upload the .ipynb file that is inside the folder.\n",
    "- If this method is not working for you, try this: hit `File`, then `Download as`, then `Notebook (.ipynb)` and submit that."
   ]
  }
 ],
 "metadata": {
  "kernelspec": {
   "display_name": "R",
   "language": "R",
   "name": "ir"
  },
  "language_info": {
   "codemirror_mode": "r",
   "file_extension": ".r",
   "mimetype": "text/x-r-source",
   "name": "R",
   "pygments_lexer": "r",
   "version": "4.3.2"
  },
  "latex_envs": {
   "LaTeX_envs_menu_present": true,
   "autoclose": false,
   "autocomplete": true,
   "bibliofile": "biblio.bib",
   "cite_by": "apalike",
   "current_citInitial": 1,
   "eqLabelWithNumbers": true,
   "eqNumInitial": 1,
   "hotkeys": {
    "equation": "Ctrl-E",
    "itemize": "Ctrl-I"
   },
   "labels_anchors": false,
   "latex_user_defs": false,
   "report_style_numbering": false,
   "user_envs_cfg": false
  }
 },
 "nbformat": 4,
 "nbformat_minor": 5
}
