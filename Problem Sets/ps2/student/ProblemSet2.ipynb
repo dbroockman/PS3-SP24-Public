{
 "cells": [
  {
   "cell_type": "markdown",
   "id": "aadcea7e",
   "metadata": {},
   "source": [
    "# POLSCI 3\n",
    "\n",
    "## <span style=\"color:red\">READ THIS!</span> Important Notes about Problem Sets in PS 3\n",
    "\n",
    "- Just like with your in-class assignments, most of the questions in this problem set will be automatically graded. Therefore, you need to answer the questions exactly as we asked them: if we ask you to compute something, write the code to compute that exact value.\n",
    "- The coding questions below will tell you if you have the right or wrong answer if you run your code and then run the `ottr::check` cell just below it. (The multiple choice questions do not do this.)\n",
    "    - You'll know you got a question right if it says `\"All tests passed!\"` afterwards.\n",
    "    - If you see an error when you run the check cell, it means you got the question wrong and should try again. The question should show a hint.\n",
    "    - If you don't see anything when you run the check cell, this means the question doesn't tell you if you got the right or wrong answer.\n",
    "- Some of the questions below are short answer questions and will be graded by a GSI. For these questions, we expect around 2-3 sentences on average. You just need to write enough to answer the question, don't stress about how short your answer is. To encourage you not to write too much, your GSI will only mark the first 60 words to your answer. For many of these questions, you do *not* need to write all 60 words.\n",
    "- Do *not* convert your answers from decimals to percentages. For example, if you are asked the proportion of voters in `data` who are female, simply present `mean(data$female)` as your answer. Do *not* multiply the expression by 100 to obtain a percentage.\n",
    "- **IF YOU EMAIL YOUR GSI A QUESTION ABOUT YOUR CODE, PLEASE ATTACH YOUR NOTEBOOK AS A .PDF IN YOUR EMAIL TO YOUR GSI SO THAT YOUR GSI CAN SEE ALL OF YOUR CODE. YOU CAN DOWNLOAD THE NOTEBOOK AS A .PDF BY GOING TO FILE $\\rightarrow$ DOWNLOAD AS $\\rightarrow$ PDF.**\n",
    "- Do not ask your GSI or the professor to look at your answer and tell you whether it is correct. We cannot give you the answers."
   ]
  },
  {
   "cell_type": "markdown",
   "id": "1a0ae01c",
   "metadata": {},
   "source": [
    "## Problem Set 2: Analyzing Experiments and Quantifying Uncertainty\n",
    "\n",
    "In this problem set, we will analyze data from an experiment on the effect of social pressure mail on voter turnout from a [field experiment conducted by Alan Gerber, Greg Huber, Albert Fang, and Andrew Gooch](https://journals.sagepub.com/doi/abs/10.1177/1532673X16686556#abstract). The experiment was conducted in South Dakota in the 2014 midterm elections."
   ]
  },
  {
   "cell_type": "markdown",
   "id": "18c7f732",
   "metadata": {},
   "source": [
    "### About the Experiment\n",
    "\n",
    "In class, we analyzed data from the very first study of social pressure mailers, which are mailers that \"shame\" people into voting by revealing whether they vote to their neighbors. As you might remember, this study found that these mailers had very large effects on voter turnout.\n",
    "\n",
    "But these mailers also inspired a lot of outrage among people who disliked being shamed -- and as a result, many campaigns looked for ways to deploy \"social pressure\" in a \"gentler\" way while retaining its effectiveness. There have now been dozens of studies that look at approaches for deploying \"gentler\" social pressure to increase voter turnout.\n",
    "\n",
    "Gerber et al. had one such idea for a \"gentle\" social pressure mailer. Their mailer looks like the below:\n",
    "\n",
    "<img src=\"mailer.png\" />\n",
    "\n",
    "The mail is much less harsh than the \"neighbors\" mailing in the original \"social pressure\" experiment we analyzed in class. But the mail still contains a number of social pressure elements:\n",
    "- by listing voters' own turnout history, it shows voters that the researchers know whether they vote\n",
    "- the voters are shown others' turnout history, and their own voter history is compared, providing a gentle dose of \"shame\" if their turnout history is below average or \"praise\" if it is above average\n",
    "- the voters are told that whether they vote is public\n",
    "- the P.S. tells voters that the organization may call voters to ask about their experience voting; this might be an awkward call if the person doesn't vote! The thought is that, by gently letting voters know there might be a call, voters will vote to avoid an awkward conversation about the fact that they didn't vote.\n",
    "\n",
    "The authors of the study we are analyzing in this problem set conducted an experiment on the effects of this mailer on voter turnout. The cell below reads in the data from this experiment."
   ]
  },
  {
   "cell_type": "code",
   "execution_count": null,
   "id": "abc1a12a",
   "metadata": {
    "editable": false
   },
   "outputs": [],
   "source": [
    "# You *must* run this cell, please do not change its contents.\n",
    "# Every time you open the problem set, you might need to run this again to re-load the data.\n",
    "library(testthat)\n",
    "library(estimatr)\n",
    "data <- read.csv(\"ps2.csv\")\n",
    "\n",
    "# Let's look at the structure of the data\n",
    "head(data)"
   ]
  },
  {
   "cell_type": "markdown",
   "id": "4df84f00",
   "metadata": {},
   "source": [
    "### Research Design and Variable Codebook\n",
    "\n",
    "In the experiment, voters were randomly assigned into the treatment group (`treat` variable = `1`) or the control group (`treat` variable = `0`). In the treatment group (`treat` variable = `1`), voters received the above mailer aimed at creating social pressure for them to vote before the 2014 election. In the control group (`treat` variable = `0`), voters received no mail from the researchers.\n",
    "\n",
    "Then, based on public records from the government, the researchers coded whether the voter actually ended up voting in the variable `voted14`. Last, the researchers also coded the race and gender of the voters in `race_white` and `female` respectively.\n",
    "\n",
    "To recap, here are what the variables mean:\n",
    "- `treat`: `1` = voter received the mailer (treatment group); `0` = voter did not receive the mailer (control group)\n",
    "- `voted14`: `1` = the voter voted in the 2014 midterm elections; `0` = the voter did not vote in the 2014 midterm elections. This is the outcome.\n",
    "- `race_white`: `1` = the voter is white; `0` = the voter is non-white\n",
    "- `female`: `1` = the voter is female; `0` = the voter is not female\n",
    "\n",
    "-----"
   ]
  },
  {
   "cell_type": "markdown",
   "id": "334b6818",
   "metadata": {
    "deletable": false,
    "editable": false
   },
   "source": [
    "### The effects of the \"gentle\" social pressure mail\n",
    "\n",
    "**<span style=\"color:blue\"> Question 1. Use the `difference_in_means()` function to estimate the effect of receiving the social pressure mailer (relative to the control group) on whether the voter voted in the 2014 midterm election. Save the result in `mail_dim`. (1 point) </span>**\n"
   ]
  },
  {
   "cell_type": "code",
   "execution_count": null,
   "id": "30916ee0",
   "metadata": {
    "tags": []
   },
   "outputs": [],
   "source": [
    "# Replace \"NULL # YOUR CODE HERE\" with your code.\n",
    "mail_dim <- NULL # YOUR CODE HERE\n",
    "\n",
    "mail_dim # Let's see what is in mail_dim"
   ]
  },
  {
   "cell_type": "code",
   "execution_count": null,
   "id": "918481b5",
   "metadata": {
    "deletable": false,
    "editable": false
   },
   "outputs": [],
   "source": [
    ". = ottr::check(\"tests/q1.R\")"
   ]
  },
  {
   "cell_type": "markdown",
   "id": "d566f14e",
   "metadata": {
    "deletable": false,
    "editable": false
   },
   "source": [
    "------\n",
    "\n",
    "**<span style=\"color:blue\"> Question 2. Which of the following can we conclude based on what you found in Question 1? (1 point) </span>**\n",
    "\n",
    "- `'a'`: The true average treatment effect of this social pressure mail on voter turnout was a (rounded) 1.86 percentage point increase.\n",
    "- `'b'`: Our best guess is that the social pressure mail increased voter turnout by about (rounded)  1.86 percentage points, although the actual true average treatment effect might be somewhat smaller or larger than that.\n",
    "- `'c'`: The large standard error on this study shows that it is biased, so we can't learn much about the effect of the mail on voter turnout from this experiment.\n",
    "- `'d'`: Because the $p$-value was higher than 0.05, we can't learn anything about the effect of the mail on voter turnout from this experiment.\n",
    "\n",
    "Enter your answer between quotes. For example, if you wanted to answer `'a'`, you would type `q2.answer <- 'a'`.\n",
    "\n",
    "*Note: because this question is multiple choice, it will not tell you whether or not you got the right answer.*\n"
   ]
  },
  {
   "cell_type": "code",
   "execution_count": null,
   "id": "e3709a2d",
   "metadata": {
    "tags": []
   },
   "outputs": [],
   "source": [
    "q2.answer <- '...'"
   ]
  },
  {
   "cell_type": "markdown",
   "id": "b5afea4d",
   "metadata": {},
   "source": [
    "---\n",
    "\n",
    "The $p$-value you calculated in Question 1 was:"
   ]
  },
  {
   "cell_type": "code",
   "execution_count": null,
   "id": "4c649260",
   "metadata": {
    "editable": false
   },
   "outputs": [],
   "source": [
    "mail_dim$p.value"
   ]
  },
  {
   "cell_type": "markdown",
   "id": "778db0e8",
   "metadata": {
    "deletable": false,
    "editable": false
   },
   "source": [
    "<!-- BEGIN QUESTION -->\n",
    "\n",
    "**<span style=\"color:blue\"> Question 3. In your own words, what does this $p$-value mean? (1.5 points) </span>**\n",
    "\n",
    "*Note: your GSI will only mark the first 60 words to your answer.*\n"
   ]
  },
  {
   "cell_type": "markdown",
   "id": "b7e13103",
   "metadata": {},
   "source": [
    "_Type your answer here, replacing this text._"
   ]
  },
  {
   "cell_type": "markdown",
   "id": "499b997d",
   "metadata": {
    "deletable": false,
    "editable": false
   },
   "source": [
    "<!-- END QUESTION -->\n",
    "\n",
    "---\n",
    "\n",
    "Again, the $p$-value you calculated in Question 1 was:"
   ]
  },
  {
   "cell_type": "code",
   "execution_count": null,
   "id": "c2f3260a",
   "metadata": {
    "editable": false
   },
   "outputs": [],
   "source": [
    "mail_dim$p.value"
   ]
  },
  {
   "cell_type": "markdown",
   "id": "6cf01a9e",
   "metadata": {
    "deletable": false,
    "editable": false
   },
   "source": [
    "**<span style=\"color:blue\"> Question 4a. `TRUE` or `FALSE`? This $p$-value is considered \"statistically significant.\" (0.5 point) </span>**\n",
    "\n",
    "Enter `TRUE` or `FALSE` below.\n",
    "\n",
    "(This must be in all caps with no quotes. E.g., to answer `TRUE`, type `q4a.answer <- TRUE`.)\n",
    "\n",
    "*Note: because this question is multiple choice, it will not tell you whether or not you got the right answer.*\n"
   ]
  },
  {
   "cell_type": "code",
   "execution_count": null,
   "id": "2d0cd40e",
   "metadata": {
    "tags": []
   },
   "outputs": [],
   "source": [
    "q4a.answer <- NULL # YOUR CODE HERE"
   ]
  },
  {
   "cell_type": "markdown",
   "id": "3a7fbc96",
   "metadata": {
    "deletable": false,
    "editable": false
   },
   "source": [
    "**<span style=\"color:blue\"> Question 4b. How should we interpret your conclusion in Question 4a? (1 point) </span>**\n",
    "\n",
    "- `'a'`: The \"gentle\" social pressure mail increased voter turnout.\n",
    "- `'b'`: The \"gentle\" social pressure mail did not increase voter turnout.\n",
    "- `'c'`: There is some evidence that the \"gentle\" social pressure mail increased voter turnout, but a skeptic could still point out that it's still relatively plausible we would see estimates this big even if the mail had no effect.\n",
    "- `'d'`: Our evidence that the \"gentle\" social pressure mail increased voter turnout is strong enough that, by convention, we conclude that it probably did have an effect (even if this isn't 100% proven).\n",
    "- `'e'`: We did not learn anything at all from this experiment.\n",
    "\n",
    "Enter your answer between quotes. For example, if you wanted to answer `'a'`, you would type `q2.answer <- 'a'`.\n",
    "\n",
    "*Note: because this question is multiple choice, it will not tell you whether or not you got the right answer.*\n"
   ]
  },
  {
   "cell_type": "code",
   "execution_count": null,
   "id": "36f3b79a",
   "metadata": {
    "tags": []
   },
   "outputs": [],
   "source": [
    "q4b.answer <- '...'"
   ]
  },
  {
   "cell_type": "markdown",
   "id": "57ed4a89",
   "metadata": {
    "deletable": false,
    "editable": false
   },
   "source": [
    "----\n",
    "\n",
    "Next, let's take a look at the 95% confidence interval on the effects of this mailer.\n",
    "\n",
    "**<span style=\"color:blue\"> Question 5. What are the lower and upper bounds (that is, bottom and top) of the 95% confidence interval? Extract these from `mail_dim` (which you calculated in Question 1) using the `$` command, and save them in `treatment_effect_CI_upper_end` (for the top/upper end) and `treatment_effect_CI_lower_end` (for the bottom/lower end). (2 points) </span>**\n"
   ]
  },
  {
   "cell_type": "code",
   "execution_count": null,
   "id": "47320de1",
   "metadata": {
    "scrolled": true,
    "tags": []
   },
   "outputs": [],
   "source": [
    "# Replace \"NULL # YOUR CODE HERE\" with your code.\n",
    "# (This cell won't print anything. Run the cells below to see your answers.)\n",
    "treatment_effect_CI_lower_end <- NULL # YOUR CODE HERE\n",
    "treatment_effect_CI_upper_end <- NULL # YOUR CODE HERE"
   ]
  },
  {
   "cell_type": "code",
   "execution_count": null,
   "id": "2d16ecd5",
   "metadata": {
    "deletable": false,
    "editable": false
   },
   "outputs": [],
   "source": [
    ". = ottr::check(\"tests/q5.R\")"
   ]
  },
  {
   "cell_type": "code",
   "execution_count": null,
   "id": "706c89b3",
   "metadata": {
    "scrolled": true
   },
   "outputs": [],
   "source": [
    "# Run this to see what is in `treatment_effect_CI_upper_end`\n",
    "treatment_effect_CI_upper_end"
   ]
  },
  {
   "cell_type": "code",
   "execution_count": null,
   "id": "6f895a76",
   "metadata": {
    "scrolled": true
   },
   "outputs": [],
   "source": [
    "# Run this to see what is in `treatment_effect_CI_lower_end`\n",
    "treatment_effect_CI_lower_end"
   ]
  },
  {
   "cell_type": "markdown",
   "id": "39dd11db",
   "metadata": {
    "deletable": false,
    "editable": false
   },
   "source": [
    "<!-- BEGIN QUESTION -->\n",
    "\n",
    "------\n",
    "\n",
    "**<span style=\"color:blue\"> Question 6. Provide an interpretation for the confidence interval that you just found in Question 5. (1.5 pts) </span>**\n",
    "\n",
    "*Note: your GSI will only mark the first 60 words to your answer.*\n",
    "\n"
   ]
  },
  {
   "cell_type": "markdown",
   "id": "55b8124e",
   "metadata": {},
   "source": [
    "_Type your answer here, replacing this text._"
   ]
  },
  {
   "cell_type": "markdown",
   "id": "9e2373ce",
   "metadata": {
    "deletable": false,
    "editable": false
   },
   "source": [
    "<!-- END QUESTION -->\n",
    "\n",
    "------\n",
    "\n",
    "**<span style=\"color:blue\"> Question 7. `TRUE` or `FALSE`? If the standard error of this study were lower, the confidence interval would be narrower (i.e., the distance/difference between the two ends of the confidence interval would be smaller). (1 point) </span>**\n",
    "\n",
    "Enter `TRUE` or `FALSE` below.\n",
    "\n",
    "(This must be in all caps with no quotes. E.g., to answer `TRUE`, type `q7.answer <- TRUE`.)\n"
   ]
  },
  {
   "cell_type": "code",
   "execution_count": null,
   "id": "0c60cb88",
   "metadata": {
    "tags": []
   },
   "outputs": [],
   "source": [
    "q7.answer <- NULL # YOUR CODE HERE"
   ]
  },
  {
   "cell_type": "markdown",
   "id": "ad00b280",
   "metadata": {},
   "source": [
    "-----\n",
    "\n",
    "### Helping your group member run for office\n",
    "\n",
    "After graduation, one of your POL SCI 3 group members decides to run for Berkeley City Council. Remembering how helpful you were during group meetings, they hire you to be their campaign manager. They also remember the mailers we studied in this problem set. They decide to send mailers like this out to 10,000 of their supporters in Berkeley: they are convinced that these mailers will be very effective at helping them turn out their supporters and win their election. They ask you to take a look at the data from the experiment to understand the **maximum** plausible number of voters the mailers might turn out if they send them to 10,000 people.\n",
    "\n",
    "Earlier, you found that the top of the 95% confidence interval is:"
   ]
  },
  {
   "cell_type": "code",
   "execution_count": null,
   "id": "467ee43d",
   "metadata": {},
   "outputs": [],
   "source": [
    "treatment_effect_CI_upper_end"
   ]
  },
  {
   "cell_type": "markdown",
   "id": "349d21a4",
   "metadata": {
    "deletable": false,
    "editable": false
   },
   "source": [
    "Use `treatment_effect_CI_upper_end` to answer this question:\n",
    "\n",
    "**Question 8. If these mailers were sent to 10,000 voters, what is the maximum plausible number of voters that they might turn out to vote? (1 point)**\n"
   ]
  },
  {
   "cell_type": "code",
   "execution_count": null,
   "id": "05a5e99d",
   "metadata": {
    "tags": []
   },
   "outputs": [],
   "source": [
    "max.plausible.voters.turned.out <- NULL # YOUR CODE HERE\n",
    "max.plausible.voters.turned.out # Let's look at the results."
   ]
  },
  {
   "cell_type": "code",
   "execution_count": null,
   "id": "dd8bf481",
   "metadata": {
    "deletable": false,
    "editable": false
   },
   "outputs": [],
   "source": [
    ". = ottr::check(\"tests/q8.R\")"
   ]
  },
  {
   "cell_type": "markdown",
   "id": "5487d926",
   "metadata": {},
   "source": [
    "------\n",
    "\n",
    "Worried that the effects of social pressure mail might be different in Berkeley than elsewhere, your former group member (who is running for office) decides that the campaign will conduct its own experiment on this mail. In partiuclar, the campaign will randomly assign voters in Berkeley to a control group or to a group that receives the \"gentle\" social pressure mail.\n",
    "\n",
    "Your former group member asks you to determine how precise the new experiment they want to conduct will be -- that is, how large the standard error of the campaign's experiment will be.\n",
    "\n",
    "This is how many voters were included in the original \"gentle\" experiment we analyzed above:"
   ]
  },
  {
   "cell_type": "code",
   "execution_count": null,
   "id": "5dff1e9e",
   "metadata": {},
   "outputs": [],
   "source": [
    "nrow(data) # This tells you how many observations are in the dataset."
   ]
  },
  {
   "cell_type": "markdown",
   "id": "32dc247c",
   "metadata": {
    "deletable": false,
    "editable": false
   },
   "source": [
    "Due to campaign budget limitations, the size of this new experiment will be half the size of the original study; i.e., the sample size will be 14,861 voters.\n",
    "\n",
    "**<span style=\"color:blue\"> Question 9. Assuming _all_ other features of the experiments and their data are the same, how would the standard error of the study change if the sample size were cut in half (from 29,722 voters to 14,861 voters)? (1 point) </span>**\n",
    "\n",
    "- `'a'`: The standard error will decrease by a factor of 2 (i.e., be cut in half).\n",
    "- `'b'`: The standard error will decrease by a factor of $\\sqrt{\\frac{1}{2}}$.\n",
    "- `'c'`: The standard error will increase by a factor of $\\sqrt{2}$.\n",
    "- `'d'`: The standard error will increase by a factor of 2 (i.e., double).\n",
    "- `'e'`: This question is impossible to answer; there's no way to know what the new standard error will be\n",
    "\n",
    "Enter your answer between quotes. For example, if you wanted to answer `'a'`, you would type `q9.answer <- 'a'`.\n",
    "\n",
    "*Note: because this question is multiple choice, it will not tell you whether or not you got the right answer.*\n"
   ]
  },
  {
   "cell_type": "code",
   "execution_count": null,
   "id": "6599c0c5",
   "metadata": {
    "tags": []
   },
   "outputs": [],
   "source": [
    "q9.answer <- '...'"
   ]
  },
  {
   "cell_type": "markdown",
   "id": "ce4141fa",
   "metadata": {
    "deletable": false,
    "editable": false
   },
   "source": [
    "-----\n",
    "\n",
    "### Answering common questions non-specialists ask about experiments\n",
    "\n",
    "**Question 10. Use the `difference_in_means()` function to estimate how much more likely voters in the treatment group are to be female than voters in the control group. (1 point)**\n",
    "\n",
    "*Hint: You can do this by using the exact same approach as you did in Question 1, except instead of estimate the effect of the treatment on voter turnout, estimate the \"effect\" of the treatment on the `female` variable. That is, make the `female` variable the outcome.*\n"
   ]
  },
  {
   "cell_type": "code",
   "execution_count": null,
   "id": "44b30087",
   "metadata": {
    "tags": []
   },
   "outputs": [],
   "source": [
    "female_dim <- NULL # YOUR CODE HERE\n",
    "\n",
    "female_dim # Look at the results."
   ]
  },
  {
   "cell_type": "code",
   "execution_count": null,
   "id": "8b4e43fb",
   "metadata": {
    "deletable": false,
    "editable": false
   },
   "outputs": [],
   "source": [
    ". = ottr::check(\"tests/q10.R\")"
   ]
  },
  {
   "cell_type": "markdown",
   "id": "411aa546",
   "metadata": {
    "deletable": false,
    "editable": false
   },
   "source": [
    "<!-- BEGIN QUESTION -->\n",
    "\n",
    "-----\n",
    "\n",
    "After graduation, you get a job at a think tank that is writing a report on ways to improve voter turnout in the United States. Your boss looks at the results of the experiment and sees what you found in Question 11 -- namely, that the group that was randomly assigned to be sent the mail was slightly less likely to be female than the control group.\n",
    "\n",
    "Your boss has never taken a statistics class, and writes you this email:\n",
    "\n",
    "> It seems like we should ignore the results of this study, because the experimental groups aren't identical; the group sent the mail was less likely to be female. Shouldn't we expect the two groups in an experiment to be completely identical if the experiment was done correctly? Is the study taking account of the fact that the groups might differ?\n",
    "\n",
    "**Question 11. Respond to your boss in language they will understand. In particular: explain why or why not the results you found in Question 10 indicate a problem with the experiment / call into question the results of the experiment. (1 point)**\n"
   ]
  },
  {
   "cell_type": "markdown",
   "id": "7d4cc276",
   "metadata": {},
   "source": [
    "_Type your answer here, replacing this text._"
   ]
  },
  {
   "cell_type": "markdown",
   "id": "c0fb0cac",
   "metadata": {
    "deletable": false,
    "editable": false
   },
   "source": [
    "<!-- END QUESTION -->\n",
    "\n",
    "----\n",
    "\n",
    "# Submitting Your Notebook (please read carefully!)\n",
    "\n",
    "To submit your notebook...\n",
    "\n",
    "### 1. Click `File` $\\rightarrow$ `Save Notebook`.\n",
    "\n",
    "### 2. Wait 5 seconds.\n",
    "\n",
    "### 3. Select the cell below and hit run."
   ]
  },
  {
   "cell_type": "code",
   "execution_count": null,
   "id": "29377414-36af-49c3-aa7c-b78745ca91e2",
   "metadata": {},
   "outputs": [],
   "source": [
    "ottr::export(\"ProblemSet2.ipynb\")"
   ]
  },
  {
   "cell_type": "markdown",
   "id": "dc7bc66e-38e0-425a-bbca-cdb8196f41c5",
   "metadata": {},
   "source": [
    "After you hit \"Run\" on the cell above, click the download link. A .zip file should download to your computer.\n",
    "\n",
    "(If you make changes to your notebook, you'll need to hit save and then run the cell above again before you submit to get a new version of it.)\n",
    "\n",
    "### 4. Submit the .zip file you just downloaded <a href=\"https://www.gradescope.com/\" target=\"_blank\">on Gradescope here</a>.\n",
    "\n",
    "Notes:\n",
    "\n",
    "- **This does not seem to work on Chrome for iPad or iPhone.** If you're using an iPad or iPhone, you need to download the file using **Safari**.\n",
    "- If your web browser automatically unzips the .zip file (so you see a folder instead of a .zip file), you can just upload the .ipynb file that is inside the folder.\n",
    "- If this method is not working for you, try this: hit `File`, then `Download as`, then `Notebook (.ipynb)` and submit that."
   ]
  }
 ],
 "metadata": {
  "kernelspec": {
   "display_name": "R",
   "language": "R",
   "name": "ir"
  },
  "language_info": {
   "codemirror_mode": "r",
   "file_extension": ".r",
   "mimetype": "text/x-r-source",
   "name": "R",
   "pygments_lexer": "r",
   "version": "4.3.2"
  },
  "latex_envs": {
   "LaTeX_envs_menu_present": true,
   "autoclose": false,
   "autocomplete": true,
   "bibliofile": "biblio.bib",
   "cite_by": "apalike",
   "current_citInitial": 1,
   "eqLabelWithNumbers": true,
   "eqNumInitial": 1,
   "hotkeys": {
    "equation": "Ctrl-E",
    "itemize": "Ctrl-I"
   },
   "labels_anchors": false,
   "latex_user_defs": false,
   "report_style_numbering": false,
   "user_envs_cfg": false
  }
 },
 "nbformat": 4,
 "nbformat_minor": 5
}
