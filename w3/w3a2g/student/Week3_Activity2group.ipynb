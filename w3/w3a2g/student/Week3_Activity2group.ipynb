{
 "cells": [
  {
   "cell_type": "markdown",
   "metadata": {},
   "source": [
    "# POLSCI 3\n",
    "\n",
    "## Week 3, Activity 2: Correlation is not Causation"
   ]
  },
  {
   "cell_type": "markdown",
   "metadata": {},
   "source": [
    "As always, we can start by loading in our data. We are going to continue to work with the happiness dataset."
   ]
  },
  {
   "cell_type": "code",
   "execution_count": null,
   "metadata": {
    "editable": false
   },
   "outputs": [],
   "source": [
    "#RUN THIS CELL\n",
    "library(testthat)\n",
    "library(ottr)\n",
    "\n",
    "happiness_data <- read.csv('happiness_polity_2018.csv')\n",
    "head(happiness_data)"
   ]
  },
  {
   "cell_type": "markdown",
   "metadata": {},
   "source": [
    "Once again, here's the codebook:\n",
    "\n",
    "- <code>polity2</code>: The \"Polity Score\" of the country, which measures its political system on a 21-pont scale ranging from -10 (hereditary monarchy) to +10 (consolidated democracy).\n",
    "- <code>polity2_cat</code>: The political category the country is identified within. \"autocracies\" are on one end of the spectrum, \"anocracies\" are in the middle (semi-democracies), and \"democracies\" are at the top of the spectrum.\n",
    "- <code>gdpcapita</code>: GDP per Capita (economic output per person)\n",
    "- <code>gdpcapita_cat</code>: GDP/income category that the country falls into (based on GDP per capita)\n",
    "- <code>happiness</code>: The country's happiness index, measured through surveys that require participants to rank their level of happiness based on an assortment of quality-of-life factors\n",
    "- <code>happiness_cat</code>: Happiness category that the country falls into (based on happpiness indicator)\n",
    "- <code>life_expectancy</code>: Average life expectancy in years\n",
    "- <code>life_expectancy_cat</code>: Life Expectancy category that the country falls into"
   ]
  },
  {
   "cell_type": "markdown",
   "metadata": {
    "deletable": false,
    "editable": false
   },
   "source": [
    "-----\n",
    "\n",
    "**Question 1.** Create a two-way table that shows the relationship between GDP category and political category (respectively) of the countries in the data.\n"
   ]
  },
  {
   "cell_type": "code",
   "execution_count": null,
   "metadata": {
    "tags": []
   },
   "outputs": [],
   "source": [
    "q1Table <- NULL # YOUR CODE HERE\n",
    "q1Table"
   ]
  },
  {
   "cell_type": "code",
   "execution_count": null,
   "metadata": {
    "deletable": false,
    "editable": false
   },
   "outputs": [],
   "source": [
    ". = ottr::check(\"tests/q1.R\")"
   ]
  },
  {
   "cell_type": "markdown",
   "metadata": {
    "deletable": false,
    "editable": false
   },
   "source": [
    "<!-- BEGIN QUESTION -->\n",
    "\n",
    "-----\n",
    "\n",
    "**Question 2.** Someone tells you that they have a theory this table supports: that GDP (a measure of how wealthy an economy is) *causes* countries to become more democratic. Respond to them with an argument that points out that this might not be true, because **reverse causation** might be possible.\n",
    "\n",
    "**Please limit your answer to between 1-3 sentences.**\n"
   ]
  },
  {
   "cell_type": "markdown",
   "metadata": {},
   "source": [
    "_Type your answer here, replacing this text._"
   ]
  },
  {
   "cell_type": "markdown",
   "metadata": {
    "deletable": false,
    "editable": false
   },
   "source": [
    "<!-- END QUESTION -->\n",
    "\n",
    "-----\n",
    "\n",
    "**Question 3.** Create a two way table that depicts the relationship between happiness category and political category of the countries in the data.\n"
   ]
  },
  {
   "cell_type": "code",
   "execution_count": null,
   "metadata": {
    "tags": []
   },
   "outputs": [],
   "source": [
    "q3Table <- NULL # YOUR CODE HERE\n",
    "q3Table"
   ]
  },
  {
   "cell_type": "code",
   "execution_count": null,
   "metadata": {
    "deletable": false,
    "editable": false
   },
   "outputs": [],
   "source": [
    ". = ottr::check(\"tests/q3.R\")"
   ]
  },
  {
   "cell_type": "markdown",
   "metadata": {
    "deletable": false,
    "editable": false
   },
   "source": [
    "<!-- BEGIN QUESTION -->\n",
    "\n",
    "-----\n",
    "\n",
    "**Question 4.** The table you made shows that a country's happiness is related to how democratic its political system is.\n",
    "\n",
    "Suppose you read a study that shows this table and argues that the table supports a theory that having a democratic political system causes people to be happier.\n",
    "\n",
    "Tell a story about why this correlation might not be causal because of **omitted variable bias**.\n",
    "\n",
    "You should both a) name a specific third variable and b) tell a story about how it could lead to the data looking like what you saw in Question 3 *even if there was no causal relationship between democratic political systems and happiness*. (This third variable does *not* need to be a variable in the dataset.)\n",
    "\n",
    "**Please limit your answer to between 2-4 sentences.**\n"
   ]
  },
  {
   "cell_type": "markdown",
   "metadata": {},
   "source": [
    "_Type your answer here, replacing this text._"
   ]
  },
  {
   "cell_type": "markdown",
   "metadata": {
    "deletable": false,
    "editable": false
   },
   "source": [
    "<!-- END QUESTION -->\n",
    "\n",
    "----\n",
    "\n",
    "**The next two questions will *not* tell you whether you got the answer correct or not.**\n",
    "\n",
    "**Question 5.** In a survey, an empirical pattern was found that those who report reading more self-help books per month are less happy. Consider the following claim: This supports the hypothesis that reading self-help books causes people to be less happy.\n",
    "\n",
    "**Which one of the following explanations would _NOT_ undermine the above hypothesis (that is, represent an alternative explanation for the empirical pattern observed)?**\n",
    "\n",
    "*Hint: Think about whether each is an example of either reverse causation or omitted variable bias.*\n",
    "\n",
    "- `a`: Individuals who frequently go to bookstores selling self-help books buy more of them, and those who frequent bookstores selling self-help books also tend to be less happy to begin with\n",
    "- `b`: When individuals become less happy, they read more self-help books to make themselves feel better\n",
    "- `c`: Reading self-help books causes individuals to have less time to actually work on self-care, which causes them to become less happy\n",
    "- `d`: Newlywed couples are more likely to be recommended to read self-help books, and they are also less happy due to (fresh) marital discord\n",
    "\n",
    "Replace the `...` below with your answer. For example, to answer `a`, the below would read `q5.answer <- 'a'`.\n"
   ]
  },
  {
   "cell_type": "code",
   "execution_count": null,
   "metadata": {
    "tags": []
   },
   "outputs": [],
   "source": [
    "q5.answer <- '...'"
   ]
  },
  {
   "cell_type": "markdown",
   "metadata": {
    "deletable": false,
    "editable": false
   },
   "source": [
    "-----\n",
    "\n",
    "**Question 6.** Consider the following scenario: In an election townhall, a candidate decides on how loudly to speak based on how much the audience is clapping. She wants to be sure the audience can hear her over the sound of the applause, so when the audience claps she speaks more loudly.\n",
    "\n",
    "An outside observer watching the speech is thinking of running for office and wants to know how to get people to clap for them. They notice that there is a relationship between the volume of the candidate's voice and the amount of applause she receives during the speech. The outside observer concludes that this must be because the candidate speaking loudly causes the audience to applause more.\n",
    "\n",
    "**In the scenario as described (i.e., the two sentences following \"Consider the following scenario\"), which of the following biases is undermining the observer's conclusion?**\n",
    "\n",
    "- `a`: Omitted variable bias\n",
    "- `b`: Reverse causality\n",
    "- `c`: Both omitted variable bias and reverse causality\n",
    "- `d`: Neither omitted variable bias nor reverse causality\n",
    "\n",
    "Replace the `...` below with your answer. For example, to answer `a`, the below would read `q6.answer <- 'a'`.\n"
   ]
  },
  {
   "cell_type": "code",
   "execution_count": null,
   "metadata": {
    "tags": []
   },
   "outputs": [],
   "source": [
    "q6.answer <- '...'"
   ]
  },
  {
   "cell_type": "markdown",
   "metadata": {},
   "source": [
    "------"
   ]
  },
  {
   "cell_type": "markdown",
   "metadata": {
    "deletable": false,
    "editable": false
   },
   "source": [
    "## Submission\n",
    "\n",
    "Make sure you have run all cells in your notebook in order before running the cell below, so that all images/graphs appear in the output. The cell below will generate a zip file for you to submit."
   ]
  },
  {
   "cell_type": "code",
   "execution_count": null,
   "metadata": {
    "deletable": false,
    "editable": false
   },
   "outputs": [],
   "source": [
    "ottr::export(\"Week3_Activity2group.ipynb\", pdf = TRUE, force_save = TRUE)"
   ]
  },
  {
   "cell_type": "markdown",
   "metadata": {},
   "source": [
    " "
   ]
  }
 ],
 "metadata": {
  "kernelspec": {
   "display_name": "R",
   "language": "R",
   "name": "ir"
  },
  "language_info": {
   "codemirror_mode": "r",
   "file_extension": ".r",
   "mimetype": "text/x-r-source",
   "name": "R",
   "pygments_lexer": "r",
   "version": "4.3.1"
  },
  "latex_envs": {
   "LaTeX_envs_menu_present": true,
   "autoclose": false,
   "autocomplete": true,
   "bibliofile": "biblio.bib",
   "cite_by": "apalike",
   "current_citInitial": 1,
   "eqLabelWithNumbers": true,
   "eqNumInitial": 1,
   "hotkeys": {
    "equation": "Ctrl-E",
    "itemize": "Ctrl-I"
   },
   "labels_anchors": false,
   "latex_user_defs": false,
   "report_style_numbering": false,
   "user_envs_cfg": false
  }
 },
 "nbformat": 4,
 "nbformat_minor": 2
}
