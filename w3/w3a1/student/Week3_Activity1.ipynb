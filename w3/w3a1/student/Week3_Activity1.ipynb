{
 "cells": [
  {
   "cell_type": "markdown",
   "metadata": {},
   "source": [
    "# POLSCI 3\n",
    "\n",
    "## Week 3, Activity 1\n",
    "\n",
    "In this activity, you are going to practice creating one-way and two-way tables on your own in R using the same happiness dataset from lecture.\n",
    "\n",
    "Let's start by loading in the dataset!"
   ]
  },
  {
   "cell_type": "code",
   "execution_count": null,
   "metadata": {
    "editable": false
   },
   "outputs": [],
   "source": [
    "# RUN THIS CELL\n",
    "library(testthat)\n",
    "library(ottr)\n",
    "\n",
    "happiness_data <- read.csv('happiness_polity_2018.csv')\n",
    "head(happiness_data)"
   ]
  },
  {
   "cell_type": "markdown",
   "metadata": {},
   "source": [
    "Once again, this dataset contains data from world countries in terms of factors such as happiness levels, political categories, and demographic information. Here's a quick breakdown of what each of these columns represents:\n",
    "\n",
    "- <code>polity2</code>: The \"Polity Score\" of the country, which measures its political system on a 21-pont scale ranging from -10 (hereditary monarchy) to +10 (consolidated democracy).\n",
    "- <code>polity2_cat</code>: The political category the country is identified within. \"autocracies\" are on one end of the spectrum, \"anocracies\" are in the middle (semi-democracies), and \"democracies\" are at the top of the spectrum.\n",
    "- <code>gdpcapita</code>: GDP per Capita (economic output per person)\n",
    "- <code>gdpcapita_cat</code>: GDP/income category that the country falls into (based on GDP per capita)\n",
    "- <code>happiness</code>: The country's happiness index, measured through surveys that require participants to rank their level of happiness based on an assortment of quality-of-life factors\n",
    "- <code>happiness_cat</code>: Happiness category that the country falls into (based on happpiness indicator)\n",
    "- <code>life_expectancy</code>: Average life expectancy in years\n",
    "- <code>life_expectancy_cat</code>: Life Expectancy category that the country falls into"
   ]
  },
  {
   "cell_type": "markdown",
   "metadata": {
    "deletable": false,
    "editable": false
   },
   "source": [
    "------\n",
    "\n",
    "**Question 1.** Out of all of the countries in the `happiness_data` dataset, how many fall within each happiness category (`happiness_cat`)? Create a one-way table to answer this question. (Hint: use the `table()` function you saw in lecture.)\n"
   ]
  },
  {
   "cell_type": "code",
   "execution_count": null,
   "metadata": {
    "tags": []
   },
   "outputs": [],
   "source": [
    "happiness.table <- NULL # YOUR CODE HERE\n",
    "happiness.table"
   ]
  },
  {
   "cell_type": "markdown",
   "metadata": {},
   "source": [
    "**NOTE: BECAUSE THIS IS AN INDIVIDUAL ASSIGNMENT THE `ottr` CELL ABOVE WILL NOT OUTPUT ANYTHING WHEN YOU RUN IT.**"
   ]
  },
  {
   "cell_type": "markdown",
   "metadata": {
    "deletable": false,
    "editable": false
   },
   "source": [
    "------\n",
    "\n",
    "**Question 2.** In the previous question, you looked at the happiness categories overall. Next, let's look at happiness in the countries classified as low-income. For countries classifed as low-income, **how many** fall within each happiness category?\n",
    "\n",
    "On the first line below, subset the data to cases when the `happiness_data` column called `gdpcapita_cat` equals \"low-income\". The code below will save this subset in `low.income.countries`.\n",
    "\n",
    "Then, on the second line, create a one-way table of the `happiness_cat` variable within the `low.income.countries` dataset and store it in the `low.income.happiness.table` variable.\n",
    "\n",
    "The last line will then print the table.\n"
   ]
  },
  {
   "cell_type": "code",
   "execution_count": null,
   "metadata": {
    "tags": []
   },
   "outputs": [],
   "source": [
    "low.income.countries <- subset(happiness_data, ...)\n",
    "low.income.happiness.table <- table(...)\n",
    "low.income.happiness.table"
   ]
  },
  {
   "cell_type": "markdown",
   "metadata": {
    "deletable": false,
    "editable": false
   },
   "source": [
    "------\n",
    "\n",
    "**Question 3.** Suppose we want to see if there is any relationship between happiness level and average life expectancy across all countries. (Do this across **all** countries, not just low-income countries.)\n",
    "\n",
    "To investigate whether there is a relationship, create a two-way table using the `happiness_cat` and `life_expectancy_cat` variables (in that order, putting `happiness_cat` along the rows and `life_expectancy_cat` along the columns). (Hint: use `table()`.)\n",
    " "
   ]
  },
  {
   "cell_type": "code",
   "execution_count": null,
   "metadata": {
    "tags": []
   },
   "outputs": [],
   "source": [
    "q3Table <- NULL # YOUR CODE HERE\n",
    "q3Table"
   ]
  },
  {
   "cell_type": "markdown",
   "metadata": {},
   "source": [
    "Interesting! Do you see a distinguishable pattern among countries' happiness category and life expectancy category? (No need to answer this, just something to think about!)"
   ]
  },
  {
   "cell_type": "markdown",
   "metadata": {
    "deletable": false,
    "editable": false
   },
   "source": [
    "-------\n",
    "\n",
    "**Question 4.** One of the most fun parts of learning how to use R is that you can explore data on your own.\n",
    "\n",
    "Below, make a two-way table between *any* two categorical variables in `happiness_data`. (These are `polity2_cat`, `gdpcapita_cat`, `happiness_cat`, and `life_expectancy_cat`.)\n"
   ]
  },
  {
   "cell_type": "code",
   "execution_count": null,
   "metadata": {
    "tags": []
   },
   "outputs": [],
   "source": [
    "my.table.idea <- NULL # YOUR CODE HERE\n",
    "my.table.idea"
   ]
  },
  {
   "cell_type": "markdown",
   "metadata": {},
   "source": [
    "At the end of class, if there is time, I will ask a few people to say what tables they made and what they learned from them."
   ]
  },
  {
   "cell_type": "markdown",
   "metadata": {},
   "source": [
    "------"
   ]
  },
  {
   "cell_type": "markdown",
   "metadata": {
    "deletable": false,
    "editable": false
   },
   "source": [
    "## Submission\n",
    "\n",
    "Make sure you have run all cells in your notebook in order before running the cell below, so that all images/graphs appear in the output. The cell below will generate a zip file for you to submit."
   ]
  },
  {
   "cell_type": "code",
   "execution_count": null,
   "metadata": {
    "deletable": false,
    "editable": false
   },
   "outputs": [],
   "source": [
    "ottr::export(\"Week3_Activity1.ipynb\", pdf = TRUE, force_save = TRUE)"
   ]
  },
  {
   "cell_type": "markdown",
   "metadata": {},
   "source": [
    " "
   ]
  }
 ],
 "metadata": {
  "kernelspec": {
   "display_name": "R",
   "language": "R",
   "name": "ir"
  },
  "language_info": {
   "codemirror_mode": "r",
   "file_extension": ".r",
   "mimetype": "text/x-r-source",
   "name": "R",
   "pygments_lexer": "r",
   "version": "4.3.1"
  },
  "latex_envs": {
   "LaTeX_envs_menu_present": true,
   "autoclose": false,
   "autocomplete": true,
   "bibliofile": "biblio.bib",
   "cite_by": "apalike",
   "current_citInitial": 1,
   "eqLabelWithNumbers": true,
   "eqNumInitial": 1,
   "hotkeys": {
    "equation": "Ctrl-E",
    "itemize": "Ctrl-I"
   },
   "labels_anchors": false,
   "latex_user_defs": false,
   "report_style_numbering": false,
   "user_envs_cfg": false
  }
 },
 "nbformat": 4,
 "nbformat_minor": 2
}
