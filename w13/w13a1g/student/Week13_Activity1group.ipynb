{
 "cells": [
  {
   "cell_type": "markdown",
   "id": "23e52cbd",
   "metadata": {
    "tags": [
     "include"
    ]
   },
   "source": [
    "# POLSCI 3\n",
    "\n",
    "## Week 13, Activity 1: Natural Experiments"
   ]
  },
  {
   "cell_type": "code",
   "execution_count": null,
   "id": "8ff38537",
   "metadata": {},
   "outputs": [],
   "source": [
    "# RUN THIS CELL\n",
    "library(testthat)"
   ]
  },
  {
   "cell_type": "markdown",
   "id": "4c2b9041",
   "metadata": {},
   "source": [
    "Today we'll examine a study by UC Berkeley economist Kate Pennington, who studied the impact of building new housing  in San Francisco. San Francisco, like the entire Bay Area, faces a housing affordability crisis -- housing there is some of the most expensive in the entire world, and many people are displaced (i.e., forced to move out of) their homes due to high and still-rising rents.\n",
    "\n",
    "There is fierce debate over whether building new housing would help reduce rent and displacement or actually make them worse. Some argue that building new housing would help lower rents and reduce this displacement by increasing housing supply and making landlords compete for tenants. But others argue that new housing generally houses wealthier people, who will \"gentrify\" a neighborhood--e.g., bring in amenities that cater to wealthier people such as expensive restaurants and nice coffee shops, etc.--and thereby allow landlords to charge even more for people to live in the area."
   ]
  },
  {
   "cell_type": "markdown",
   "id": "8856d1df",
   "metadata": {},
   "source": [
    "-----\n",
    "\n",
    "In the past, many studies compared neighborhoods where new housing was being built and neighborhoods where new housing was not being built, and found that neighborhoods where new housing was being built had more expensive rent than other neighborhoods.\n",
    "\n",
    "**Question 1.** Imagine a friend who had not taken this class told you about such a study and said that it showed building new housing causes rent to be more expensive. Which of the following are a sensible critique(s) of **the study's methodology**?\n",
    "\n",
    "1. The study is not persuasive: since housing might be more likely to be built in neighborhoods that have higher rents to begin with, there may be reverse causality present.\n",
    "2. The study is not persuasive, because new housing being built increases the average quality of the rental market, which then leads to higher rent.\n",
    "\n",
    "- `'a'`: 1. only\n",
    "- `'b'`: 2. only\n",
    "- `'c'`: Both 1. and 2.\n",
    "- `'d'`: Neither 1. and 2.\n",
    "\n",
    "Enter your answer below between quotes. For example, if you wanted to answer 'a', your answer would look like: `q1.answer <- 'a'`.\n"
   ]
  },
  {
   "cell_type": "code",
   "execution_count": null,
   "id": "1351b864",
   "metadata": {
    "tags": []
   },
   "outputs": [],
   "source": [
    "q1.answer <- '...'"
   ]
  },
  {
   "cell_type": "markdown",
   "id": "f8415511",
   "metadata": {},
   "source": [
    "-----\n",
    "\n",
    "Several studies have used natural experiments to understand the effects of building housing. One is by Kate Pennington, a UC Berkeley economist.\n",
    "\n",
    "Kate Pennington relied on the following idea:\n",
    "\n",
    "> Serious fires increase the probability of construction on a burned [piece of land] relative to its unburned neighbors by lowering construction costs. I show that severe fires increase the probability of construction on the burned [piece of land] by a factor of 32 compared to unburned [pieces of land].\n",
    "\n",
    "In other words, Pennington proposes to understand the effects of new housing construction by taking advantage of the fact that fires, which occur essentially at random, \"randomly assign\" some pieces of land to be much more likely to have new home construction. The idea is this:\n",
    "\n",
    "$$\\text{Fire} \\rightarrow \\text{New Construction} \\rightarrow \\text{Nearby Rents}$$\n",
    "\n",
    "where we are really interested in the effects of new construction on nearby rents, and we use the fact that fires make new construction more likely to understand this.\n",
    "\n",
    "(I've left out some of the details for simplicity.)"
   ]
  },
  {
   "cell_type": "markdown",
   "id": "6278d378",
   "metadata": {},
   "source": [
    "-----\n",
    "\n",
    "**Question 2a.** In Pennington's study, what is the \"instrumental variable\"?\n",
    "\n",
    "- `'a'`: Fires\n",
    "- `'b'`: New construction\n",
    "- `'c'`: Nearby rents\n",
    "\n",
    "Enter your answer in `q2a.answer`. For example, to answer `'a'`, you would write, `q2a.answer <- 'a'`.\n",
    "\n",
    "_Note: this question will not tell you whether you got the right or wrong answer._\n"
   ]
  },
  {
   "cell_type": "code",
   "execution_count": null,
   "id": "25d39de5",
   "metadata": {
    "tags": []
   },
   "outputs": [],
   "source": [
    "q2a.answer <- '...'"
   ]
  },
  {
   "cell_type": "markdown",
   "id": "53531934",
   "metadata": {},
   "source": [
    "-----\n",
    "\n",
    "**Question 2b.** In Pennington's study, what is the \"treatment\" variable?\n",
    "\n",
    "- `'a'`: Fires\n",
    "- `'b'`: New construction\n",
    "- `'c'`: Nearby rents\n",
    "\n",
    "Enter your answer in `q2b.answer`. For example, to answer `'a'`, you would write, `q2b.answer <- 'a'`.\n",
    "\n",
    "_Note: this question will not tell you whether you got the right or wrong answer._\n"
   ]
  },
  {
   "cell_type": "code",
   "execution_count": null,
   "id": "735170ca",
   "metadata": {
    "tags": []
   },
   "outputs": [],
   "source": [
    "q2b.answer <- '...'"
   ]
  },
  {
   "cell_type": "markdown",
   "id": "5c90257f",
   "metadata": {},
   "source": [
    "-----\n",
    "\n",
    "**Question 3a.** In the context of Pennington's study, which of the following is an accurate description of what the \"exclusion restriction\" means?\n",
    "\n",
    "- `'a'`: Housing construction decreases nearby rents\n",
    "- `'b'`: Fires could only affect nearby rent by making housing construction more likely\n",
    "- `'c'`: Fires make housing construction more likely\n",
    "- `'d'`: Housing construction causes fires\n",
    "\n",
    "Enter your answer in `q3a.answer`. For example, to answer `'a'`, you would write, `q3a.answer <- 'a'`.\n",
    "\n",
    "_Note: this question will not tell you whether you got the right or wrong answer._\n"
   ]
  },
  {
   "cell_type": "code",
   "execution_count": null,
   "id": "51b60e84",
   "metadata": {
    "tags": []
   },
   "outputs": [],
   "source": [
    "q3a.answer <- '...'"
   ]
  },
  {
   "cell_type": "markdown",
   "id": "d0cee217",
   "metadata": {},
   "source": [
    "-----\n",
    "\n",
    "**Question 3b.** Which of the following examples would represent a violation of the exclusion restriction in Pennington's study?\n",
    "\n",
    "- `'a'`: When developers are building new homes, they often accidentally start fires\n",
    "- `'b'`: Housing construction decreases nearby rents because there are more homes available, so landlords have to compete for more tenants\n",
    "- `'c'`: Fires make nearby homes less pleasant to live in because the site of the fire becomes unpleasant to look at, thereby reducing nearby rents\n",
    "- `'d'`: When a building is burned by a fire, developers are more likely to develop new housing there over the next several years because the land is now vacant\n",
    "\n",
    "Enter your answer in `q3b.answer`. For example, to answer `'a'`, you would write, `q3b.answer <- 'a'`.\n",
    "\n",
    "_Note: this question will not tell you whether you got the right or wrong answer._\n"
   ]
  },
  {
   "cell_type": "code",
   "execution_count": null,
   "id": "0f99d53b",
   "metadata": {
    "tags": []
   },
   "outputs": [],
   "source": [
    "q3b.answer <- '...'"
   ]
  },
  {
   "cell_type": "markdown",
   "id": "7d595d5a",
   "metadata": {},
   "source": [
    "-----\n",
    "\n",
    "**Question 4.** To review:\n",
    "- Pennington's finding: in areas where fires occur, a) new housing is much more likely to be built, and b) nearby rents fall and displacement of people from their homes decreases.\n",
    "- Pennington conclusion: new housing construction reduces nearby rent and displacement.\n",
    "\n",
    "How does Pennington's finding (the first bullet) allow her to reach this conclusion (the second bullet)?\n",
    "\n",
    "- `'a'`: The construction of new housing represents a natural experiment where some places get housing and some don't; by comparing places with and without new housing, Pennington is able to estimate the causal effect of new housing on nearby rents and displacement\n",
    "- `'b'`: Examining areas where rents increase and decrease represents a natural experiment, because it is essentially random where rents go up and down, allowing us to compare whether there is more building and more fires in areas where rents increased instead of decreased\n",
    "- `'c'`: Pennington runs a regression predicting changes in rents with both fires and building, and finds there is still an effect of building even after controlling for the number of fires\n",
    "- `'d'`: Fires create a natural experiment where some places (those with nearby fires) are more likely to get new housing nearby than others, allowing Pennington to estimate the effect of new housing nearby by comparing places with nearby fires to places without nearby fires\n",
    "\n",
    "Enter your answer in `q4.answer`. For example, to answer `'a'`, you would write, `q4.answer <- 'a'`.\n",
    "\n",
    "_Note: this question will not tell you whether you got the right or wrong answer._\n"
   ]
  },
  {
   "cell_type": "code",
   "execution_count": null,
   "id": "e34734c1",
   "metadata": {
    "tags": []
   },
   "outputs": [],
   "source": [
    "q4.answer <- '...'"
   ]
  },
  {
   "cell_type": "markdown",
   "id": "8f7d0175",
   "metadata": {},
   "source": [
    "-----\n",
    "\n",
    "# Submitting Your Notebook (please read carefully!)\n",
    "\n",
    "To submit your notebook...\n",
    "\n",
    "### 1. Click `File` $\\rightarrow$ `Save and Checkpoint`.\n",
    "\n",
    "### 2. Wait 5 seconds.\n",
    "\n",
    "### 3. Select the cell below and hit run."
   ]
  },
  {
   "cell_type": "code",
   "execution_count": null,
   "id": "f129cb9f",
   "metadata": {},
   "outputs": [],
   "source": [
    "ottr::export(\"Week13_Activity1group.ipynb\")"
   ]
  },
  {
   "cell_type": "markdown",
   "id": "3ec37d35",
   "metadata": {},
   "source": [
    "After you hit \"Run\" on the cell above, wait for a moment (about 5 seconds), then click the download link. A .zip file should download to your computer.\n",
    "\n",
    "(If you make changes to your notebook, you'll need to hit save and then run the cell above again before you submit to get a new version of it.)\n",
    "\n",
    "### 4. Submit the .zip file you just downloaded <a href=\"https://www.gradescope.com/\" target=\"_blank\">on Gradescope here</a>.\n",
    "\n",
    "Notes:\n",
    "\n",
    "- **This does not seem to work on Chrome for iPad or iPhone.** If you're using an iPad or iPhone, you need to download the file using **Safari**.\n",
    "- If your web browser automatically unzips the .zip file (so you see a folder instead of a .zip file), you can just upload the .ipynb file that is inside the folder.\n",
    "- If this method is not working for you, try the \"old way\": hit `File`, then `Download as`, then `Notebook (.ipynb)` and submit that."
   ]
  }
 ],
 "metadata": {
  "kernelspec": {
   "display_name": "R",
   "language": "R",
   "name": "ir"
  },
  "language_info": {
   "codemirror_mode": "r",
   "file_extension": ".r",
   "mimetype": "text/x-r-source",
   "name": "R",
   "pygments_lexer": "r",
   "version": "4.1.2"
  },
  "latex_envs": {
   "LaTeX_envs_menu_present": true,
   "autoclose": false,
   "autocomplete": true,
   "bibliofile": "biblio.bib",
   "cite_by": "apalike",
   "current_citInitial": 1,
   "eqLabelWithNumbers": true,
   "eqNumInitial": 1,
   "hotkeys": {
    "equation": "Ctrl-E",
    "itemize": "Ctrl-I"
   },
   "labels_anchors": false,
   "latex_user_defs": false,
   "report_style_numbering": false,
   "user_envs_cfg": false
  }
 },
 "nbformat": 4,
 "nbformat_minor": 5
}
