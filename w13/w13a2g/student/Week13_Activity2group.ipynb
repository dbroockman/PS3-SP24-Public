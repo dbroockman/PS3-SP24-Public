{
 "cells": [
  {
   "cell_type": "markdown",
   "id": "4af5595f",
   "metadata": {
    "tags": [
     "include"
    ]
   },
   "source": [
    "# POLSCI 3\n",
    "\n",
    "## Week 13, Activity 2: Regression Discontinuity Designs"
   ]
  },
  {
   "cell_type": "markdown",
   "id": "9317869b",
   "metadata": {},
   "source": [
    "**Note: There is no individual assignment today. This is a group assignment.**"
   ]
  },
  {
   "cell_type": "code",
   "execution_count": null,
   "id": "6dcb6ccd",
   "metadata": {},
   "outputs": [],
   "source": [
    "# RUN THIS CELL\n",
    "library(testthat)"
   ]
  },
  {
   "cell_type": "markdown",
   "id": "8957c236",
   "metadata": {},
   "source": [
    "Today we will examine a study by Broockman (2014), who estimates the impact of electing women to political office on whether women who live in the districts they represent are more likely to vote in subsequent elections (the idea being that seeing a woman win an election in their area makes women feel empowered and therefore inspired to vote). As Broockman notes:\n",
    "\n",
    ">female candidacies and officeholding have long been argued both to increase political empowerment among women in the mass public, leading more women to vote"
   ]
  },
  {
   "cell_type": "markdown",
   "id": "a46b75a6",
   "metadata": {
    "deletable": false,
    "editable": false
   },
   "source": [
    "-----\n",
    "\n",
    "**Question 1.** Reflecting on previous research, Broockman writes:\n",
    "\n",
    "> As scholars do not yet fully understand the reasons why women are elected in the places that they are, [correlations] between women's elections and [female voter turnout] are difficult to convincingly tease apart because we cannot be sure that that all potentially confounding factors have been controlled for.\n",
    "\n",
    "Which of the following would be (an) example(s) of an alternative explanation that would lead \"correlations\" between female voter turnout and women winning elections to not accurately reflect the causal effect of women winning elections on female voter turnout?\n",
    "\n",
    "1. places where women are more likely to vote might be more likely to elect women to office in the first place\n",
    "2. places with more liberal social attitudes elect more women, and also causes women to vote more\n",
    "\n",
    "- `'a'`: 1. only\n",
    "- `'b'`: 2. only\n",
    "- `'c'`: Both 1. and 2.\n",
    "- `'d'`: Neither 1. nor 2.\n",
    "\n",
    "Enter your answer below between quotes. For example, if you wanted to answer 'a', your answer would look like: `q1.answer <- 'a'`.\n"
   ]
  },
  {
   "cell_type": "code",
   "execution_count": null,
   "id": "9420afff",
   "metadata": {
    "tags": []
   },
   "outputs": [],
   "source": [
    "q1.answer <- '...'"
   ]
  },
  {
   "cell_type": "markdown",
   "id": "889a0f94",
   "metadata": {
    "deletable": false,
    "editable": false
   },
   "source": [
    "<!-- BEGIN QUESTION -->\n",
    "\n",
    "-----\n",
    "\n",
    "Broockman describes his research design as follows:\n",
    "\n",
    "> I use the discontinuity at the 50% point in the vote share garnered by women running in contests against men to identify the causal effects of women's victories. That is, I compare subsequent patterns of [female voter turnout] in districts where women either “just won” and “just lost” elections against men to test whether other women are more likely to vote in subsequent elections when a woman has just won the previous election.\n",
    "\n",
    "**Question 2.** In your own words, describe why this research design is able to more convincingly isolate the effect of electing women on women's voter turnout in subsequent elections.\n"
   ]
  },
  {
   "cell_type": "markdown",
   "id": "33ce2c82",
   "metadata": {},
   "source": [
    "_Type your answer here, replacing this text._"
   ]
  },
  {
   "cell_type": "markdown",
   "id": "2743d14c",
   "metadata": {
    "deletable": false,
    "editable": false
   },
   "source": [
    "<!-- END QUESTION -->\n",
    "\n",
    "<!-- BEGIN QUESTION -->\n",
    "\n",
    "------\n",
    "\n",
    "Broockman finds that women are _not_ any more likely to vote after a woman just won instead of just lost a recent election. Here is the key graph from his study:\n",
    "\n",
    "<img src=\"femaleturnout_nextcycle.png\" width=\"38%\">\n",
    "\n",
    "-----\n",
    "\n",
    "**Question 3.** Thinking about the main problem that can ruin the ability of a regression discontinuity design to isolate causal effects:\n",
    "- give an example of how this could happen in this study, and\n",
    "- describe a check that Broockman could conduct to be sure this is not happening.\n"
   ]
  },
  {
   "cell_type": "markdown",
   "id": "80250f37",
   "metadata": {},
   "source": [
    "_Type your answer here, replacing this text._"
   ]
  },
  {
   "cell_type": "markdown",
   "id": "c85f1495",
   "metadata": {
    "deletable": false,
    "editable": false
   },
   "source": [
    "<!-- END QUESTION -->\n",
    "\n",
    "-----\n",
    "\n",
    "Broockman notes that:\n",
    "\n",
    ">the regression discontinuity approach also has the unique characteristic that it specifically [estimates] the effect of women's victories in very competitive races (i.e., those where a person of the opposite gender almost won).\n",
    "\n",
    "**Question 4.** In your own words, describe the limitation to Broockman's study that he is pointing out here.\n",
    "\n",
    "\n",
    "Which of the following is / are (a) limitation(s) of using the regression discontinuity approach in this case?\n",
    "\n",
    "1. It **cannot** estimate the effects of electing women against men in elections won or lost by a large margin.\n",
    "2. It **cannot** estimate the effects of electing women in close elections against men.\n",
    "\n",
    "- `'a'`: 1. only\n",
    "- `'b'`: 2. only\n",
    "- `'c'`: Both 1. and 2.\n",
    "- `'d'`: Neither 1. nor 2.\n",
    "\n",
    "Enter your answer below between quotes. For example, if you wanted to answer 'a', your answer would look like: `q4.answer <- 'a'`.\n"
   ]
  },
  {
   "cell_type": "code",
   "execution_count": null,
   "id": "794bde22",
   "metadata": {
    "tags": []
   },
   "outputs": [],
   "source": [
    "q4.answer <- '...'"
   ]
  },
  {
   "cell_type": "markdown",
   "id": "7cd1ef9d",
   "metadata": {},
   "source": [
    "-----"
   ]
  },
  {
   "cell_type": "markdown",
   "id": "0ab728f3",
   "metadata": {
    "deletable": false,
    "editable": false
   },
   "source": [
    "## Submission\n",
    "\n",
    "Make sure you have run all cells in your notebook in order before running the cell below, so that all images/graphs appear in the output. The cell below will generate a zip file for you to submit."
   ]
  },
  {
   "cell_type": "code",
   "execution_count": null,
   "id": "23b521e8",
   "metadata": {
    "deletable": false,
    "editable": false
   },
   "outputs": [],
   "source": [
    "ottr::export(\"Week13_Activity2group.ipynb\", pdf = TRUE, force_save = TRUE)"
   ]
  },
  {
   "cell_type": "markdown",
   "id": "704ddfb7",
   "metadata": {},
   "source": [
    " "
   ]
  }
 ],
 "metadata": {
  "kernelspec": {
   "display_name": "R",
   "language": "R",
   "name": "ir"
  },
  "language_info": {
   "codemirror_mode": "r",
   "file_extension": ".r",
   "mimetype": "text/x-r-source",
   "name": "R",
   "pygments_lexer": "r",
   "version": "4.3.1"
  },
  "latex_envs": {
   "LaTeX_envs_menu_present": true,
   "autoclose": false,
   "autocomplete": true,
   "bibliofile": "biblio.bib",
   "cite_by": "apalike",
   "current_citInitial": 1,
   "eqLabelWithNumbers": true,
   "eqNumInitial": 1,
   "hotkeys": {
    "equation": "Ctrl-E",
    "itemize": "Ctrl-I"
   },
   "labels_anchors": false,
   "latex_user_defs": false,
   "report_style_numbering": false,
   "user_envs_cfg": false
  }
 },
 "nbformat": 4,
 "nbformat_minor": 5
}
