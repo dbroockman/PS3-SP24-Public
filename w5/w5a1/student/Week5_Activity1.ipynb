{
 "cells": [
  {
   "cell_type": "markdown",
   "id": "59aca717",
   "metadata": {
    "tags": [
     "include"
    ]
   },
   "source": [
    "# POLSCI 3\n",
    "\n",
    "## Week 5 Activity 1: Randomized Experiments"
   ]
  },
  {
   "cell_type": "markdown",
   "id": "60fb6f16",
   "metadata": {},
   "source": [
    "As previewed in Lecture, today we will analyze data from a really interesting experiment involving over 100,000 US voters.\n",
    "\n",
    "In this experiment, the authors sent out mailings to registered voters encouraging them to vote. Voters were randomized to either no mailing (the control group) or one of several different mailings, described below. The mailers used increasingly strong \"social pressure\" to encourage voters to vote."
   ]
  },
  {
   "cell_type": "markdown",
   "id": "ed92142d",
   "metadata": {},
   "source": [
    "### Part 1: Importing the Data\n",
    "\n",
    "Let's first take a look at the data."
   ]
  },
  {
   "cell_type": "code",
   "execution_count": null,
   "id": "79b949e4",
   "metadata": {},
   "outputs": [],
   "source": [
    "#RUN THIS CELL\n",
    "library(testthat)\n",
    "\n",
    "social <- read.csv('ps3_week5_social_pressure.csv')\n",
    "head(social)"
   ]
  },
  {
   "cell_type": "markdown",
   "id": "65486976",
   "metadata": {},
   "source": [
    "Here's what the variables mean:\n",
    "\n",
    "- Outcome: `outcome_voted`: 1 if that particular person voted, 0 if not.\n",
    "- Treatments:\n",
    "    - `control_group` : 1 if assigned in control group and 0 otherwise.\n",
    "    - `treat_civic`: mail with \"do your civic duty\" message, 1 if assigned and 0 otherwise.\n",
    "    - `treat_hawthorne`: mail that says that the voter is being observed, 1 if assigned and 0 otherwise.\n",
    "    - `treat_self`: mail with own voting history, 1 if assigned and 0 otherwise.\n",
    "    - `treat_neighbors`: mail with own and neighbors' voting history, 1 if assigned and 0 otherwise.\n",
    "- Other Variables:\n",
    "    - `sex`: 1 female, 0 male\n",
    "    - `age`: age in years\n",
    "    - `g2000`: voted in 2000 general election\n",
    "    - `g2002`: voted in 2002 general election\n",
    "    - `median_income`: median income in the last 12 months in person's neighborhood\n",
    "    - `p2004`: voted in 2004 primary election\n",
    "    - `democrat`: registered Democrat\n",
    "   \n",
    "### Reminder about Treatment Conditions\n",
    "\n",
    "Here's a reminder about the differences between the treatment conditions. In the table below, each row is one of the conditions, and the columns tell about the mail sent to the people in that condition. The end of the notebook has pictures of all the mail sent to people in the various conditions if you want to take a look.\n",
    "    \n",
    "<table>\n",
    "<thead>\n",
    "  <tr>\n",
    "    <th>Condition</th>\n",
    "    <th>Mailed Reminder<br>to Vote?</th>\n",
    "    <th>Told Turnout<br>Being Watched</th>\n",
    "    <th>Given Own<br>Vote History</th>\n",
    "    <th>Neighbors and<br>Self Given All<br>Neighbors' Vote<br>History</th>\n",
    "  </tr>\n",
    "</thead>\n",
    "<tbody>\n",
    "  <tr>\n",
    "    <td>Control</td>\n",
    "    <td>No</td>\n",
    "    <td>No</td>\n",
    "    <td>No</td>\n",
    "    <td>No</td>\n",
    "  </tr>\n",
    "  <tr>\n",
    "    <td>Civic Duty</td>\n",
    "    <td>Yes</td>\n",
    "    <td>No</td>\n",
    "    <td>No</td>\n",
    "    <td>No</td>\n",
    "  </tr>\n",
    "  <tr>\n",
    "    <td>Hawthorne</td>\n",
    "    <td>Yes</td>\n",
    "    <td>Yes</td>\n",
    "    <td>No</td>\n",
    "    <td>No</td>\n",
    "  </tr>\n",
    "  <tr>\n",
    "    <td>Self</td>\n",
    "    <td>Yes</td>\n",
    "    <td>Yes</td>\n",
    "    <td>Yes</td>\n",
    "    <td>No</td>\n",
    "  </tr>\n",
    "  <tr>\n",
    "    <td>Neighbors</td>\n",
    "    <td>Yes</td>\n",
    "    <td>Yes</td>\n",
    "    <td>Yes</td>\n",
    "    <td>Yes</td>\n",
    "  </tr>\n",
    "</tbody>\n",
    "</table>"
   ]
  },
  {
   "cell_type": "markdown",
   "id": "f30f3f48",
   "metadata": {},
   "source": [
    "------\n",
    "\n",
    "### Part 2: Data Analysis"
   ]
  },
  {
   "cell_type": "markdown",
   "id": "54dab455",
   "metadata": {
    "deletable": false,
    "editable": false
   },
   "source": [
    "**Question 1.** Create a variable called `meanControl` that contains the mean of `outcome_voted` among individuals assigned to the control group. Reminder: the name of the dataset is `social`.\n",
    "\n",
    "*Hint: first subset the `social` dataset to just the control group by using the `control_group` variable.*\n"
   ]
  },
  {
   "cell_type": "code",
   "execution_count": null,
   "id": "ea51e6f3",
   "metadata": {
    "tags": []
   },
   "outputs": [],
   "source": [
    "# Compute mean of turnout in control group\n",
    "# First, subset the data to the control group.\n",
    "control.group <- subset(social, ...)\n",
    "\n",
    "# Second, take the mean of the outcome_voted variable among the control group.\n",
    "meanControl <- mean(...)\n",
    "\n",
    "meanControl * 100 # Prints the percentage of people in the control group who voted."
   ]
  },
  {
   "cell_type": "markdown",
   "id": "4e10ef34",
   "metadata": {
    "deletable": false,
    "editable": false
   },
   "source": [
    "-----\n",
    "\n",
    "**Question 2.** Create a variable called `meanNeighbors` that contains the mean of `outcome_voted` among individuals assigned to the \"Neighbors\" group. Reminder: the name of the dataset is `social`.\n",
    "\n",
    "*Hint: first subset the `social` dataset to just the control group by using the `treat_neighbors` variable.*\n"
   ]
  },
  {
   "cell_type": "code",
   "execution_count": null,
   "id": "74350e1a",
   "metadata": {
    "tags": []
   },
   "outputs": [],
   "source": [
    "# Compute mean of turnout in neighbors group\n",
    "# First, subset the data to the neighbors mailing group.\n",
    "neighbors.group <- subset(social, ...)\n",
    "\n",
    "# Second, take the mean of the outcome_voted variable among the neighbors mailing group.\n",
    "meanNeighbors <- mean(...)\n",
    "\n",
    "meanNeighbors * 100 # Prints the percentage of people in the control group who voted."
   ]
  },
  {
   "cell_type": "markdown",
   "id": "27e748fa",
   "metadata": {
    "deletable": false,
    "editable": false
   },
   "source": [
    "------\n",
    "\n",
    "**Question 3.** Relative to the control group, what was the effect of the neighbors mail on voter turnout? To answer this, write a line of code that calculates the difference between `meanControl` and `meanNeighbors`.\n"
   ]
  },
  {
   "cell_type": "code",
   "execution_count": null,
   "id": "6acf1bd6",
   "metadata": {
    "tags": []
   },
   "outputs": [],
   "source": [
    "effect.of.neighbors.mail <- NULL # YOUR CODE HERE\n",
    "effect.of.neighbors.mail * 100 # Prints the effect in percentage points."
   ]
  },
  {
   "cell_type": "markdown",
   "id": "ab9ffd22",
   "metadata": {
    "deletable": false,
    "editable": false
   },
   "source": [
    "-----\n",
    "\n",
    "**Question 4.** Professor Frank Lee Dense, a political scientist at Stanford, argues that we can't tell whether the \"Neighbors\" mail increased voter turnout because of omitted variable bias. In particular, Professor Dense said that he thinks age is an omitted variable: he thinks older people have more neighbors, and so were especially likely to get the \"Neighbors\" mailing; and older people are especially likely to vote, too. This means, he argues, that age is an omitted variable in the study when we compare people in the \"Neighbors\" group and the control group.\n",
    "\n",
    "Is he right? Let's check: how much older, on average, are people assigned to the \"Neighbors\" group than the control group?\n",
    "\n",
    "*Hint: use the `age` variable. Remember that you already made `control.group` and `neighbors.group` above, too.*\n"
   ]
  },
  {
   "cell_type": "code",
   "execution_count": null,
   "id": "906a6713",
   "metadata": {
    "scrolled": true,
    "tags": []
   },
   "outputs": [],
   "source": [
    "# First, compute the mean year of birth in the Control group\n",
    "mean.age.control.group <- NULL # YOUR CODE HERE\n",
    "\n",
    "# Second, compute the mean year of birth in the Neighbors group\n",
    "mean.age.neighbors.group <- NULL # YOUR CODE HERE\n",
    "\n",
    "# Finally, compute how much older the neighbors group is than the control group using simple subtraction\n",
    "neighbors.group.this.many.years.older <- NULL # YOUR CODE HERE\n",
    "\n",
    "neighbors.group.this.many.years.older # Let's take a look at the answer"
   ]
  },
  {
   "cell_type": "markdown",
   "id": "92a07bce",
   "metadata": {
    "deletable": false,
    "editable": false
   },
   "source": [
    "-----\n",
    "\n",
    "**Question 5.** Why was Professor Dense wrong? That is, why did you find that the Neighbors and control groups had such similar average ages?\n",
    "\n",
    "- `'a'`: The researchers who ran this particular study just got lucky: if someone else did this same randomized experiment again, it's very possible that the \"Neighbors\" group might end up being much older than the control group.\n",
    "- `'b'`: The researchers who conducted the study must have removed older people from the \"Neighbors\" group in order to make the \"Neighbors\" and control group be so similar in age.\n",
    "- `'c'`: Randomized experiments do not suffer from omitted variable bias: because of random assignment, the treatment and control groups will be similar on all variables, including age.\n",
    "\n",
    "Put your answer (`a`, `b`, or `c`) between the `'` quotes below, replacing just the `...`. (For example, if you wanted to answer option a, you would have `q5 <- 'a'` below.)\n"
   ]
  },
  {
   "cell_type": "code",
   "execution_count": null,
   "id": "38e40d93",
   "metadata": {
    "tags": []
   },
   "outputs": [],
   "source": [
    "q5 <- '...'"
   ]
  },
  {
   "cell_type": "markdown",
   "id": "85dc918d",
   "metadata": {
    "deletable": false,
    "editable": false
   },
   "source": [
    "-----\n",
    "\n",
    "**Question 6.** Professor Dense also claimed the experiment can be run better and cheaper by the following method: for addresses with 2 or more voters, we randomly assign both of them into one of the treatment conditions. For addresses with only 1 voter, we always assign them to the control group.\n",
    "\n",
    "Is this a good idea?\n",
    "\n",
    "- `'a'`: Yes, since the mailers are randomly assigned among those living in addresses with 2 or more voters, there is no omitted variable bias and we save money in conducting this experiment.\n",
    "- `'b'`: Yes, the treatment and control groups are now comprised by voters that are more similar than before. This increases comparability and we save money in conducting this experiment.\n",
    "- `'c'`: No, because there may be omitted variable bias in assignment into one of the treatment conditions among the group of those living in addresses with 2 or more voters.\n",
    "- `'d'`: No, those who live in addresses with 2 or more voters may systematically differ from those who live in addresses with only 1 voter. Whether people are in the control group or not may not be random.\n",
    "\n",
    "Put your answer (`a`, `b`, or `c`) between the `'` quotes below, replacing just the `...`. (For example, if you wanted to answer option a, you would have `q6 <- 'a'` below.)\n"
   ]
  },
  {
   "cell_type": "code",
   "execution_count": null,
   "id": "fd2d716a",
   "metadata": {
    "tags": []
   },
   "outputs": [],
   "source": [
    "q6 <- '...'"
   ]
  },
  {
   "cell_type": "markdown",
   "id": "52f19325",
   "metadata": {},
   "source": [
    "-----\n",
    "\n",
    "Save your submission using the cell below."
   ]
  },
  {
   "cell_type": "code",
   "execution_count": null,
   "id": "ff0d22f8",
   "metadata": {},
   "outputs": [],
   "source": [
    "ottr::export(\"Week5_Activity1.ipynb\", force_save = TRUE)"
   ]
  },
  {
   "cell_type": "markdown",
   "id": "02bba9a7",
   "metadata": {},
   "source": [
    "## Appendix: Mail Images\n",
    "\n",
    "#### Civic Duty Mailer\n",
    "<img src=\"mail_images/civic_duty.png\" width=\"500\"/>\n",
    "\n",
    "#### \"Hawthorne\" Mailer\n",
    "<img src=\"mail_images/hawthorne.png\" width=\"500\"/>\n",
    "\n",
    "#### \"Self\" Mailer\n",
    "<img src=\"mail_images/self.png\" width=\"500\"/>\n",
    "\n",
    "#### \"Neighbors\" Mailer\n",
    "<img src=\"mail_images/neighbors.png\" width=\"500\"/>"
   ]
  }
 ],
 "metadata": {
  "kernelspec": {
   "display_name": "R",
   "language": "R",
   "name": "ir"
  },
  "language_info": {
   "codemirror_mode": "r",
   "file_extension": ".r",
   "mimetype": "text/x-r-source",
   "name": "R",
   "pygments_lexer": "r",
   "version": "4.3.1"
  },
  "latex_envs": {
   "LaTeX_envs_menu_present": true,
   "autoclose": false,
   "autocomplete": true,
   "bibliofile": "biblio.bib",
   "cite_by": "apalike",
   "current_citInitial": 1,
   "eqLabelWithNumbers": true,
   "eqNumInitial": 1,
   "hotkeys": {
    "equation": "Ctrl-E",
    "itemize": "Ctrl-I"
   },
   "labels_anchors": false,
   "latex_user_defs": false,
   "report_style_numbering": false,
   "user_envs_cfg": false
  }
 },
 "nbformat": 4,
 "nbformat_minor": 5
}
