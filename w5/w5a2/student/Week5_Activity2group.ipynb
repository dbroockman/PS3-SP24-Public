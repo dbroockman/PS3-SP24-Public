{
 "cells": [
  {
   "cell_type": "markdown",
   "metadata": {},
   "source": [
    "# POLSCI 3\n",
    "\n",
    "## Week 5, Activity 2\n",
    "\n",
    "In this activity, we are going to practice our new approach for comparing treatment and control groups in experiments, using the `difference_in_means()` function from the `estimatr` package."
   ]
  },
  {
   "cell_type": "markdown",
   "metadata": {},
   "source": [
    "### Revisiting the Data"
   ]
  },
  {
   "cell_type": "markdown",
   "metadata": {},
   "source": [
    "Let's read in the social pressure on voting dataset and look at what each of the variables represent. "
   ]
  },
  {
   "cell_type": "code",
   "execution_count": null,
   "metadata": {},
   "outputs": [],
   "source": [
    "#RUN THIS CELL\n",
    "library(testthat)\n",
    "library(estimatr) # This loads the estimatr package, where the difference_in_means() function is from.\n",
    "\n",
    "social <- read.csv('ps3_week5_social_pressure_str.csv')\n",
    "head(social)"
   ]
  },
  {
   "cell_type": "markdown",
   "metadata": {},
   "source": [
    "Here's what the variables mean:\n",
    "\n",
    "- Outcome: `outcome_voted`: 1 if that particular person voted, 0 if not.\n",
    "- `treat` is now a string with the following values:\n",
    "    - `\"control\"`: assigned to control group\n",
    "    - `\"civic\"`: mail with \"do your civic duty\" message\n",
    "    - `\"hawthorne\"`: mail that says that the voter is being observed\n",
    "    - `\"self\"`: mail with own voting history\n",
    "    - `\"neighbors\"`: mail with own and neighbors' voting history\n",
    "- Other Variables:\n",
    "    - `sex`: 1 female, 0 male\n",
    "    - `yob`: year of birth\n",
    "    - `g2000`: voted in 2000 general election\n",
    "    - `g2002`: voted in 2002 general election\n",
    "    - `median_income`: median income in the last 12 months in person's neighborhood\n",
    "    - `p2004`: voted in 2004 primary election\n",
    "    - `democrat`: registered Democrat\n",
    "   \n",
    "### Treatment Conditions\n",
    "\n",
    "Here's a reminder about the differences between the treatment conditions. The end of the notebook has pictures of all the mail sent to people in the various conditions if you want to take a look.\n",
    "    \n",
    "<table>\n",
    "<thead>\n",
    "  <tr>\n",
    "    <th>Condition</th>\n",
    "    <th>Mailed Reminder<br>to Vote?</th>\n",
    "    <th>Told Turnout<br>Being Watched</th>\n",
    "    <th>Given Own<br>Vote History</th>\n",
    "    <th>Neighbors and<br>Self Given All<br>Neighbors' Vote<br>History</th>\n",
    "  </tr>\n",
    "</thead>\n",
    "<tbody>\n",
    "  <tr>\n",
    "    <td>Control</td>\n",
    "    <td>No</td>\n",
    "    <td>No</td>\n",
    "    <td>No</td>\n",
    "    <td>No</td>\n",
    "  </tr>\n",
    "  <tr>\n",
    "    <td>Civic Duty</td>\n",
    "    <td>Yes</td>\n",
    "    <td>No</td>\n",
    "    <td>No</td>\n",
    "    <td>No</td>\n",
    "  </tr>\n",
    "  <tr>\n",
    "    <td>Hawthorne</td>\n",
    "    <td>Yes</td>\n",
    "    <td>Yes</td>\n",
    "    <td>No</td>\n",
    "    <td>No</td>\n",
    "  </tr>\n",
    "  <tr>\n",
    "    <td>Self</td>\n",
    "    <td>Yes</td>\n",
    "    <td>Yes</td>\n",
    "    <td>Yes</td>\n",
    "    <td>No</td>\n",
    "  </tr>\n",
    "  <tr>\n",
    "    <td>Neighbors</td>\n",
    "    <td>Yes</td>\n",
    "    <td>Yes</td>\n",
    "    <td>Yes</td>\n",
    "    <td>Yes</td>\n",
    "  </tr>\n",
    "</tbody>\n",
    "</table>"
   ]
  },
  {
   "cell_type": "markdown",
   "metadata": {},
   "source": [
    "### Effect on Voter Turnout"
   ]
  },
  {
   "cell_type": "code",
   "execution_count": null,
   "metadata": {},
   "outputs": [],
   "source": [
    "# Before we get started, here's another reminder about the values of the treat variable:\n",
    "table(social$treat)"
   ]
  },
  {
   "cell_type": "markdown",
   "metadata": {},
   "source": [
    "-----\n",
    "\n",
    "**Question 1.** Use the `difference_in_means()` function to compute the effect of the **\"civic duty\" mail** on voter turnout **relative to the control group**.\n"
   ]
  },
  {
   "cell_type": "code",
   "execution_count": null,
   "metadata": {
    "scrolled": true,
    "tags": []
   },
   "outputs": [],
   "source": [
    "civic_effect <- NULL # YOUR CODE HERE\n",
    "\n",
    "civic_effect # Let's look at what we computed. (Don't change this line.)"
   ]
  },
  {
   "cell_type": "code",
   "execution_count": null,
   "metadata": {
    "deletable": false,
    "editable": false
   },
   "outputs": [],
   "source": [
    ". = ottr::check(\"tests/q1.R\")"
   ]
  },
  {
   "cell_type": "markdown",
   "metadata": {},
   "source": [
    "-----\n",
    "\n",
    "**Question 2.** Use the `difference_in_means()` function to compute the effect of the **\"neighbors\" mail** on voter turnout **relative to the control group**.\n"
   ]
  },
  {
   "cell_type": "code",
   "execution_count": null,
   "metadata": {
    "scrolled": true,
    "tags": []
   },
   "outputs": [],
   "source": [
    "neighbors_vs_control <- NULL # YOUR CODE HERE\n",
    "\n",
    "neighbors_vs_control # Let's look at what we computed. (Don't change this line.)"
   ]
  },
  {
   "cell_type": "code",
   "execution_count": null,
   "metadata": {
    "deletable": false,
    "editable": false
   },
   "outputs": [],
   "source": [
    ". = ottr::check(\"tests/q2.R\")"
   ]
  },
  {
   "cell_type": "markdown",
   "metadata": {},
   "source": [
    "-----\n",
    "\n",
    "**Question 3.** Use the `difference_in_means()` function to compute the effect of the **\"neighbors\" mail** on voter turnout **relative to the group that received the \"civic duty\" mail**.\n"
   ]
  },
  {
   "cell_type": "code",
   "execution_count": null,
   "metadata": {
    "scrolled": false,
    "tags": []
   },
   "outputs": [],
   "source": [
    "neighbors_vs_civic <- NULL # YOUR CODE HERE\n",
    "\n",
    "neighbors_vs_civic # Let's look at what we computed. (Don't change this line.)"
   ]
  },
  {
   "cell_type": "code",
   "execution_count": null,
   "metadata": {
    "deletable": false,
    "editable": false
   },
   "outputs": [],
   "source": [
    ". = ottr::check(\"tests/q3.R\")"
   ]
  },
  {
   "cell_type": "markdown",
   "metadata": {},
   "source": [
    "### Open-Ended Questions\n",
    "\n",
    "Recall that the purpose of the experiment was to test the authors' theory that voting is social---that is, that one reason people vote is so that others see them voting (or don't see them failing to vote).\n",
    "\n",
    "Questions 4-6 will ask you about why the authors designed the experiment the way they did, and how you interpret its results."
   ]
  },
  {
   "cell_type": "markdown",
   "metadata": {},
   "source": [
    "<!-- BEGIN QUESTION -->\n",
    "\n",
    "----\n",
    "\n",
    "**Question 4)** First, say and interpret what you found in Question 3. What does your estimate mean? Second, interpret what this means for the authors' theory. Does it provide support for the authors' theory? Why or why not?\n",
    "\n",
    "**Please limit your answer to between 2-4 sentences.**\n"
   ]
  },
  {
   "cell_type": "markdown",
   "metadata": {},
   "source": [
    "_Type your answer here, replacing this text._"
   ]
  },
  {
   "cell_type": "markdown",
   "metadata": {},
   "source": [
    "<!-- END QUESTION -->\n",
    "\n",
    "<!-- BEGIN QUESTION -->\n",
    "\n",
    "----\n",
    "\n",
    "**Question 5)** Professor Imnot Sos Mart at Stanford's Institute for Bad Research thinks the researchers designed the experiment wrong. Professor Mart says that, because the researchers were interested in the effects of the \"neighbors\" mail, the researchers should have sent *everyone* in their study the neighbors mailing, and should *not* have included a control group that received no mail. Is Professor Mart right or wrong? Why?\n",
    "\n",
    "**Please limit your answer to between 2-4 sentences.**\n"
   ]
  },
  {
   "cell_type": "markdown",
   "metadata": {},
   "source": [
    "_Type your answer here, replacing this text._"
   ]
  },
  {
   "cell_type": "markdown",
   "metadata": {},
   "source": [
    "<!-- END QUESTION -->\n",
    "\n",
    "<!-- BEGIN QUESTION -->\n",
    "\n",
    "----\n",
    "\n",
    "**Question 6)** Why do you think the researchers included the civic duty mail condition in this experiment, given that the civic duty mailing doesn't contain any \"social pressure\" to vote? In other words, suppose the researchers only included the control group and the \"neighbors\" mailing condition in the experiment. In that case, we weren't able to conduct the comparison we did in Question 3, only the comparison from Question 2. In that case, why would the experiment be less persuasive?\n",
    "\n",
    "**Please limit your answer to between 2-3 sentences.**\n"
   ]
  },
  {
   "cell_type": "markdown",
   "metadata": {},
   "source": [
    "_Type your answer here, replacing this text._"
   ]
  },
  {
   "cell_type": "markdown",
   "metadata": {},
   "source": [
    "<!-- END QUESTION -->\n",
    "\n",
    "-----\n",
    "\n",
    "**Question 7.** Professor Mart at Stanford also made the following claim: \"Since those who are assigned to the neighbors treatment were much more likely to vote in the election that was held right after the mail was sent, then we know those assigned to the neighbors treatment systematically differ from those assigned to the control group. This shows there is omitted variables bias, and we cannot make a causal claim from this data.\"\n",
    "\n",
    "Which of the following is a correct assessment of Professor Mart's claim?\n",
    "\n",
    "- `'a'`: There is no omitted variable bias because those assigned to the neighbors treatment are not any more likely to vote in the election\n",
    "- `'b'`: There is no omitted variable bias because, due to random assignment, those assigned to the neighbors treatment cannot be systematically different from those assigned to control\n",
    "- `'c'`: There is no omitted variable bias, but there could be reverse causation\n",
    "- `'d'`: There is a potential for omitted variable bias in the experiment, but the fact that the group assigned to the neighbors treatment voted was more likely to vote in the election is not a problem\n"
   ]
  },
  {
   "cell_type": "code",
   "execution_count": null,
   "metadata": {
    "tags": []
   },
   "outputs": [],
   "source": [
    "q7 <- '...'"
   ]
  },
  {
   "cell_type": "markdown",
   "metadata": {},
   "source": [
    "----\n",
    "\n",
    "# Submitting Your Notebook (please read carefully!)\n",
    "\n",
    "To submit your notebook...\n",
    "\n",
    "### 1. Click `File` $\\rightarrow$ `Save and Checkpoint`.\n",
    "\n",
    "### 2. Wait 5 seconds.\n",
    "\n",
    "### 3. Select the cell below and hit run."
   ]
  },
  {
   "cell_type": "code",
   "execution_count": null,
   "metadata": {},
   "outputs": [],
   "source": [
    "ottr::export(\"Week5_Activity2group.ipynb\", pdf = TRUE)"
   ]
  },
  {
   "cell_type": "markdown",
   "metadata": {},
   "source": [
    "After you hit \"Run\" on the cell above, wait for a moment (about 5 seconds), then click the download link. A .zip file should download to your computer.\n",
    "\n",
    "(If you make changes to your notebook, you'll need to hit save and then run the cell above again before you submit to get a new version of it.)\n",
    "\n",
    "### 4. Submit the .zip file you just downloaded <a href=\"https://www.gradescope.com/\" target=\"_blank\">on Gradescope here</a>.\n",
    "\n",
    "Notes:\n",
    "\n",
    "- **This does not seem to work on Chrome for iPad or iPhone.** If you're using an iPad or iPhone, you need to download the file using **Safari**.\n",
    "- If your web browser automatically unzips the .zip file (so you see a folder instead of a .zip file), you can just upload the .ipynb file that is inside the folder.\n",
    "- If this method is not working for you, try the \"old way\": hit `File`, then `Download as`, then `Notebook (.ipynb)` and submit that.\n",
    "\n",
    "### 5. Add your group members' names on Gradescope."
   ]
  },
  {
   "cell_type": "markdown",
   "metadata": {},
   "source": [
    "# Appendix: Mail Images\n",
    "\n",
    "If you want to take a closer look at the treatment groups:\n",
    "\n",
    "#### Civic Duty Mailer\n",
    "<img src=\"mail_images/civic_duty.png\" width=\"500\"/>\n",
    "\n",
    "#### \"Hawthorne\" Mailer\n",
    "<img src=\"mail_images/hawthorne.png\" width=\"500\"/>\n",
    "\n",
    "#### \"Self\" Mailer\n",
    "<img src=\"mail_images/self.png\" width=\"500\"/>\n",
    "\n",
    "#### \"Neighbors\" Mailer\n",
    "<img src=\"mail_images/neighbors.png\" width=\"500\"/>"
   ]
  }
 ],
 "metadata": {
  "celltoolbar": "Raw Cell Format",
  "kernelspec": {
   "display_name": "R",
   "language": "R",
   "name": "ir"
  },
  "language_info": {
   "codemirror_mode": "r",
   "file_extension": ".r",
   "mimetype": "text/x-r-source",
   "name": "R",
   "pygments_lexer": "r",
   "version": "4.1.2"
  },
  "latex_envs": {
   "LaTeX_envs_menu_present": true,
   "autoclose": false,
   "autocomplete": true,
   "bibliofile": "biblio.bib",
   "cite_by": "apalike",
   "current_citInitial": 1,
   "eqLabelWithNumbers": true,
   "eqNumInitial": 1,
   "hotkeys": {
    "equation": "Ctrl-E",
    "itemize": "Ctrl-I"
   },
   "labels_anchors": false,
   "latex_user_defs": false,
   "report_style_numbering": false,
   "user_envs_cfg": false
  }
 },
 "nbformat": 4,
 "nbformat_minor": 2
}
