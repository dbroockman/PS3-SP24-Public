{
 "cells": [
  {
   "cell_type": "markdown",
   "id": "edfbbbcf",
   "metadata": {},
   "source": [
    "# POLSCI 3\n",
    "\n",
    "## Week 8, Activity Notebook 1: Heterogeneous treatment effects\n",
    "\n",
    "First, read in the data below."
   ]
  },
  {
   "cell_type": "code",
   "execution_count": null,
   "id": "bf095917",
   "metadata": {
    "editable": false
   },
   "outputs": [],
   "source": [
    "library(testthat)\n",
    "library(estimatr)\n",
    "\n",
    "data <- read.csv(\"ps3_week8_electing_women.csv\")\n",
    "head(data)"
   ]
  },
  {
   "cell_type": "markdown",
   "id": "be424adc",
   "metadata": {},
   "source": [
    "Here is a quick reminder of what each column means:\n",
    "\n",
    "- `unique_id`: Precinct ID\n",
    "- `treat`: treatment variable\n",
    "    - `'control'`: control group\n",
    "    - `'supply'`: supply group; party chair instructed to recruit 2-3 women\n",
    "    - `'demand'`: demand group; party chair reads letter at precinct convention\n",
    "    - `'both'`: a fourth group getting both the supply and demand treatments; party chair instructed to read letter *and* to recruit 2-3 women\n",
    "- `prop_sd_fem2014`: **Outcome**: Proportion of 2014 elected state delegates from that precinct who were women\n",
    "- `sd_onefem2014`: 1 if at least one woman was selected; 0 otherwise\n",
    "- `county` : County name in Utah\n",
    "- `pc_male`: 1 if precinct chair is male; 0 otherwise (precinct chair is person who runs precinct meeting, would read letter if assigned to do so, etc.)\n",
    "- `mormon`: 1 if precinct chair filled out a survey and told the party they were a Mormon; 0 otherwise (either because not Mormon or did not fill out survey) **<span style=\"color:red\">New variable!</span>**"
   ]
  },
  {
   "cell_type": "markdown",
   "id": "6152ad90",
   "metadata": {},
   "source": [
    "While this data set is otherwise similar to Week 7's dataset, **we now have a new variable `mormon`**:"
   ]
  },
  {
   "cell_type": "code",
   "execution_count": null,
   "id": "8b7baa26",
   "metadata": {},
   "outputs": [],
   "source": [
    "# Here's the new mormon column:\n",
    "table(data$mormon)"
   ]
  },
  {
   "cell_type": "markdown",
   "id": "c7eb3d44",
   "metadata": {},
   "source": [
    "##### Subsetting reminder:\n",
    "\n",
    "Remember that we can subset based on number in the dataset:\n",
    "`data.subset <- subset(data, name.of.number.variable == 0)` would subset `data` to cases where `name.of.number.variable` is 0."
   ]
  },
  {
   "cell_type": "markdown",
   "id": "85562740",
   "metadata": {},
   "source": [
    "### Comparing effects for Mormon and non-Mormon precinct chairs"
   ]
  },
  {
   "cell_type": "markdown",
   "id": "77782d4a",
   "metadata": {},
   "source": [
    "**Question 1.** Estimate: the effect of the \"both\" treatment (relative to the control group), on the `prop_sd_fem2014` variable, among precinct chairs who identified themselves as Mormon in the survey.\n"
   ]
  },
  {
   "cell_type": "code",
   "execution_count": null,
   "id": "eddd3601",
   "metadata": {
    "tags": []
   },
   "outputs": [],
   "source": [
    "# First, subset to chairs who identify as mormon\n",
    "mormon.chairs <- NULL # YOUR CODE HERE\n",
    "\n",
    "# Next, use difference_in_means() to estimate the effect on prop_sd_fem2014 in this subset\n",
    "dim.mormons <- NULL # YOUR CODE HERE\n",
    "dim.mormons"
   ]
  },
  {
   "cell_type": "code",
   "execution_count": null,
   "id": "97177b51",
   "metadata": {
    "deletable": false,
    "editable": false
   },
   "outputs": [],
   "source": [
    ". = ottr::check(\"tests/q1.R\")"
   ]
  },
  {
   "cell_type": "markdown",
   "id": "f135abe3",
   "metadata": {},
   "source": [
    "-----\n",
    "\n",
    "**Question 2.** Estimate the effect of the \"both\" treatment (relative to the control group), on the `prop_sd_fem2014` variable, among precinct chairs who **did not** identify themselves as Mormon in the survey (either because they didn't complete the survey or because they said they were not Mormon).\n"
   ]
  },
  {
   "cell_type": "code",
   "execution_count": null,
   "id": "ebaa4fef",
   "metadata": {
    "tags": []
   },
   "outputs": [],
   "source": [
    "# First, subset to chairs who do not identify as mormon\n",
    "nonmormon.chairs <- NULL # YOUR CODE HERE\n",
    "\n",
    "# Next, use difference_in_means() to estimate the effect in this subset\n",
    "dim.nonmormons <- NULL # YOUR CODE HERE\n",
    "dim.nonmormons"
   ]
  },
  {
   "cell_type": "code",
   "execution_count": null,
   "id": "c30cc0f1",
   "metadata": {
    "deletable": false,
    "editable": false
   },
   "outputs": [],
   "source": [
    ". = ottr::check(\"tests/q2.R\")"
   ]
  },
  {
   "cell_type": "markdown",
   "id": "9a5f6247",
   "metadata": {},
   "source": [
    "-----\n",
    "\n",
    "**Question 3. `TRUE` or `FALSE`: Our best guess is that the effect of the \"both\" treatment is larger for precincts chairs who identified themselves as Mormon in the pre-survey.**\n",
    "\n",
    "Save your answer in `q3.answer`. Do not use quotes. For example, to answer `TRUE`, type `q3.answer <- TRUE`.\n"
   ]
  },
  {
   "cell_type": "code",
   "execution_count": null,
   "id": "e822afa8",
   "metadata": {
    "tags": []
   },
   "outputs": [],
   "source": [
    "q3.answer <- NULL # YOUR CODE HERE"
   ]
  },
  {
   "cell_type": "markdown",
   "id": "7c57b65c",
   "metadata": {},
   "source": [
    "-----\n",
    "\n",
    "**Question 4. `TRUE` or `FALSE`: The data indicates that, if non-Mormon chairs converted to Mormonism, the \"both\" treatment would then have higher effects on them.**\n",
    "\n",
    "Save your answer in `q4.answer`. Do not use quotes. For example, to answer `TRUE`, type `q4.answer <- TRUE`.\n"
   ]
  },
  {
   "cell_type": "code",
   "execution_count": null,
   "id": "d288baec",
   "metadata": {
    "tags": []
   },
   "outputs": [],
   "source": [
    "q4.answer <- NULL # YOUR CODE HERE"
   ]
  },
  {
   "cell_type": "markdown",
   "id": "9183653a",
   "metadata": {},
   "source": [
    "-----\n",
    "\n",
    "In Question 1, you calculated the following $p$-value:"
   ]
  },
  {
   "cell_type": "code",
   "execution_count": null,
   "id": "6c2bbdbe",
   "metadata": {},
   "outputs": [],
   "source": [
    "dim.mormons$p.val"
   ]
  },
  {
   "cell_type": "markdown",
   "id": "64bbb3ab",
   "metadata": {},
   "source": [
    "**Question 5.** Which one of the following statements best describes what this value means?\n",
    "\n",
    "- `'a'`: The probability that we would see the estimate among Mormons that we did if the both treatment had no effect among Mormons\n",
    "- `'b'`: The probability that the both treatment has an effect among Mormons\n",
    "- `'c'`: The probability that the both treatment does not have an effect among Mormons\n",
    "- `'d'`: The probability the effect among Mormons is larger than the effect among non-Mormons\n",
    "\n",
    "Enter your answer below between quotes. For example, if you wanted to answer 'a', your answer would look like: `q5.answer <- 'a'`.\n"
   ]
  },
  {
   "cell_type": "code",
   "execution_count": null,
   "id": "75df4d2d",
   "metadata": {
    "tags": []
   },
   "outputs": [],
   "source": [
    "q5.answer <- '...'"
   ]
  },
  {
   "cell_type": "markdown",
   "id": "c82b04ad",
   "metadata": {},
   "source": [
    "-----\n",
    "\n",
    "**Question 6.** Which one of the following would be an example of $p$-hacking?\n",
    "\n",
    "- `'a'`: Testing whether the \"both\" treatment caused precincts to be more likely to elect women\n",
    "- `'b'`: Splitting up the dataset by county, estimating the effect of the \"both\" treatment in every county in Utah, and then focusing on the results only in counties where the $p$-value is statistically significant\n",
    "- `'c'`: Calculating the ends of a confidence interval by computing $\\text{Estimate} + 1.96 * \\text{Standard Error}$ and $\\text{Estimate} - 1.96 * \\text{Standard Error}$\n",
    "- `'d'`: Deciding in advance of running an experiment to increase the sample size so that the standard error will be lower\n",
    "\n",
    "Enter your answer below between quotes. For example, if you wanted to answer 'a', your answer would look like: `q6.answer <- 'a'`.\n"
   ]
  },
  {
   "cell_type": "code",
   "execution_count": null,
   "id": "7787e61a",
   "metadata": {
    "tags": []
   },
   "outputs": [],
   "source": [
    "q6.answer <- '...'"
   ]
  },
  {
   "cell_type": "markdown",
   "id": "911d3d4d",
   "metadata": {},
   "source": [
    "-----\n",
    "\n",
    "# Submitting Your Notebook (please read carefully!)\n",
    "\n",
    "To submit your notebook...\n",
    "\n",
    "### 1. Click `File` $\\rightarrow$ `Save and Checkpoint`.\n",
    "\n",
    "### 2. Wait 5 seconds.\n",
    "\n",
    "### 3. Select the cell below and hit run."
   ]
  },
  {
   "cell_type": "code",
   "execution_count": null,
   "id": "9fa56185",
   "metadata": {},
   "outputs": [],
   "source": [
    "ottr::export(\"Week8_Activity1group.ipynb\")"
   ]
  },
  {
   "cell_type": "markdown",
   "id": "fb2ea44f",
   "metadata": {},
   "source": [
    "After you hit \"Run\" on the cell above, wait for a moment (about 5 seconds), then click the download link. A .zip file should download to your computer.\n",
    "\n",
    "(If you make changes to your notebook, you'll need to hit save and then run the cell above again before you submit to get a new version of it.)\n",
    "\n",
    "### 4. Submit the .zip file you just downloaded <a href=\"https://www.gradescope.com\" target=\"_blank\">on Gradescope here</a>.\n",
    "\n",
    "Notes:\n",
    "\n",
    "- **This does not seem to work on Chrome for iPad or iPhone.** If you're using an iPad or iPhone, you need to download the file using **Safari**.\n",
    "- If your web browser automatically unzips the .zip file (so you see a folder instead of a .zip file), you can just upload the .ipynb file that is inside the folder.\n",
    "- If this method is not working for you, try the \"old way\": hit `File`, then `Download as`, then `Notebook (.ipynb)` and submit that."
   ]
  }
 ],
 "metadata": {
  "kernelspec": {
   "display_name": "R",
   "language": "R",
   "name": "ir"
  },
  "language_info": {
   "codemirror_mode": "r",
   "file_extension": ".r",
   "mimetype": "text/x-r-source",
   "name": "R",
   "pygments_lexer": "r",
   "version": "4.1.2"
  },
  "latex_envs": {
   "LaTeX_envs_menu_present": true,
   "autoclose": false,
   "autocomplete": true,
   "bibliofile": "biblio.bib",
   "cite_by": "apalike",
   "current_citInitial": 1,
   "eqLabelWithNumbers": true,
   "eqNumInitial": 1,
   "hotkeys": {
    "equation": "Ctrl-E",
    "itemize": "Ctrl-I"
   },
   "labels_anchors": false,
   "latex_user_defs": false,
   "report_style_numbering": false,
   "user_envs_cfg": false
  }
 },
 "nbformat": 4,
 "nbformat_minor": 5
}
