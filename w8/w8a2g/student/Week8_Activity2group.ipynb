{
 "cells": [
  {
   "cell_type": "markdown",
   "id": "d8319ebf",
   "metadata": {},
   "source": [
    "# POLSCI 3\n",
    "\n",
    "## Week 8, Activity Notebook 2: Generalizability"
   ]
  },
  {
   "cell_type": "markdown",
   "id": "ab9faf22",
   "metadata": {},
   "source": [
    "Run the below to read in the dataset."
   ]
  },
  {
   "cell_type": "code",
   "execution_count": null,
   "id": "d28ab6d6",
   "metadata": {
    "editable": false,
    "scrolled": false
   },
   "outputs": [],
   "source": [
    "library(testthat)\n",
    "library(estimatr)\n",
    "\n",
    "data <- read.csv(\"ps3_KB_campaign.csv\")\n",
    "head(data)"
   ]
  },
  {
   "cell_type": "markdown",
   "id": "3f5c38bc",
   "metadata": {},
   "source": [
    "Here is a quick rundown of what each column means:\n",
    "\n",
    "- `Experiment`: Paper reference of the experiment\n",
    "- `effect`: estimate of the effect size in the experiment\n",
    "- `SE`: standard error of the effect estimate in the experiment\n",
    "- `precision`: precision; this is how precise the experiment is. defined as $\\frac{1}{\\text{Standard Error}^2}$ (**weight by this variable**)\n",
    "- `General`: binary variable indicating whether the experiment was done in a general election (1 = yes, 0 = no)\n",
    "- `Primary`: binary variable indicating whether the experiment was done in a primary election (1 = yes, 0 = no). these elections are typically quieter\n",
    "- `Treatment.within.2months.of.election`: binary variable incating whether the experiment took place within 2 months of election day (1 = yes, was within 2 months; 0 = no, was more than 2 months before election day)"
   ]
  },
  {
   "cell_type": "markdown",
   "id": "275938d3",
   "metadata": {
    "deletable": false,
    "editable": false
   },
   "source": [
    "----\n",
    "\n",
    "**Question 1. Calculate the weighted mean of `effect`, weighting based on the `precision` column.** (I used this same line of code in Lecture.)\n",
    "\n",
    "Remember, use: `weighted.mean(variable, weight)`.\n"
   ]
  },
  {
   "cell_type": "code",
   "execution_count": null,
   "id": "42f5aa5d",
   "metadata": {
    "tags": []
   },
   "outputs": [],
   "source": [
    "effect.entire.data <- NULL # YOUR CODE HERE\n",
    "effect.entire.data"
   ]
  },
  {
   "cell_type": "code",
   "execution_count": null,
   "id": "0e0d529a",
   "metadata": {
    "deletable": false,
    "editable": false
   },
   "outputs": [],
   "source": [
    ". = ottr::check(\"tests/q1.R\")"
   ]
  },
  {
   "cell_type": "markdown",
   "id": "ce7a92d8",
   "metadata": {
    "deletable": false,
    "editable": false
   },
   "source": [
    "----\n",
    "\n",
    "**Question 2. Compute the average effect of campaign persuasion in General elections (`General` equals `1`) _and_ when the Treatment was sent within 2 months of the election (`Treatment.within.2months.of.election` equals `1`).**\n",
    "\n",
    "To do this, first subset the data such that it contains only the rows rows where our `General` equals `1` and `Treatment.within.2months.of.election` equals `1` and store this subset as `general.closetoeday`. (Note: If you forgot how to subset on multiple variables, see the <a href=\"https://bcourses.berkeley.edu/courses/1505753/pages/r-cheat-sheet\" target=\"_blank\">R Cheat Sheet</a> Week 4.)\n",
    "\n",
    "Then, run the `weighted.mean()` function, computing the estimated average `effect` but weighted by `precision`.\n"
   ]
  },
  {
   "cell_type": "code",
   "execution_count": null,
   "id": "7c7ac2ad",
   "metadata": {
    "scrolled": false,
    "tags": []
   },
   "outputs": [],
   "source": [
    "# First, subset to general elections and close to election day\n",
    "general.closetoeday <- NULL # YOUR CODE HERE\n",
    "\n",
    "# Now, compute the weighted mean in this subset\n",
    "wm.general.closetoeday <- NULL # YOUR CODE HERE\n",
    "wm.general.closetoeday # Look at the result."
   ]
  },
  {
   "cell_type": "code",
   "execution_count": null,
   "id": "a2a0e272",
   "metadata": {
    "deletable": false,
    "editable": false
   },
   "outputs": [],
   "source": [
    ". = ottr::check(\"tests/q2.R\")"
   ]
  },
  {
   "cell_type": "markdown",
   "id": "545a7b4a",
   "metadata": {
    "deletable": false,
    "editable": false
   },
   "source": [
    "----\n",
    "\n",
    "**Question 3. Compute the average effect of campaign persuasion in General elections (`General` equals `1`) _and_ when the Treatment was sent _more than 2 months before_ election day (`Treatment.within.2months.of.election` equals `0`).**\n",
    "\n",
    "To do this, first subset the data such that it contains only the rows rows where our `General` equals `1` and `Treatment.within.2months.of.election` equals `0` and store the subset as `general.farfromeday`.\n",
    "\n",
    "Then, run the `weighted.mean()` function, computing the estimated average `effect` but weighted by `precision`.\n"
   ]
  },
  {
   "cell_type": "code",
   "execution_count": null,
   "id": "d3887db9",
   "metadata": {
    "scrolled": true,
    "tags": []
   },
   "outputs": [],
   "source": [
    "# First, subset to general elections and far from election day\n",
    "general.farfromeday <- NULL # YOUR CODE HERE\n",
    "\n",
    "# Now, compute the weighted mean in this subset\n",
    "wm.general.farfromeday <- NULL # YOUR CODE HERE\n",
    "wm.general.farfromeday # Look at the result."
   ]
  },
  {
   "cell_type": "code",
   "execution_count": null,
   "id": "c64d123e",
   "metadata": {
    "deletable": false,
    "editable": false
   },
   "outputs": [],
   "source": [
    ". = ottr::check(\"tests/q3.R\")"
   ]
  },
  {
   "cell_type": "markdown",
   "id": "2417dbe4",
   "metadata": {
    "deletable": false,
    "editable": false
   },
   "source": [
    "----\n",
    "\n",
    "**Question 4. Is the effect of campaign persuasion larger or smaller close to election day in general elections?** Enter your answer in the `q4.answer` variable.\n",
    "\n",
    "- `'a'`: The effect of campaign persuasion is larger closer to election day\n",
    "- `'b'`: The effect of campaign persuasion is larger further from election day\n",
    "\n",
    "_Note: This question will not tell you whether you got the right or wrong answer._\n"
   ]
  },
  {
   "cell_type": "code",
   "execution_count": null,
   "id": "4d65efd3",
   "metadata": {
    "tags": []
   },
   "outputs": [],
   "source": [
    "q4.answer <- '...'"
   ]
  },
  {
   "cell_type": "markdown",
   "id": "6f30674d",
   "metadata": {
    "deletable": false,
    "editable": false
   },
   "source": [
    "<!-- BEGIN QUESTION -->\n",
    "\n",
    "----\n",
    "\n",
    "**Question 5. What is your theory for why this might be?**\n",
    "\n",
    "**Please limit your answer between 2-3 sentences.**\n"
   ]
  },
  {
   "cell_type": "markdown",
   "id": "227676f9",
   "metadata": {},
   "source": [
    "_Type your answer here, replacing this text._"
   ]
  },
  {
   "cell_type": "markdown",
   "id": "49a940e2",
   "metadata": {
    "deletable": false,
    "editable": false
   },
   "source": [
    "<!-- END QUESTION -->\n",
    "\n",
    "<!-- BEGIN QUESTION -->\n",
    "\n",
    "----\n",
    "\n",
    "**Question 6. Imagine you have unlimited resources and are omnipotent (all-powerful). What kind of additional experiment or experiments could you conduct to help (at least partially) test the theory you developed in Question 5?**\n",
    "\n",
    "**Please limit your answer between 2-3 sentences.**\n"
   ]
  },
  {
   "cell_type": "markdown",
   "id": "7c727f87",
   "metadata": {},
   "source": [
    "_Type your answer here, replacing this text._"
   ]
  },
  {
   "cell_type": "markdown",
   "id": "5de4adb1",
   "metadata": {
    "deletable": false,
    "editable": false
   },
   "source": [
    "<!-- END QUESTION -->\n",
    "\n",
    "------\n",
    "\n",
    "**Question 7.** Which of the following statement(s) is / are true?\n",
    "\n",
    "1. Conducting a meta-analysis aggregates previous research findings\n",
    "2. Conducting a meta-analysis eliminates biases from flawed research designs\n",
    "\n",
    "- `'a'`: (1) only\n",
    "- `'b'`: (2) only\n",
    "- `'c'`: Both (1) and (2)\n",
    "- `'d'`: Neither (1) nor (2)\n",
    "\n",
    "Enter your answer below between quotes. For example, if you wanted to answer 'a', your answer would look like: `q7.answer <- 'a'`.\n"
   ]
  },
  {
   "cell_type": "code",
   "execution_count": null,
   "id": "38075f05",
   "metadata": {
    "tags": []
   },
   "outputs": [],
   "source": [
    "q7.answer <- '...'"
   ]
  },
  {
   "cell_type": "markdown",
   "id": "092055ce",
   "metadata": {},
   "source": [
    "-----"
   ]
  },
  {
   "cell_type": "markdown",
   "id": "caa2358c",
   "metadata": {
    "deletable": false,
    "editable": false
   },
   "source": [
    "## Submission\n",
    "\n",
    "Make sure you have run all cells in your notebook in order before running the cell below, so that all images/graphs appear in the output. The cell below will generate a zip file for you to submit."
   ]
  },
  {
   "cell_type": "code",
   "execution_count": null,
   "id": "a3c5be28",
   "metadata": {
    "deletable": false,
    "editable": false
   },
   "outputs": [],
   "source": [
    "ottr::export(\"Week8_Activity2group.ipynb\", pdf = TRUE, force_save = TRUE)"
   ]
  },
  {
   "cell_type": "markdown",
   "id": "c04e179e",
   "metadata": {},
   "source": [
    " "
   ]
  }
 ],
 "metadata": {
  "kernelspec": {
   "display_name": "R",
   "language": "R",
   "name": "ir"
  },
  "language_info": {
   "codemirror_mode": "r",
   "file_extension": ".r",
   "mimetype": "text/x-r-source",
   "name": "R",
   "pygments_lexer": "r",
   "version": "4.3.1"
  },
  "latex_envs": {
   "LaTeX_envs_menu_present": true,
   "autoclose": false,
   "autocomplete": true,
   "bibliofile": "biblio.bib",
   "cite_by": "apalike",
   "current_citInitial": 1,
   "eqLabelWithNumbers": true,
   "eqNumInitial": 1,
   "hotkeys": {
    "equation": "Ctrl-E",
    "itemize": "Ctrl-I"
   },
   "labels_anchors": false,
   "latex_user_defs": false,
   "report_style_numbering": false,
   "user_envs_cfg": false
  }
 },
 "nbformat": 4,
 "nbformat_minor": 5
}
