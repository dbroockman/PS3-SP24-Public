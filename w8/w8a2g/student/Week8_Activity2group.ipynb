{
 "cells": [
  {
   "cell_type": "markdown",
   "id": "c8bb7d24",
   "metadata": {},
   "source": [
    "# POLSCI 3\n",
    "\n",
    "## Week 8, Activity Notebook 2: Generalizability"
   ]
  },
  {
   "cell_type": "markdown",
   "id": "54dc5b8f",
   "metadata": {},
   "source": [
    "Run the below to read in the dataset."
   ]
  },
  {
   "cell_type": "code",
   "execution_count": null,
   "id": "47f7596d",
   "metadata": {
    "editable": false,
    "scrolled": false
   },
   "outputs": [],
   "source": [
    "library(testthat)\n",
    "library(estimatr)\n",
    "\n",
    "data <- read.csv(\"ps3_KB_campaign.csv\")\n",
    "head(data)"
   ]
  },
  {
   "cell_type": "markdown",
   "id": "053de874",
   "metadata": {},
   "source": [
    "Here is a quick rundown of what each column means:\n",
    "\n",
    "- `Experiment`: Paper reference of the experiment\n",
    "- `effect`: estimate of the effect size in the experiment\n",
    "- `SE`: standard error of the effect estimate in the experiment\n",
    "- `precision`: precision; this is how precise the experiment is. defined as $\\frac{1}{\\text{Standard Error}^2}$ (**weight by this variable**)\n",
    "- `General`: binary variable indicating whether the experiment was done in a general election (1 = yes, 0 = no)\n",
    "- `Primary`: binary variable indicating whether the experiment was done in a primary election (1 = yes, 0 = no). these elections are typically quieter\n",
    "- `Treatment.within.2months.of.election`: binary variable incating whether the experiment took place within 2 months of election day (1 = yes, was within 2 months; 0 = no, was more than 2 months before election day)"
   ]
  },
  {
   "cell_type": "markdown",
   "id": "4ac8b043",
   "metadata": {},
   "source": [
    "----\n",
    "\n",
    "**Question 1. Calculate the weighted mean of `effect`, weighting based on the `precision` column.** (I used this same line of code in Lecture.)\n",
    "\n",
    "Remember, use: `weighted.mean(variable, weight)`.\n"
   ]
  },
  {
   "cell_type": "code",
   "execution_count": null,
   "id": "7963f3df",
   "metadata": {
    "tags": []
   },
   "outputs": [],
   "source": [
    "effect.entire.data <- NULL # YOUR CODE HERE\n",
    "effect.entire.data"
   ]
  },
  {
   "cell_type": "code",
   "execution_count": null,
   "id": "62ce5782",
   "metadata": {
    "deletable": false,
    "editable": false
   },
   "outputs": [],
   "source": [
    ". = ottr::check(\"tests/q1.R\")"
   ]
  },
  {
   "cell_type": "markdown",
   "id": "1cf89a93",
   "metadata": {},
   "source": [
    "----\n",
    "\n",
    "**Question 2. Compute the average effect of campaign persuasion in General elections (`General` equals `1`) _and_ when the Treatment was sent within 2 months of the election (`Treatment.within.2months.of.election` equals `1`).**\n",
    "\n",
    "To do this, first subset the data such that it contains only the rows rows where our `General` equals `1` and `Treatment.within.2months.of.election` equals `1` and store this subset as `general.closetoeday`. (Note: If you forgot how to subset on multiple variables, see the <a href=\"https://bcourses.berkeley.edu/courses/1505753/pages/r-cheat-sheet\" target=\"_blank\">R Cheat Sheet</a> Week 4.)\n",
    "\n",
    "Then, run the `weighted.mean()` function, computing the estimated average `effect` but weighted by `precision`.\n"
   ]
  },
  {
   "cell_type": "code",
   "execution_count": null,
   "id": "bcb49452",
   "metadata": {
    "scrolled": false,
    "tags": []
   },
   "outputs": [],
   "source": [
    "# First, subset to general elections and close to election day\n",
    "general.closetoeday <- NULL # YOUR CODE HERE\n",
    "\n",
    "# Now, compute the weighted mean in this subset\n",
    "wm.general.closetoeday <- NULL # YOUR CODE HERE\n",
    "wm.general.closetoeday # Look at the result."
   ]
  },
  {
   "cell_type": "code",
   "execution_count": null,
   "id": "c28d9f61",
   "metadata": {
    "deletable": false,
    "editable": false
   },
   "outputs": [],
   "source": [
    ". = ottr::check(\"tests/q2.R\")"
   ]
  },
  {
   "cell_type": "markdown",
   "id": "b9c93c53",
   "metadata": {},
   "source": [
    "----\n",
    "\n",
    "**Question 3. Compute the average effect of campaign persuasion in General elections (`General` equals `1`) _and_ when the Treatment was sent _more than 2 months before_ election day (`Treatment.within.2months.of.election` equals `0`).**\n",
    "\n",
    "To do this, first subset the data such that it contains only the rows rows where our `General` equals `1` and `Treatment.within.2months.of.election` equals `0` and store the subset as `general.farfromeday`.\n",
    "\n",
    "Then, run the `weighted.mean()` function, computing the estimated average `effect` but weighted by `precision`.\n"
   ]
  },
  {
   "cell_type": "code",
   "execution_count": null,
   "id": "d15c3fea",
   "metadata": {
    "scrolled": true,
    "tags": []
   },
   "outputs": [],
   "source": [
    "# First, subset to general elections and far from election day\n",
    "general.farfromeday <- NULL # YOUR CODE HERE\n",
    "\n",
    "# Now, compute the weighted mean in this subset\n",
    "wm.general.farfromeday <- NULL # YOUR CODE HERE\n",
    "wm.general.farfromeday # Look at the result."
   ]
  },
  {
   "cell_type": "code",
   "execution_count": null,
   "id": "6dafc843",
   "metadata": {
    "deletable": false,
    "editable": false
   },
   "outputs": [],
   "source": [
    ". = ottr::check(\"tests/q3.R\")"
   ]
  },
  {
   "cell_type": "markdown",
   "id": "457a15e7",
   "metadata": {},
   "source": [
    "----\n",
    "\n",
    "**Question 4. Is the effect of campaign persuasion larger or smaller close to election day in general elections?** Enter your answer in the `q4.answer` variable.\n",
    "\n",
    "- `'a'`: The effect of campaign persuasion is larger closer to election day\n",
    "- `'b'`: The effect of campaign persuasion is larger further from election day\n",
    "\n",
    "_Note: This question will not tell you whether you got the right or wrong answer._\n"
   ]
  },
  {
   "cell_type": "code",
   "execution_count": null,
   "id": "a84d7c87",
   "metadata": {
    "tags": []
   },
   "outputs": [],
   "source": [
    "q4.answer <- '...'"
   ]
  },
  {
   "cell_type": "markdown",
   "id": "90136bab",
   "metadata": {},
   "source": [
    "<!-- BEGIN QUESTION -->\n",
    "\n",
    "----\n",
    "\n",
    "**Question 5. What is your theory for why this might be?**\n",
    "\n",
    "**Please limit your answer between 2-3 sentences.**\n"
   ]
  },
  {
   "cell_type": "markdown",
   "id": "98f81c9e",
   "metadata": {},
   "source": [
    "_Type your answer here, replacing this text._"
   ]
  },
  {
   "cell_type": "markdown",
   "id": "a0891653",
   "metadata": {},
   "source": [
    "<!-- END QUESTION -->\n",
    "\n",
    "<!-- BEGIN QUESTION -->\n",
    "\n",
    "----\n",
    "\n",
    "**Question 6. Imagine you have unlimited resources and are omnipotent (all-powerful). What kind of additional experiment or experiments could you conduct to help (at least partially) test the theory you developed in Question 5?**\n",
    "\n",
    "**Please limit your answer between 2-3 sentences.**\n"
   ]
  },
  {
   "cell_type": "markdown",
   "id": "2e651e41",
   "metadata": {},
   "source": [
    "_Type your answer here, replacing this text._"
   ]
  },
  {
   "cell_type": "markdown",
   "id": "ba5779bb",
   "metadata": {},
   "source": [
    "<!-- END QUESTION -->\n",
    "\n",
    "------\n",
    "\n",
    "**Question 7.** Which of the following statement(s) is / are true?\n",
    "\n",
    "1. Conducting a meta-analysis aggregates previous research findings\n",
    "2. Conducting a meta-analysis eliminates biases from flawed research designs\n",
    "\n",
    "- `'a'`: (1) only\n",
    "- `'b'`: (2) only\n",
    "- `'c'`: Both (1) and (2)\n",
    "- `'d'`: Neither (1) nor (2)\n",
    "\n",
    "Enter your answer below between quotes. For example, if you wanted to answer 'a', your answer would look like: `q7.answer <- 'a'`.\n"
   ]
  },
  {
   "cell_type": "code",
   "execution_count": null,
   "id": "91d348ea",
   "metadata": {
    "tags": []
   },
   "outputs": [],
   "source": [
    "q7.answer <- '...'"
   ]
  },
  {
   "cell_type": "markdown",
   "id": "e7644bd5",
   "metadata": {},
   "source": [
    "-----\n",
    "\n",
    "# Submitting Your Notebook (please read carefully!)\n",
    "\n",
    "To submit your notebook...\n",
    "\n",
    "### 1. Click `File` $\\rightarrow$ `Save and Checkpoint`.\n",
    "\n",
    "### 2. Wait 5 seconds.\n",
    "\n",
    "### 3. Select the cell below and hit run."
   ]
  },
  {
   "cell_type": "code",
   "execution_count": null,
   "id": "2647749c",
   "metadata": {},
   "outputs": [],
   "source": [
    "ottr::export(\"Week8_Activity2group.ipynb\", pdf = TRUE)"
   ]
  },
  {
   "cell_type": "markdown",
   "id": "fffd681a",
   "metadata": {},
   "source": [
    "Congratulations on finishing Week's 8 Activity notebook 2!"
   ]
  },
  {
   "cell_type": "markdown",
   "id": "0699e69e",
   "metadata": {},
   "source": [
    "After you hit \"Run\" on the cell above, wait for a moment (about 5 seconds), then click the download link. A .zip file should download to your computer.\n",
    "\n",
    "(If you make changes to your notebook, you'll need to hit save and then run the cell above again before you submit to get a new version of it.)\n",
    "\n",
    "### 4. Submit the .zip file you just downloaded <a href=\"https://www.gradescope.com/\" target=\"_blank\">on Gradescope here</a>.\n",
    "\n",
    "Notes:\n",
    "\n",
    "- **This does not seem to work on Chrome for iPad or iPhone.** If you're using an iPad or iPhone, you need to download the file using **Safari**.\n",
    "- If your web browser automatically unzips the .zip file (so you see a folder instead of a .zip file), you can just upload the .ipynb file that is inside the folder.\n",
    "- If this method is not working for you, try the \"old way\": hit `File`, then `Download as`, then `Notebook (.ipynb)` and submit that."
   ]
  }
 ],
 "metadata": {
  "kernelspec": {
   "display_name": "R",
   "language": "R",
   "name": "ir"
  },
  "language_info": {
   "codemirror_mode": "r",
   "file_extension": ".r",
   "mimetype": "text/x-r-source",
   "name": "R",
   "pygments_lexer": "r",
   "version": "4.1.2"
  },
  "latex_envs": {
   "LaTeX_envs_menu_present": true,
   "autoclose": false,
   "autocomplete": true,
   "bibliofile": "biblio.bib",
   "cite_by": "apalike",
   "current_citInitial": 1,
   "eqLabelWithNumbers": true,
   "eqNumInitial": 1,
   "hotkeys": {
    "equation": "Ctrl-E",
    "itemize": "Ctrl-I"
   },
   "labels_anchors": false,
   "latex_user_defs": false,
   "report_style_numbering": false,
   "user_envs_cfg": false
  }
 },
 "nbformat": 4,
 "nbformat_minor": 5
}
