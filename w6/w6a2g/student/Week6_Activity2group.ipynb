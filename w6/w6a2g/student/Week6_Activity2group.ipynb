{
 "cells": [
  {
   "cell_type": "markdown",
   "metadata": {},
   "source": [
    "# POLSCI 3"
   ]
  },
  {
   "cell_type": "markdown",
   "metadata": {},
   "source": [
    "## Week 6, Activity 2: Practice with _p_-values"
   ]
  },
  {
   "cell_type": "code",
   "execution_count": null,
   "metadata": {},
   "outputs": [],
   "source": [
    "#RUN THIS CELL\n",
    "library(testthat)\n",
    "library(estimatr)"
   ]
  },
  {
   "cell_type": "markdown",
   "metadata": {},
   "source": [
    "Ever since you've been young, you've had an amazing talent -- or at least you think you do: you can tell the difference between the taste of normal Coca-Cola (\"coke\") and caffeine-free Coca-Cola (\"decaf coke\"). They are supposed to taste identical and just be different because of how much caffeine is in them. But you think you can actually taste the caffeine!\n",
    "\n",
    "One of your friends, Oliver, has never believed you can do this. Moreover, he's gotten so tired of hearing you brag about being able to tell the difference between coke and caffeine-free coke, he's decided to set up a test to figure out if you can really can tell the difference.\n",
    "\n",
    "Here's how the test will work. Oliver will set up 6 cups. In some he's going to pour coke and in some he's going to pour caffeine-free coke, but you won't know which ones. You'll then taste each of the 6 and tell him what you think is in each one. He'll then calculate how often you get it right."
   ]
  },
  {
   "cell_type": "markdown",
   "metadata": {},
   "source": [
    "-------\n",
    "\n",
    "**Question 1.** Oliver is skeptical that you can tell the difference between coke and caffeine-free coke, and your goal is to prove him wrong. **From your perspective in this situation, which of the following is the null hypothesis?**\n",
    "\n",
    "- `'a'`: That you can't tell the difference between coke and caffeine-free coke\n",
    "- `'b'`: That you can tell the difference between coke and caffeine-free coke\n",
    "- `'c'`: That you will correctly guess what's in all 6 cups\n",
    "- `'d'`: That you won't correctly guess what's in all 6 cups\n",
    "\n",
    "Replace the `...` below with your answer. For example, to answer `'a'`, write `q1.answer <- 'a'`.\n"
   ]
  },
  {
   "cell_type": "code",
   "execution_count": null,
   "metadata": {
    "tags": []
   },
   "outputs": [],
   "source": [
    "# Put your answer where the ... is below. Leave the quotes there.\n",
    "# For example, to answer a, your answer would look like this: 'a'\n",
    "q1.answer <- '...'"
   ]
  },
  {
   "cell_type": "markdown",
   "metadata": {},
   "source": [
    "------\n",
    "\n",
    "Oliver lines up the 6 cups and you taste each one. You tell him whether you think each one has caffeine-free coke or coke in it. Finally, he delivers the verdict: you were able to correctly guess 5 of the 6.\n",
    "\n",
    "You and Oliver both scratch your heads. What does this mean?\n",
    "\n",
    "In this situation, even if you couldn't tell the difference between caffeine-free coke and coke at all, the probability you would have correctly guessed what was in at least 5 of the 6 cups by chance is as follows (just run the cell below to see the answer):"
   ]
  },
  {
   "cell_type": "code",
   "execution_count": null,
   "metadata": {
    "editable": false
   },
   "outputs": [],
   "source": [
    "mean(rbinom(1000000, 6, .5) >= 5)"
   ]
  },
  {
   "cell_type": "markdown",
   "metadata": {},
   "source": [
    "**Question 2.** Is this $p$-value \"statistically significant\" (when using the conventional definition of statistical significance I covered in lecture)?\n",
    "\n",
    "Enter `TRUE` or `FALSE` below (without quotes). For example, if you think the answer is true, you would write `p.val.is.stat.sig <- TRUE`.\n"
   ]
  },
  {
   "cell_type": "code",
   "execution_count": null,
   "metadata": {
    "tags": []
   },
   "outputs": [],
   "source": [
    "p.val.is.stat.sig <- NULL # YOUR CODE HERE"
   ]
  },
  {
   "cell_type": "markdown",
   "metadata": {},
   "source": [
    "<!-- BEGIN QUESTION -->\n",
    "\n",
    "------\n",
    "\n",
    "**Question 3.** Gloating, Oliver says the following after announcing your results:\n",
    "\n",
    "> It's reasonably likely that you could have guessed 5 of the 6 by chance. This shows that you can't tell the difference between coke and caffeine-free coke at all.\n",
    "\n",
    "Is his interpretation correct? If so, why? If not, why not, and what is the correct interpretation of the results?\n",
    "\n",
    "**Please limit your answer to 2-4 sentences.**\n"
   ]
  },
  {
   "cell_type": "markdown",
   "metadata": {},
   "source": [
    "_Type your answer here, replacing this text._"
   ]
  },
  {
   "cell_type": "markdown",
   "metadata": {},
   "source": [
    "<!-- END QUESTION -->\n",
    "\n",
    "-------\n",
    "\n",
    "You're not sure how it's possible that you missed what was in one of the cups. You inspect them more carefully, and it turns out that Oliver cheated! In one of the cups, Oliver put in Coke Zero, which is a third kind of coke. No wonder you weren't able to tell!\n",
    "\n",
    "Oliver admits to cheating and apologizes, and suggests you calculate the $p$-value again using data from just the five cups that actually had either caffeine-free coke or regular coke in them. Of the five cups that actually had either regular coke or caffeine-free coke, you guessed all five correctly! The chance you would have guessed all five of those correctly even if you couldn't tell the difference at all is (just run the cell below to see the answer):"
   ]
  },
  {
   "cell_type": "code",
   "execution_count": null,
   "metadata": {
    "editable": false
   },
   "outputs": [],
   "source": [
    "mean(rbinom(1000000, 5, .5) >= 5)"
   ]
  },
  {
   "cell_type": "markdown",
   "metadata": {},
   "source": [
    "------\n",
    "\n",
    "**Question 4.** Consider the following three statements:\n",
    "\n",
    "1. The study demonstrates that Oliver is wrong and that you definitely can tell the difference between coke and caffeine-free coke.\n",
    "2. Because it is unlikely you would have guessed all 5 correctly if you couldn't tell the difference, by conventional social scientific standards we declare Oliver's skepticism disproven. However, there is still some chance Oliver might be right and you cannot actually tell the difference.\n",
    "3. There is only a 3% chance that you cannot tell the difference between caffeine-free coke and coke.\n",
    "\n",
    "Which of these statements are correct interpretations of the $p$-value from the study that you and Oliver conducted?\n",
    "\n",
    "- `'a'`: 1. only\n",
    "- `'b'`: 2. only\n",
    "- `'c'`: 3. only\n",
    "- `'d'`: 1. and 2.\n",
    "- `'e'`: 1. and 3.\n",
    "- `'f'`: 2. and 3.\n",
    "- `'g'`: All three statements\n",
    "- `'h'`: None of the three statements\n",
    "\n",
    "Replace the `...` below with your answer. For example, to answer `'a'`, you would write `q4.answer <- 'a'`.\n"
   ]
  },
  {
   "cell_type": "code",
   "execution_count": null,
   "metadata": {
    "tags": []
   },
   "outputs": [],
   "source": [
    "# Put your answer where the ... is below. Leave the quotes there.\n",
    "# For example, to answer a, your answer would look like this: 'a'\n",
    "q4.answer <- '...'"
   ]
  },
  {
   "cell_type": "markdown",
   "metadata": {},
   "source": [
    "-------\n",
    "\n",
    "**Question 5.** Your showdown with Oliver went viral on TikTok, and now other people who think they can tell the difference between caffeine-free coke and regular coke start doing their own challenges. The problem is that these people haven't taken this class and so aren't sure how to interpret the $p$-values from their studies.\n",
    "\n",
    "Two people message you two ask you how to interpret their $p$-value. Person A's $p$-value is 0.03. Person B's $p$-value is 0.8.\n",
    "\n",
    "Which one of the following statements is true?\n",
    "\n",
    "- `'a'`: Both Person A and Person B definitely can*not* tell the difference\n",
    "- `'b'`: Person A definitely can*not* tell the difference; but Person B might be able to tell the difference\n",
    "- `'c'`: Person A might be able to tell the difference; but Person B definitely can*not* tell the difference\n",
    "- `'d'`: Both Person A and Person B might be able to tell the difference\n",
    "\n",
    "Replace the `'...'` below with the right answer. For example, to answer `'a'`, your code below would be `q5.answer <- 'a'`.\n"
   ]
  },
  {
   "cell_type": "code",
   "execution_count": null,
   "metadata": {
    "tags": []
   },
   "outputs": [],
   "source": [
    "# Put your answer where the ... is below. Leave the quotes there.\n",
    "# For example, to answer a, your answer would look like this: 'a'\n",
    "q5.answer <- '...'"
   ]
  },
  {
   "cell_type": "markdown",
   "metadata": {},
   "source": [
    "------\n",
    "\n",
    "# Submitting Your Notebook (please read carefully!)\n",
    "\n",
    "To submit your notebook...\n",
    "\n",
    "### 1. Click `File` $\\rightarrow$ `Save and Checkpoint`.\n",
    "\n",
    "### 2. Wait 5 seconds.\n",
    "\n",
    "### 3. Select the cell below and hit run."
   ]
  },
  {
   "cell_type": "code",
   "execution_count": null,
   "metadata": {},
   "outputs": [],
   "source": [
    "ottr::export(\"Week6_Activity2group.ipynb\", pdf = TRUE)"
   ]
  },
  {
   "cell_type": "markdown",
   "metadata": {},
   "source": [
    "After you hit \"Run\" on the cell above, click the download link. A .zip file should download to your computer.\n",
    "\n",
    "(If you make changes to your notebook, you'll need to hit save and then run the cell above again before you submit to get a new version of it.)\n",
    "\n",
    "### 4. Submit the .zip file you just downloaded <a href=\"https://www.gradescope.com/courses/352161\" target=\"_blank\">on Gradescope here</a>.\n",
    "\n",
    "Notes:\n",
    "\n",
    "- **This does not seem to work on Chrome for iPad or iPhone.** If you're using an iPad or iPhone, you need to download the file using **Safari**.\n",
    "- If your web browser automatically unzips the .zip file (so you see a folder instead of a .zip file), you can just upload the .ipynb file that is inside the folder.\n",
    "- If this method is not working for you, try the \"old way\": hit `File`, then `Download as`, then `Notebook (.ipynb)` and submit that.\n",
    "\n",
    "### 5. Add your group members' names in Gradescope so they can see your grades."
   ]
  },
  {
   "cell_type": "markdown",
   "metadata": {},
   "source": [
    "------\n",
    "\n",
    "This assignment was inspired by a famous episode in the history of statistics, when $p$-values were first invented by Ronald Fisher. You can read more about it here: https://en.wikipedia.org/wiki/Lady_tasting_tea."
   ]
  }
 ],
 "metadata": {
  "kernelspec": {
   "display_name": "R",
   "language": "R",
   "name": "ir"
  },
  "language_info": {
   "codemirror_mode": "r",
   "file_extension": ".r",
   "mimetype": "text/x-r-source",
   "name": "R",
   "pygments_lexer": "r",
   "version": "4.1.2"
  },
  "latex_envs": {
   "LaTeX_envs_menu_present": true,
   "autoclose": false,
   "autocomplete": true,
   "bibliofile": "biblio.bib",
   "cite_by": "apalike",
   "current_citInitial": 1,
   "eqLabelWithNumbers": true,
   "eqNumInitial": 1,
   "hotkeys": {
    "equation": "Ctrl-E",
    "itemize": "Ctrl-I"
   },
   "labels_anchors": false,
   "latex_user_defs": false,
   "report_style_numbering": false,
   "user_envs_cfg": false
  }
 },
 "nbformat": 4,
 "nbformat_minor": 4
}
