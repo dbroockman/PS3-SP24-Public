{
 "cells": [
  {
   "cell_type": "markdown",
   "id": "a5655ad7",
   "metadata": {
    "tags": [
     "include"
    ]
   },
   "source": [
    "# POLSCI 3\n",
    "\n",
    "## Week 6 Activity 1: Standard errors, distinction between bias and noise"
   ]
  },
  {
   "cell_type": "markdown",
   "id": "aa4ab1c8",
   "metadata": {},
   "source": [
    "For this particular activity, we will be revisiting the `difference_in_means()` function from the `estimatr` package in order for us to make some inferences about our `ps3_lobbying.csv` data."
   ]
  },
  {
   "cell_type": "markdown",
   "id": "54e2ac22",
   "metadata": {},
   "source": [
    "### Part 1: Importing the Data"
   ]
  },
  {
   "cell_type": "markdown",
   "id": "f539ba4d",
   "metadata": {},
   "source": [
    "Run the cell below to import the packages we need and then save the dataset from the social lobbying study into a dataset called `data`."
   ]
  },
  {
   "cell_type": "code",
   "execution_count": null,
   "id": "dddfb51c",
   "metadata": {},
   "outputs": [],
   "source": [
    "#RUN THIS CELL\n",
    "library(testthat)\n",
    "library(estimatr)\n",
    "\n",
    "data <- read.csv('ps3_lobbying.csv')\n",
    "head(data)"
   ]
  },
  {
   "cell_type": "markdown",
   "id": "2f2330e2",
   "metadata": {},
   "source": [
    "Here is a quick reminder of what each column means:\n",
    "\n",
    "- `caseid`: Number indicating each legislator/district (Total 120)\n",
    "- `supportgroup`: This is the *outcome*. It is a measure of whether the legislator agreed to list their name publicly as a \"sponsor\" of the bill.\n",
    "- `treat`: This is the *treatment*. It has several possible values:\n",
    "    - `\"control\"`: the office received no contact from the lobbyist\n",
    "    - `\"officelobby\"`: the legislator was asked to meet to discuss the bill in their office\n",
    "    - `\"sociallobby\"`: the legislator was asked to meet to discuss the bill at a social location (a restaurant or bar)\n",
    "- `ally`: The authors thought that social lobbying might be especially effective among legislators who had supported the group's priorities in the past. To measure this, they asked the lobbyist: \"In your opinion, how well does the phrase ‘ally of the interest group’ describe the legislator?\" This is therefore the lobbyists' rating of whether the legislator is an ally of the interest group (values 0, 1/3, 2/3, and 1).\n",
    "- `female` : legislator gender, 1 = legislator is female; 0 = not\n",
    "\n",
    "Again, here is what `treat` looks like:"
   ]
  },
  {
   "cell_type": "code",
   "execution_count": null,
   "id": "4dc3d481",
   "metadata": {},
   "outputs": [],
   "source": [
    "table(data$treat)"
   ]
  },
  {
   "cell_type": "markdown",
   "id": "761feea5",
   "metadata": {},
   "source": [
    "-----\n",
    "\n",
    "### Part 2: Data Analysis"
   ]
  },
  {
   "cell_type": "markdown",
   "id": "3ed21c1f",
   "metadata": {},
   "source": [
    "**Question 1.** Use the `difference_in_means()` function to estimate the effect of the *office lobbying* treatment, relative to the control group. Store the results in `office.effect`.\n"
   ]
  },
  {
   "cell_type": "code",
   "execution_count": null,
   "id": "f662aa0a",
   "metadata": {
    "tags": []
   },
   "outputs": [],
   "source": [
    "#Estimate the treatment effect using difference_in_means()\n",
    "office.effect <- NULL # YOUR CODE HERE\n",
    "office.effect"
   ]
  },
  {
   "cell_type": "code",
   "execution_count": null,
   "id": "d018e18e",
   "metadata": {
    "deletable": false,
    "editable": false
   },
   "outputs": [],
   "source": [
    ". = ottr::check(\"tests/q1.R\")"
   ]
  },
  {
   "cell_type": "markdown",
   "id": "e1158a11",
   "metadata": {},
   "source": [
    "-------------------------------------------------------------------------------"
   ]
  },
  {
   "cell_type": "markdown",
   "id": "c0248790",
   "metadata": {},
   "source": [
    "**Question 2.** Can you identify which part of the output above contains the Standard Error? Copy down at least the first 5 digits of the standard error from Question 1 `std.error` and store it in `std.error`. (You can copy and paste the entire standard error (that is, all the digits) if you want.)\n"
   ]
  },
  {
   "cell_type": "code",
   "execution_count": null,
   "id": "8663ec5a",
   "metadata": {
    "tags": []
   },
   "outputs": [],
   "source": [
    "# Copy down the first 5 digits below.\n",
    "std.error <- NULL # YOUR CODE HERE\n",
    "std.error"
   ]
  },
  {
   "cell_type": "code",
   "execution_count": null,
   "id": "2a55ce86",
   "metadata": {
    "deletable": false,
    "editable": false
   },
   "outputs": [],
   "source": [
    ". = ottr::check(\"tests/q2.R\")"
   ]
  },
  {
   "cell_type": "markdown",
   "id": "ffecce85",
   "metadata": {},
   "source": [
    "-------------------------------------------------------------------------------"
   ]
  },
  {
   "cell_type": "markdown",
   "id": "ff732baf",
   "metadata": {},
   "source": [
    "**Question 3.** Thinking about the standard error of this study, which of the following is **NOT** correct?\n",
    "\n",
    "- `a`: This standard error helps measure how much we'd expect the estimate from the experiment to differ from the truth (the real effect) by chance.\n",
    "- `b`: All else equal, if the sample size of (that is, number of observations in) this study were larger, the standard error would be smaller.\n",
    "- `c`: This standard error helps measure how biased the experiment is. If the experiment had no bias, the standard error would be zero.\n",
    "- `d`: The fact that the estimate is small relative to the standard error indicates that we can't be very confident the true effect of this treatment is different from zero.\n",
    "\n",
    "Replace the `'...'` below with the right answer. For example, to answer `'a'`, your code below would be `q3.answer <- 'a'`.\n"
   ]
  },
  {
   "cell_type": "code",
   "execution_count": null,
   "id": "b08a373c",
   "metadata": {
    "tags": []
   },
   "outputs": [],
   "source": [
    "# Put your answer where the ... is below. Leave the quotes there.\n",
    "# For example, to answer a, your answer would look like this: 'a'\n",
    "q3.answer <- '...'"
   ]
  },
  {
   "cell_type": "markdown",
   "id": "a63a9117",
   "metadata": {},
   "source": [
    "-------\n",
    "\n",
    "**Question 4.** Suppose we were to double the `supportgroup` outcome so that it had values of 0 and 2 instead of 0 and 1. This would double both the standard deviation of the variable and the estimated effect. Based on the formulas for the standard error and the t-statistic (hint: see Week 6, Lecture 1), which of the following most accurately describes what would happen?\n",
    "\n",
    "- `a`: The standard error stays the same, and the t-statistic stays the same\n",
    "- `b`: The standard error increases, and the t-statistic stays the same\n",
    "- `c`: The standard error stays the same, and the t-statistic increases\n",
    "- `d`: The standard error increases, and the t-statistic increases\n",
    "\n",
    "Replace the `'...'` below with the right answer. For example, to answer `'a'`, your code below would be `q4.answer <- 'a'`.\n"
   ]
  },
  {
   "cell_type": "code",
   "execution_count": null,
   "id": "aff66fb6",
   "metadata": {
    "tags": []
   },
   "outputs": [],
   "source": [
    "# Put your answer where the ... is below. Leave the quotes there.\n",
    "# For example, to answer a, your answer would look like this: 'a'\n",
    "q4.answer <- '...'"
   ]
  },
  {
   "cell_type": "markdown",
   "id": "c6568f8d",
   "metadata": {},
   "source": [
    "-------------------------------------------------------------------------------"
   ]
  },
  {
   "cell_type": "markdown",
   "id": "cf5cf700",
   "metadata": {},
   "source": [
    "**Question 5.** You found that the estimated effect of the office lobbying treatment is:"
   ]
  },
  {
   "cell_type": "code",
   "execution_count": null,
   "id": "c51f04b3",
   "metadata": {},
   "outputs": [],
   "source": [
    "office.effect$coefficient"
   ]
  },
  {
   "cell_type": "markdown",
   "id": "e4e8de92",
   "metadata": {},
   "source": [
    "And you found that the standard error is:"
   ]
  },
  {
   "cell_type": "code",
   "execution_count": null,
   "id": "81c4630f",
   "metadata": {},
   "outputs": [],
   "source": [
    "std.error"
   ]
  },
  {
   "cell_type": "markdown",
   "id": "c99b1c07",
   "metadata": {},
   "source": [
    "A lobbyist who hasn't taken this class sees that the estimated effect of office lobbying in this experiment is negative. She asks you how she should interpret the data. Does the fact that there is a negative estimated effect in the experiment mean that the experiment **demonstrates for sure** that the office lobbying done in this study was actually counterproductive?\n",
    "\n",
    "*Hint: Replace the `...` below with `TRUE` if you think this experiment demonstrates that the office lobbying it studied was counterproductive and `FALSE` if you think it does not demonstrate that.*\n"
   ]
  },
  {
   "cell_type": "code",
   "execution_count": null,
   "id": "6c700bd5",
   "metadata": {
    "tags": []
   },
   "outputs": [],
   "source": [
    "experiment.demonstrates.office.lobbying.reduced.bill.support <- NULL # YOUR CODE HERE"
   ]
  },
  {
   "cell_type": "markdown",
   "id": "0aa6ab08",
   "metadata": {},
   "source": [
    "# Submitting Your Notebook (please read carefully!)\n",
    "\n",
    "To submit your notebook...\n",
    "\n",
    "### 1. Click `File` $\\rightarrow$ `Save and Checkpoint`.\n",
    "\n",
    "### 2. Wait 5 seconds.\n",
    "\n",
    "### 3. Select the cell below and hit run. Then wait 5-10 seconds."
   ]
  },
  {
   "cell_type": "code",
   "execution_count": null,
   "id": "db431996",
   "metadata": {},
   "outputs": [],
   "source": [
    "ottr::export(\"Week6_Activity1group.ipynb\")"
   ]
  },
  {
   "cell_type": "markdown",
   "id": "0a59010c",
   "metadata": {},
   "source": [
    "After you hit \"Run\" on the cell above, wait for a moment (about 5 seconds), then click the download link. A .zip file should download to your computer.\n",
    "\n",
    "(If you make changes to your notebook, you'll need to hit save and then run the cell above again before you submit to get a new version of it.)\n",
    "\n",
    "### 4. Submit the .zip file you just downloaded <a href=\"https://www.gradescope.com/courses/352161\" target=\"_blank\">on Gradescope here</a>.\n",
    "\n",
    "Notes:\n",
    "\n",
    "- **This does not seem to work on Chrome for iPad or iPhone.** If you're using an iPad or iPhone, you need to download the file using **Safari**.\n",
    "- If your web browser automatically unzips the .zip file (so you see a folder instead of a .zip file), you can just upload the .ipynb file that is inside the folder.\n",
    "- If this method is not working for you, try the \"old way\": hit `File`, then `Download as`, then `Notebook (.ipynb)` and submit that.\n",
    "\n",
    "### 5. Add your group members' names in Gradescope."
   ]
  }
 ],
 "metadata": {
  "kernelspec": {
   "display_name": "R",
   "language": "R",
   "name": "ir"
  },
  "language_info": {
   "codemirror_mode": "r",
   "file_extension": ".r",
   "mimetype": "text/x-r-source",
   "name": "R",
   "pygments_lexer": "r",
   "version": "4.1.2"
  },
  "latex_envs": {
   "LaTeX_envs_menu_present": true,
   "autoclose": false,
   "autocomplete": true,
   "bibliofile": "biblio.bib",
   "cite_by": "apalike",
   "current_citInitial": 1,
   "eqLabelWithNumbers": true,
   "eqNumInitial": 1,
   "hotkeys": {
    "equation": "Ctrl-E",
    "itemize": "Ctrl-I"
   },
   "labels_anchors": false,
   "latex_user_defs": false,
   "report_style_numbering": false,
   "user_envs_cfg": false
  }
 },
 "nbformat": 4,
 "nbformat_minor": 5
}
