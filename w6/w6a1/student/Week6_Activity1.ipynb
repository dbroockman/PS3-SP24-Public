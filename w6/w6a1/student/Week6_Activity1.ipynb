{
 "cells": [
  {
   "cell_type": "markdown",
   "id": "9890d5c2",
   "metadata": {
    "tags": [
     "include"
    ]
   },
   "source": [
    "# POLSCI 3\n",
    "\n",
    "## Week 6 Activity 1: Standard errors, distinction between bias and noise"
   ]
  },
  {
   "cell_type": "markdown",
   "id": "038d0d2a",
   "metadata": {},
   "source": [
    "For this particular activity, we will be revisiting the `difference_in_means()` function from the `estimatr` package in order for us to make some inferences about our `ps3_lobbying.csv` data."
   ]
  },
  {
   "cell_type": "markdown",
   "id": "e3ccc716",
   "metadata": {},
   "source": [
    "### Part 1: Importing the Data"
   ]
  },
  {
   "cell_type": "markdown",
   "id": "613c4674",
   "metadata": {},
   "source": [
    "Run the cell below to import the packages we need and then save the dataset from the social lobbying study into a dataset called `data`."
   ]
  },
  {
   "cell_type": "code",
   "execution_count": null,
   "id": "f0032d3d",
   "metadata": {},
   "outputs": [],
   "source": [
    "#RUN THIS CELL\n",
    "library(testthat)\n",
    "library(estimatr)\n",
    "\n",
    "data <- read.csv('ps3_lobbying.csv')\n",
    "head(data)"
   ]
  },
  {
   "cell_type": "markdown",
   "id": "25d226c3",
   "metadata": {},
   "source": [
    "Here is a quick reminder of what each column means:\n",
    "\n",
    "- `caseid`: Number indicating each legislator/district (Total 120)\n",
    "- `supportgroup`: This is the *outcome*. It is a measure of whether the legislator agreed to list their name publicly as a \"sponsor\" of the bill.\n",
    "- `treat`: This is the *treatment*. It has several possible values:\n",
    "    - `\"control\"`: the office received no contact from the lobbyist\n",
    "    - `\"officelobby\"`: the legislator was asked to meet to discuss the bill in their office\n",
    "    - `\"sociallobby\"`: the legislator was asked to meet to discuss the bill at a social location (a restaurant or bar)\n",
    "- `ally`: The authors thought that social lobbying might be especially effective among legislators who had supported the group's priorities in the past. To measure this, they asked the lobbyist: \"In your opinion, how well does the phrase ‘ally of the interest group’ describe the legislator?\" This is therefore the lobbyists' rating of whether the legislator is an ally of the interest group (values 0, 1/3, 2/3, and 1).\n",
    "- `female` : legislator gender, 1 = legislator is female; 0 = not\n",
    "\n",
    "Again, here is what `treat` looks like:"
   ]
  },
  {
   "cell_type": "code",
   "execution_count": null,
   "id": "fabf0627",
   "metadata": {},
   "outputs": [],
   "source": [
    "table(data$treat)"
   ]
  },
  {
   "cell_type": "markdown",
   "id": "3d9e3e04",
   "metadata": {},
   "source": [
    "-----\n",
    "\n",
    "### Part 2: Data Analysis"
   ]
  },
  {
   "cell_type": "markdown",
   "id": "3d36cadb",
   "metadata": {
    "deletable": false,
    "editable": false
   },
   "source": [
    "**Question 1.** Use the `difference_in_means()` function to estimate the effect of the *office lobbying* treatment, relative to the control group. Store the results in `office.effect`.\n"
   ]
  },
  {
   "cell_type": "code",
   "execution_count": null,
   "id": "79e1183b",
   "metadata": {
    "tags": []
   },
   "outputs": [],
   "source": [
    "#Estimate the treatment effect using difference_in_means()\n",
    "office.effect <- NULL # YOUR CODE HERE\n",
    "office.effect"
   ]
  },
  {
   "cell_type": "markdown",
   "id": "3e4d29bf",
   "metadata": {},
   "source": [
    "-------------------------------------------------------------------------------"
   ]
  },
  {
   "cell_type": "markdown",
   "id": "412381b0",
   "metadata": {
    "deletable": false,
    "editable": false
   },
   "source": [
    "**Question 2.** Can you identify which part of the output above contains the Standard Error? Copy down at least the first 5 digits of the standard error from Question 1 `std.error` and store it in `std.error`. (You can copy and paste the entire standard error (that is, all the digits) if you want.)\n"
   ]
  },
  {
   "cell_type": "code",
   "execution_count": null,
   "id": "23405f70",
   "metadata": {
    "tags": []
   },
   "outputs": [],
   "source": [
    "# Copy down the first 5 digits below.\n",
    "std.error <- NULL # YOUR CODE HERE\n",
    "std.error"
   ]
  },
  {
   "cell_type": "markdown",
   "id": "9d1ac982",
   "metadata": {},
   "source": [
    "-------------------------------------------------------------------------------"
   ]
  },
  {
   "cell_type": "markdown",
   "id": "a7fb6808",
   "metadata": {
    "deletable": false,
    "editable": false
   },
   "source": [
    "**Question 3.** Thinking about the standard error of this study, which of the following is **NOT** correct?\n",
    "\n",
    "- `a`: This standard error helps measure how much we'd expect the estimate from the experiment to differ from the truth (the real effect) by chance.\n",
    "- `b`: All else equal, if the sample size of (that is, number of observations in) this study were larger, the standard error would be smaller.\n",
    "- `c`: This standard error helps measure how biased the experiment is. If the experiment had no bias, the standard error would be zero.\n",
    "- `d`: The fact that the estimate is small relative to the standard error indicates that we can't be very confident the true effect of this treatment is different from zero.\n",
    "\n",
    "Replace the `'...'` below with the right answer. For example, to answer `'a'`, your code below would be `q3.answer <- 'a'`.\n"
   ]
  },
  {
   "cell_type": "code",
   "execution_count": null,
   "id": "b1976a27",
   "metadata": {
    "tags": []
   },
   "outputs": [],
   "source": [
    "# Put your answer where the ... is below. Leave the quotes there.\n",
    "# For example, to answer a, your answer would look like this: 'a'\n",
    "q3.answer <- '...'"
   ]
  },
  {
   "cell_type": "markdown",
   "id": "d889db9d",
   "metadata": {
    "deletable": false,
    "editable": false
   },
   "source": [
    "-------\n",
    "\n",
    "**Question 4.** Suppose we were to double the `supportgroup` outcome so that it had values of 0 and 2 instead of 0 and 1. This would double both the standard deviation of the variable and the estimated effect. Based on the formulas for the standard error and the t-statistic (hint: see Week 6, Lecture 1), which of the following most accurately describes what would happen?\n",
    "\n",
    "- `a`: The standard error stays the same, and the t-statistic stays the same\n",
    "- `b`: The standard error increases, and the t-statistic stays the same\n",
    "- `c`: The standard error stays the same, and the t-statistic increases\n",
    "- `d`: The standard error increases, and the t-statistic increases\n",
    "\n",
    "Replace the `'...'` below with the right answer. For example, to answer `'a'`, your code below would be `q4.answer <- 'a'`.\n"
   ]
  },
  {
   "cell_type": "code",
   "execution_count": null,
   "id": "ce928234",
   "metadata": {
    "tags": []
   },
   "outputs": [],
   "source": [
    "# Put your answer where the ... is below. Leave the quotes there.\n",
    "# For example, to answer a, your answer would look like this: 'a'\n",
    "q4.answer <- '...'"
   ]
  },
  {
   "cell_type": "markdown",
   "id": "23b58ef6",
   "metadata": {},
   "source": [
    "-------------------------------------------------------------------------------"
   ]
  },
  {
   "cell_type": "markdown",
   "id": "6c23722b",
   "metadata": {},
   "source": [
    "**Question 5.** You found that the estimated effect of the office lobbying treatment is:"
   ]
  },
  {
   "cell_type": "code",
   "execution_count": null,
   "id": "4d069c16",
   "metadata": {},
   "outputs": [],
   "source": [
    "office.effect$coefficient"
   ]
  },
  {
   "cell_type": "markdown",
   "id": "8ef034fc",
   "metadata": {},
   "source": [
    "And you found that the standard error is:"
   ]
  },
  {
   "cell_type": "code",
   "execution_count": null,
   "id": "32ab3a02",
   "metadata": {},
   "outputs": [],
   "source": [
    "std.error"
   ]
  },
  {
   "cell_type": "markdown",
   "id": "d6c9149b",
   "metadata": {
    "deletable": false,
    "editable": false
   },
   "source": [
    "A lobbyist who hasn't taken this class sees that the estimated effect of office lobbying in this experiment is negative. She asks you how she should interpret the data. Does the fact that there is a negative estimated effect in the experiment mean that the experiment **demonstrates for sure** that the office lobbying done in this study was actually counterproductive?\n",
    "\n",
    "*Hint: Replace the `...` below with `TRUE` if you think this experiment demonstrates that the office lobbying it studied was counterproductive and `FALSE` if you think it does not demonstrate that.*\n"
   ]
  },
  {
   "cell_type": "code",
   "execution_count": null,
   "id": "44b33253",
   "metadata": {
    "tags": []
   },
   "outputs": [],
   "source": [
    "experiment.demonstrates.office.lobbying.reduced.bill.support <- NULL # YOUR CODE HERE"
   ]
  },
  {
   "cell_type": "markdown",
   "id": "f30dfa5a",
   "metadata": {},
   "source": [
    "----"
   ]
  },
  {
   "cell_type": "markdown",
   "id": "ed22b7ac",
   "metadata": {
    "deletable": false,
    "editable": false
   },
   "source": [
    "## Submission\n",
    "\n",
    "Make sure you have run all cells in your notebook in order before running the cell below, so that all images/graphs appear in the output. The cell below will generate a zip file for you to submit."
   ]
  },
  {
   "cell_type": "code",
   "execution_count": null,
   "id": "2361bfa8",
   "metadata": {
    "deletable": false,
    "editable": false
   },
   "outputs": [],
   "source": [
    "ottr::export(\"Week6_Activity1.ipynb\", pdf = TRUE, force_save = TRUE)"
   ]
  },
  {
   "cell_type": "markdown",
   "id": "2bc2f897",
   "metadata": {},
   "source": [
    " "
   ]
  }
 ],
 "metadata": {
  "kernelspec": {
   "display_name": "R",
   "language": "R",
   "name": "ir"
  },
  "language_info": {
   "codemirror_mode": "r",
   "file_extension": ".r",
   "mimetype": "text/x-r-source",
   "name": "R",
   "pygments_lexer": "r",
   "version": "4.3.1"
  },
  "latex_envs": {
   "LaTeX_envs_menu_present": true,
   "autoclose": false,
   "autocomplete": true,
   "bibliofile": "biblio.bib",
   "cite_by": "apalike",
   "current_citInitial": 1,
   "eqLabelWithNumbers": true,
   "eqNumInitial": 1,
   "hotkeys": {
    "equation": "Ctrl-E",
    "itemize": "Ctrl-I"
   },
   "labels_anchors": false,
   "latex_user_defs": false,
   "report_style_numbering": false,
   "user_envs_cfg": false
  }
 },
 "nbformat": 4,
 "nbformat_minor": 5
}
