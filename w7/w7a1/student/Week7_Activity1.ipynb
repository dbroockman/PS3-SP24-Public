{
 "cells": [
  {
   "cell_type": "markdown",
   "metadata": {},
   "source": [
    "# POLSCI 3"
   ]
  },
  {
   "cell_type": "markdown",
   "metadata": {},
   "source": [
    "## Week 7, Activity 1: $p$-values in experiments"
   ]
  },
  {
   "cell_type": "markdown",
   "metadata": {},
   "source": [
    "In this notebook, we will practice using the `estimatr` package further. Let's start by loading in the package and subsetting the data to the control or lobby groups. "
   ]
  },
  {
   "cell_type": "code",
   "execution_count": null,
   "metadata": {},
   "outputs": [],
   "source": [
    "#RUN THIS CELL\n",
    "library(testthat)\n",
    "library(estimatr)\n",
    "\n",
    "data <- read.csv('ps3_lobbying.csv')\n",
    "head(data)"
   ]
  },
  {
   "cell_type": "markdown",
   "metadata": {},
   "source": [
    "Here is a quick reminder of what each column means:\n",
    "\n",
    "- `caseid`: Number that identifies each legislator/district\n",
    "- `supportgroup`: This is the *outcome*. It is a measure of whether the legislator agreed to list their name publicly as a \"sponsor\" of the bill.\n",
    "- `treat`: This is the *treatment*. It has several possible values:\n",
    "    - `\"control\"`: the office received no contact from the lobbyist\n",
    "    - `\"officelobby\"`: the legislator was asked to meet to discuss the bill in their office\n",
    "    - `\"sociallobby\"`: the legislator was asked to meet to discuss the bill at a social location (a restaurant or bar)\n",
    "- `ally`: The authors thought that social lobbying might be especially effective among legislators who had supported the group's priorities in the past. To measure this, they asked the lobbyist: \"In your opinion, how well does the phrase ‘ally of the interest group’ describe the legislator?\" This is therefore the lobbyists' rating of whether the legislator is an ally of the interest group (values 0, 1/3, 2/3, and 1).\n",
    "- `female` : legislator gender, 1 = legislator is female; 0 = not\n",
    "\n",
    "Again, here is what `treat` looks like:"
   ]
  },
  {
   "cell_type": "code",
   "execution_count": null,
   "metadata": {},
   "outputs": [],
   "source": [
    "table(data$treat)"
   ]
  },
  {
   "cell_type": "markdown",
   "metadata": {
    "deletable": false,
    "editable": false
   },
   "source": [
    "-------------\n",
    "\n",
    "The researchers who did this experiment wanted to argue that social lobbying is more effective than office-based lobbying. Let's see what the experiment says about this.\n",
    "\n",
    "**Question 1.** Use the `difference_in_means` function to estimate the effect of social lobbying **relative to office-based lobbying** (that is, with office-based lobbying as the baseline). Make the legislators assigned to social lobbying the treatment group and the legislators assigned to office lobbying the baseline group.\n"
   ]
  },
  {
   "cell_type": "code",
   "execution_count": null,
   "metadata": {
    "scrolled": false,
    "tags": []
   },
   "outputs": [],
   "source": [
    "social.vs.office <- NULL # YOUR CODE HERE\n",
    "social.vs.office"
   ]
  },
  {
   "cell_type": "markdown",
   "metadata": {
    "deletable": false,
    "editable": false
   },
   "source": [
    "---\n",
    "\n",
    "**Question 2.** What does the $p$-value you calculated in Question 1 mean?\n",
    "\n",
    "- `'a'`: The probability that social lobbying is more effective than office lobbying\n",
    "- `'b'`: The probability that social lobbying is not more effective than office lobbying\n",
    "- `'c'`: The probability that we would see an estimate as large or larger than the one we did in the experiment if social lobbying and office lobbying were equally effective\n",
    "- `'d'`: The probability that we would see an estimate as large or larger than the one we did in the experiment if social lobbying were more effective than office lobbying\n",
    "\n",
    "Replace the `...` below with your answer. For example, to answer `'a'`, below you would write `q2.answer <- 'a'`.\n"
   ]
  },
  {
   "cell_type": "code",
   "execution_count": null,
   "metadata": {
    "tags": []
   },
   "outputs": [],
   "source": [
    "# Put your answer where the ... is below. Leave the quotes there.\n",
    "# For example, to answer a, your answer would look like this: 'a'\n",
    "q2.answer <- '...'"
   ]
  },
  {
   "cell_type": "markdown",
   "metadata": {
    "deletable": false,
    "editable": false
   },
   "source": [
    "-------\n",
    "\n",
    "**Question 3.** Is the p-value you calculated in Question 1 \"statistically significant\" (when using the conventional definition of statistical significance we covered in class)? Enter `TRUE` or `FALSE` below.\n"
   ]
  },
  {
   "cell_type": "code",
   "execution_count": null,
   "metadata": {
    "tags": []
   },
   "outputs": [],
   "source": [
    "p.val.is.stat.sig <- NULL # YOUR CODE HERE"
   ]
  },
  {
   "cell_type": "markdown",
   "metadata": {
    "deletable": false,
    "editable": false
   },
   "source": [
    "------\n",
    "\n",
    "**Question 4.** Dr. Luvs To Lobby is Stanford's Director of Government Affairs. He was rejected from Berkeley many years ago, and has hated Berkeley ever since. And now, Berkeley was even ranked as the #1 college, above Stanford! He's outraged. 😡 He wants to lobby the California state legislature to cut Berkeley's budget.\n",
    "\n",
    "Dr. Lobby is trying to decide how to go about lobbying California state legislators. He sees the results of the study on social lobbying you computed in Question 1 and writes this email to his colleagues:\n",
    "\n",
    "> I just read an analysis of data from a new study that shows that social lobbying is no more effective than office lobbying. I know this because, when the researchers compared social lobbying to office lobbying, they found no statistically significant difference between the two. When we go to lobby the legislature this week, this study shows that we should lobby them in their offices, and *avoid social lobbying* if possible.\n",
    "\n",
    "Is his interpretation correct? If so, why or why not?\n",
    "\n",
    "- `'a'`: Dr. Lobby is correct: the insignificant $p$-value shows the researcher's hypothesis that social lobbying works is wrong\n",
    "- `'b'`: Dr. Lobby is correct: the insignificant $p$-value shows that office lobbying is equally effective as social lobbying\n",
    "- `'c'`: Dr. Lobby is incorrect: the insignificant $p$-value shows that we cannot disprove a skeptic of social lobbying, but our best guess is still that social lobbying is more effective than office lobbying\n",
    "- `'d'`: Dr. Lobby is incorrect: because results from experiments are always ambiguous, we can't learn anything from the experiment about whether social lobbying is more effective\n",
    "\n",
    "Replace the `...` below with your answer. For example, to answer `'a'`, below you would write `q4.answer <- 'a'`.\n"
   ]
  },
  {
   "cell_type": "code",
   "execution_count": null,
   "metadata": {
    "tags": []
   },
   "outputs": [],
   "source": [
    "# Put your answer where the ... is below. Leave the quotes there.\n",
    "# For example, to answer a, your answer would look like this: 'a'\n",
    "q4.answer <- '...'"
   ]
  },
  {
   "cell_type": "markdown",
   "metadata": {},
   "source": [
    "------\n",
    "\n",
    "**YOU DO NOT NEED TO ANSWER QUESTION 5 IN THIS INDIVIDUAL ASSIGNMENT, BUT YOU WILL ANSWER IT IN TODAY'S GROUP ASSIGNMENT. TODAY'S GROUP ASSIGNMENT WILL LAST 10 MINUTES LONGER THAN NORMAL TO GIVE YOU TIME TO ANSWER QUESTION 5.**\n",
    "\n",
    "**Question 5.** After graduation, you get a job at a law firm that specializes in constitutional law. The lawyer you are working with is getting ready to argue a case before the Supreme Court about a new law that restricts lobbying. But the lawyer has never taken a statistics class, so needs your help: the lawyer wants you to summarize the results of several recent studies for them, including the Grose et al. study we analyzed this week.\n",
    "\n",
    "To help you, here's a reminder about all the findings we've calculated from this dataset across this and the previous notebooks:"
   ]
  },
  {
   "cell_type": "code",
   "execution_count": null,
   "metadata": {},
   "outputs": [],
   "source": [
    "# This is the estimated effect of social lobbying relative to control (no lobbying)\n",
    "difference_in_means(supportgroup ~ treat, data, condition1 = 'control', condition2 = 'sociallobby')"
   ]
  },
  {
   "cell_type": "code",
   "execution_count": null,
   "metadata": {},
   "outputs": [],
   "source": [
    "# This is the estimated effect of office lobbying relative to control (no lobbying)\n",
    "difference_in_means(supportgroup ~ treat, data, condition1 = 'control', condition2 = 'officelobby')"
   ]
  },
  {
   "cell_type": "code",
   "execution_count": null,
   "metadata": {},
   "outputs": [],
   "source": [
    "# This is the estimated effect of social lobbying relative to office lobbying, \n",
    "# this is what you did above.\n",
    "social.vs.office"
   ]
  },
  {
   "cell_type": "markdown",
   "metadata": {
    "deletable": false,
    "editable": false
   },
   "source": [
    "<!-- BEGIN QUESTION -->\n",
    "\n",
    "Based on the results you've seen, summarize the findings of the study for the lawyer: what does the study say about the effectiveness of social lobbying, office-based lobbying, and any differences in the effectiveness of each? Remember that the lawyer hasn't taken statistics, so you need to try to explain your answer in a way an average person might understand.\n",
    "\n",
    "**Please limit your answer to 3-5 sentences.**\n"
   ]
  },
  {
   "cell_type": "markdown",
   "metadata": {},
   "source": [
    "_Type your answer here, replacing this text._"
   ]
  },
  {
   "cell_type": "markdown",
   "metadata": {
    "deletable": false,
    "editable": false
   },
   "source": [
    "<!-- END QUESTION -->\n",
    "\n",
    "----"
   ]
  },
  {
   "cell_type": "markdown",
   "metadata": {
    "deletable": false,
    "editable": false
   },
   "source": [
    "## Submission\n",
    "\n",
    "Make sure you have run all cells in your notebook in order before running the cell below, so that all images/graphs appear in the output. The cell below will generate a zip file for you to submit."
   ]
  },
  {
   "cell_type": "code",
   "execution_count": null,
   "metadata": {
    "deletable": false,
    "editable": false
   },
   "outputs": [],
   "source": [
    "ottr::export(\"Week7_Activity1.ipynb\", pdf = TRUE, force_save = TRUE)"
   ]
  },
  {
   "cell_type": "markdown",
   "metadata": {},
   "source": [
    " "
   ]
  }
 ],
 "metadata": {
  "kernelspec": {
   "display_name": "R",
   "language": "R",
   "name": "ir"
  },
  "language_info": {
   "codemirror_mode": "r",
   "file_extension": ".r",
   "mimetype": "text/x-r-source",
   "name": "R",
   "pygments_lexer": "r",
   "version": "4.3.1"
  },
  "latex_envs": {
   "LaTeX_envs_menu_present": true,
   "autoclose": false,
   "autocomplete": true,
   "bibliofile": "biblio.bib",
   "cite_by": "apalike",
   "current_citInitial": 1,
   "eqLabelWithNumbers": true,
   "eqNumInitial": 1,
   "hotkeys": {
    "equation": "Ctrl-E",
    "itemize": "Ctrl-I"
   },
   "labels_anchors": false,
   "latex_user_defs": false,
   "report_style_numbering": false,
   "user_envs_cfg": false
  }
 },
 "nbformat": 4,
 "nbformat_minor": 4
}
