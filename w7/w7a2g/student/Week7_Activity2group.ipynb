{
 "cells": [
  {
   "cell_type": "markdown",
   "metadata": {},
   "source": [
    "# POLISCI 3\n",
    "\n",
    "## Week 7, Activity 2: Using Confidence Intervals"
   ]
  },
  {
   "cell_type": "markdown",
   "metadata": {},
   "source": [
    "Today we'll be analyzing the same dataset as we looked at in lecture. At its 2014 precinct conventions, the Utah Republican Party tried to encourage women present to run for state delegate.\n",
    "\n",
    "Let's read in the data..."
   ]
  },
  {
   "cell_type": "code",
   "execution_count": null,
   "metadata": {
    "editable": false
   },
   "outputs": [],
   "source": [
    "#RUN THIS CELL\n",
    "library(testthat)\n",
    "library(estimatr)\n",
    "\n",
    "data <- read.csv('ps3_week7_electing_women.csv')\n",
    "head(data)"
   ]
  },
  {
   "cell_type": "markdown",
   "metadata": {},
   "source": [
    "Here is a quick reminder of what each column means:\n",
    "\n",
    "- `unique_id`: Precinct ID\n",
    "- `treat`: treatment variable\n",
    "    - `'control'`: control group\n",
    "    - `'supply'`: supply group; party chair instructed to recruit 2-3 women\n",
    "    - `'demand'`: demand group; party chair reads letter at precinct convention\n",
    "    - `'both'`: a fourth group getting both the supply and demand treatments; party chair instructed to read letter *and* to recruit 2-3 women\n",
    "- `prop_sd_fem2014`: Proportion of 2014 elected state delegates from that precinct who were women\n",
    "- `sd_onefem2014`: 1 if at least one woman was selected; 0 otherwise\n",
    "- `county` : County name in Utah\n",
    "- `pc_male`: 1 if precinct chair is male; 0 otherwise (precinct chair is person who runs precinct meeting, would read letter if assigned to do so, etc.)"
   ]
  },
  {
   "cell_type": "markdown",
   "metadata": {
    "deletable": false,
    "editable": false
   },
   "source": [
    "----\n",
    "\n",
    "**Question 1.** Use the `difference_in_means()` function to estimate the effect of the \"supply\" condition relative to the control group on the `sd_onefem2014` outcome. Store the result in `supply.vs.control`.\n"
   ]
  },
  {
   "cell_type": "code",
   "execution_count": null,
   "metadata": {
    "tags": []
   },
   "outputs": [],
   "source": [
    "supply.vs.control <- difference_in_means(...)\n",
    "supply.vs.control # Let's look at the answer you calcualted."
   ]
  },
  {
   "cell_type": "code",
   "execution_count": null,
   "metadata": {
    "deletable": false,
    "editable": false
   },
   "outputs": [],
   "source": [
    ". = ottr::check(\"tests/q1.R\")"
   ]
  },
  {
   "cell_type": "markdown",
   "metadata": {
    "deletable": false,
    "editable": false
   },
   "source": [
    "<!-- BEGIN QUESTION -->\n",
    "\n",
    "-----\n",
    "\n",
    "**Question 2.** As noted above, the professors who ran the study were optimistic that the \"supply\" approach might have a large effect on the number of women elected. But, now that they've run the experiment, how optimistic does the data allow them to be?\n",
    "\n",
    "Extract the top of the 95% confidence interval for the effect of the \"supply\" treatment from the `supply.vs.control` variable you made in Question 2. Save the results in the variable `supply.vs.control.ci.top`.\n",
    "\n",
    "**Retrieve the top of the confidence interval from `supply.vs.control` using code; do NOT copy and paste it.**\n"
   ]
  },
  {
   "cell_type": "code",
   "execution_count": null,
   "metadata": {
    "tags": []
   },
   "outputs": [],
   "source": [
    "supply.vs.control.ci.top <- NULL # YOUR CODE HERE\n",
    "supply.vs.control.ci.top # Let's look at the answer you calcualted."
   ]
  },
  {
   "cell_type": "code",
   "execution_count": null,
   "metadata": {
    "deletable": false,
    "editable": false
   },
   "outputs": [],
   "source": [
    ". = ottr::check(\"tests/q2.R\")"
   ]
  },
  {
   "cell_type": "markdown",
   "metadata": {
    "deletable": false,
    "editable": false
   },
   "source": [
    "<!-- END QUESTION -->\n",
    "\n",
    "<!-- BEGIN QUESTION -->\n",
    "\n",
    "-----\n",
    "\n",
    "**Question 3.** Now, save the bottom of the 95% confidence interval.\n",
    "\n",
    "That is, extract the bottom of the 95% confidence interval for the effect of the supply treatment from the `supply.vs.control` variable you made in Question 1. Save the results in the variable `supply.vs.control.ci.bottom`.\n",
    "\n",
    "**Retrieve the bottom of the confidence interval from `supply.vs.control` using code; do NOT copy and paste it.**\n"
   ]
  },
  {
   "cell_type": "code",
   "execution_count": null,
   "metadata": {
    "tags": []
   },
   "outputs": [],
   "source": [
    "supply.vs.control.ci.bottom <- NULL # YOUR CODE HERE\n",
    "supply.vs.control.ci.bottom # Let's look at the answer you calcualted."
   ]
  },
  {
   "cell_type": "code",
   "execution_count": null,
   "metadata": {
    "deletable": false,
    "editable": false
   },
   "outputs": [],
   "source": [
    ". = ottr::check(\"tests/q3.R\")"
   ]
  },
  {
   "cell_type": "markdown",
   "metadata": {
    "deletable": false,
    "editable": false
   },
   "source": [
    "<!-- END QUESTION -->\n",
    "\n",
    "------\n",
    "\n",
    "**Question 4.** The state party Vice Chair is an optimist about the \"supply\" letters --- thinking that they have a large effect --- and says that the party should send the \"supply\" letters to all 2,500 precincts in an upcoming election. In this \"best case scenario\", how many additional precincts of the 2,500 in the new election could we expect to elect at least one woman? Use the top of the 95% confidence interval to answer the question.\n",
    "\n",
    "*Hint: Use the variable you calculated in question 2!*\n"
   ]
  },
  {
   "cell_type": "code",
   "execution_count": null,
   "metadata": {
    "tags": []
   },
   "outputs": [],
   "source": [
    "additional.precincts <- NULL # YOUR CODE HERE\n",
    "additional.precincts"
   ]
  },
  {
   "cell_type": "code",
   "execution_count": null,
   "metadata": {
    "deletable": false,
    "editable": false
   },
   "outputs": [],
   "source": [
    ". = ottr::check(\"tests/q4.R\")"
   ]
  },
  {
   "cell_type": "markdown",
   "metadata": {
    "deletable": false,
    "editable": false
   },
   "source": [
    "<!-- BEGIN QUESTION -->\n",
    "\n",
    "------\n",
    "\n",
    "**Question 5.** The Chair of the party needs to make a decision about whether to send out the \"supply\" letters to the 2,500 precincts in the upcoming election. The Chair has heard from the Vice Chair (an optimist about the letters) that the letters have the potential to cause hundreds of precincts to elect women that otherwise wouldn't elect any women. But the Chair has also heard from the Secretary who says they worry these letters will backfire, and actually cause *less* precincts to elect women.\n",
    "\n",
    "The Chair hasn't taken a statistics class, but needs to make a decision and wants to know what you think of the evidence overall.\n",
    "\n",
    "Compose a message to the Chair of the party that explains what the evidence you saw in Questions 1-4 above says. Be sure to mention both:\n",
    "\n",
    "1. what the estimate and p-value in Question 1 indicate to you, and\n",
    "2. what the range of plausible scenarios you computed in Questions 2-4 indicate.\n",
    "\n",
    "Use language that a layperson could understand. (2 points)\n",
    "\n",
    "Please answer in 2-4 sentences.\n"
   ]
  },
  {
   "cell_type": "markdown",
   "metadata": {},
   "source": [
    "_Type your answer here, replacing this text._"
   ]
  },
  {
   "cell_type": "markdown",
   "metadata": {
    "deletable": false,
    "editable": false
   },
   "source": [
    "<!-- END QUESTION -->\n",
    "\n",
    "------\n",
    "\n",
    "**Question 6.** Which of the following is **NOT** correct?\n",
    "\n",
    "- `'a'`: There is a 95% chance that the confidence interval from an experiment will contain the true average treatment effect.\n",
    "- `'b'`: The top of the confidence interval calculated in Question 2 captures the most optimistic effect size (of the \"supply\" treatment) that is plausible given the data.\n",
    "- `'c'`: In Question 1, if the standard error of the experiment were smaller, the confidence interval would be narrower (i.e., the top and bottom numbers would be closer together).\n",
    "- `'d'`: The top of the confidence interval calculated in Question 2 gives our best guess for the true average treatment effect (of the \"supply\" treatment).\n",
    "\n",
    "Enter your answer below between quotes. For example, if you wanted to answer `'a'`, your answer would look like: `q6.answer <- 'a'`.\n"
   ]
  },
  {
   "cell_type": "code",
   "execution_count": null,
   "metadata": {
    "tags": []
   },
   "outputs": [],
   "source": [
    "q6.answer <- '...'"
   ]
  },
  {
   "cell_type": "markdown",
   "metadata": {
    "deletable": false,
    "editable": false
   },
   "source": [
    "------\n",
    "\n",
    "**Question 7.** `TRUE` or `FALSE`: Given the same standard error, an increase in the estimate may change the width of the confidence interval (i.e., the distance between the upper end minus lower end).\n",
    "\n",
    "Enter your answer below without quotes. For example, if you wanted to answer `TRUE`, you would write `q7.answer <- TRUE`.\n"
   ]
  },
  {
   "cell_type": "code",
   "execution_count": null,
   "metadata": {
    "tags": []
   },
   "outputs": [],
   "source": [
    "q7.answer <- NULL # YOUR CODE HERE"
   ]
  },
  {
   "cell_type": "markdown",
   "metadata": {},
   "source": [
    "----"
   ]
  },
  {
   "cell_type": "markdown",
   "metadata": {
    "deletable": false,
    "editable": false
   },
   "source": [
    "## Submission\n",
    "\n",
    "Make sure you have run all cells in your notebook in order before running the cell below, so that all images/graphs appear in the output. The cell below will generate a zip file for you to submit."
   ]
  },
  {
   "cell_type": "code",
   "execution_count": null,
   "metadata": {
    "deletable": false,
    "editable": false
   },
   "outputs": [],
   "source": [
    "ottr::export(\"Week7_Activity2group.ipynb\", pdf = TRUE, force_save = TRUE)"
   ]
  },
  {
   "cell_type": "markdown",
   "metadata": {},
   "source": [
    " "
   ]
  }
 ],
 "metadata": {
  "kernelspec": {
   "display_name": "R",
   "language": "R",
   "name": "ir"
  },
  "language_info": {
   "codemirror_mode": "r",
   "file_extension": ".r",
   "mimetype": "text/x-r-source",
   "name": "R",
   "pygments_lexer": "r",
   "version": "4.3.1"
  },
  "latex_envs": {
   "LaTeX_envs_menu_present": true,
   "autoclose": false,
   "autocomplete": true,
   "bibliofile": "biblio.bib",
   "cite_by": "apalike",
   "current_citInitial": 1,
   "eqLabelWithNumbers": true,
   "eqNumInitial": 1,
   "hotkeys": {
    "equation": "Ctrl-E",
    "itemize": "Ctrl-I"
   },
   "labels_anchors": false,
   "latex_user_defs": false,
   "report_style_numbering": false,
   "user_envs_cfg": false
  }
 },
 "nbformat": 4,
 "nbformat_minor": 4
}
