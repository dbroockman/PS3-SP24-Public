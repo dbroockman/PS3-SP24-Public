{
 "cells": [
  {
   "cell_type": "markdown",
   "metadata": {},
   "source": [
    "# POLISCI 3"
   ]
  },
  {
   "cell_type": "markdown",
   "metadata": {},
   "source": [
    "## Week 7 Lecture Notebook 2: Confidence Intervals\n",
    "\n",
    "### An estimate is a best guess, *close* to the true average treatment effect. But *how close*?\n",
    "\n",
    "As a reminder, when we conduct experiments, we are trying to learn about the *true* average treatment effect of some treatment on some outcome.\n",
    "\n",
    "So far, we've learned to get two things from an experiment:\n",
    "- An **estimate**: our best guess of the average treatment effect.\n",
    "- A **_p_-value**: the probability of seeing the estimate we did *if the treatment had no effect* on the outcome. (Remember: if the skeptic (we called her Sarah) were right, how likely is it that we would see an estimate as large as we did?)\n",
    "\n",
    "But even if an experiment's *p*-value is statistically significant and we conclude the treatment probably did have an effect, we know that the estimate is unlikely to be *exactly right*. There's still some noise in experiments.\n",
    "\n",
    "And indeed, although it *is* likely that the true average treatment effect is *close* to the estimate, *how close*? As we learned, if the *standard error* is big, the estimate might be quite far away from the right answer. But a *standard error* is also hard to interpret.\n",
    "\n",
    "Today we'll learn about *confidence intervals*, which allow us to say something more interpretable and more useful about how close to the estimate the true average treatment effect is likely to be.\n",
    "\n",
    "#### Motivating Example: Vaccine Effectiveness\n",
    "\n",
    "To motivate why we might care about a confidence interval, suppose we have two experiments on the effectiveness of a coronavirus vaccine on reducing COVID-19:\n",
    "\n",
    "<style type=\"text/css\">\n",
    ".tg  {border-collapse:collapse;border-spacing:0;}\n",
    ".tg td{border-color:black;border-style:solid;border-width:1px;font-family:Arial, sans-serif;font-size:14px;\n",
    "  overflow:hidden;padding:10px 5px;word-break:normal;}\n",
    ".tg th{border-color:black;border-style:solid;border-width:1px;font-family:Arial, sans-serif;font-size:14px;\n",
    "  font-weight:normal;overflow:hidden;padding:10px 5px;word-break:normal;}\n",
    ".tg .tg-0pky{border-color:inherit;text-align:left;vertical-align:top}\n",
    ".tg .tg-7btt{border-color:inherit;font-weight:bold;text-align:center;vertical-align:top}\n",
    ".tg .tg-amwm{font-weight:bold;text-align:center;vertical-align:top}\n",
    ".tg .tg-fymr{border-color:inherit;font-weight:bold;text-align:left;vertical-align:top}\n",
    ".tg .tg-0lax{text-align:left;vertical-align:top}\n",
    "</style>\n",
    "<table class=\"tg\">\n",
    "<thead>\n",
    "  <tr>\n",
    "    <th class=\"tg-0lax\"></th>\n",
    "    <th class=\"tg-1wig\">Estimate</th>\n",
    "    <th class=\"tg-1wig\">Standard Error</th>\n",
    "    <th class=\"tg-1wig\">p-value</th>\n",
    "  </tr>\n",
    "</thead>\n",
    "<tbody>\n",
    "  <tr>\n",
    "    <td class=\"tg-1wig\">Vaccine A</td>\n",
    "    <td class=\"tg-0lax\">-90%</td>\n",
    "    <td class=\"tg-0lax\">30%</td>\n",
    "    <td class=\"tg-0lax\">0.001</td>\n",
    "  </tr>\n",
    "  <tr>\n",
    "    <td class=\"tg-1wig\">Vaccine B</td>\n",
    "    <td class=\"tg-0lax\">-89%</td>\n",
    "    <td class=\"tg-0lax\">2%</td>\n",
    "    <td class=\"tg-0lax\">0.001</td>\n",
    "  </tr>\n",
    "</tbody>\n",
    "</table>\n",
    "\n",
    "- The *p*-value will tell you if the effect of the vaccine is statistically significant: i.e., by convention, can we conclude that the vaccine probably did have an effect.\n",
    "- The *estimate* will give you our best guess of its effectiveness.\n",
    "\n",
    "But which of these two vaccines would you want to take? It seems really likely that both of them work _at all_ (the true average treatment effect is not zero), but which one works _better_?\n",
    "\n",
    "The standard error for the effect of Vaccine A is pretty large... so it seems like there's a good chance that, even if it does work, it might not work that well. On the other hand, the standard error for the effect of Vaccine B is pretty small, so it seems likely that the estimate is quite close to the truth.\n",
    "\n",
    "Confidence intervals let us think about this more precisely."
   ]
  },
  {
   "cell_type": "markdown",
   "metadata": {},
   "source": [
    "### Confidence Intervals\n",
    "\n",
    "This is why we need confidence intervals. Confidence intervals give us a range of numbers that will contain the true average treatment effect a set percentage of the time. They consist of *two* numbers: a top and a bottom. The confidence interval is the range between the top and bottom of the range.\n",
    "\n",
    "#### 95% Confidence Intervals\n",
    "\n",
    "By far the most common confidence intervals in social science are *95% confidence intervals*. **A 95% confidence interval has as 95% chance of including the true average treatment effect.** (Even more precisely: in 95% of experiments, the confidence interval will contain the true average treatment effect.)\n",
    "\n",
    "Conventionally in social science, we think of a 95% confidence interval as containing **the range of _plausible_ estimates of the average treatment effect**. For example, if Sarah is really pessimistic about a treatment, she can look at the 95% confidence interval and say, \"well, I think the right estimate is the very bottom of the range.\"\n",
    "\n",
    "#### Returning to the Vaccine Example\n",
    "\n",
    "Let's get back to our vaccine example:\n",
    "\n",
    "<table class=\"tg\">\n",
    "<thead>\n",
    "  <tr>\n",
    "    <th class=\"tg-0pky\"></th>\n",
    "    <th class=\"tg-7btt\">Estimate</th>\n",
    "    <th class=\"tg-7btt\">Standard Error</th>\n",
    "    <th class=\"tg-7btt\">p-value</th>\n",
    "    <th class=\"tg-amwm\">95% Confidence<br>Interval</th>\n",
    "  </tr>\n",
    "</thead>\n",
    "<tbody>\n",
    "  <tr>\n",
    "    <td class=\"tg-fymr\">Vaccine A</td>\n",
    "    <td class=\"tg-0pky\">-90%</td>\n",
    "    <td class=\"tg-0pky\">30%</td>\n",
    "    <td class=\"tg-0pky\">0.001</td>\n",
    "    <td class=\"tg-0lax\">[-100%, -31%]</td>\n",
    "  </tr>\n",
    "  <tr>\n",
    "    <td class=\"tg-fymr\">Vaccine B</td>\n",
    "    <td class=\"tg-0pky\">-89%</td>\n",
    "    <td class=\"tg-0pky\">2%</td>\n",
    "    <td class=\"tg-0pky\">0.001</td>\n",
    "    <td class=\"tg-0lax\">[-93%, -85%]</td>\n",
    "  </tr>\n",
    "</tbody>\n",
    "</table>\n",
    "\n",
    "Suppose Sarah is really skeptical about vaccines. She can look at Vaccine A's confidence interval and say, \"it's plausible that the effect is as low as a 31% decrease, which isn't much!\"\n",
    "\n",
    "Or, suppose we just want the most effective vaccine. We could look at Vaccine A and think: \"it's plausible that the effect could be as low as 31%!\"\n",
    "\n",
    "But because the experiment on Vaccine B is so much more precise, the lowest average treatment effect Sarah can really argue is _plausible_ is an 85% decrease. Or, likewise, if we're worried about getting the most effective vaccine, we can be assured that it's pretty unlikely the effect is any lower than a 85% decrease.\n",
    "\n",
    "Again, this doesn't mean that it's *impossible* that the true effect is outside of the 95% confidence interval. But, by convention, we think of this as relatively unlikely.\n",
    "\n",
    "#### 95% Confidence Intervals as Containing Most Optimistic and Most Pessimistic Plausible Values\n",
    "\n",
    "More generally, we can think of the top/bottom of a confidence interval as containing the most optimistic/pessimistic scenario that is still plausible given the data.\n",
    "\n",
    "For example, if you're looking at the effect of a treatment on something you want to see go up (e.g., effect of mail on voter turnout), the most optimistic plausible estimate would be the top of the confidence interval. So if the confidence interval for a mailer went from a 3.2pp effect on turnout to a 6.5pp effect on turnout, 6.5pp would be the most optimistic -- or \"best case\" -- plausible scenario. Likewise, 3.2pp would be the most pessimistic -- or \"worst case\" -- plausible scenario.\n",
    "\n",
    "#### Formula for 95% Confidence Intervals\n",
    "\n",
    "The confidence interval is calcualted from the estimate and the standard error. You don't need to memorize this, but:\n",
    "- $\\text{Top of 95% Confidence Interval} = \\text{Estimate} + 1.96 * \\text{Standard Error}$\n",
    "- $\\text{Bottom of 95% Confidence Interval} = \\text{Estimate} - 1.96 * \\text{Standard Error}$\n",
    "\n",
    "This means:\n",
    "- The *middle* of the confidence interval is the estimate.\n",
    "- The *width* of the confidence interval is determined by the standard error. For example, the lower the standard error, the *narrower* the confidence interval will be.\n",
    "\n",
    "#### Warning: larger standard errors mean wider confidence intervals!\n",
    "\n",
    "Imagine two experiments, one on letter A and one on letter B, trying to understand their effects on voter turnout:\n",
    "\n",
    "<table class=\"tg\">\n",
    "<thead>\n",
    "  <tr>\n",
    "    <th class=\"tg-0pky\">Experiment</th>\n",
    "    <th class=\"tg-7btt\">Estimate</th>\n",
    "    <th class=\"tg-7btt\">Standard Error</th>\n",
    "    <th class=\"tg-amwm\">95% Confidence<br>Interval</th>\n",
    "  </tr>\n",
    "</thead>\n",
    "<tbody>\n",
    "  <tr>\n",
    "    <td class=\"tg-fymr\">Experiment 1: Letter A</td>\n",
    "    <td class=\"tg-0pky\">8%</td>\n",
    "    <td class=\"tg-0pky\">30%</td>\n",
    "    <td class=\"tg-0lax\">[-50%, 66%]</td>\n",
    "  </tr>\n",
    "  <tr>\n",
    "    <td class=\"tg-fymr\">Experiment 2: Letter B</td>\n",
    "    <td class=\"tg-0pky\">5%</td>\n",
    "    <td class=\"tg-0pky\">1%</td>\n",
    "    <td class=\"tg-0lax\">[3%, 7%]</td>\n",
    "  </tr>\n",
    "</tbody>\n",
    "</table>\n",
    "\n",
    "You can guess that experiment 1 must have a really small sample size because the standard error is really big. This means that the estimate is likely to be pretty far from the truth. This is why the 95% confidence interval goes all the way from -50 to +66%! In other words, there just isn't that much information in this experiment.\n",
    "\n",
    "We should **not** be *more optimistic* about letter A just because the sample size of the experiment is smaller. A 66% effect is just that the *most optimistic the data alone lets us be*. However, in reality, we know this is probably an overestimate."
   ]
  },
  {
   "cell_type": "markdown",
   "metadata": {},
   "source": [
    "### Experiment on Electing Women\n",
    "\n",
    "This week, we'll examine confidence intervals using a dataset from a neat experiment done in Utah on how to elect more women to political positions. Women are underrepresented in political positions nationwide, and there is a lot of research on how to involve more women in politics---especially how to encourage women to run for political office.\n",
    "\n",
    "The experiment we're analyzing this week describes one such effort. The experiment was conducted by professors at Brigham Young University in partnership with the Utah Republican Party in 2014. The Utah Republican Party wanted more women to become active in the Party.\n",
    "\n",
    "To accomplish this, they embedded an experiment in party precinct conventions. (A precinct is a small local area, corresponding to the area containing all the people who vote at a particular polling place.) At party precinct conventions, they select who will go on to represent the precinct at the state's Republican convention. This position is called being a *state delegate*.\n",
    "\n",
    "Each precinct has a precinct chair who runs the party's precinct convention in that precinct. In the data, over 2,000 precint chairs were randomly assigned to receive one of four letters from the state party chair prior to these neighborhood caucus meetings. The Republican Party of Utah sent the precinct chairs a letter prior to the convention, but the contents varied by treatment group:\n",
    "\n",
    "- Control group: letter did not mention women and running for state delegate\n",
    "- Supply group: letter instructed precinct chair to recruit 2-3 women to run as state delegate\n",
    "- Demand group: letter instructed precinct chair to read a message from the party at the precinct meeting asking women to run\n",
    "- Both group (Supply + Demand): both of the above\n",
    "\n",
    "Let's take a look at the data:"
   ]
  },
  {
   "cell_type": "code",
   "execution_count": 1,
   "metadata": {
    "scrolled": true
   },
   "outputs": [
    {
     "data": {
      "text/html": [
       "<table class=\"dataframe\">\n",
       "<caption>A data.frame: 6 × 6</caption>\n",
       "<thead>\n",
       "\t<tr><th></th><th scope=col>unique_id</th><th scope=col>treat</th><th scope=col>prop_sd_fem2014</th><th scope=col>sd_onefem2014</th><th scope=col>county</th><th scope=col>pc_male</th></tr>\n",
       "\t<tr><th></th><th scope=col>&lt;int&gt;</th><th scope=col>&lt;chr&gt;</th><th scope=col>&lt;dbl&gt;</th><th scope=col>&lt;int&gt;</th><th scope=col>&lt;chr&gt;</th><th scope=col>&lt;int&gt;</th></tr>\n",
       "</thead>\n",
       "<tbody>\n",
       "\t<tr><th scope=row>1</th><td>27215</td><td>supply </td><td>0.0</td><td>0</td><td>Grand  </td><td>1</td></tr>\n",
       "\t<tr><th scope=row>2</th><td>27386</td><td>control</td><td>0.0</td><td>0</td><td>Grand  </td><td>0</td></tr>\n",
       "\t<tr><th scope=row>3</th><td>27496</td><td>control</td><td>1.0</td><td>1</td><td>Grand  </td><td>1</td></tr>\n",
       "\t<tr><th scope=row>4</th><td>16202</td><td>demand </td><td>1.0</td><td>1</td><td>Daggett</td><td>1</td></tr>\n",
       "\t<tr><th scope=row>5</th><td>16241</td><td>control</td><td>0.5</td><td>1</td><td>Daggett</td><td>1</td></tr>\n",
       "\t<tr><th scope=row>6</th><td>26601</td><td>control</td><td>0.0</td><td>0</td><td>Emery  </td><td>1</td></tr>\n",
       "</tbody>\n",
       "</table>\n"
      ],
      "text/latex": [
       "A data.frame: 6 × 6\n",
       "\\begin{tabular}{r|llllll}\n",
       "  & unique\\_id & treat & prop\\_sd\\_fem2014 & sd\\_onefem2014 & county & pc\\_male\\\\\n",
       "  & <int> & <chr> & <dbl> & <int> & <chr> & <int>\\\\\n",
       "\\hline\n",
       "\t1 & 27215 & supply  & 0.0 & 0 & Grand   & 1\\\\\n",
       "\t2 & 27386 & control & 0.0 & 0 & Grand   & 0\\\\\n",
       "\t3 & 27496 & control & 1.0 & 1 & Grand   & 1\\\\\n",
       "\t4 & 16202 & demand  & 1.0 & 1 & Daggett & 1\\\\\n",
       "\t5 & 16241 & control & 0.5 & 1 & Daggett & 1\\\\\n",
       "\t6 & 26601 & control & 0.0 & 0 & Emery   & 1\\\\\n",
       "\\end{tabular}\n"
      ],
      "text/markdown": [
       "\n",
       "A data.frame: 6 × 6\n",
       "\n",
       "| <!--/--> | unique_id &lt;int&gt; | treat &lt;chr&gt; | prop_sd_fem2014 &lt;dbl&gt; | sd_onefem2014 &lt;int&gt; | county &lt;chr&gt; | pc_male &lt;int&gt; |\n",
       "|---|---|---|---|---|---|---|\n",
       "| 1 | 27215 | supply  | 0.0 | 0 | Grand   | 1 |\n",
       "| 2 | 27386 | control | 0.0 | 0 | Grand   | 0 |\n",
       "| 3 | 27496 | control | 1.0 | 1 | Grand   | 1 |\n",
       "| 4 | 16202 | demand  | 1.0 | 1 | Daggett | 1 |\n",
       "| 5 | 16241 | control | 0.5 | 1 | Daggett | 1 |\n",
       "| 6 | 26601 | control | 0.0 | 0 | Emery   | 1 |\n",
       "\n"
      ],
      "text/plain": [
       "  unique_id treat   prop_sd_fem2014 sd_onefem2014 county  pc_male\n",
       "1 27215     supply  0.0             0             Grand   1      \n",
       "2 27386     control 0.0             0             Grand   0      \n",
       "3 27496     control 1.0             1             Grand   1      \n",
       "4 16202     demand  1.0             1             Daggett 1      \n",
       "5 16241     control 0.5             1             Daggett 1      \n",
       "6 26601     control 0.0             0             Emery   1      "
      ]
     },
     "metadata": {},
     "output_type": "display_data"
    }
   ],
   "source": [
    "library(estimatr)\n",
    "data <- read.csv('ps3_week7_electing_women.csv')\n",
    "head(data)"
   ]
  },
  {
   "cell_type": "markdown",
   "metadata": {},
   "source": [
    "Here is a quick rundown of what each column means:\n",
    "\n",
    "- `unique_id`: Precinct ID\n",
    "- `treat`: treatment variable\n",
    "    - `'control'`: control group\n",
    "    - `'supply'`: supply group; party chair instructed to recruit 2-3 women\n",
    "    - `'demand'`: demand group; party chair reads letter at precinct convention\n",
    "    - `'both'`: a fourth group getting both the supply and demand treatments; party chair instructed to read letter *and* to recruit 2-3 women\n",
    "- `prop_sd_fem2014`: **Outcome**: Proportion of 2014 elected state delegates from that precinct who were women\n",
    "- `sd_onefem2014`: 1 if at least one woman was selected; 0 otherwise\n",
    "- `county` : County name in Utah\n",
    "- `pc_male`: 1 if precinct chair is male; 0 otherwise (precinct chair is person who runs precinct meeting, would read letter if assigned to do so, etc.)"
   ]
  },
  {
   "cell_type": "code",
   "execution_count": 2,
   "metadata": {},
   "outputs": [
    {
     "data": {
      "text/plain": [
       "\n",
       "   both control  demand  supply \n",
       "    427     435     426     446 "
      ]
     },
     "metadata": {},
     "output_type": "display_data"
    }
   ],
   "source": [
    "# And here's the values of the treatment variable again:\n",
    "table(data$treat)"
   ]
  },
  {
   "cell_type": "markdown",
   "metadata": {},
   "source": [
    "### Computing a confidence interval\n",
    "\n",
    "Let's run the `difference_in_means` test that is part of the `estimatr` package. "
   ]
  },
  {
   "cell_type": "code",
   "execution_count": 3,
   "metadata": {},
   "outputs": [
    {
     "data": {
      "text/plain": [
       "Design:  Standard \n",
       "             Estimate Std. Error   t value  Pr(>|t|)    CI Lower   CI Upper\n",
       "treatdemand 0.0185535 0.02398969 0.7733948 0.4395015 -0.02853178 0.06563879\n",
       "                  DF\n",
       "treatdemand 858.9964"
      ]
     },
     "metadata": {},
     "output_type": "display_data"
    }
   ],
   "source": [
    "demand.vs.control.dim <- difference_in_means(prop_sd_fem2014 ~ treat, data,\n",
    "                                             condition1 = 'control', condition2 = 'demand')\n",
    "demand.vs.control.dim"
   ]
  },
  {
   "cell_type": "markdown",
   "metadata": {},
   "source": [
    "`difference_in_means()` prints the 95% confidence interval for us! (It doesn't say it is a 95% confidence interval, but it is; 95% confindence intervals are the norm, so we assume a confidence interval is a 95% confidence interval unless stated otherwise.)\n",
    "\n",
    "What does this confidence interval mean?\n",
    "\n",
    "- **Estimate**: Our best guess is that just reading this letter increased the proportion of women elected at a precinct convention by around 1.9 percentage points.\n",
    "- **CI Lower**: The lowest value that is plausible is a 2.8 percentage point *decrease*; it is plausible that the letter actually decreased the number of women elected.\n",
    "- **CI Upper**: The highest value that is plausible is a 6.6 percentage point increase.\n",
    "\n",
    "Suppose someone was a really big optimist about the power of reading these letters. The most optimsitic they can plausibly be after doing the experiment is that these letters increase the number of women by around 6.6 percentage points.\n",
    "\n",
    "#### Retrieving the ends of the 95% confidence interval from `difference_in_means()`\n",
    "\n",
    "We can actually save the ends of the 95% confidence interval as numbers, like this, where `demand.vs.control.dim` is the variable where we stored the output of `difference_in_means()` above (this could be any name):"
   ]
  },
  {
   "cell_type": "code",
   "execution_count": 4,
   "metadata": {},
   "outputs": [
    {
     "data": {
      "text/html": [
       "0.0656387854032504"
      ],
      "text/latex": [
       "0.0656387854032504"
      ],
      "text/markdown": [
       "0.0656387854032504"
      ],
      "text/plain": [
       "[1] 0.06563879"
      ]
     },
     "metadata": {},
     "output_type": "display_data"
    }
   ],
   "source": [
    "demand.vs.control.95ci.high.end <- demand.vs.control.dim$conf.high\n",
    "demand.vs.control.95ci.high.end"
   ]
  },
  {
   "cell_type": "code",
   "execution_count": 5,
   "metadata": {},
   "outputs": [
    {
     "data": {
      "text/html": [
       "-0.028531775571617"
      ],
      "text/latex": [
       "-0.028531775571617"
      ],
      "text/markdown": [
       "-0.028531775571617"
      ],
      "text/plain": [
       "[1] -0.02853178"
      ]
     },
     "metadata": {},
     "output_type": "display_data"
    }
   ],
   "source": [
    "demand.vs.control.95ci.low.end <- demand.vs.control.dim$conf.low\n",
    "demand.vs.control.95ci.low.end"
   ]
  },
  {
   "cell_type": "markdown",
   "metadata": {},
   "source": [
    "### Using confidence intervals\n",
    "\n",
    "I use confidence intervals all the time in my partnerships with non-profits and political campaigns because they are a good way to translate a range of uncertainty into numbers that everyday people can understand and make decisions using:\n",
    "\n",
    "Confidence intervals can be used to answer questions like:\n",
    "\n",
    "- How many units need to be treated to change one outcome?\n",
    "- What is the cost per changed outcome?\n",
    "- How many units would change outcomes if a certain number are treated?\n",
    "\n",
    "In this class, I'll teach you how to do one of these as an example:\n",
    "\n",
    "#### Example: Expected number of units that would change outcomes if a certain number of units are treated\n",
    "\n",
    "Suppose we were to roll out the \"demand\" treatment to 500 precincts? How many new women would we expect to be elected?\n",
    "\n",
    "$\\text{Expected Units With Different Outcomes} = \\text{Number Units Treated} * \\text{Expected Effect Per Unit}$"
   ]
  },
  {
   "cell_type": "code",
   "execution_count": 6,
   "metadata": {},
   "outputs": [
    {
     "data": {
      "text/plain": [
       "Design:  Standard \n",
       "              Estimate Std. Error  t value   Pr(>|t|)    CI Lower  CI Upper\n",
       "treatdemand 0.06420593 0.03342623 1.920825 0.05508527 -0.00140092 0.1298128\n",
       "                 DF\n",
       "treatdemand 857.146"
      ]
     },
     "metadata": {},
     "output_type": "display_data"
    }
   ],
   "source": [
    "at.least.one.woman <- difference_in_means(sd_onefem2014 ~ treat, data,\n",
    "                                          condition1 = 'control', condition2 = 'demand')\n",
    "at.least.one.woman"
   ]
  },
  {
   "cell_type": "markdown",
   "metadata": {},
   "source": [
    "Remember we can access the upper and lower end of a confidence interval like this:"
   ]
  },
  {
   "cell_type": "code",
   "execution_count": 7,
   "metadata": {},
   "outputs": [
    {
     "data": {
      "text/html": [
       "-0.00140092016951095"
      ],
      "text/latex": [
       "-0.00140092016951095"
      ],
      "text/markdown": [
       "-0.00140092016951095"
      ],
      "text/plain": [
       "[1] -0.00140092"
      ]
     },
     "metadata": {},
     "output_type": "display_data"
    },
    {
     "data": {
      "text/html": [
       "0.129812770582332"
      ],
      "text/latex": [
       "0.129812770582332"
      ],
      "text/markdown": [
       "0.129812770582332"
      ],
      "text/plain": [
       "[1] 0.1298128"
      ]
     },
     "metadata": {},
     "output_type": "display_data"
    }
   ],
   "source": [
    "at.least.one.woman$conf.low\n",
    "at.least.one.woman$conf.high"
   ]
  },
  {
   "cell_type": "markdown",
   "metadata": {},
   "source": [
    "So, translating those estimates, if 500 precincts received this treatment, we'd expect to see the number of _additional_ precincts that elect one woman to be in this range, from least to most optimistic:"
   ]
  },
  {
   "cell_type": "code",
   "execution_count": 8,
   "metadata": {},
   "outputs": [
    {
     "data": {
      "text/html": [
       "-0.700460084755473"
      ],
      "text/latex": [
       "-0.700460084755473"
      ],
      "text/markdown": [
       "-0.700460084755473"
      ],
      "text/plain": [
       "[1] -0.7004601"
      ]
     },
     "metadata": {},
     "output_type": "display_data"
    },
    {
     "data": {
      "text/html": [
       "64.9063852911661"
      ],
      "text/latex": [
       "64.9063852911661"
      ],
      "text/markdown": [
       "64.9063852911661"
      ],
      "text/plain": [
       "[1] 64.90639"
      ]
     },
     "metadata": {},
     "output_type": "display_data"
    }
   ],
   "source": [
    "500 * at.least.one.woman$conf.low # most pessimistic\n",
    "500 * at.least.one.woman$conf.high # most optimistic"
   ]
  },
  {
   "cell_type": "markdown",
   "metadata": {},
   "source": [
    "Using this information, a decision-maker might have an easier time deciding if this is worth it.\n",
    "\n",
    "See you in class!"
   ]
  }
 ],
 "metadata": {
  "kernelspec": {
   "display_name": "R",
   "language": "R",
   "name": "ir"
  },
  "language_info": {
   "codemirror_mode": "r",
   "file_extension": ".r",
   "mimetype": "text/x-r-source",
   "name": "R",
   "pygments_lexer": "r",
   "version": "4.3.1"
  }
 },
 "nbformat": 4,
 "nbformat_minor": 4
}
