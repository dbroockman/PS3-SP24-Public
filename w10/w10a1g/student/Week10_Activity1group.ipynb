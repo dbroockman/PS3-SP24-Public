{
 "cells": [
  {
   "cell_type": "markdown",
   "metadata": {},
   "source": [
    "# POLISCI 3"
   ]
  },
  {
   "cell_type": "markdown",
   "metadata": {},
   "source": [
    "## Week 10 Activity Notebook 1: Data visualization\n",
    "\n",
    "In this activity, you will be practicing scatterplot visualizations on your own. Let's start by reading in the Broockman Skovron (2018) data."
   ]
  },
  {
   "cell_type": "code",
   "execution_count": null,
   "metadata": {
    "editable": false
   },
   "outputs": [],
   "source": [
    "library(testthat)\n",
    "library(ggplot2); options(warn=-1)\n",
    "\n",
    "data <- read.csv('broockman_skovron.csv')\n",
    "head(data)"
   ]
  },
  {
   "cell_type": "markdown",
   "metadata": {},
   "source": [
    "Here is an overview of what the columns in the dataset represent: \n",
    "\n",
    "- `republican`: whether the state legislator or state legislative candidate who answered the survey was a Republican (1 = Republican, 0 = Democrat)\n",
    "- `incumbent`: whether the person who answered the survey was an incumbent representative (i.e., currently holds political office) (1 = already holds office, 0 = just a candidate)\n",
    "- `marriage_perception`: what percent of the politician's constituents they think support same-sex marriage\n",
    "- `marriage_opinion`: what percent of the politician's constituents actually support same-sex marriage\n",
    "- `religexempt_perception`: what percent of the politician's constituents they think support allowing employers to refuse to cover birth control for employees if it violates their religious beliefs\n",
    "- `religexempt_opinion`: what percent of the politician's constituents actually support allowing employers to refuse to cover birth control for employees if it violates their religious beliefs\n",
    "- `gunsbanassault_perception`: what percent of the politician's constituents they think support banning assault weapons\n",
    "- `gunsbanassault_opinion`: what percent of the politician's constituents actually support banning assault weapons"
   ]
  },
  {
   "cell_type": "markdown",
   "metadata": {
    "deletable": false,
    "editable": false
   },
   "source": [
    "------\n",
    "\n",
    "**Question 1. Make a scatterplot _among Democratic legislators only_ where actual constituency support for same-sex marriage is on the x-axis and perceived constituency support for it is on the y-axis.**\n",
    "\n",
    "To do this, first subset the data to Democratic legislators (i.e., where `republican` is 0) and save the data in the `democrats.only` subset.\n",
    "\n",
    "Then, make a graph with `marriage_opinion` on the x axis and `marriage_perception` on the y axis, within the `democrats.only` dataset.\n",
    "\n",
    "_Do not_ include a line of best fit yet.\n"
   ]
  },
  {
   "cell_type": "code",
   "execution_count": null,
   "metadata": {
    "tags": []
   },
   "outputs": [],
   "source": [
    "# First, subset the data to Democratic legislators only\n",
    "democrats.only <- NULL # YOUR CODE HERE\n",
    "\n",
    "# Now, make a scatter plot with marriage_opinion on the x axis and marriage_perception on the y axis,\n",
    "# within the democrats.only dataset\n",
    "dem.graph <- NULL # YOUR CODE HERE\n",
    "\n",
    "dem.graph # Let's look at the graph. (This might take a couple seconds to run.)"
   ]
  },
  {
   "cell_type": "code",
   "execution_count": null,
   "metadata": {
    "deletable": false,
    "editable": false
   },
   "outputs": [],
   "source": [
    ". = ottr::check(\"tests/q1.R\")"
   ]
  },
  {
   "cell_type": "markdown",
   "metadata": {
    "deletable": false,
    "editable": false
   },
   "source": [
    "------\n",
    "\n",
    "**Question 2. Add a line of best fit to the graph you made in Question 1.**\n"
   ]
  },
  {
   "cell_type": "code",
   "execution_count": null,
   "metadata": {
    "scrolled": true,
    "tags": []
   },
   "outputs": [],
   "source": [
    "dem.graph.with.line <- NULL # YOUR CODE HERE\n",
    "dem.graph.with.line # Let's look at the graph."
   ]
  },
  {
   "cell_type": "code",
   "execution_count": null,
   "metadata": {
    "deletable": false,
    "editable": false
   },
   "outputs": [],
   "source": [
    ". = ottr::check(\"tests/q2.R\")"
   ]
  },
  {
   "cell_type": "markdown",
   "metadata": {
    "deletable": false,
    "editable": false
   },
   "source": [
    "------\n",
    "\n",
    "**Question 3. Now, make a scatterplot, _with_ a line of best fit _among Republican legislators only_ where actual constituency support for same-sex marriage is on the x-axis and perceived constituency support for it is on the y-axis.**\n",
    "\n",
    "To do this, first subset the data to Republican legislators (i.e., where `republican` is 1) and save the data in the `republicans.only` subset.\n",
    "\n",
    "Then, make a graph with `marriage_opinion` on the x axis and `marriage_perception` on the y axis, within the `republicans.only` dataset.\n",
    "\n",
    "**Do** also include a line of best fit on this graph (like you did in Question 2).\n"
   ]
  },
  {
   "cell_type": "code",
   "execution_count": null,
   "metadata": {
    "scrolled": true,
    "tags": []
   },
   "outputs": [],
   "source": [
    "# First, subset the data to Republican legislators only\n",
    "republicans.only <- NULL # YOUR CODE HERE\n",
    "\n",
    "# Now, make a scatter plot with marriage_opinion on the x axis and marriage_perception on the y axis,\n",
    "# within the republicans.only dataset, AND with a line of best fit added\n",
    "rep.graph.with.line <- NULL # YOUR CODE HERE\n",
    "\n",
    "rep.graph.with.line # Let's look at the graph. (This might take a couple seconds to run.)"
   ]
  },
  {
   "cell_type": "code",
   "execution_count": null,
   "metadata": {
    "deletable": false,
    "editable": false
   },
   "outputs": [],
   "source": [
    ". = ottr::check(\"tests/q3.R\")"
   ]
  },
  {
   "cell_type": "markdown",
   "metadata": {
    "deletable": false,
    "editable": false
   },
   "source": [
    "-------\n",
    "\n",
    "**Question 4. Looking at the graph you made in Question 3, when legislative ditricts have 65% support for gay marriage, what does the average Republican state legislative candidate perceive support as?**\n",
    "\n",
    "(Make your best guess from looking at the graph. This question allows room for error of several percentage points on either side of the right answer.)\n",
    "\n",
    "**Enter your answer as a whole number without a percentage sign. For example, if you wanted to answer 65%, you would type `my.best.guess <- 65`.**\n"
   ]
  },
  {
   "cell_type": "code",
   "execution_count": null,
   "metadata": {
    "tags": []
   },
   "outputs": [],
   "source": [
    "my.best.guess <- NULL # YOUR CODE HERE"
   ]
  },
  {
   "cell_type": "code",
   "execution_count": null,
   "metadata": {
    "deletable": false,
    "editable": false
   },
   "outputs": [],
   "source": [
    ". = ottr::check(\"tests/q4.R\")"
   ]
  },
  {
   "cell_type": "markdown",
   "metadata": {
    "deletable": false,
    "editable": false
   },
   "source": [
    "------\n",
    "\n",
    "**Question 5. Which of these is _NOT_ a good reason to make this graph?**\n",
    "\n",
    "- `'a'`: To visualize the relationship between these variables\n",
    "- `'b'`: To understand if the relationship between these variables is statistically significant\n",
    "- `'c'`: To help understand what values of the Y axis variable we should expect to observe given a value of the X axis variable\n",
    "- `'d'`: To check if there might be patterns between these variables we might have missed from just numbers\n",
    "\n",
    "Replace the `...` below with your answer. For example, to answer `a`, the below would read `q5.answer <- 'a'`."
   ]
  },
  {
   "cell_type": "code",
   "execution_count": null,
   "metadata": {
    "tags": []
   },
   "outputs": [],
   "source": [
    "q5.answer <- '...'"
   ]
  },
  {
   "cell_type": "markdown",
   "metadata": {},
   "source": [
    "----"
   ]
  },
  {
   "cell_type": "markdown",
   "metadata": {
    "deletable": false,
    "editable": false
   },
   "source": [
    "## Submission\n",
    "\n",
    "Make sure you have run all cells in your notebook in order before running the cell below, so that all images/graphs appear in the output. The cell below will generate a zip file for you to submit."
   ]
  },
  {
   "cell_type": "code",
   "execution_count": null,
   "metadata": {
    "deletable": false,
    "editable": false
   },
   "outputs": [],
   "source": [
    "ottr::export(\"Week10_Activity1group.ipynb\", pdf = TRUE, force_save = TRUE)"
   ]
  },
  {
   "cell_type": "markdown",
   "metadata": {},
   "source": [
    " "
   ]
  }
 ],
 "metadata": {
  "kernelspec": {
   "display_name": "R",
   "language": "R",
   "name": "ir"
  },
  "language_info": {
   "codemirror_mode": "r",
   "file_extension": ".r",
   "mimetype": "text/x-r-source",
   "name": "R",
   "pygments_lexer": "r",
   "version": "4.3.1"
  },
  "latex_envs": {
   "LaTeX_envs_menu_present": true,
   "autoclose": false,
   "autocomplete": true,
   "bibliofile": "biblio.bib",
   "cite_by": "apalike",
   "current_citInitial": 1,
   "eqLabelWithNumbers": true,
   "eqNumInitial": 1,
   "hotkeys": {
    "equation": "Ctrl-E",
    "itemize": "Ctrl-I"
   },
   "labels_anchors": false,
   "latex_user_defs": false,
   "report_style_numbering": false,
   "user_envs_cfg": false
  }
 },
 "nbformat": 4,
 "nbformat_minor": 4
}
