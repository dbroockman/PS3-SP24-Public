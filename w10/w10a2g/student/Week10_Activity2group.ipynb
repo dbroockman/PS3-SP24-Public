{
 "cells": [
  {
   "cell_type": "markdown",
   "metadata": {},
   "source": [
    "# POLISCI 3"
   ]
  },
  {
   "cell_type": "markdown",
   "metadata": {},
   "source": [
    "## Week 10 Activity Notebook 2: Bivariate regression\n",
    "\n",
    "Let's start by reading in the data:"
   ]
  },
  {
   "cell_type": "code",
   "execution_count": null,
   "metadata": {
    "editable": false
   },
   "outputs": [],
   "source": [
    "library(testthat)\n",
    "\n",
    "data <- read.csv('broockman_skovron.csv')\n",
    "head(data)"
   ]
  },
  {
   "cell_type": "markdown",
   "metadata": {},
   "source": [
    "Here is an overview of what the columns in the dataset represent: \n",
    "\n",
    "- `republican`: whether the state legislator or state legislative candidate who answered the survey was a Republican (1 = Republican, 0 = Democrat)\n",
    "- `incumbent`: whether the person who answered the survey was an incumbent representative (i.e., currently holds political office) (1 = already holds office, 0 = just a candidate)\n",
    "- `marriage_perception`: what percent of the politician's constituents they think support same-sex marriage\n",
    "- `marriage_opinion`: what percent of the politician's constituents actually support same-sex marriage\n",
    "- `religexempt_perception`: what percent of the politician's constituents they think support allowing employers to refuse to cover birth control for employees if it violates their religious beliefs\n",
    "- `religexempt_opinion`: what percent of the politician's constituents actually support allowing employers to refuse to cover birth control for employees if it violates their religious beliefs\n",
    "- `gunsbanassault_perception`: what percent of the politician's constituents they think support banning assault weapons\n",
    "- `gunsbanassault_opinion`: what percent of the politician's constituents actually support banning assault weapons"
   ]
  },
  {
   "cell_type": "markdown",
   "metadata": {
    "deletable": false,
    "editable": false
   },
   "source": [
    "-----\n",
    "\n",
    "**Question 1. Run a regression predicting `gunsbanassault_perception` (outcome variable) with `gunsbanassault_opinion` (prediction variable) _among Democratic politicians_.**\n",
    "\n",
    "To do this, first subset the data to only Democratic politicians.\n",
    "\n",
    "Then, run the regression describe above in that dataset.\n"
   ]
  },
  {
   "cell_type": "code",
   "execution_count": null,
   "metadata": {
    "scrolled": true,
    "tags": []
   },
   "outputs": [],
   "source": [
    "# Subset the data first!\n",
    "democrats.only <- NULL # YOUR CODE HERE\n",
    "\n",
    "# Now, run the regression in the democrats.only subset\n",
    "dem.guns.lm <- NULL # YOUR CODE HERE\n",
    "\n",
    "dem.guns.lm # Let's look at the results."
   ]
  },
  {
   "cell_type": "code",
   "execution_count": null,
   "metadata": {
    "deletable": false,
    "editable": false
   },
   "outputs": [],
   "source": [
    ". = ottr::check(\"tests/q1.R\")"
   ]
  },
  {
   "cell_type": "markdown",
   "metadata": {
    "deletable": false,
    "editable": false
   },
   "source": [
    "------\n",
    "\n",
    "**Question 2. In a district where 55% of people support banning assault weapons, what would level of support would Democratic politicians guess there is?** Use the numbers from the regression in Question 1.\n",
    "\n",
    "_Note: The average district has around 61% support, so we are not excessively extrapolating._\n"
   ]
  },
  {
   "cell_type": "code",
   "execution_count": null,
   "metadata": {
    "tags": []
   },
   "outputs": [],
   "source": [
    "dems.guess.at.55 <- NULL # YOUR CODE HERE\n",
    "\n",
    "dems.guess.at.55 # Let's look at the answer."
   ]
  },
  {
   "cell_type": "code",
   "execution_count": null,
   "metadata": {
    "deletable": false,
    "editable": false
   },
   "outputs": [],
   "source": [
    ". = ottr::check(\"tests/q2.R\")"
   ]
  },
  {
   "cell_type": "markdown",
   "metadata": {
    "deletable": false,
    "editable": false
   },
   "source": [
    "-----\n",
    "\n",
    "**Question 3. `TRUE` or `FALSE`: Democrats overestimate support for banning assault weapons in their districts.**\n",
    "\n",
    "Save your answer in `q3.answer`. Do not use quotes. For example, to answer `TRUE`, type `q3.answer <- TRUE`.\n",
    "\n",
    "_Note: This question will not tell you whether you got the right answer or not._\n"
   ]
  },
  {
   "cell_type": "code",
   "execution_count": null,
   "metadata": {
    "tags": []
   },
   "outputs": [],
   "source": [
    "q3.answer <- NULL # YOUR CODE HERE"
   ]
  },
  {
   "cell_type": "markdown",
   "metadata": {
    "deletable": false,
    "editable": false
   },
   "source": [
    "----\n",
    "\n",
    "Now, let's look at Republican politicians.\n",
    "\n",
    "**Question 4. Run a regression predicting `gunsbanassault_perception` (outcome variable) with `gunsbanassault_opinion` (prediction variable) _among Republican politicians_.**\n",
    "\n",
    "To do this, first subset the data to only Republican politicians.\n",
    "\n",
    "Then, run the regression describe above in that dataset.\n"
   ]
  },
  {
   "cell_type": "code",
   "execution_count": null,
   "metadata": {
    "scrolled": false,
    "tags": []
   },
   "outputs": [],
   "source": [
    "# Subset the data first!\n",
    "republicans.only <- NULL # YOUR CODE HERE\n",
    "\n",
    "# Now, run the regression in the republicans.only subset\n",
    "repub.guns.lm <- NULL # YOUR CODE HERE\n",
    "\n",
    "repub.guns.lm # Let's look at the results."
   ]
  },
  {
   "cell_type": "code",
   "execution_count": null,
   "metadata": {
    "deletable": false,
    "editable": false
   },
   "outputs": [],
   "source": [
    ". = ottr::check(\"tests/q4.R\")"
   ]
  },
  {
   "cell_type": "markdown",
   "metadata": {
    "deletable": false,
    "editable": false
   },
   "source": [
    "------\n",
    "\n",
    "**Question 5. In a district where 65% of people support banning assault weapons, what would level of support would Republican politicians guess there is?** Use the numbers from the regression in Question 4.\n"
   ]
  },
  {
   "cell_type": "code",
   "execution_count": null,
   "metadata": {
    "tags": []
   },
   "outputs": [],
   "source": [
    "repubs.guess.at.65 <- NULL # YOUR CODE HERE\n",
    "\n",
    "repubs.guess.at.65 # Let's look at the answer."
   ]
  },
  {
   "cell_type": "code",
   "execution_count": null,
   "metadata": {
    "deletable": false,
    "editable": false
   },
   "outputs": [],
   "source": [
    ". = ottr::check(\"tests/q5.R\")"
   ]
  },
  {
   "cell_type": "markdown",
   "metadata": {},
   "source": [
    "-----\n",
    "\n",
    "The `(Intercept)` term in the regression for Democrats was:"
   ]
  },
  {
   "cell_type": "code",
   "execution_count": null,
   "metadata": {
    "editable": false
   },
   "outputs": [],
   "source": [
    "dem.guns.lm$coefficients[1,1]"
   ]
  },
  {
   "cell_type": "markdown",
   "metadata": {},
   "source": [
    "And the `(Intercept)` term in the regression for Republicans was:"
   ]
  },
  {
   "cell_type": "code",
   "execution_count": null,
   "metadata": {
    "editable": false
   },
   "outputs": [],
   "source": [
    "repub.guns.lm$coefficients[1,1]"
   ]
  },
  {
   "cell_type": "markdown",
   "metadata": {
    "deletable": false,
    "editable": false
   },
   "source": [
    "**Question 6. As you can see above, the intercept term of the regression is lower for the regression predicting Democrats' answers than Republicans' answers. `TRUE` or `FALSE`: This shows that Democrats are less accurate than Republicans in predicting public opinion in their districts.**\n",
    "\n",
    "Save your answer in `q6.answer`. Do not use quotes. For example, to answer `TRUE`, type `q6.answer <- TRUE`.\n",
    "\n",
    "_Note: This question will not tell you whether you got the right answer or not._\n"
   ]
  },
  {
   "cell_type": "code",
   "execution_count": null,
   "metadata": {
    "tags": []
   },
   "outputs": [],
   "source": [
    "q6.answer <- NULL # YOUR CODE HERE"
   ]
  },
  {
   "cell_type": "markdown",
   "metadata": {
    "deletable": false,
    "editable": false
   },
   "source": [
    "<!-- BEGIN QUESTION -->\n",
    "\n",
    "--------\n",
    "\n",
    "**Question 7. Thinking about your answers to Questions 2 and 5, describe the findings of this study in your own words.** Note: For this question, please do not simply describe what the numbers individually mean, but instead and/or also describe the overall take-away or conclusions they indicate.\n",
    "\n",
    "Please limit your answer to 2-3 sentences.\n"
   ]
  },
  {
   "cell_type": "markdown",
   "metadata": {},
   "source": [
    "_Type your answer here, replacing this text._"
   ]
  },
  {
   "cell_type": "markdown",
   "metadata": {
    "deletable": false,
    "editable": false
   },
   "source": [
    "<!-- END QUESTION -->\n",
    "\n",
    "-----"
   ]
  },
  {
   "cell_type": "markdown",
   "metadata": {
    "deletable": false,
    "editable": false
   },
   "source": [
    "## Submission\n",
    "\n",
    "Make sure you have run all cells in your notebook in order before running the cell below, so that all images/graphs appear in the output. The cell below will generate a zip file for you to submit."
   ]
  },
  {
   "cell_type": "code",
   "execution_count": null,
   "metadata": {
    "deletable": false,
    "editable": false
   },
   "outputs": [],
   "source": [
    "ottr::export(\"Week10_Activity2group.ipynb\", pdf = TRUE, force_save = TRUE)"
   ]
  },
  {
   "cell_type": "markdown",
   "metadata": {},
   "source": [
    " "
   ]
  }
 ],
 "metadata": {
  "kernelspec": {
   "display_name": "R",
   "language": "R",
   "name": "ir"
  },
  "language_info": {
   "codemirror_mode": "r",
   "file_extension": ".r",
   "mimetype": "text/x-r-source",
   "name": "R",
   "pygments_lexer": "r",
   "version": "4.3.1"
  },
  "latex_envs": {
   "LaTeX_envs_menu_present": true,
   "autoclose": false,
   "autocomplete": true,
   "bibliofile": "biblio.bib",
   "cite_by": "apalike",
   "current_citInitial": 1,
   "eqLabelWithNumbers": true,
   "eqNumInitial": 1,
   "hotkeys": {
    "equation": "Ctrl-E",
    "itemize": "Ctrl-I"
   },
   "labels_anchors": false,
   "latex_user_defs": false,
   "report_style_numbering": false,
   "user_envs_cfg": false
  }
 },
 "nbformat": 4,
 "nbformat_minor": 4
}
