{
 "cells": [
  {
   "cell_type": "markdown",
   "id": "c51871d5",
   "metadata": {},
   "source": [
    "# POLSCI 3\n",
    "\n",
    "## Week 11, Activity Notebook 2: Analyzing experiments with multivariate regression\n",
    "\n",
    "Run the cell below to read in the data."
   ]
  },
  {
   "cell_type": "code",
   "execution_count": null,
   "id": "746521da",
   "metadata": {
    "scrolled": true
   },
   "outputs": [],
   "source": [
    "#import libraries\n",
    "library(testthat)\n",
    "\n",
    "data <- read.csv(\"ps3_phonecall_clean.csv\")\n",
    "head(data)"
   ]
  },
  {
   "cell_type": "markdown",
   "id": "5ad292dc",
   "metadata": {},
   "source": [
    "This is the same data as from the recorded lecture, but **there are new variables now!** Read below for more details.\n",
    "\n",
    "Each row in the dataset is one interaction where a person dropped their lemons at a German bus stop after talking on the phone. Here is a quick rundown of what each column means:\n",
    "\n",
    "- `treat`: **NEW VARIABLE** There are several values of the `treat` variable:\n",
    "    - `\"German\"`: The person who dropped the lemons was a native German who made a call (implying one of several gender attitudes I have collapsed into one category to make the data analysis easier).\n",
    "    - `\"Imm w/ Hijab, Conservative Gender Att\"`: The person who dropped the lemons was an immigrant wearing a hijab and made a call implying they had conservative gender attitudes.\n",
    "    - `\"Imm w/ Hijab, Neutral Gender Att\"`: The person who dropped the lemons was an immigrant wearing a hijab and made a call that did not imply anything about their gender attitudes.\n",
    "    - `\"Imm w/ Hijab, Progressive Gender Att\"`: The person who dropped the lemons was an immigrant wearing a hijab and made a call implying they had progressive gender attitudes.\n",
    "    - `\"Imm w/o Hijab\"`: The person who dropped the lemons was an immigrant who did not wear a hijab.\n",
    "- `anyhelp`: **outcome**: whether any bystander offered help\n",
    "- `bystander`: number of bystanders (measured before the treatment was implemented)\n",
    "- `femprop`: proportion of female bystanders (measured before the treatment was implemented)\n",
    "- `station1`: **NEW VARIABLE** the name of the station where the interaction took place\n",
    "- `team`: **NEW VARIABLE** the name of the team that implemented this experiment\n",
    "\n",
    "As a reminder, this is what the scene looked like:\n",
    "\n",
    "![](scene.jpg)\n",
    "\n",
    "And here is what the treatments looked like:\n",
    "\n",
    "![](treatments.jpg)"
   ]
  },
  {
   "cell_type": "markdown",
   "id": "92e2c488",
   "metadata": {
    "deletable": false,
    "editable": false
   },
   "source": [
    "-----\n",
    "\n",
    "**Question 1.** Run a regression that estimates the effect of `treat` on `anyhelp`, without using any other covariates.\n"
   ]
  },
  {
   "cell_type": "code",
   "execution_count": null,
   "id": "732c6adb",
   "metadata": {
    "tags": []
   },
   "outputs": [],
   "source": [
    "reg.no.covars <- NULL # YOUR CODE HERE\n",
    "reg.no.covars"
   ]
  },
  {
   "cell_type": "code",
   "execution_count": null,
   "id": "1e93f31d",
   "metadata": {
    "deletable": false,
    "editable": false
   },
   "outputs": [],
   "source": [
    ". = ottr::check(\"tests/q1.R\")"
   ]
  },
  {
   "cell_type": "markdown",
   "id": "3829dfbd",
   "metadata": {
    "deletable": false,
    "editable": false
   },
   "source": [
    "<!-- BEGIN QUESTION -->\n",
    "\n",
    "------\n",
    "\n",
    "**Question 2.** Looking at the results of Question 1, interpret the number in the `treatImm w/ Hijab, Conservative Att` row under the `Estimate` column. Be sure to be specific about a) what the effect of this treatment is relative to and b) how we should interpret what the Estimate means.\n",
    "\n",
    "**Please limit your answer to 1-2 sentences.**\n"
   ]
  },
  {
   "cell_type": "markdown",
   "id": "a2feb06b",
   "metadata": {},
   "source": [
    "_Type your answer here, replacing this text._"
   ]
  },
  {
   "cell_type": "markdown",
   "id": "f1e7cabd",
   "metadata": {
    "deletable": false,
    "editable": false
   },
   "source": [
    "<!-- END QUESTION -->\n",
    "\n",
    "<!-- BEGIN QUESTION -->\n",
    "\n",
    "------\n",
    "\n",
    "**Question 3.** Next, look at the regression output from Question 1. Based on this regression output, what is your overall interpretation of what the results of the experiment show? You do not necessarily need to reference specific estimates or statistical concepts here; instead, do your best to describe the study's main finding(s).\n",
    "\n",
    "In answering this question, you may wish to take another look at the codebook at the top of the notebook which tells you exactly what happened in each treatment condition (see the bullet point under `treat` for the definitions).\n",
    "\n",
    "**Please limit your answer to 2-3 sentences.**\n"
   ]
  },
  {
   "cell_type": "markdown",
   "id": "8d3e5a2a",
   "metadata": {},
   "source": [
    "_Type your answer here, replacing this text._"
   ]
  },
  {
   "cell_type": "markdown",
   "id": "c3847713",
   "metadata": {
    "deletable": false,
    "editable": false
   },
   "source": [
    "<!-- END QUESTION -->\n",
    "\n",
    "-----\n",
    "\n",
    "**Question 4.** Run the same regression you ran in Question 1, but now also add the `femprop` and `station1` variables as control variables.\n"
   ]
  },
  {
   "cell_type": "code",
   "execution_count": null,
   "id": "1a13bfbc",
   "metadata": {
    "tags": []
   },
   "outputs": [],
   "source": [
    "reg.with.controls <- NULL # YOUR CODE HERE\n",
    "reg.with.controls"
   ]
  },
  {
   "cell_type": "code",
   "execution_count": null,
   "id": "af232430",
   "metadata": {
    "deletable": false,
    "editable": false
   },
   "outputs": [],
   "source": [
    ". = ottr::check(\"tests/q4.R\")"
   ]
  },
  {
   "cell_type": "markdown",
   "id": "e21c9adf",
   "metadata": {
    "deletable": false,
    "editable": false
   },
   "source": [
    "<!-- BEGIN QUESTION -->\n",
    "\n",
    "------\n",
    "\n",
    "**Question 5.** Are there any differences between how we should interpret the Estimate next to the `femprop` variable and the Estimates next to the treatment variables? If so, what is the difference in interpretation? If not, why not?\n",
    "\n",
    "**Please limit your answer between 1-2 sentences.**\n"
   ]
  },
  {
   "cell_type": "markdown",
   "id": "e3d3b83d",
   "metadata": {},
   "source": [
    "_Type your answer here, replacing this text._"
   ]
  },
  {
   "cell_type": "markdown",
   "id": "7120f48e",
   "metadata": {
    "deletable": false,
    "editable": false
   },
   "source": [
    "<!-- END QUESTION -->\n",
    "\n",
    "------\n",
    "\n",
    "**Question 6.** Was it a good idea to include the `femprop` variable in the regression in question 4?\n",
    "\n",
    "- `'a'`: Yes, because it helps eliminate potential omitted variable bias.\n",
    "- `'b'`: Yes, because it reduces noise, which can decrease the standard errors of our estimates of the treatment effects.\n",
    "- `'c'`: No, because it may explain some of the variation in the outcome that is due to the treatment, which would bias our estimate of the treatment effect.\n",
    "- `'d'`: No, because it is not a randomized variable.\n",
    "\n",
    "Enter your answer below between quotes. For example, if you wanted to answer `'a'`, your answer would look like: `q6.answer <- 'a'`.\n"
   ]
  },
  {
   "cell_type": "code",
   "execution_count": null,
   "id": "af394d4c",
   "metadata": {
    "tags": []
   },
   "outputs": [],
   "source": [
    "q6.answer <- '...'"
   ]
  },
  {
   "cell_type": "markdown",
   "id": "3893af76",
   "metadata": {
    "deletable": false,
    "editable": false
   },
   "source": [
    "------\n",
    "\n",
    "**Question 7.** The variable `station1Duisburg` is equal to 1 when the experiment took place in Duisburg station. In question 4, the variable `station1Duisburg` has a p-value of 0.0076, and an estimate of 0.16893. Which of the following claim is / are true?\n",
    "\n",
    "(1) This shows that there is a statistically significant causal effect of being in Duisburg station on how likely bystandards were to help.\n",
    "\n",
    "(2) Within this sample, bystanders in Duisburg station were more likely to offer help, holding constant the other variable in the regression.\n",
    "\n",
    "- `'a'`: (1) only\n",
    "- `'b'`: (2) only\n",
    "- `'c'`: (1) and (2) both\n",
    "- `'d'`: Neither (1) nor (2)\n",
    "\n",
    "Enter your answer below between quotes. For example, if you wanted to answer 'a', your answer would look like: `q7.answer <- 'a'`.\n"
   ]
  },
  {
   "cell_type": "code",
   "execution_count": null,
   "id": "218a5790",
   "metadata": {
    "tags": []
   },
   "outputs": [],
   "source": [
    "q7.answer <- '...'"
   ]
  },
  {
   "cell_type": "markdown",
   "id": "bfb1f145",
   "metadata": {},
   "source": [
    "-----"
   ]
  },
  {
   "cell_type": "markdown",
   "id": "7d259c01",
   "metadata": {
    "deletable": false,
    "editable": false
   },
   "source": [
    "## Submission\n",
    "\n",
    "Make sure you have run all cells in your notebook in order before running the cell below, so that all images/graphs appear in the output. The cell below will generate a zip file for you to submit."
   ]
  },
  {
   "cell_type": "code",
   "execution_count": null,
   "id": "dccb0d7f",
   "metadata": {
    "deletable": false,
    "editable": false
   },
   "outputs": [],
   "source": [
    "ottr::export(\"Week11_Activity2group.ipynb\", pdf = TRUE, force_save = TRUE)"
   ]
  },
  {
   "cell_type": "markdown",
   "id": "d12e6bc7",
   "metadata": {},
   "source": [
    " "
   ]
  }
 ],
 "metadata": {
  "kernelspec": {
   "display_name": "R",
   "language": "R",
   "name": "ir"
  },
  "language_info": {
   "codemirror_mode": "r",
   "file_extension": ".r",
   "mimetype": "text/x-r-source",
   "name": "R",
   "pygments_lexer": "r",
   "version": "4.3.1"
  },
  "latex_envs": {
   "LaTeX_envs_menu_present": true,
   "autoclose": false,
   "autocomplete": true,
   "bibliofile": "biblio.bib",
   "cite_by": "apalike",
   "current_citInitial": 1,
   "eqLabelWithNumbers": true,
   "eqNumInitial": 1,
   "hotkeys": {
    "equation": "Ctrl-E",
    "itemize": "Ctrl-I"
   },
   "labels_anchors": false,
   "latex_user_defs": false,
   "report_style_numbering": false,
   "user_envs_cfg": false
  }
 },
 "nbformat": 4,
 "nbformat_minor": 5
}
