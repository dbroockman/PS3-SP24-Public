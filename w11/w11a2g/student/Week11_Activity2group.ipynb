{
 "cells": [
  {
   "cell_type": "markdown",
   "id": "8c16b42f",
   "metadata": {},
   "source": [
    "# POLSCI 3\n",
    "\n",
    "## Week 11, Activity Notebook 2: Analyzing experiments with multivariate regression\n",
    "\n",
    "Run the cell below to read in the data."
   ]
  },
  {
   "cell_type": "code",
   "execution_count": null,
   "id": "670099c1",
   "metadata": {
    "scrolled": true
   },
   "outputs": [],
   "source": [
    "#import libraries\n",
    "library(testthat)\n",
    "\n",
    "data <- read.csv(\"ps3_phonecall_clean.csv\")\n",
    "head(data)"
   ]
  },
  {
   "cell_type": "markdown",
   "id": "d2d0d3fd",
   "metadata": {},
   "source": [
    "This is the same data as from class, but **there are new variables now!!** Read below for more details.\n",
    "\n",
    "Each row in the dataset is one interaction where a person dropped their lemons at a German bus stop after talking on the phone. Here is a quick rundown of what each column means:\n",
    "\n",
    "- `treat`: **NEW VARIABLE** There are several values of the `treat` variable:\n",
    "    - `\"German\"`: The person who dropped the lemons was a native German who made a call (implying one of several gender attitudes I have collapsed into one category to make the data analysis easier).\n",
    "    - `\"Imm w/ Hijab, Conservative Gender Att\"`: The person who dropped the lemons was an immigrant wearing a hijab and made a call implying they had conservative gender attitudes.\n",
    "    - `\"Imm w/ Hijab, Neutral Gender Att\"`: The person who dropped the lemons was an immigrant wearing a hijab and made a call that did not imply anything about their gender attitudes.\n",
    "    - `\"Imm w/ Hijab, Progressive Gender Att\"`: The person who dropped the lemons was an immigrant wearing a hijab and made a call implying they had progressive gender attitudes.\n",
    "    - `\"Imm w/o Hijab\"`: The person who dropped the lemons was an immigrant who did not wear a hijab.\n",
    "- `anayhelp`: outcome: whether any bystander offered help\n",
    "- `bystander`: number of bystanders (measured before the treatment was implemented)\n",
    "- `femprop`: proportion of female bystanders (measured before the treatment was implemented)\n",
    "- `station1`: **NEW VARIABLE** the name of the station where the interaction took place\n",
    "- `team`: **NEW VARIABLE** the name of the team that implemented this experiment\n",
    "\n",
    "As a reminder, this is what the scene looked like:\n",
    "\n",
    "![](scene.jpg)\n",
    "\n",
    "And here is what the treatments looked like:\n",
    "\n",
    "![](treatments.jpg)"
   ]
  },
  {
   "cell_type": "markdown",
   "id": "700384d1",
   "metadata": {},
   "source": [
    "-----\n",
    "\n",
    "**Question 1.** Run a regression that estimates the effect of `treat` on `anyhelp`, without using any other covariates.\n"
   ]
  },
  {
   "cell_type": "code",
   "execution_count": null,
   "id": "60e9b17a",
   "metadata": {
    "tags": []
   },
   "outputs": [],
   "source": [
    "reg.no.covars <- NULL # YOUR CODE HERE\n",
    "reg.no.covars"
   ]
  },
  {
   "cell_type": "code",
   "execution_count": null,
   "id": "d310a987",
   "metadata": {
    "deletable": false,
    "editable": false
   },
   "outputs": [],
   "source": [
    ". = ottr::check(\"tests/q1.R\")"
   ]
  },
  {
   "cell_type": "markdown",
   "id": "428ba870",
   "metadata": {},
   "source": [
    "<!-- BEGIN QUESTION -->\n",
    "\n",
    "------\n",
    "\n",
    "**Question 2.** Looking at the results of Question 1, interpret the number in the `treatImm w/ Hijab, Conservative Att` row under the `Estimate` column. Be sure to be specific about a) what the effect of this treatment is relative to and b) how we should interpret what the Estimate means.\n",
    "\n",
    "**Please limit your answer to 1-2 sentences.**\n"
   ]
  },
  {
   "cell_type": "markdown",
   "id": "f19a4c26",
   "metadata": {},
   "source": [
    "_Type your answer here, replacing this text._"
   ]
  },
  {
   "cell_type": "markdown",
   "id": "01aa10a4",
   "metadata": {},
   "source": [
    "<!-- END QUESTION -->\n",
    "\n",
    "<!-- BEGIN QUESTION -->\n",
    "\n",
    "------\n",
    "\n",
    "**Question 3.** Next, look at the regression output from Question 1. Based on this regression output, what is your overall interpretation of what the results of the experiment show? You do not necessarily need to reference specific estimates or statistical concepts here; instead, do your best to describe the study's main finding(s).\n",
    "\n",
    "In answering this question, you may wish to take another look at the codebook at the top of the notebook which tells you exactly what happened in each treatment condition (see the bullet point under `treat` for the definitions).\n",
    "\n",
    "**Please limit your answer to 2-3 sentences.**\n"
   ]
  },
  {
   "cell_type": "markdown",
   "id": "e68d4cf0",
   "metadata": {},
   "source": [
    "_Type your answer here, replacing this text._"
   ]
  },
  {
   "cell_type": "markdown",
   "id": "23ee577c",
   "metadata": {},
   "source": [
    "<!-- END QUESTION -->\n",
    "\n",
    "-----\n",
    "\n",
    "**Question 4.** Run the same regression you ran in Question 1, but now also add the `femprop` and `station1` variables as control variables.\n"
   ]
  },
  {
   "cell_type": "code",
   "execution_count": null,
   "id": "73f3cc49",
   "metadata": {
    "tags": []
   },
   "outputs": [],
   "source": [
    "reg.with.controls <- NULL # YOUR CODE HERE\n",
    "reg.with.controls"
   ]
  },
  {
   "cell_type": "code",
   "execution_count": null,
   "id": "7495d807",
   "metadata": {
    "deletable": false,
    "editable": false
   },
   "outputs": [],
   "source": [
    ". = ottr::check(\"tests/q4.R\")"
   ]
  },
  {
   "cell_type": "markdown",
   "id": "c508e6c8",
   "metadata": {},
   "source": [
    "<!-- BEGIN QUESTION -->\n",
    "\n",
    "------\n",
    "\n",
    "**Question 5.** Are there any differences between how we should interpret the Estimate next to the `femprop` variable and the Estimates next to the treatment variables? If so, what is the difference in interpretation? If not, why not?\n",
    "\n",
    "**Please limit your answer between 1-2 sentences.**\n"
   ]
  },
  {
   "cell_type": "markdown",
   "id": "9fc336c3",
   "metadata": {},
   "source": [
    "_Type your answer here, replacing this text._"
   ]
  },
  {
   "cell_type": "markdown",
   "id": "24a5e7fd",
   "metadata": {},
   "source": [
    "<!-- END QUESTION -->\n",
    "\n",
    "------\n",
    "\n",
    "**Question 6.** Was it a good idea to include the `femprop` variable in the regression in question 4?\n",
    "\n",
    "- `'a'`: Yes, because it helps eliminate potential omitted variable bias.\n",
    "- `'b'`: Yes, because it reduces noise, which can decrease the standard errors of our estimates of the treatment effects.\n",
    "- `'c'`: No, because it may explain some of the variation in the outcome that is due to the treatment, which would bias our estimate of the treatment effect.\n",
    "- `'d'`: No, because it is not a randomized variable.\n",
    "\n",
    "Enter your answer below between quotes. For example, if you wanted to answer `'a'`, your answer would look like: `q6.answer <- 'a'`.\n"
   ]
  },
  {
   "cell_type": "code",
   "execution_count": null,
   "id": "b5ba0b27",
   "metadata": {
    "tags": []
   },
   "outputs": [],
   "source": [
    "q6.answer <- '...'"
   ]
  },
  {
   "cell_type": "markdown",
   "id": "5b336242",
   "metadata": {},
   "source": [
    "------\n",
    "\n",
    "**Question 7.** The variable `station1Duisburg` is equal to 1 when the experiment took place in Duisburg station. In question 4, the variable `station1Duisburg` has a p-value of 0.0076, and an estimate of 0.16893. Which of the following claim is / are true?\n",
    "\n",
    "(1) This shows that there is a statistically significant causal effect of being in Duisburg station on how likely bystandards were to help.\n",
    "\n",
    "(2) Within this sample, bystanders in Duisburg station were more likely to offer help, holding constant the other variable in the regression.\n",
    "\n",
    "- `'a'`: (1) only\n",
    "- `'b'`: (2) only\n",
    "- `'c'`: (1) and (2) both\n",
    "- `'d'`: Neither (1) nor (2)\n",
    "\n",
    "Enter your answer below between quotes. For example, if you wanted to answer 'a', your answer would look like: `q7.answer <- 'a'`.\n"
   ]
  },
  {
   "cell_type": "code",
   "execution_count": null,
   "id": "61d85fca",
   "metadata": {
    "tags": []
   },
   "outputs": [],
   "source": [
    "q7.answer <- '...'"
   ]
  },
  {
   "cell_type": "markdown",
   "id": "9e5408c4",
   "metadata": {},
   "source": [
    "-----\n",
    "\n",
    "# Submitting Your Notebook (please read carefully!)\n",
    "\n",
    "To submit your notebook...\n",
    "\n",
    "### 1. Click `File` $\\rightarrow$ `Save and Checkpoint`.\n",
    "\n",
    "### 2. Wait 5 seconds.\n",
    "\n",
    "### 3. Select the cell below and hit run."
   ]
  },
  {
   "cell_type": "code",
   "execution_count": null,
   "id": "948598be",
   "metadata": {},
   "outputs": [],
   "source": [
    "ottr::export(\"Week11_Activity2group.ipynb\", pdf = TRUE)"
   ]
  },
  {
   "cell_type": "markdown",
   "id": "effd2503",
   "metadata": {},
   "source": [
    "After you hit \"Run\" on the cell above, wait for a moment (about 5 seconds), then click the download link. A .zip file should download to your computer.\n",
    "\n",
    "(If you make changes to your notebook, you'll need to hit save and then run the cell above again before you submit to get a new version of it.)\n",
    "\n",
    "### 4. Submit the .zip file you just downloaded <a href=\"https://www.gradescope.com/\" target=\"_blank\">on Gradescope here</a>.\n",
    "\n",
    "Notes:\n",
    "\n",
    "- **This does not seem to work on Chrome for iPad or iPhone.** If you're using an iPad or iPhone, you need to download the file using **Safari**.\n",
    "- If your web browser automatically unzips the .zip file (so you see a folder instead of a .zip file), you can just upload the .ipynb file that is inside the folder.\n",
    "- If this method is not working for you, try the \"old way\": hit `File`, then `Download as`, then `Notebook (.ipynb)` and submit that."
   ]
  },
  {
   "cell_type": "markdown",
   "id": "96d72f14",
   "metadata": {
    "deletable": false,
    "editable": false
   },
   "source": [
    "## Submission\n",
    "\n",
    "Make sure you have run all cells in your notebook in order before running the cell below, so that all images/graphs appear in the output. The cell below will generate a zip file for you to submit. **Please save before exporting!**"
   ]
  },
  {
   "cell_type": "code",
   "execution_count": null,
   "id": "8dcc2d07",
   "metadata": {
    "deletable": false,
    "editable": false
   },
   "outputs": [],
   "source": [
    "# Save your notebook first, then run this cell to export your submission.\n",
    "ottr::export(\"Week11_Activity2group.ipynb\")"
   ]
  },
  {
   "cell_type": "markdown",
   "id": "8344510b",
   "metadata": {},
   "source": [
    " "
   ]
  }
 ],
 "metadata": {
  "kernelspec": {
   "display_name": "R",
   "language": "R",
   "name": "ir"
  },
  "language_info": {
   "codemirror_mode": "r",
   "file_extension": ".r",
   "mimetype": "text/x-r-source",
   "name": "R",
   "pygments_lexer": "r",
   "version": "4.1.2"
  },
  "latex_envs": {
   "LaTeX_envs_menu_present": true,
   "autoclose": false,
   "autocomplete": true,
   "bibliofile": "biblio.bib",
   "cite_by": "apalike",
   "current_citInitial": 1,
   "eqLabelWithNumbers": true,
   "eqNumInitial": 1,
   "hotkeys": {
    "equation": "Ctrl-E",
    "itemize": "Ctrl-I"
   },
   "labels_anchors": false,
   "latex_user_defs": false,
   "report_style_numbering": false,
   "user_envs_cfg": false
  }
 },
 "nbformat": 4,
 "nbformat_minor": 5
}
