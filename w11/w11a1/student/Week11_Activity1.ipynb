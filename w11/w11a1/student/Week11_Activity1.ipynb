{
 "cells": [
  {
   "cell_type": "markdown",
   "id": "ccc28878",
   "metadata": {},
   "source": [
    "# POLSCI 3\n",
    "\n",
    "## Week 11, Activity Notebook 1: Multivariate Regression with Observational Data"
   ]
  },
  {
   "cell_type": "markdown",
   "id": "f6187538",
   "metadata": {},
   "source": [
    "First, let's read in the data."
   ]
  },
  {
   "cell_type": "code",
   "execution_count": null,
   "id": "1455020a",
   "metadata": {
    "scrolled": false
   },
   "outputs": [],
   "source": [
    "#import libraries\n",
    "library(testthat)\n",
    "\n",
    "data <- read.csv(\"ps3-house-election-spending.csv\")\n",
    "head(data)"
   ]
  },
  {
   "cell_type": "markdown",
   "id": "e4ac63c2",
   "metadata": {},
   "source": [
    "Here is a quick rundown of what each column means:\n",
    "\n",
    "- `state`: State (e.g., for CA-13, \"CA\")\n",
    "- `district`: District number (e.g., for CA-13, 13)\n",
    "- `name_dem_cand`: Democrat candidate name in the 2020 US House elections\n",
    "- `name_rep_cand`: Republican candidate name in the 2020 US House elections\n",
    "- `dem_us_house_percent_2020`: Democrat candidate's vote share in 2020 election (percent)\n",
    "- `dem_us_house_percent_2018`: Democrat candidate's vote share in 2018 election (percent)\n",
    "- `dem_won_ushouse_2018`: A Democrat won the US House election in 2018, and so is running for re-election in 2020 (0 = Democrat lost/Republican won; 1 = Democrat won/Republican lost)\n",
    "- `clinton_percent_2016`: Clinton vote share in 2016 in the district (percent)\n",
    "- `spending_dem_ushouse_2020`: Democratic US House candidate's spending in 2020, in millions of dollars \n",
    "- `spending_rep_ushouse_2020`: Republican US House candidate's spending in 2020, in millions of dollars "
   ]
  },
  {
   "cell_type": "markdown",
   "id": "8b01d63f",
   "metadata": {
    "deletable": false,
    "editable": false
   },
   "source": [
    "-----\n",
    "\n",
    "**Question 1a.** Subset the data to only districts where a *Republican* won in the 2018 election (based on `dem_won_ushouse_2018`). Store the new subset of the data in a new data frame called `republicans`.\n"
   ]
  },
  {
   "cell_type": "code",
   "execution_count": null,
   "id": "160889a7",
   "metadata": {
    "scrolled": false,
    "tags": []
   },
   "outputs": [],
   "source": [
    "# Subset to Republicans\n",
    "republicans <- NULL # YOUR CODE HERE"
   ]
  },
  {
   "cell_type": "markdown",
   "id": "497e4072",
   "metadata": {
    "deletable": false,
    "editable": false
   },
   "source": [
    "-----\n",
    "\n",
    "**Question 1b.** You'd expect that when Republicans spend more, Democratic vote share would be *lower*. What do we find? Using bivariate regression that we learned last week, estimate the relationship between Democratic vote share in 2020 (`dem_us_house_percent_2020`, as the outcome) and Republican spending in 2020 (`spending_rep_ushouse_2020`, as a predictor variable). Do this with the `republicans` dataset.\n",
    "\n"
   ]
  },
  {
   "cell_type": "code",
   "execution_count": null,
   "id": "194c51bf",
   "metadata": {
    "tags": []
   },
   "outputs": [],
   "source": [
    "q1b <- NULL # YOUR CODE HERE\n",
    "q1b"
   ]
  },
  {
   "cell_type": "markdown",
   "id": "59d024e5",
   "metadata": {
    "deletable": false,
    "editable": false
   },
   "source": [
    "------\n",
    "\n",
    "**Question 2.**  Run the same regression as you did above, but *also* control for both `clinton_percent_2016` and `dem_us_house_percent_2018`. Do this with the `republicans` dataset.\n"
   ]
  },
  {
   "cell_type": "code",
   "execution_count": null,
   "id": "5a8d4c95",
   "metadata": {
    "tags": []
   },
   "outputs": [],
   "source": [
    "q2 <- NULL # YOUR CODE HERE\n",
    "q2"
   ]
  },
  {
   "cell_type": "markdown",
   "id": "8fabc127",
   "metadata": {
    "deletable": false,
    "editable": false
   },
   "source": [
    "------\n",
    "\n",
    "**Question 3.**  `TRUE` or `FALSE`: Now that we've controlled for these omitted variables in the multivariate regression, there is no more omitted variable bias when we are using this regression to estimate the causal effect of `spending_rep_ushouse_2020` on `dem_us_house_percent_2020`.\n",
    "\n",
    "Save your answer in `q3.answer`. Do not use quotes. For example, to answer `TRUE`, type `q3.answer <- TRUE`.\n"
   ]
  },
  {
   "cell_type": "code",
   "execution_count": null,
   "id": "d697ed09",
   "metadata": {
    "tags": []
   },
   "outputs": [],
   "source": [
    "q3.answer <- NULL # YOUR CODE HERE"
   ]
  },
  {
   "cell_type": "markdown",
   "id": "ec6ff09b",
   "metadata": {
    "deletable": false,
    "editable": false
   },
   "source": [
    "------\n",
    "\n",
    "**Question 4.** Which one of the following statements about the estimate (0.20177) of the `dem_us_house_percent_2018` variable is correct?\n",
    "\n",
    "- `'a'`: On average, a 1-percent increase in the Democratic house vote in 2018 causes the 2020 Democratic house vote to increase by approximately 0.2%\n",
    "- `'b'`: On average, a 1-percent increase in the Democratic house vote in 2018 causes the 2020 Democratic house vote to increase by approximately 0.2%, holding constant the other variables\n",
    "- `'c'`: On average, districts where the Democratic house vote in 2018 is 1-percent higher is associated with a 0.2% higher 2020 Democratic house vote \n",
    "- `'d'`: On average, districts where the Democratic house vote in 2018 is 1-percent higher is associated with a 0.2% higher 2020 Democratic house vote, holding constant the other variables\n",
    "\n",
    "Enter your answer below between quotes. For example, if you wanted to answer 'a', your answer would look like: `q4.answer <- 'a'`.\n"
   ]
  },
  {
   "cell_type": "code",
   "execution_count": null,
   "id": "71bd06ac",
   "metadata": {
    "tags": []
   },
   "outputs": [],
   "source": [
    "q4.answer <- '...'"
   ]
  },
  {
   "cell_type": "markdown",
   "id": "f243400c",
   "metadata": {
    "deletable": false,
    "editable": false
   },
   "source": [
    "<!-- BEGIN QUESTION -->\n",
    "\n",
    "-----\n",
    "\n",
    "**In today's group assignment, you will be asked to answer the two open-ended questions below. You can practice answering these questions now, but _your answers to these questions on this individual assignment will not be graded_ (so _you can leave the next two questions blank_ and just think about them for now if you want).**\n",
    "\n",
    "-----\n",
    "\n",
    "**Question 5.** Explain your answer to Question 3. If you said `TRUE`, explain to someone who hasn't taken this class why the multivariate regression solves the problem. If you said `FALSE`, name a variable that could still be omitted and why this would pose a problem for the regression.\n"
   ]
  },
  {
   "cell_type": "markdown",
   "id": "854e45fe",
   "metadata": {},
   "source": [
    "_Type your answer here, replacing this text._"
   ]
  },
  {
   "cell_type": "markdown",
   "id": "41b99dbc",
   "metadata": {
    "deletable": false,
    "editable": false
   },
   "source": [
    "<!-- END QUESTION -->\n",
    "\n",
    "<!-- BEGIN QUESTION -->\n",
    "\n",
    "------\n",
    "\n",
    "**Question 6.** Do your best to explain what is happening when the regression \"controls for\" `clinton_percent_2016` and `dem_us_house_percent_2018`. That is, explain why the answer you get for the relationship between `spending_rep_ushouse_2020` and `dem_us_house_percent_2020` is different once you also include `clinton_percent_2016` and `dem_us_house_percent_2018` in the regression.\n"
   ]
  },
  {
   "cell_type": "markdown",
   "id": "ca723352",
   "metadata": {},
   "source": [
    "_Type your answer here, replacing this text._"
   ]
  },
  {
   "cell_type": "markdown",
   "id": "acca460f",
   "metadata": {
    "deletable": false,
    "editable": false
   },
   "source": [
    "<!-- END QUESTION -->\n",
    "\n",
    "-----"
   ]
  },
  {
   "cell_type": "markdown",
   "id": "b028b4c0",
   "metadata": {
    "deletable": false,
    "editable": false
   },
   "source": [
    "## Submission\n",
    "\n",
    "Make sure you have run all cells in your notebook in order before running the cell below, so that all images/graphs appear in the output. The cell below will generate a zip file for you to submit."
   ]
  },
  {
   "cell_type": "code",
   "execution_count": null,
   "id": "7e7a78b6",
   "metadata": {
    "deletable": false,
    "editable": false
   },
   "outputs": [],
   "source": [
    "ottr::export(\"Week11_Activity1.ipynb\", pdf = TRUE, force_save = TRUE)"
   ]
  },
  {
   "cell_type": "markdown",
   "id": "d8ab2715",
   "metadata": {},
   "source": [
    " "
   ]
  }
 ],
 "metadata": {
  "kernelspec": {
   "display_name": "R",
   "language": "R",
   "name": "ir"
  },
  "language_info": {
   "codemirror_mode": "r",
   "file_extension": ".r",
   "mimetype": "text/x-r-source",
   "name": "R",
   "pygments_lexer": "r",
   "version": "4.3.1"
  },
  "latex_envs": {
   "LaTeX_envs_menu_present": true,
   "autoclose": false,
   "autocomplete": true,
   "bibliofile": "biblio.bib",
   "cite_by": "apalike",
   "current_citInitial": 1,
   "eqLabelWithNumbers": true,
   "eqNumInitial": 1,
   "hotkeys": {
    "equation": "Ctrl-E",
    "itemize": "Ctrl-I"
   },
   "labels_anchors": false,
   "latex_user_defs": false,
   "report_style_numbering": false,
   "user_envs_cfg": false
  }
 },
 "nbformat": 4,
 "nbformat_minor": 5
}
