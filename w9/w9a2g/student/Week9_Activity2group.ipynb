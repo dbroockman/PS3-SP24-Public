{
 "cells": [
  {
   "cell_type": "markdown",
   "id": "1064bb84",
   "metadata": {},
   "source": [
    "# POLSCI 3\n",
    "\n",
    "## Week 9, Activity Notebook 2: Descriptive hypothesis testing\n",
    "\n",
    "Let's first read in the data:"
   ]
  },
  {
   "cell_type": "code",
   "execution_count": null,
   "id": "452df384",
   "metadata": {},
   "outputs": [],
   "source": [
    "#import libraries\n",
    "library(testthat)\n",
    "library(estimatr)\n",
    "\n",
    "data <- read.csv(\"ps3_cces2020_post.csv\")\n",
    "head(data)"
   ]
  },
  {
   "cell_type": "markdown",
   "id": "295b32c7",
   "metadata": {},
   "source": [
    "Here's what the variables mean:\n",
    "\n",
    "- `vvweight_post`: Survey weight\n",
    "- `person_of_color`: `1` if person identifies as a person of color; `0` if person identifies as non-Hispanic white\n",
    "- `college`: `1` if the person graduated from college; `0` if the person did not\n",
    "- `female`: `1` if the person identifies as female; `0` otherwise\n",
    "- `medicare_expand`: `1` if the person favors expanding Medicare; `0` otherwise\n",
    "- `vote_wait`: How long someone said they had to wait to vote. Rounded to 0, 5, 15, 45, or 90 minutes. `NA` means missing (question was not asked), `difference_in_means()` will ignore these cases.\n",
    "- `votereg_problem`: Encountered a problem when they tried to vote (e.g., ID was rejected, didn't appear on voter registration list); `0` = no; `1` = yes"
   ]
  },
  {
   "cell_type": "markdown",
   "id": "95bffada",
   "metadata": {},
   "source": [
    "----\n",
    "\n",
    "**Question 1.** Do people of color have to wait longer to vote? If so, by how many minutes? Use the `difference_in_means()` function to look. Don't forget to use weights.\n"
   ]
  },
  {
   "cell_type": "code",
   "execution_count": null,
   "id": "1ea799c4",
   "metadata": {
    "tags": []
   },
   "outputs": [],
   "source": [
    "poc.wait.longer <- NULL # YOUR CODE HERE\n",
    "poc.wait.longer # Look at the results"
   ]
  },
  {
   "cell_type": "code",
   "execution_count": null,
   "id": "a72688d3",
   "metadata": {
    "deletable": false,
    "editable": false
   },
   "outputs": [],
   "source": [
    ". = ottr::check(\"tests/q1.R\")"
   ]
  },
  {
   "cell_type": "markdown",
   "id": "5edaf7d9",
   "metadata": {},
   "source": [
    "------\n",
    "\n",
    "**Question 2.** What does the number under `Estimate` above mean?\n",
    "\n",
    "(1) How much more time people of color who responded to the survey spent waiting to vote than non-Hispanic whites in this sample spent waiting to vote (weighted by `vvweight`)\n",
    "(2) Our best guess of how much longer people of color in America wait to vote than non-Hispanic whites\n",
    "\n",
    "- `'a'`: (1) only\n",
    "- `'b'`: (2) only\n",
    "- `'c'`: Both (1) and (2)\n",
    "- `'d'`: Neither (1) nor (2)\n",
    "\n",
    "Enter your answer below between quotes. For example, if you wanted to answer 'a', your answer would look like: `q2.answer <- 'a'`.\n"
   ]
  },
  {
   "cell_type": "code",
   "execution_count": null,
   "id": "0882a177",
   "metadata": {
    "tags": []
   },
   "outputs": [],
   "source": [
    "q2.answer <- '...'"
   ]
  },
  {
   "cell_type": "markdown",
   "id": "f254b8aa",
   "metadata": {},
   "source": [
    "------\n",
    "\n",
    "**Question 3.** What does the $p$-value you calculated above mean?\n",
    "\n",
    "- `'a'`: There is only a 0.55% chance that people of color and non-Hispanic whites in the general population wait an equal amount of time to vote.\n",
    "- `'b'`: There is only a 0.55% chance that people of color and non-Hispanic whites _who are in this sample_ wait an equal amount of time to vote.\n",
    "- `'c'`: If there were no difference between how long people of color and non-Hispanic whites _who are in this sample_ had to wait to vote, there is only a 0.55% chance that we would see a difference as large as we did in this sample.\n",
    "- `'d'`: If there were no difference between how long people of color and non-Hispanic whites _in the general population_ had to wait to vote, there is only a 0.55% chance that we would see a difference as large as we did in this sample.\n",
    "\n",
    "Enter your answer below between quotes. For example, if you wanted to answer 'a', your answer would look like: `q3.answer <- 'a'`.\n"
   ]
  },
  {
   "cell_type": "code",
   "execution_count": null,
   "id": "74ceea1b",
   "metadata": {
    "tags": []
   },
   "outputs": [],
   "source": [
    "q3.answer <- '...'"
   ]
  },
  {
   "cell_type": "markdown",
   "id": "2987d5cc",
   "metadata": {},
   "source": [
    "------\n",
    "\n",
    "**Question 4.** Use the `difference_in_means()` function to ask _any_ another descriptive question in the data about differences between groups. (Don't forget to use weights.)\n",
    "\n",
    "Hint: I would suggest using `medicare_expand`, `vote_wait`, or `votereg_problem` as your outcome variable and `person_of_color`, `college`, or `female` as your group variable.\n"
   ]
  },
  {
   "cell_type": "code",
   "execution_count": null,
   "id": "96c6ceec",
   "metadata": {
    "tags": []
   },
   "outputs": [],
   "source": [
    "your.question <- NULL # YOUR CODE HERE\n",
    "your.question # Look at the results"
   ]
  },
  {
   "cell_type": "code",
   "execution_count": null,
   "id": "7be520bd",
   "metadata": {
    "deletable": false,
    "editable": false
   },
   "outputs": [],
   "source": [
    ". = ottr::check(\"tests/q4.R\")"
   ]
  },
  {
   "cell_type": "markdown",
   "id": "751285c2",
   "metadata": {},
   "source": [
    "<!-- BEGIN QUESTION -->\n",
    "\n",
    "------\n",
    "\n",
    "**Question 5.** Write 2-4 sentences describing what you found in Question 4. Include a description of a) the estimate, b) the $p$-value, and c) the 95% confidence interval.\n"
   ]
  },
  {
   "cell_type": "markdown",
   "id": "db4d21e1",
   "metadata": {},
   "source": [
    "_Type your answer here, replacing this text._"
   ]
  },
  {
   "cell_type": "markdown",
   "id": "bc44bfa6",
   "metadata": {},
   "source": [
    "<!-- END QUESTION -->\n",
    "\n",
    "<!-- BEGIN QUESTION -->\n",
    "\n",
    "------\n",
    "\n",
    "**Question 6.** You tell a friend about what you found in Question 4. They argue that the \"group\" variable you looked at in Question 4 (the variable to the right of the `~`) actually _caused_ your descriptive variable (the variable to the left of the `~`). Write 1-3 sentences giving an example of (i.e., telling a specific alternative story about) why this relationship might not be causal. (If the difference you found in Question 3 was not statistically significant or was minimal in size, for the purposes of this question, pretend that it was.)\n"
   ]
  },
  {
   "cell_type": "markdown",
   "id": "4459f4b5",
   "metadata": {},
   "source": [
    "_Type your answer here, replacing this text._"
   ]
  },
  {
   "cell_type": "markdown",
   "id": "1ed28e3a",
   "metadata": {},
   "source": [
    "<!-- END QUESTION -->\n",
    "\n",
    "------\n",
    "\n",
    "# Submitting Your Notebook (please read carefully!)\n",
    "\n",
    "To submit your notebook...\n",
    "\n",
    "### 1. Click `File` $\\rightarrow$ `Save and Checkpoint`. \n",
    "\n",
    "### 2. Wait 5 seconds.\n",
    "\n",
    "### 3. Select the cell below and hit run."
   ]
  },
  {
   "cell_type": "code",
   "execution_count": null,
   "id": "bde17840",
   "metadata": {},
   "outputs": [],
   "source": [
    "ottr::export(\"Week9_Activity2group.ipynb\", pdf = TRUE)"
   ]
  },
  {
   "cell_type": "markdown",
   "id": "956cac78",
   "metadata": {},
   "source": [
    "After you hit \"Run\" on the cell above, wait for a moment (about 5 seconds), then click the download link. A .zip file should download to your computer.\n",
    "\n",
    "(If you make changes to your notebook, you'll need to hit save and then run the cell above again before you submit to get a new version of it.)\n",
    "\n",
    "### 4. Submit the .zip file you just downloaded <a href=\"https://www.gradescope.com/\" target=\"_blank\">on Gradescope here</a>.\n",
    "\n",
    "Notes:\n",
    "\n",
    "- **This does not seem to work on Chrome for iPad or iPhone.** If you're using an iPad or iPhone, you need to download the file using **Safari**.\n",
    "- If your web browser automatically unzips the .zip file (so you see a folder instead of a .zip file), you can just upload the .ipynb file that is inside the folder.\n",
    "- If this method is not working for you, try the \"old way\": hit `File`, then `Download as`, then `Notebook (.ipynb)` and submit that.\n",
    "\n",
    "### 5. Add your group members' names in Gradescope."
   ]
  }
 ],
 "metadata": {
  "kernelspec": {
   "display_name": "R",
   "language": "R",
   "name": "ir"
  },
  "language_info": {
   "codemirror_mode": "r",
   "file_extension": ".r",
   "mimetype": "text/x-r-source",
   "name": "R",
   "pygments_lexer": "r",
   "version": "4.1.2"
  },
  "latex_envs": {
   "LaTeX_envs_menu_present": true,
   "autoclose": false,
   "autocomplete": true,
   "bibliofile": "biblio.bib",
   "cite_by": "apalike",
   "current_citInitial": 1,
   "eqLabelWithNumbers": true,
   "eqNumInitial": 1,
   "hotkeys": {
    "equation": "Ctrl-E",
    "itemize": "Ctrl-I"
   },
   "labels_anchors": false,
   "latex_user_defs": false,
   "report_style_numbering": false,
   "user_envs_cfg": false
  }
 },
 "nbformat": 4,
 "nbformat_minor": 5
}
