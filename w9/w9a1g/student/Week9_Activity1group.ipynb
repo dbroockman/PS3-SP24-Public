{
 "cells": [
  {
   "cell_type": "markdown",
   "id": "092a4922",
   "metadata": {},
   "source": [
    "# POLSCI 3\n",
    "\n",
    "## Week 9, Activity Notebook 1: Describing populations"
   ]
  },
  {
   "cell_type": "code",
   "execution_count": null,
   "id": "85ace73f",
   "metadata": {
    "editable": false
   },
   "outputs": [],
   "source": [
    "# Run this cell first!\n",
    "# import libraries\n",
    "library(testthat)\n",
    "library(ottr)\n",
    "\n",
    "# Read in data\n",
    "data <- read.csv(\"ps3_cces2020_pre.csv\")\n",
    "head(data)"
   ]
  },
  {
   "cell_type": "markdown",
   "id": "4a3c9ee0",
   "metadata": {},
   "source": [
    "Here's what the variables mean:\n",
    "\n",
    "- `vvweight`: Survey weight\n",
    "- `college`: Whether the person went to college (`0` = no; `1` = yes)\n",
    "- `medicare_expand`: Whether the person favors expanding Medicare (medical program for people over 65)  (`0` = no; `1` = yes)\n",
    "- `repeal_aca`: Whether the person favors repealing the Affordable Care Act (\"Obamacare\") (`0` = no; `1` = yes)\n",
    "- `regulate_carbon`: Whether the person favors regulations on carbon emissions (`0` = no; `1` = yes)\n",
    "- `prefertrump`: Whether the person prefers Trump to win the 2020 Presidential election (`0` = no; `1` = yes)"
   ]
  },
  {
   "cell_type": "markdown",
   "id": "79da9087",
   "metadata": {},
   "source": [
    "-----\n",
    "\n",
    "**Question 1.** _Without_ using weights, what proportion of the people who answered this survey support repealing the Affordable Care Act (ACA)?  That is, what is the mean of the `repeal_aca` variable?\n"
   ]
  },
  {
   "cell_type": "code",
   "execution_count": null,
   "id": "c8312c93",
   "metadata": {
    "tags": []
   },
   "outputs": [],
   "source": [
    "aca.repeal.mean <- NULL # YOUR CODE HERE\n",
    "aca.repeal.mean"
   ]
  },
  {
   "cell_type": "code",
   "execution_count": null,
   "id": "95388893",
   "metadata": {
    "deletable": false,
    "editable": false
   },
   "outputs": [],
   "source": [
    ". = ottr::check(\"tests/q1.R\")"
   ]
  },
  {
   "cell_type": "markdown",
   "id": "d9826936",
   "metadata": {},
   "source": [
    "----\n",
    "\n",
    "**Question 2.** Now, _using_ the weight in the `vvweight` variable to weight your analysis, estimate what proportion of Americans support repealing the Affordable Care Act (ACA).\n"
   ]
  },
  {
   "cell_type": "code",
   "execution_count": null,
   "id": "745a37ae",
   "metadata": {
    "tags": []
   },
   "outputs": [],
   "source": [
    "aca.repeal.weighted.mean <- NULL # YOUR CODE HERE\n",
    "aca.repeal.weighted.mean"
   ]
  },
  {
   "cell_type": "code",
   "execution_count": null,
   "id": "7fadd134",
   "metadata": {
    "deletable": false,
    "editable": false
   },
   "outputs": [],
   "source": [
    ". = ottr::check(\"tests/q2.R\")"
   ]
  },
  {
   "cell_type": "markdown",
   "id": "7fd67ca7",
   "metadata": {},
   "source": [
    "------\n",
    "\n",
    "**Question 3.** Which of the following best describes why your answers to Questions 1 and 2 are different?\n",
    "\n",
    "- `'a'`: Using these weights helps reduce the noise of our estimate; the answer in Question 2 is more precise.\n",
    "- `'b'`: The results suggest that the kind of people who support repealing the ACA are underrepresented in the survey sample; the weights try to adjust for the potential for sampling bias and make the sample be more representative of the population.\n",
    "- `'c'`: Due to noise, estimates can slightly change when we run the same study again twice. The results in Questions 1 and 2 are therefore equally valid.\n",
    "- `'d'`: The answer to Question 2 is affected by sampling bias, whereas the answer to Question 1 is not. Therefore, the answer in Question 1 is more accurate and we should disregard the results of Question 2.\n",
    "\n",
    "Enter your answer below between quotes. For example, if you wanted to answer 'a', your answer would look like: `q3.answer <- 'a'`.\n"
   ]
  },
  {
   "cell_type": "code",
   "execution_count": null,
   "id": "3ef2fa52",
   "metadata": {
    "tags": []
   },
   "outputs": [],
   "source": [
    "q3.answer <- '...'"
   ]
  },
  {
   "cell_type": "markdown",
   "id": "4eff9ee7",
   "metadata": {},
   "source": [
    "--------\n",
    "\n",
    "**Question 4.** `TRUE` or `FALSE`: Now that we've weighted the data in Question 2, we know that our answers are perfectly representative of the population we are trying to learn about (the American public).\n",
    "\n",
    "Save your answer in `q4.answer`. Do not use quotes. For example, to answer `TRUE`, type `q4.answer <- TRUE`.\n"
   ]
  },
  {
   "cell_type": "code",
   "execution_count": null,
   "id": "0a0e926c",
   "metadata": {
    "tags": []
   },
   "outputs": [],
   "source": [
    "q4.answer <- NULL # YOUR CODE HERE"
   ]
  },
  {
   "cell_type": "markdown",
   "id": "d362cbb7",
   "metadata": {},
   "source": [
    "------\n",
    "\n",
    "**Question 5.** Which of the following is **NOT** an example of a situation that could create sampling bias?\n",
    "\n",
    "- `'a'`: A professor asks everyone in his class to take an optional survey about how their course is going. The students who choose to respond to the survey have unusually strong opinions about the course they want to express.\n",
    "- `'b'`: A farmer wants to learn about how many of the crops in their field are infested by pests, which they can only tell by examining the roots. They randomly sample 50 of their 5,000 crops to dig up and examines their roots.\n",
    "- `'c'`: Your friend is running for Mayor of the City of Berkeley. To understand how well he is likely to perform in the election, he asks his former UC Berkeley professors to send out a link to an online survey about the election to their classes.\n",
    "- `'d'`: An auto repair shop wants to understand what services their customers would like to have them offer. Instead of calling all their customers, to save time they only call all customers whose last names start with the letter \"A\". All the customers who they call responded to their questions.\n",
    "\n",
    "Enter your answer below between quotes. For example, if you wanted to answer 'a', your answer would look like: `q5.answer <- 'a'`.\n"
   ]
  },
  {
   "cell_type": "code",
   "execution_count": null,
   "id": "3eb904e4",
   "metadata": {
    "tags": []
   },
   "outputs": [],
   "source": [
    "q5.answer <- '...'"
   ]
  },
  {
   "cell_type": "markdown",
   "id": "d5c266cd",
   "metadata": {},
   "source": [
    "# Submitting Your Notebook (please read carefully!)\n",
    "\n",
    "To submit your notebook...\n",
    "\n",
    "### 1. Click `File` $\\rightarrow$ `Save and Checkpoint`.\n",
    "\n",
    "### 2. Wait 5 seconds.\n",
    "\n",
    "### 3. Select the cell below and hit run."
   ]
  },
  {
   "cell_type": "code",
   "execution_count": null,
   "id": "1c1b5120",
   "metadata": {},
   "outputs": [],
   "source": [
    "ottr::export(\"Week9_Activity1group.ipynb\")"
   ]
  },
  {
   "cell_type": "markdown",
   "id": "3d2637e1",
   "metadata": {},
   "source": [
    "After you hit \"Run\" on the cell above, wait for a moment (about 5 seconds), then click the download link. A .zip file should download to your computer.\n",
    "\n",
    "(If you make changes to your notebook, you'll need to hit save and then run the cell above again before you submit to get a new version of it.)\n",
    "\n",
    "### 4. Submit the .zip file you just downloaded <a href=\"https://www.gradescope.com/\" target=\"_blank\">on Gradescope here</a>.\n",
    "\n",
    "Notes:\n",
    "\n",
    "- **This does not seem to work on Chrome for iPad or iPhone.** If you're using an iPad or iPhone, you need to download the file using **Safari**.\n",
    "- If your web browser automatically unzips the .zip file (so you see a folder instead of a .zip file), you can just upload the .ipynb file that is inside the folder.\n",
    "- If this method is not working for you, try the \"old way\": hit `File`, then `Download as`, then `Notebook (.ipynb)` and submit that."
   ]
  }
 ],
 "metadata": {
  "kernelspec": {
   "display_name": "R",
   "language": "R",
   "name": "ir"
  },
  "language_info": {
   "codemirror_mode": "r",
   "file_extension": ".r",
   "mimetype": "text/x-r-source",
   "name": "R",
   "pygments_lexer": "r",
   "version": "4.1.2"
  },
  "latex_envs": {
   "LaTeX_envs_menu_present": true,
   "autoclose": false,
   "autocomplete": true,
   "bibliofile": "biblio.bib",
   "cite_by": "apalike",
   "current_citInitial": 1,
   "eqLabelWithNumbers": true,
   "eqNumInitial": 1,
   "hotkeys": {
    "equation": "Ctrl-E",
    "itemize": "Ctrl-I"
   },
   "labels_anchors": false,
   "latex_user_defs": false,
   "report_style_numbering": false,
   "user_envs_cfg": false
  }
 },
 "nbformat": 4,
 "nbformat_minor": 5
}
