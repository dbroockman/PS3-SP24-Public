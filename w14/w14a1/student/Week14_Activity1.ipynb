{
 "cells": [
  {
   "cell_type": "markdown",
   "id": "11db69df",
   "metadata": {
    "tags": [
     "include"
    ]
   },
   "source": [
    "# POLSCI 3\n",
    "\n",
    "## Week 14, Activity 1: Difference-in-differences designs"
   ]
  },
  {
   "cell_type": "markdown",
   "id": "db619368",
   "metadata": {},
   "source": [
    "**Note: There is no individual assignment today. This is a group assignment.**"
   ]
  },
  {
   "cell_type": "code",
   "execution_count": null,
   "id": "be2c8f9a",
   "metadata": {},
   "outputs": [],
   "source": [
    "# RUN THIS CELL\n",
    "library(testthat)"
   ]
  },
  {
   "cell_type": "markdown",
   "id": "f0a854fc",
   "metadata": {},
   "source": [
    "Today we'll examine a study from political scientists Andrew Hall and Jesse Yoder, who study the effects of home ownership on political behavior -- in particular, whether owning a home _causes_ people to be more likely to vote.\n",
    "\n",
    "This is obviously a difficult question to study. Simply comparing people who do and do not own homes would be a bad idea because of the potentialy for omitted variable bias. Yet, it's difficult to run an experiment on home ownership -- it's not really practical to randomly assign some people to get homes and not others.\n",
    "\n",
    "Hall and Yoder therefore use a _difference-in-differences_ design.\n",
    "\n",
    "> We combine administrative data on more than 18 million voters in Ohio and North Carolina with deed-level data on property ownership. The resulting ... dataset allows us to track when individuals become homeowners and to see how often they turn out to vote in local and national elections. Using a ... difference-in-differences design to account for pre-existing differences between homeowners and non-homeowners, we find that becoming a homeowner substantially increases an individual’s propensity to participate in local elections.\n",
    "\n",
    "In other words, Hall and Yoder track the same people over time as some buy homes and others don't, then they look at how likely they are to vote in each year. Here, the \"treatment\" is buying a home and the outcome is voter turnout.\n",
    "\n",
    "Here's what the results look like when they examine people who bought homes in 2008-2009 (solid line) and those who did not (dashed line):\n",
    "\n",
    "<img src=\"HallYoder.png\" width=\"60%\">\n",
    "\n",
    "Based on this evidence, Hall and Yoder conclude that becoming a homeowner _causes_ \"about a 4.9 percentage point increase in turnout in local general elections.\""
   ]
  },
  {
   "cell_type": "markdown",
   "id": "c37fd7a3",
   "metadata": {},
   "source": [
    "<!-- BEGIN QUESTION -->\n",
    "\n",
    "-----\n",
    "\n",
    "**Question 1.** The design is called a \"difference-in-differences\" design. To estimate the effect of homeownership, what _are_ the two differences that Hall and Yoder then take the difference between? E.g., an answer could be: \"Hall and Yoder compute the difference between A and B, then the difference between C and D. The difference between (A - B) and (C - D) is their estimate of the effect of owning a home\" (but you need to fill in A, B, C, and D).\n"
   ]
  },
  {
   "cell_type": "markdown",
   "id": "7509b7ce",
   "metadata": {},
   "source": [
    "_Type your answer here, replacing this text._"
   ]
  },
  {
   "cell_type": "markdown",
   "id": "2e2352f7",
   "metadata": {},
   "source": [
    "<!-- END QUESTION -->\n",
    "\n",
    "------\n",
    "\n",
    "**Question 2.** Stanford Professor Imbe Cill says that the authors should have simply compared voter turnout among those who do and do not own homes rather than conduct this \"differences-in-differences\" study. Why Hall and Yoder's study is more persuasive than the study Professor Cill is proposing?\n",
    "\n",
    "1. People who own and do not own homes may be different in other ways to begin with, so Professor Cill's proposed study potentially contains omitted variable bias\n",
    "2. Hall and Yoder’s approach contains no bias from pre-existing differences between people who later buy and do not buy homes\n",
    "\n",
    "- `'a'`: 1. only\n",
    "- `'b'`: 2. only\n",
    "- `'c'`: Both 1. and 2.\n",
    "- `'d'`: Neither 1. nor 2.\n",
    "\n",
    "Enter your answer below between quotes. For example, if you wanted to answer 'a', your answer would look like: `q2.answer <- 'a'`.\n"
   ]
  },
  {
   "cell_type": "code",
   "execution_count": null,
   "id": "8a31b77c",
   "metadata": {
    "tags": []
   },
   "outputs": [],
   "source": [
    "q2.answer <- '...'"
   ]
  },
  {
   "cell_type": "markdown",
   "id": "e7ef13ed",
   "metadata": {},
   "source": [
    "<!-- BEGIN QUESTION -->\n",
    "\n",
    "------\n",
    "\n",
    "**Question 3.** Describe:\n",
    "- what the \"parallel trends\" assumption means _in the context of the Hall and Yoder study_,\n",
    "- a concrete and specific example of how this assumption might be violated/wrong, and\n",
    "- why this would create a problem for the validity of the study.\n",
    "\n",
    "(2 points)\n",
    "\n",
    "You may use up to 100 words.\n"
   ]
  },
  {
   "cell_type": "markdown",
   "id": "48dab2d0",
   "metadata": {},
   "source": [
    "_Type your answer here, replacing this text._"
   ]
  },
  {
   "cell_type": "markdown",
   "id": "649e7349",
   "metadata": {},
   "source": [
    "<!-- END QUESTION -->\n",
    "\n",
    "<!-- BEGIN QUESTION -->\n",
    "\n",
    "------\n",
    "\n",
    "**Question 4.** Which of the following is / are example(s) of a \"placebo test\" Hall and Yoder could run to help bolster confidence that the \"parallel trends\" assumption in their data holds?\n",
    "\n",
    "1. Checking if the two groups have a similar number of children before 2008\n",
    "2. Checking if the two groups pay a similar amount in property taxes after 2008\n",
    "3. Checking if the two groups have a similar turnout rate after 2008\n",
    "\n",
    "- `'a'`: 1. only\n",
    "- `'b'`: 1. and 2.\n",
    "- `'c'`: 1., 2., and 3.\n",
    "- `'d'`: None of the above.\n",
    "\n",
    "Enter your answer below between quotes. For example, if you wanted to answer 'a', your answer would look like: `q4.answer <- 'a'`.\n"
   ]
  },
  {
   "cell_type": "code",
   "execution_count": null,
   "id": "fd338814",
   "metadata": {
    "tags": []
   },
   "outputs": [],
   "source": [
    "q4.answer <- '...'"
   ]
  },
  {
   "cell_type": "markdown",
   "id": "3decdb52",
   "metadata": {},
   "source": [
    "<!-- END QUESTION -->\n",
    "\n",
    "-----\n",
    "\n",
    "# Submitting Your Notebook (please read carefully!)\n",
    "\n",
    "To submit your notebook...\n",
    "\n",
    "### 1. Click `File` $\\rightarrow$ `Save and Checkpoint`.\n",
    "\n",
    "### 2. Wait 5 seconds.\n",
    "\n",
    "### 3. Select the cell below and hit run."
   ]
  },
  {
   "cell_type": "code",
   "execution_count": null,
   "id": "aea7840f",
   "metadata": {},
   "outputs": [],
   "source": [
    "ottr::export(\"Week14_Activity1.ipynb\", pdf = TRUE)"
   ]
  },
  {
   "cell_type": "markdown",
   "id": "7ce3e355",
   "metadata": {},
   "source": [
    "After you hit \"Run\" on the cell above, wait for a moment (about 5 seconds), then click the download link. A .zip file should download to your computer.\n",
    "\n",
    "(If you make changes to your notebook, you'll need to hit save and then run the cell above again before you submit to get a new version of it.)\n",
    "\n",
    "### 4. Submit the .zip file you just downloaded <a href=\"https://www.gradescope.com/\" target=\"_blank\">on Gradescope here</a>.\n",
    "\n",
    "Notes:\n",
    "\n",
    "- **This does not seem to work on Chrome for iPad or iPhone.** If you're using an iPad or iPhone, you need to download the file using **Safari**.\n",
    "- If your web browser automatically unzips the .zip file (so you see a folder instead of a .zip file), you can just upload the .ipynb file that is inside the folder.\n",
    "- If this method is not working for you, try the \"old way\": hit `File`, then `Download as`, then `Notebook (.ipynb)` and submit that."
   ]
  }
 ],
 "metadata": {
  "kernelspec": {
   "display_name": "R",
   "language": "R",
   "name": "ir"
  },
  "language_info": {
   "codemirror_mode": "r",
   "file_extension": ".r",
   "mimetype": "text/x-r-source",
   "name": "R",
   "pygments_lexer": "r",
   "version": "4.1.2"
  },
  "latex_envs": {
   "LaTeX_envs_menu_present": true,
   "autoclose": false,
   "autocomplete": true,
   "bibliofile": "biblio.bib",
   "cite_by": "apalike",
   "current_citInitial": 1,
   "eqLabelWithNumbers": true,
   "eqNumInitial": 1,
   "hotkeys": {
    "equation": "Ctrl-E",
    "itemize": "Ctrl-I"
   },
   "labels_anchors": false,
   "latex_user_defs": false,
   "report_style_numbering": false,
   "user_envs_cfg": false
  }
 },
 "nbformat": 4,
 "nbformat_minor": 5
}
