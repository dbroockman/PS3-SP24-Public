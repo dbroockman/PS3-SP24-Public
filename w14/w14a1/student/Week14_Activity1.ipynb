{
 "cells": [
  {
   "cell_type": "markdown",
   "id": "c86a867e",
   "metadata": {
    "tags": [
     "include"
    ]
   },
   "source": [
    "# POLSCI 3\n",
    "\n",
    "## Week 14, Activity 1: Difference-in-differences designs"
   ]
  },
  {
   "cell_type": "markdown",
   "id": "99854d98",
   "metadata": {},
   "source": [
    "**Note: There is no individual assignment today. This is a group assignment.**"
   ]
  },
  {
   "cell_type": "code",
   "execution_count": null,
   "id": "2552d484",
   "metadata": {},
   "outputs": [],
   "source": [
    "# RUN THIS CELL\n",
    "library(testthat)"
   ]
  },
  {
   "cell_type": "markdown",
   "id": "6cb702bd",
   "metadata": {},
   "source": [
    "Today we'll examine a study from political scientists Andrew Hall and Jesse Yoder, who study the effects of home ownership on political behavior -- in particular, whether owning a home _causes_ people to be more likely to vote.\n",
    "\n",
    "This is obviously a difficult question to study. Simply comparing people who do and do not own homes would be a bad idea because of the potentialy for omitted variable bias. Yet, it's difficult to run an experiment on home ownership -- it's not really practical to randomly assign some people to get homes and not others.\n",
    "\n",
    "Hall and Yoder therefore use a _difference-in-differences_ design.\n",
    "\n",
    "> We combine administrative data on more than 18 million voters in Ohio and North Carolina with deed-level data on property ownership. The resulting ... dataset allows us to track when individuals become homeowners and to see how often they turn out to vote in local and national elections. Using a ... difference-in-differences design to account for pre-existing differences between homeowners and non-homeowners, we find that becoming a homeowner substantially increases an individual’s propensity to participate in local elections.\n",
    "\n",
    "In other words, Hall and Yoder track the same people over time as some buy homes and others don't, then they look at how likely they are to vote in each year. Here, the \"treatment\" is buying a home and the outcome is voter turnout.\n",
    "\n",
    "Here's what the results look like when they examine people who bought homes in 2008-2009 (solid line) and those who did not (dashed line):\n",
    "\n",
    "<img src=\"HallYoder.png\" width=\"60%\">\n",
    "\n",
    "Based on this evidence, Hall and Yoder conclude that becoming a homeowner _causes_ \"about a 4.9 percentage point increase in turnout in local general elections.\""
   ]
  },
  {
   "cell_type": "markdown",
   "id": "4220bdbc",
   "metadata": {
    "deletable": false,
    "editable": false
   },
   "source": [
    "<!-- BEGIN QUESTION -->\n",
    "\n",
    "-----\n",
    "\n",
    "**Question 1.** The design is called a \"difference-in-differences\" design. To estimate the effect of homeownership, what _are_ the two differences that Hall and Yoder then take the difference between? E.g., an answer could be: \"Hall and Yoder compute the difference between A and B, then the difference between C and D. The difference between (A - B) and (C - D) is their estimate of the effect of owning a home\" (but you need to fill in A, B, C, and D).\n"
   ]
  },
  {
   "cell_type": "markdown",
   "id": "497df9f9",
   "metadata": {},
   "source": [
    "_Type your answer here, replacing this text._"
   ]
  },
  {
   "cell_type": "markdown",
   "id": "1bfe5095",
   "metadata": {
    "deletable": false,
    "editable": false
   },
   "source": [
    "<!-- END QUESTION -->\n",
    "\n",
    "------\n",
    "\n",
    "**Question 2.** Stanford Professor Imbe Cill says that the authors should have simply compared voter turnout among those who do and do not own homes rather than conduct this \"differences-in-differences\" study. Why Hall and Yoder's study is more persuasive than the study Professor Cill is proposing?\n",
    "\n",
    "1. People who own and do not own homes may be different in other ways to begin with, so Professor Cill's proposed study potentially contains omitted variable bias\n",
    "2. Hall and Yoder’s approach contains no bias from pre-existing differences between people who later buy and do not buy homes\n",
    "\n",
    "- `'a'`: 1. only\n",
    "- `'b'`: 2. only\n",
    "- `'c'`: Both 1. and 2.\n",
    "- `'d'`: Neither 1. nor 2.\n",
    "\n",
    "Enter your answer below between quotes. For example, if you wanted to answer 'a', your answer would look like: `q2.answer <- 'a'`.\n"
   ]
  },
  {
   "cell_type": "code",
   "execution_count": null,
   "id": "d664327b",
   "metadata": {
    "tags": []
   },
   "outputs": [],
   "source": [
    "q2.answer <- '...'"
   ]
  },
  {
   "cell_type": "markdown",
   "id": "8d44ca70",
   "metadata": {
    "deletable": false,
    "editable": false
   },
   "source": [
    "<!-- BEGIN QUESTION -->\n",
    "\n",
    "------\n",
    "\n",
    "**Question 3.** Describe:\n",
    "- what the \"parallel trends\" assumption means _in the context of the Hall and Yoder study_,\n",
    "- a concrete and specific example of how this assumption might be violated/wrong, and\n",
    "- why this would create a problem for the validity of the study.\n",
    "\n",
    "(2 points)\n",
    "\n",
    "You may use up to 100 words.\n"
   ]
  },
  {
   "cell_type": "markdown",
   "id": "c062ac2f",
   "metadata": {},
   "source": [
    "_Type your answer here, replacing this text._"
   ]
  },
  {
   "cell_type": "markdown",
   "id": "94e1b25a",
   "metadata": {
    "deletable": false,
    "editable": false
   },
   "source": [
    "<!-- END QUESTION -->\n",
    "\n",
    "<!-- BEGIN QUESTION -->\n",
    "\n",
    "------\n",
    "\n",
    "**Question 4.** Which of the following is / are example(s) of a \"placebo test\" Hall and Yoder could run to help bolster confidence that the \"parallel trends\" assumption in their data holds?\n",
    "\n",
    "1. Checking if the two groups have a similar number of children before 2008\n",
    "2. Checking if the two groups pay a similar amount in property taxes after 2008\n",
    "3. Checking if the two groups have a similar turnout rate after 2008\n",
    "\n",
    "- `'a'`: 1. only\n",
    "- `'b'`: 1. and 2.\n",
    "- `'c'`: 1., 2., and 3.\n",
    "- `'d'`: None of the above.\n",
    "\n",
    "Enter your answer below between quotes. For example, if you wanted to answer 'a', your answer would look like: `q4.answer <- 'a'`.\n"
   ]
  },
  {
   "cell_type": "code",
   "execution_count": null,
   "id": "1bd96f05",
   "metadata": {
    "tags": []
   },
   "outputs": [],
   "source": [
    "q4.answer <- '...'"
   ]
  },
  {
   "cell_type": "markdown",
   "id": "a1827e0d",
   "metadata": {
    "deletable": false,
    "editable": false
   },
   "source": [
    "<!-- END QUESTION -->\n",
    "\n",
    "-----"
   ]
  },
  {
   "cell_type": "markdown",
   "id": "42e4643a",
   "metadata": {
    "deletable": false,
    "editable": false
   },
   "source": [
    "## Submission\n",
    "\n",
    "Make sure you have run all cells in your notebook in order before running the cell below, so that all images/graphs appear in the output. The cell below will generate a zip file for you to submit."
   ]
  },
  {
   "cell_type": "code",
   "execution_count": null,
   "id": "aa743889",
   "metadata": {
    "deletable": false,
    "editable": false
   },
   "outputs": [],
   "source": [
    "ottr::export(\"Week14_Activity1.ipynb\", pdf = TRUE, force_save = TRUE)"
   ]
  },
  {
   "cell_type": "markdown",
   "id": "b9ec2d52",
   "metadata": {},
   "source": [
    " "
   ]
  }
 ],
 "metadata": {
  "kernelspec": {
   "display_name": "R",
   "language": "R",
   "name": "ir"
  },
  "language_info": {
   "codemirror_mode": "r",
   "file_extension": ".r",
   "mimetype": "text/x-r-source",
   "name": "R",
   "pygments_lexer": "r",
   "version": "4.3.1"
  },
  "latex_envs": {
   "LaTeX_envs_menu_present": true,
   "autoclose": false,
   "autocomplete": true,
   "bibliofile": "biblio.bib",
   "cite_by": "apalike",
   "current_citInitial": 1,
   "eqLabelWithNumbers": true,
   "eqNumInitial": 1,
   "hotkeys": {
    "equation": "Ctrl-E",
    "itemize": "Ctrl-I"
   },
   "labels_anchors": false,
   "latex_user_defs": false,
   "report_style_numbering": false,
   "user_envs_cfg": false
  }
 },
 "nbformat": 4,
 "nbformat_minor": 5
}
