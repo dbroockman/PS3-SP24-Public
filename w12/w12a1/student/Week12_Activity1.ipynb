{
 "cells": [
  {
   "cell_type": "markdown",
   "id": "50a1f3f8",
   "metadata": {
    "tags": [
     "include"
    ]
   },
   "source": [
    "# POLSCI 3\n",
    "\n",
    "## Week 12, Activity 1: Reading Regression Tables of Experimental Results"
   ]
  },
  {
   "cell_type": "code",
   "execution_count": null,
   "id": "07fa8f89",
   "metadata": {},
   "outputs": [],
   "source": [
    "# RUN THIS CELL\n",
    "library(testthat)"
   ]
  },
  {
   "cell_type": "markdown",
   "id": "360eca4a",
   "metadata": {},
   "source": [
    "In class today we'll continue to analyze data from Ashraf et al. (2014)'s collaboration with a non-proft that recuited hairdressers and barbers to provide information about HIV prevention and sell condoms in their shops.\n",
    "\n",
    "As a reminder, there are four groups in the experiment:\n",
    "\n",
    "- control group\n",
    "- large financial reward\n",
    "- small financial reward\n",
    "- non-financial reward (\"star reward\")\n",
    "\n",
    "Barber/hairdresser shops were randomly assigned to these four groups; this is a randomized experiment.\n",
    "\n",
    "Here is a description of the groups from the paper:\n",
    "\n",
    "> Agents in the control group receive no rewards, while agents in the three treatment groups receive financial margins at the bottom and the top of the feasible range, and non-financial rewards, respectively. The smaller and larger financial-margin treatments pay a 10% and 90% margin on each condom sale, respectively, whereas the non-financial scheme (“star” treatment) gives agents a “thermometer” display, showing condom sales and stamps, with one star stamp for each sale.\n",
    "\n",
    "Today's assignment will focus on interpreting the Table below from the paper. Each column in the Table below reports a regression.\n",
    "\n",
    "The questions below will reference columns in the table. The column numbers appear near the top with a red arrow.\n",
    "\n",
    "![](AshrafTable2.png)"
   ]
  },
  {
   "cell_type": "markdown",
   "id": "874f5b8a",
   "metadata": {
    "deletable": false,
    "editable": false
   },
   "source": [
    "-----\n",
    "\n",
    "**Question 1.** Column number 1 reports the results of a regression on the number of packs of condoms sold in the store. Relative to the control group, what is our best guess for the effect of being assigned to the \"large financial reward\" group? Type in the number below.\n",
    "\n"
   ]
  },
  {
   "cell_type": "code",
   "execution_count": null,
   "id": "7aee4409",
   "metadata": {
    "tags": []
   },
   "outputs": [],
   "source": [
    "col1.large.fin.reward.estimate <- NULL # YOUR CODE HERE"
   ]
  },
  {
   "cell_type": "markdown",
   "id": "5a170447",
   "metadata": {
    "deletable": false,
    "editable": false
   },
   "source": [
    "-----\n",
    "\n",
    "**Question 2.** Still looking at column number 1, what is the standard error on the estimated effect of being assigned to the \"large financial reward\" group on the number of packs of condoms sold in the store?\n"
   ]
  },
  {
   "cell_type": "code",
   "execution_count": null,
   "id": "03474cc2",
   "metadata": {
    "tags": []
   },
   "outputs": [],
   "source": [
    "col1.large.fin.reward.se <- NULL # YOUR CODE HERE"
   ]
  },
  {
   "cell_type": "markdown",
   "id": "e1f2699d",
   "metadata": {
    "deletable": false,
    "editable": false
   },
   "source": [
    "------\n",
    "\n",
    "**Question 3a.**  `TRUE` or `FALSE`: In Column 1, the estimated effect of the **large financial reward** condition is statistically significant.\n",
    "\n",
    "Save your answer in `large.reward.stat.sig`. Do not use quotes. For example, to answer `TRUE`, type `large.reward.stat.sig <- TRUE`.\n"
   ]
  },
  {
   "cell_type": "code",
   "execution_count": null,
   "id": "513385a4",
   "metadata": {
    "tags": []
   },
   "outputs": [],
   "source": [
    "large.reward.stat.sig <- NULL # YOUR CODE HERE"
   ]
  },
  {
   "cell_type": "markdown",
   "id": "52f7ed87",
   "metadata": {
    "deletable": false,
    "editable": false
   },
   "source": [
    "------\n",
    "\n",
    "**Question 3b.**  `TRUE` or `FALSE`: In Column 1, the estimated effect of the **small financial reward** condition is statistically significant.\n"
   ]
  },
  {
   "cell_type": "code",
   "execution_count": null,
   "id": "149ef602",
   "metadata": {
    "tags": []
   },
   "outputs": [],
   "source": [
    "small.reward.stat.sig <- NULL # YOUR CODE HERE"
   ]
  },
  {
   "cell_type": "markdown",
   "id": "f6926c8d",
   "metadata": {
    "deletable": false,
    "editable": false
   },
   "source": [
    "------\n",
    "\n",
    "**Question 3c.**  `TRUE` or `FALSE`: In Column 1, the estimated effect of the **star reward** condition is statistically significant.\n"
   ]
  },
  {
   "cell_type": "code",
   "execution_count": null,
   "id": "f24382f5",
   "metadata": {
    "tags": []
   },
   "outputs": [],
   "source": [
    "star.reward.stat.sig <- NULL # YOUR CODE HERE"
   ]
  },
  {
   "cell_type": "markdown",
   "id": "2abf84eb",
   "metadata": {
    "deletable": false,
    "editable": false
   },
   "source": [
    "------\n",
    "\n",
    "**Question 3d.** When a $p$-value in an experiment is statistically insignificant, this means....\n",
    "\n",
    "1. The observed difference in average outcomes in the treatment and control groups is due to chance\n",
    "2. The treatment has no effect on the outcome\n",
    "\n",
    "- `'a'`: 1. only\n",
    "- `'b'`: 2. only\n",
    "- `'c'`: Both 1. and 2.\n",
    "- `'d'`: Neither 1. nor 2.\n",
    "\n",
    "Enter your answer below between quotes. For example, if you wanted to answer `'a'`, your answer would look like: `q3d.answer <- 'a'`.\n"
   ]
  },
  {
   "cell_type": "code",
   "execution_count": null,
   "id": "c9208c1f",
   "metadata": {
    "tags": []
   },
   "outputs": [],
   "source": [
    "q3d.answer <- '...'"
   ]
  },
  {
   "cell_type": "markdown",
   "id": "c337db4b",
   "metadata": {
    "deletable": false,
    "editable": false
   },
   "source": [
    "------\n",
    "\n",
    "**EXTRA CREDIT**\n",
    "\n",
    "**Question 3e.** In Column 1, what does the Constant term represent?\n",
    "\n",
    "1. It is the regression's best guess of what the value of the outcome would be if all of the variables included in the regression were at zero\n",
    "2. It is the mean of the control group\n",
    "\n",
    "- `'a'`: 1. only\n",
    "- `'b'`: 2. only\n",
    "- `'c'`: Both 1. and 2.\n",
    "- `'d'`: Neither 1. nor 2.\n",
    "\n",
    "Enter your answer below between quotes. For example, if you wanted to answer `'a'`, your answer would look like: `q3e.answer <- 'a'`.\n"
   ]
  },
  {
   "cell_type": "code",
   "execution_count": null,
   "id": "f9814ca5",
   "metadata": {
    "tags": []
   },
   "outputs": [],
   "source": [
    "q3e.answer <- '...'"
   ]
  },
  {
   "cell_type": "markdown",
   "id": "8e2678e8",
   "metadata": {
    "deletable": false,
    "editable": false
   },
   "source": [
    "<!-- BEGIN QUESTION -->\n",
    "\n",
    "----\n",
    "\n",
    "**In today's group assignment, you will be asked to answer the two open-ended questions below. You can practice answering these questions now, but _your answer to these questions on this individual assignment will not be graded_ (so _you can leave the next questions blank_ and just think about them for now if you want).**\n",
    "\n",
    "-----\n",
    "\n",
    "**Question 4.** Based on Column 1 in the Table, what is your overall interpretation of the results of this experiment? **In your answer, interpret at least one of the estimates in Table 1.**\n"
   ]
  },
  {
   "cell_type": "markdown",
   "id": "466e8683",
   "metadata": {},
   "source": [
    "_Type your answer here, replacing this text._"
   ]
  },
  {
   "cell_type": "markdown",
   "id": "493c82f2",
   "metadata": {
    "deletable": false,
    "editable": false
   },
   "source": [
    "<!-- END QUESTION -->\n",
    "\n",
    "<!-- BEGIN QUESTION -->\n",
    "\n",
    "-----\n",
    "\n",
    "**Question 5.** What is the difference between Columns 1 and 2 in the Table? Why is Column 2 reported?\n"
   ]
  },
  {
   "cell_type": "markdown",
   "id": "b4e8838a",
   "metadata": {},
   "source": [
    "_Type your answer here, replacing this text._"
   ]
  },
  {
   "cell_type": "markdown",
   "id": "80f6adfe",
   "metadata": {
    "deletable": false,
    "editable": false
   },
   "source": [
    "<!-- END QUESTION -->\n",
    "\n",
    "-----"
   ]
  },
  {
   "cell_type": "markdown",
   "id": "b42bab4c",
   "metadata": {
    "deletable": false,
    "editable": false
   },
   "source": [
    "## Submission\n",
    "\n",
    "Make sure you have run all cells in your notebook in order before running the cell below, so that all images/graphs appear in the output. The cell below will generate a zip file for you to submit."
   ]
  },
  {
   "cell_type": "code",
   "execution_count": null,
   "id": "e2411518",
   "metadata": {
    "deletable": false,
    "editable": false
   },
   "outputs": [],
   "source": [
    "ottr::export(\"Week12_Activity1.ipynb\", pdf = TRUE, force_save = TRUE)"
   ]
  },
  {
   "cell_type": "markdown",
   "id": "00f4bd2f",
   "metadata": {},
   "source": [
    " "
   ]
  }
 ],
 "metadata": {
  "kernelspec": {
   "display_name": "R",
   "language": "R",
   "name": "ir"
  },
  "language_info": {
   "codemirror_mode": "r",
   "file_extension": ".r",
   "mimetype": "text/x-r-source",
   "name": "R",
   "pygments_lexer": "r",
   "version": "4.3.1"
  },
  "latex_envs": {
   "LaTeX_envs_menu_present": true,
   "autoclose": false,
   "autocomplete": true,
   "bibliofile": "biblio.bib",
   "cite_by": "apalike",
   "current_citInitial": 1,
   "eqLabelWithNumbers": true,
   "eqNumInitial": 1,
   "hotkeys": {
    "equation": "Ctrl-E",
    "itemize": "Ctrl-I"
   },
   "labels_anchors": false,
   "latex_user_defs": false,
   "report_style_numbering": false,
   "user_envs_cfg": false
  }
 },
 "nbformat": 4,
 "nbformat_minor": 5
}
