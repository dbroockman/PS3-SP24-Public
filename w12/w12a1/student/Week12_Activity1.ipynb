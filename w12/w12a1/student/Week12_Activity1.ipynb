{
 "cells": [
  {
   "cell_type": "markdown",
   "id": "52fb5d7c",
   "metadata": {
    "tags": [
     "include"
    ]
   },
   "source": [
    "# POLSCI 3\n",
    "\n",
    "## Week 12, Activity 1: Reading Regression Tables of Experimental Results"
   ]
  },
  {
   "cell_type": "code",
   "execution_count": null,
   "id": "d34a01e5",
   "metadata": {},
   "outputs": [],
   "source": [
    "# RUN THIS CELL\n",
    "library(testthat)"
   ]
  },
  {
   "cell_type": "markdown",
   "id": "8b760cf1",
   "metadata": {},
   "source": [
    "In class today we'll continue to analyze data from Ashraf et al. (2014)'s collaboration with a non-proft that recuited hairdressers and barbers to provide information about HIV prevention and sell condoms in their shops.\n",
    "\n",
    "As a reminder, there are four groups in the experiment:\n",
    "\n",
    "- control group\n",
    "- large financial reward\n",
    "- small financial reward\n",
    "- non-financial reward (\"star reward\")\n",
    "\n",
    "Barber/hairdresser shops were randomly assigned to these four groups; this is a randomized experiment.\n",
    "\n",
    "Here is a description of the groups from the paper:\n",
    "\n",
    "> Agents in the control group receive no rewards, while agents in the three treatment groups receive financial margins at the bottom and the top of the feasible range, and non-financial rewards, respectively. The smaller and larger financial-margin treatments pay a 10% and 90% margin on each condom sale, respectively, whereas the non-financial scheme (“star” treatment) gives agents a “thermometer” display, showing condom sales and stamps, with one star stamp for each sale.\n",
    "\n",
    "Today's assignment will focus on interpreting the Table below from the paper. Each column in the Table below reports a regression.\n",
    "\n",
    "The questions below will reference columns in the table. The column numbers appear near the top with a red arrow.\n",
    "\n",
    "![](AshrafTable2.png)"
   ]
  },
  {
   "cell_type": "markdown",
   "id": "8f198b99",
   "metadata": {},
   "source": [
    "-----\n",
    "\n",
    "**Question 1.** Column number 1 reports the results of a regression on the number of packs of condoms sold in the store. Relative to the control group, what is our best guess for the effect of being assigned to the \"large financial reward\" group? Type in the number below.\n",
    "\n"
   ]
  },
  {
   "cell_type": "code",
   "execution_count": null,
   "id": "831639a1",
   "metadata": {
    "tags": []
   },
   "outputs": [],
   "source": [
    "col1.large.fin.reward.estimate <- NULL # YOUR CODE HERE"
   ]
  },
  {
   "cell_type": "markdown",
   "id": "3c4587c0",
   "metadata": {},
   "source": [
    "-----\n",
    "\n",
    "**Question 2.** Still looking at column number 1, what is the standard error on the estimated effect of being assigned to the \"large financial reward\" group on the number of packs of condoms sold in the store?\n"
   ]
  },
  {
   "cell_type": "code",
   "execution_count": null,
   "id": "d50e4ced",
   "metadata": {
    "tags": []
   },
   "outputs": [],
   "source": [
    "col1.large.fin.reward.se <- NULL # YOUR CODE HERE"
   ]
  },
  {
   "cell_type": "markdown",
   "id": "4552a9f2",
   "metadata": {},
   "source": [
    "------\n",
    "\n",
    "**Question 3a.**  `TRUE` or `FALSE`: In Column 1, the estimated effect of the **large financial reward** condition is statistically significant.\n",
    "\n",
    "Save your answer in `large.reward.stat.sig`. Do not use quotes. For example, to answer `TRUE`, type `large.reward.stat.sig <- TRUE`.\n"
   ]
  },
  {
   "cell_type": "code",
   "execution_count": null,
   "id": "9bcf711b",
   "metadata": {
    "tags": []
   },
   "outputs": [],
   "source": [
    "large.reward.stat.sig <- NULL # YOUR CODE HERE"
   ]
  },
  {
   "cell_type": "markdown",
   "id": "ae5a9844",
   "metadata": {},
   "source": [
    "------\n",
    "\n",
    "**Question 3b.**  `TRUE` or `FALSE`: In Column 1, the estimated effect of the **small financial reward** condition is statistically significant.\n"
   ]
  },
  {
   "cell_type": "code",
   "execution_count": null,
   "id": "76d58d1d",
   "metadata": {
    "tags": []
   },
   "outputs": [],
   "source": [
    "small.reward.stat.sig <- NULL # YOUR CODE HERE"
   ]
  },
  {
   "cell_type": "markdown",
   "id": "0989561e",
   "metadata": {},
   "source": [
    "------\n",
    "\n",
    "**Question 3c.**  `TRUE` or `FALSE`: In Column 1, the estimated effect of the **star reward** condition is statistically significant.\n"
   ]
  },
  {
   "cell_type": "code",
   "execution_count": null,
   "id": "a5e50d94",
   "metadata": {
    "tags": []
   },
   "outputs": [],
   "source": [
    "star.reward.stat.sig <- NULL # YOUR CODE HERE"
   ]
  },
  {
   "cell_type": "markdown",
   "id": "8a12b119",
   "metadata": {},
   "source": [
    "------\n",
    "\n",
    "**Question 3d.** In Column 1, what does the Constant term represent?\n",
    "\n",
    "1. It is the regression's best guess of what the value of the outcome would be if all of the variables listed in that column were at zero\n",
    "2. It is the mean of the control group\n",
    "\n",
    "- `'a'`: 1. only\n",
    "- `'b'`: 2. only\n",
    "- `'c'`: Both 1. and 2.\n",
    "- `'d'`: Neither 1. nor 2.\n",
    "\n",
    "Enter your answer below between quotes. For example, if you wanted to answer `'a'`, your answer would look like: `q3d.answer <- 'a'`.\n"
   ]
  },
  {
   "cell_type": "code",
   "execution_count": null,
   "id": "49e3e657",
   "metadata": {
    "tags": []
   },
   "outputs": [],
   "source": [
    "q3d.answer <- '...'"
   ]
  },
  {
   "cell_type": "markdown",
   "id": "95f18758",
   "metadata": {},
   "source": [
    "<!-- BEGIN QUESTION -->\n",
    "\n",
    "----\n",
    "\n",
    "**In today's group assignment, you will be asked to answer the two open-ended questions below. You can practice answering these questions now, but _your answer to these questions on this individual assignment will not be graded_ (so _you can leave the next questions blank_ and just think about them for now if you want).**\n",
    "\n",
    "-----\n",
    "\n",
    "**Question 4.** Based on Column 1 in the Table, what is your overall interpretation of the results of this experiment? **In your answer, interpret at least one of the estimates in Table 1.**\n"
   ]
  },
  {
   "cell_type": "markdown",
   "id": "8f39c163",
   "metadata": {},
   "source": [
    "_Type your answer here, replacing this text._"
   ]
  },
  {
   "cell_type": "markdown",
   "id": "45ade5e2",
   "metadata": {},
   "source": [
    "<!-- END QUESTION -->\n",
    "\n",
    "<!-- BEGIN QUESTION -->\n",
    "\n",
    "-----\n",
    "\n",
    "**Question 5.** What is the difference between Columns 1 and 2 in the Table? Why is Column 2 reported?\n"
   ]
  },
  {
   "cell_type": "markdown",
   "id": "bb15ee21",
   "metadata": {},
   "source": [
    "_Type your answer here, replacing this text._"
   ]
  },
  {
   "cell_type": "markdown",
   "id": "9235aeff",
   "metadata": {},
   "source": [
    "<!-- END QUESTION -->\n",
    "\n",
    "-----\n",
    "\n",
    "# Submitting Your Notebook (please read carefully!)\n",
    "\n",
    "To submit your notebook...\n",
    "\n",
    "### 1. Click `File` $\\rightarrow$ `Save and Checkpoint`.\n",
    "\n",
    "### 2. Wait 5 seconds.\n",
    "\n",
    "### 3. Select the cell below and hit run."
   ]
  },
  {
   "cell_type": "code",
   "execution_count": null,
   "id": "be9b44df",
   "metadata": {},
   "outputs": [],
   "source": [
    "ottr::export(\"Week12_Activity1.ipynb\")"
   ]
  },
  {
   "cell_type": "markdown",
   "id": "fb067506",
   "metadata": {},
   "source": [
    "After you hit \"Run\" on the cell above, wait for a moment (about 5 seconds), then click the download link. A .zip file should download to your computer.\n",
    "\n",
    "(If you make changes to your notebook, you'll need to hit save and then run the cell above again before you submit to get a new version of it.)\n",
    "\n",
    "### 4. Submit the .zip file you just downloaded <a href=\"https://www.gradescope.com/\" target=\"_blank\">on Gradescope here</a>.\n",
    "\n",
    "Notes:\n",
    "\n",
    "- **This does not seem to work on Chrome for iPad or iPhone.** If you're using an iPad or iPhone, you need to download the file using **Safari**.\n",
    "- If your web browser automatically unzips the .zip file (so you see a folder instead of a .zip file), you can just upload the .ipynb file that is inside the folder.\n",
    "- If this method is not working for you, try the \"old way\": hit `File`, then `Download as`, then `Notebook (.ipynb)` and submit that."
   ]
  }
 ],
 "metadata": {
  "kernelspec": {
   "display_name": "R",
   "language": "R",
   "name": "ir"
  },
  "language_info": {
   "codemirror_mode": "r",
   "file_extension": ".r",
   "mimetype": "text/x-r-source",
   "name": "R",
   "pygments_lexer": "r",
   "version": "4.1.2"
  },
  "latex_envs": {
   "LaTeX_envs_menu_present": true,
   "autoclose": false,
   "autocomplete": true,
   "bibliofile": "biblio.bib",
   "cite_by": "apalike",
   "current_citInitial": 1,
   "eqLabelWithNumbers": true,
   "eqNumInitial": 1,
   "hotkeys": {
    "equation": "Ctrl-E",
    "itemize": "Ctrl-I"
   },
   "labels_anchors": false,
   "latex_user_defs": false,
   "report_style_numbering": false,
   "user_envs_cfg": false
  }
 },
 "nbformat": 4,
 "nbformat_minor": 5
}
