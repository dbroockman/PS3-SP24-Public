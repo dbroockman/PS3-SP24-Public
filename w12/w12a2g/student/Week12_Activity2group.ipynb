{
 "cells": [
  {
   "cell_type": "markdown",
   "id": "61975c75",
   "metadata": {
    "tags": [
     "include"
    ]
   },
   "source": [
    "# POLSCI 3\n",
    "\n",
    "## Week 12, Activity 2: Reading Regression Tables of Observational Studies"
   ]
  },
  {
   "cell_type": "code",
   "execution_count": null,
   "id": "729cddf9",
   "metadata": {},
   "outputs": [],
   "source": [
    "# RUN THIS CELL\n",
    "library(testthat)"
   ]
  },
  {
   "cell_type": "markdown",
   "id": "236dbc7b",
   "metadata": {},
   "source": [
    "In this activity, we are using the same data from the lecture notebook. Here are reminders about the analysis in this paper that were described in the Lecture notebook:\n",
    "\n",
    ">In Peterson (2021)'s article, the author explores the effects of cuts to newspaper staff on political news coverage.<br><br>To measure the *outcome* or left-hand-side variable, **political news coverage**, the author used two sources: one from **Newsbank** and one from **Proquest**. They are measuring the same outcome, which is the **number of political news stories** in a newspaper over a year. The two sources of data differ slightly in terms of the time period they cover and in measurement, but they are measuring the same thing.<br><br>To measure the key explanatory or right-hand-side variable, **the number and role of reporters** in a newspaper over a particular year, the author also used two sources: **ASNE** (American Society of News Editors) census and **Newspaper Directories**.<br><br> Every row in the dataset where this regression was run represents one newspaper in one year.\n",
    "\n",
    "Table 1 that we looked at in lecture lumped reporters of all kinds together. But maybe political news coverage declines more when a newspaper has fewer _political reporters_ in particular?\n",
    "\n",
    "To understand this, the author also made a Table, Table 5. Today, we'll be interpreting Table 5.\n",
    "\n",
    "Table 5 compares the results when using the overall _all reporters_ measure when when using using multiple right-hand-side variables that split out the number of reporters at each paper in each year _by role_. (E.g., one variable just counting the number of political reporters at a given newspaper at a given year vs. just the number of entertainment reporters at that newspaper that year; both would be included in the all reporters measure we looked at previously).\n",
    "\n",
    "Here's what the paper says about Table 5: \n",
    "\n",
    "> Table 5 presents the results from...regressions that separate the staffing categories while still employing [the same control variables used in Table 1]. The first three columns consider the relationship [between the number of political news articles published and the number of reporters] using the Proquest measure of political news coverage moving from the specification combining all newspaper reporters together (also displayed in Table 1, Model 4), to one that separates entertainment reporters from those on political or general news beats, to one that examines each staffing category individually. The last three columns of Table 5 move through these same steps using the NewsBank measure of coverage, which is available for a slightly larger sample."
   ]
  },
  {
   "cell_type": "markdown",
   "id": "84b01f20",
   "metadata": {},
   "source": [
    "#### Table 5\n",
    "\n",
    "For easy reading, we have added column numbers (1) to (6) to the table.\n",
    "\n",
    "![Table 5](PetersonTable5.png)\n",
    "\n",
    "The columns report the results of six regressions. They regress the number of political news stories ran per year measured using our data source (either **Proquest** or **Newsbank**), against the number of reporters in total, or of different roles."
   ]
  },
  {
   "cell_type": "markdown",
   "id": "5e69d7cb",
   "metadata": {
    "deletable": false,
    "editable": false
   },
   "source": [
    "------\n",
    "\n",
    "**Question 1.** Now, let's look at column (1). What is the number of additional political news stories ran per year you would expect in a paper that had **three** additional reporters on average? Type your answer below and remember to save it to `col1.increase.of.3`.\n",
    "\n",
    "_Hint: Remember, R can do math! `two.times.two.equals <- 2 * 2` would save `4` in `two.times.two.equals`._\n",
    "\n"
   ]
  },
  {
   "cell_type": "code",
   "execution_count": null,
   "id": "799430b7",
   "metadata": {
    "tags": []
   },
   "outputs": [],
   "source": [
    "col1.increase.of.3 <- NULL # YOUR CODE HERE"
   ]
  },
  {
   "cell_type": "code",
   "execution_count": null,
   "id": "029ba924",
   "metadata": {
    "deletable": false,
    "editable": false
   },
   "outputs": [],
   "source": [
    ". = ottr::check(\"tests/q1.R\")"
   ]
  },
  {
   "cell_type": "markdown",
   "id": "6f7a76b3",
   "metadata": {
    "deletable": false,
    "editable": false
   },
   "source": [
    "-----\n",
    "\n",
    "**Question 2.** Still on column 1, the number of observations is `1,449` in the regression (i.e. the number in the row *N*). What does this number mean?\n",
    "\n",
    "- `'a'`: the number of newspapers included in the sample\n",
    "- `'b'`: the number of reporters included in the sample\n",
    "- `'c'`: the number of years included in the sample\n",
    "- `'d'`: the number of newspapers included in the sample, multiplied by the number of reporters included in the sample\n",
    "- `'e'`: the number of newspapers included in the sample, multiplied by the number of years included in the sample\n",
    "- `'f'`: the number of reporters included in the sample, multiplied by the number of years included in the sample\n",
    "\n",
    "Enter your answer between quotes. For example, if you wanted to answer `'a'`, you would type `q2.answer <- 'a'`.\n",
    "\n",
    "_Note: This question will not tell you whether you got the right answer._\n"
   ]
  },
  {
   "cell_type": "code",
   "execution_count": null,
   "id": "6cdc0eab",
   "metadata": {
    "deletable": false,
    "editable": false
   },
   "outputs": [],
   "source": [
    ". = ottr::check(\"tests/q2.R\")"
   ]
  },
  {
   "cell_type": "markdown",
   "id": "5ae2661b",
   "metadata": {
    "deletable": false,
    "editable": false
   },
   "source": [
    "-----\n",
    "\n",
    "Column 3 in the table above shows the results of a regression with multiple variables on the right-hand side. (We learned about this kind of regression in Week 11, Lecture 1.)\n",
    "\n",
    "**Question 3.** Looking at Column 3, how should we interpret the number 69.1?\n",
    "\n",
    "- `'a'`: If Newspaper A has one more political reporter than Newspaper B, our best guess is that Newspaper A publishes 69.1 more political news stories per year than Newspaper B.\n",
    "- `'b'`: If Newspaper A and Newspaper B have the same number of entertainment and general reporters, but Newspaper A has one more political reporter, our best guess is that Newspaper A publishes 69.1 more political news stories per year than Newspaper B.\n",
    "- `'c'`: Our best guess is that hiring an additional political reporter at Newspaper A will, on average, cause that newspaper to publish 69.1 additional political news stories per year on average.\n",
    "- `'d'`: If Newspaper A and Newspaper B both increase their total number of reporters by one, our best guess is that the difference in the number of political news stories published by the two newspapers will increase by 69.1 stories per year.\n",
    "\n",
    "Enter your answer between quotes. For example, if you wanted to answer `'a'`, you would type `q3.answer <- 'a'`.\n",
    "\n",
    "_Note: This question will not tell you whether you got the right answer._"
   ]
  },
  {
   "cell_type": "code",
   "execution_count": null,
   "id": "0fe4714a",
   "metadata": {
    "tags": []
   },
   "outputs": [],
   "source": [
    "q3.answer <- '...'"
   ]
  },
  {
   "cell_type": "code",
   "execution_count": null,
   "id": "b7d212a1",
   "metadata": {
    "deletable": false,
    "editable": false
   },
   "outputs": [],
   "source": [
    ". = ottr::check(\"tests/q2.R\")"
   ]
  },
  {
   "cell_type": "markdown",
   "id": "250fdb7f",
   "metadata": {
    "deletable": false,
    "editable": false
   },
   "source": [
    "------\n",
    "\n",
    "**Question 4a.** Looking again at column 1, evaluate the following claim. \n",
    "\n",
    "`TRUE` or `FALSE`: Since the estimate from the regression is statistically significant, we can conclude that having an additional reporter causes a newspaper to run approximately 44.9 additional political news stories.\n",
    "\n",
    "Save your answer in `q4a.answer`. Do not use quotes. For example, to answer `TRUE`, type `q4a.answer <- TRUE`.\n",
    "\n",
    "_Note: This question will not tell you whether you got the right answer._\n"
   ]
  },
  {
   "cell_type": "code",
   "execution_count": null,
   "id": "f27dba27",
   "metadata": {
    "tags": []
   },
   "outputs": [],
   "source": [
    "q4a.answer <- NULL # YOUR CODE HERE"
   ]
  },
  {
   "cell_type": "markdown",
   "id": "0f3c9728",
   "metadata": {
    "deletable": false,
    "editable": false
   },
   "source": [
    "<!-- BEGIN QUESTION -->\n",
    "\n",
    "------\n",
    "\n",
    "**Question 34.** Provide an explanation for your answer to **question 4a**.\n"
   ]
  },
  {
   "cell_type": "markdown",
   "id": "840b2d88",
   "metadata": {},
   "source": [
    "_Type your answer here, replacing this text._"
   ]
  },
  {
   "cell_type": "markdown",
   "id": "655a9222",
   "metadata": {
    "deletable": false,
    "editable": false
   },
   "source": [
    "<!-- END QUESTION -->\n",
    "\n",
    "<!-- BEGIN QUESTION -->\n",
    "\n",
    "------\n",
    "\n",
    "**Question 5.** Now, consider column 3 and answer the following question. \n",
    "\n",
    "The estimate for `political` is 69.1. What does this number represent? \n"
   ]
  },
  {
   "cell_type": "markdown",
   "id": "6d057d1c",
   "metadata": {},
   "source": [
    "_Type your answer here, replacing this text._"
   ]
  },
  {
   "cell_type": "markdown",
   "id": "8bb3ca4b",
   "metadata": {
    "deletable": false,
    "editable": false
   },
   "source": [
    "<!-- END QUESTION -->\n",
    "\n",
    "-----"
   ]
  },
  {
   "cell_type": "markdown",
   "id": "24f8c6f2",
   "metadata": {
    "deletable": false,
    "editable": false
   },
   "source": [
    "## Submission\n",
    "\n",
    "Make sure you have run all cells in your notebook in order before running the cell below, so that all images/graphs appear in the output. The cell below will generate a zip file for you to submit."
   ]
  },
  {
   "cell_type": "code",
   "execution_count": null,
   "id": "5f33ac29",
   "metadata": {
    "deletable": false,
    "editable": false
   },
   "outputs": [],
   "source": [
    "ottr::export(\"Week12_Activity2group.ipynb\", pdf = TRUE, force_save = TRUE)"
   ]
  },
  {
   "cell_type": "markdown",
   "id": "b2551b65",
   "metadata": {},
   "source": [
    " "
   ]
  }
 ],
 "metadata": {
  "kernelspec": {
   "display_name": "R",
   "language": "R",
   "name": "ir"
  },
  "language_info": {
   "codemirror_mode": "r",
   "file_extension": ".r",
   "mimetype": "text/x-r-source",
   "name": "R",
   "pygments_lexer": "r",
   "version": "4.3.1"
  },
  "latex_envs": {
   "LaTeX_envs_menu_present": true,
   "autoclose": false,
   "autocomplete": true,
   "bibliofile": "biblio.bib",
   "cite_by": "apalike",
   "current_citInitial": 1,
   "eqLabelWithNumbers": true,
   "eqNumInitial": 1,
   "hotkeys": {
    "equation": "Ctrl-E",
    "itemize": "Ctrl-I"
   },
   "labels_anchors": false,
   "latex_user_defs": false,
   "report_style_numbering": false,
   "user_envs_cfg": false
  }
 },
 "nbformat": 4,
 "nbformat_minor": 5
}
