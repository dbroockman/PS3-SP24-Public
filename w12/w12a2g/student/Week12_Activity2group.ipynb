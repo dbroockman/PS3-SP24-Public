{
 "cells": [
  {
   "cell_type": "markdown",
   "id": "baba0e5d",
   "metadata": {
    "tags": [
     "include"
    ]
   },
   "source": [
    "# POLSCI 3\n",
    "\n",
    "## Week 12, Activity 2: Reading Regression Tables of Observational Studies"
   ]
  },
  {
   "cell_type": "code",
   "execution_count": null,
   "id": "f6391987",
   "metadata": {},
   "outputs": [],
   "source": [
    "# RUN THIS CELL\n",
    "library(testthat)"
   ]
  },
  {
   "cell_type": "markdown",
   "id": "1cf16b24",
   "metadata": {},
   "source": [
    "In this activity, we are using the same data from the lecture notebook. Here are reminders about the analysis in this paper that were described in the Lecture notebook:\n",
    "\n",
    ">In Peterson (2021)'s article, the author explores the effects of cuts to newspaper staff on political news coverage.<br><br>To measure the *outcome* or left-hand-side variable, **political news coverage**, the author used two sources: one from **Newsbank** and one from **Proquest**. They are measuring the same outcome, which is the **number of political news stories** in a newspaper over a year. The two sources of data differ slightly in terms of the time period they cover and in measurement, but they are measuring the same thing.<br><br>To measure the key explanatory or right-hand-side variable, **the number and role of reporters** in a newspaper over a particular year, the author also used two sources: **ASNE** (American Society of News Editors) census and **Newspaper Directories**.<br><br> Every row in the dataset where this regression was run represents one newspaper in one year.\n",
    "\n",
    "Table 1 that we looked at in lecture lumped reporters of all kinds together. But maybe political news coverage declines more when a newspaper has fewer _political reporters_ in particular?\n",
    "\n",
    "To understand this, the author also made a Table, Table 5. Today, we'll be interpreting Table 5.\n",
    "\n",
    "Table 5 compares the results when using the overall _all reporters_ measure when when using using multiple right-hand-side variables that split out the number of reporters at each paper in each year _by role_. (E.g., one variable just counting the number of political reporters at a given newspaper at a given year vs. just the number of entertainment reporters at that newspaper that year; both would be included in the all reporters measure we looked at previously).\n",
    "\n",
    "Here's what the paper says about Table 5: \n",
    "\n",
    "> Table 5 presents the results from...regressions that separate the staffing categories while still employing [the same control variables used in Table 1]. The first three columns consider the relationship [between the number of political news articles published and the number of reporters] using the Proquest measure of political news coverage moving from the specification combining all newspaper reporters together (also displayed in Table 1, Model 4), to one that separates entertainment reporters from those on political or general news beats, to one that examines each staffing category individually. The last three columns of Table 5 move through these same steps using the NewsBank measure of coverage, which is available for a slightly larger sample."
   ]
  },
  {
   "cell_type": "markdown",
   "id": "b50742ea",
   "metadata": {},
   "source": [
    "#### Table 5\n",
    "\n",
    "For easy reading, we have added column numbers (1) to (6) to the table.\n",
    "\n",
    "![Table 5](PetersonTable5.png)\n",
    "\n",
    "The columns report the results of six regressions. They regress the number of political news stories ran per year measured using our data source (either **Proquest** or **Newsbank**), against the number of reporters in total, or of different roles."
   ]
  },
  {
   "cell_type": "markdown",
   "id": "26983d1a",
   "metadata": {},
   "source": [
    "------\n",
    "\n",
    "**Question 1.** Now, let's look at column (1). What is the number of additional political news stories ran per year you would expect in a paper that had **three** additional reporters on average? Type your answer below and remember to save it to `col1.increase.of.3`.\n",
    "\n",
    "_Hint: Remember, R can do math! `two.times.two.equals <- 2 * 2` would save `4` in `two.times.two.equals`._\n",
    "\n"
   ]
  },
  {
   "cell_type": "code",
   "execution_count": null,
   "id": "6ea5feb4",
   "metadata": {
    "tags": []
   },
   "outputs": [],
   "source": [
    "col1.increase.of.3 <- NULL # YOUR CODE HERE"
   ]
  },
  {
   "cell_type": "code",
   "execution_count": null,
   "id": "e3dad9c6",
   "metadata": {
    "deletable": false,
    "editable": false
   },
   "outputs": [],
   "source": [
    ". = ottr::check(\"tests/q1.R\")"
   ]
  },
  {
   "cell_type": "markdown",
   "id": "8da7bb94",
   "metadata": {},
   "source": [
    "-----\n",
    "\n",
    "**Question 2.** Still on column 1, the number of observations is `1,449` in the regression (i.e. the number in the row *N*). What does this number mean?\n",
    "\n",
    "- `'a'`: the number of newspapers included in the sample\n",
    "- `'b'`: the number of reporters included in the sample\n",
    "- `'c'`: the number of years included in the sample\n",
    "- `'d'`: the number of newspapers included in the sample, multiplied by the number of reporters included in the sample\n",
    "- `'e'`: the number of newspapers included in the sample, multiplied by the number of years included in the sample\n",
    "- `'f'`: the number of reporters included in the sample, multiplied by the number of years included in the sample\n",
    "\n",
    "Enter your answer between quotes. For example, if you wanted to answer `'a'`, you would type `q2.answer <- 'a'`.\n",
    "\n",
    "_Note: This question will not tell you whether you got the right answer._\n"
   ]
  },
  {
   "cell_type": "code",
   "execution_count": null,
   "id": "09885a6c",
   "metadata": {
    "tags": []
   },
   "outputs": [],
   "source": [
    "q2.answer <- '...'"
   ]
  },
  {
   "cell_type": "markdown",
   "id": "1cc12364",
   "metadata": {},
   "source": [
    "------\n",
    "\n",
    "**Question 3a.** Still on column 1, evaluate the following claim. \n",
    "\n",
    "`TRUE` or `FALSE`: Since the estimate from the regression is statistically significant, we can conclude that having an additional reporter causes a newspaper to run approximately 44.9 additional political news stories.\n",
    "\n",
    "Save your answer in `q3a.answer`. Do not use quotes. For example, to answer `TRUE`, type `q3a.answer <- TRUE`.\n",
    "\n",
    "_Note: This question will not tell you whether you got the right answer._\n"
   ]
  },
  {
   "cell_type": "code",
   "execution_count": null,
   "id": "14f04f9e",
   "metadata": {
    "tags": []
   },
   "outputs": [],
   "source": [
    "q3a.answer <- NULL # YOUR CODE HERE"
   ]
  },
  {
   "cell_type": "markdown",
   "id": "a92619c7",
   "metadata": {},
   "source": [
    "<!-- BEGIN QUESTION -->\n",
    "\n",
    "------\n",
    "\n",
    "**Question 3b.** Provide an explanation for your answer to **question 3a**.\n"
   ]
  },
  {
   "cell_type": "markdown",
   "id": "93add8c0",
   "metadata": {},
   "source": [
    "_Type your answer here, replacing this text._"
   ]
  },
  {
   "cell_type": "markdown",
   "id": "b0497aa3",
   "metadata": {},
   "source": [
    "<!-- END QUESTION -->\n",
    "\n",
    "<!-- BEGIN QUESTION -->\n",
    "\n",
    "------\n",
    "\n",
    "**Question 4.** Now, consider column 3 and answer the following question. \n",
    "\n",
    "The estimate for `political` is 69.1. What does this number represent? \n"
   ]
  },
  {
   "cell_type": "markdown",
   "id": "37d1d17d",
   "metadata": {},
   "source": [
    "_Type your answer here, replacing this text._"
   ]
  },
  {
   "cell_type": "markdown",
   "id": "281b2360",
   "metadata": {},
   "source": [
    "<!-- END QUESTION -->\n",
    "\n",
    "-----\n",
    "\n",
    "# Submitting Your Notebook (please read carefully!)\n",
    "\n",
    "To submit your notebook...\n",
    "\n",
    "### 1. Click `File` $\\rightarrow$ `Save and Checkpoint`.\n",
    "\n",
    "### 2. Wait 5 seconds.\n",
    "\n",
    "### 3. Select the cell below and hit run."
   ]
  },
  {
   "cell_type": "code",
   "execution_count": null,
   "id": "4355d339",
   "metadata": {},
   "outputs": [],
   "source": [
    "ottr::export(\"Week12_Activity2group.ipynb\", pdf = TRUE)"
   ]
  },
  {
   "cell_type": "markdown",
   "id": "82ad95b3",
   "metadata": {},
   "source": [
    "After you hit \"Run\" on the cell above, wait for a moment (about 5 seconds), then click the download link. A .zip file should download to your computer.\n",
    "\n",
    "(If you make changes to your notebook, you'll need to hit save and then run the cell above again before you submit to get a new version of it.)\n",
    "\n",
    "### 4. Submit the .zip file you just downloaded <a href=\"https://www.gradescope.com\" target=\"_blank\">on Gradescope here</a>.\n",
    "\n",
    "Notes:\n",
    "\n",
    "- **This does not seem to work on Chrome for iPad or iPhone.** If you're using an iPad or iPhone, you need to download the file using **Safari**.\n",
    "- If your web browser automatically unzips the .zip file (so you see a folder instead of a .zip file), you can just upload the .ipynb file that is inside the folder.\n",
    "- If this method is not working for you, try the \"old way\": hit `File`, then `Download as`, then `Notebook (.ipynb)` and submit that."
   ]
  },
  {
   "cell_type": "markdown",
   "id": "f3e3b7db",
   "metadata": {
    "deletable": false,
    "editable": false
   },
   "source": [
    "## Submission\n",
    "\n",
    "Make sure you have run all cells in your notebook in order before running the cell below, so that all images/graphs appear in the output. The cell below will generate a zip file for you to submit. **Please save before exporting!**"
   ]
  },
  {
   "cell_type": "code",
   "execution_count": null,
   "id": "704e81c6",
   "metadata": {
    "deletable": false,
    "editable": false
   },
   "outputs": [],
   "source": [
    "# Save your notebook first, then run this cell to export your submission.\n",
    "ottr::export(\"Week12_Activity2group.ipynb\")"
   ]
  },
  {
   "cell_type": "markdown",
   "id": "00461d46",
   "metadata": {},
   "source": [
    " "
   ]
  }
 ],
 "metadata": {
  "kernelspec": {
   "display_name": "R",
   "language": "R",
   "name": "ir"
  },
  "language_info": {
   "codemirror_mode": "r",
   "file_extension": ".r",
   "mimetype": "text/x-r-source",
   "name": "R",
   "pygments_lexer": "r",
   "version": "4.1.2"
  },
  "latex_envs": {
   "LaTeX_envs_menu_present": true,
   "autoclose": false,
   "autocomplete": true,
   "bibliofile": "biblio.bib",
   "cite_by": "apalike",
   "current_citInitial": 1,
   "eqLabelWithNumbers": true,
   "eqNumInitial": 1,
   "hotkeys": {
    "equation": "Ctrl-E",
    "itemize": "Ctrl-I"
   },
   "labels_anchors": false,
   "latex_user_defs": false,
   "report_style_numbering": false,
   "user_envs_cfg": false
  }
 },
 "nbformat": 4,
 "nbformat_minor": 5
}
