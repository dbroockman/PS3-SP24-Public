{
 "cells": [
  {
   "cell_type": "markdown",
   "metadata": {},
   "source": [
    "# POLSCI 3\n",
    "\n",
    "## Week 2, Activity 2: Subsetting"
   ]
  },
  {
   "cell_type": "markdown",
   "metadata": {},
   "source": [
    "In this activity notebook, you are going to be answering a few questions based on what we covered in lecture 2, including subsetting and gathering statistical data."
   ]
  },
  {
   "cell_type": "code",
   "execution_count": null,
   "metadata": {
    "editable": false
   },
   "outputs": [],
   "source": [
    "# RUN THIS CELL\n",
    "library(testthat)\n",
    "library(ottr)"
   ]
  },
  {
   "cell_type": "markdown",
   "metadata": {},
   "source": [
    "Let's start by reading in the officer stop data I discussed in lecture."
   ]
  },
  {
   "cell_type": "code",
   "execution_count": null,
   "metadata": {
    "editable": false
   },
   "outputs": [],
   "source": [
    "officerdata <- read.csv('ps3_fl_officers_large.csv')\n",
    "head(officerdata)"
   ]
  },
  {
   "cell_type": "markdown",
   "metadata": {},
   "source": [
    "The cell above might take a few seconds to run, since it's a big dataset!\n",
    "\n",
    "Once again, this dataset contains real data on officers and drivers from nearly 860,000 police traffic stops. Each row represents one time that an officer stopped someone. Here is more information about the variables:\n",
    "\n",
    "- <code>search_occur</code>: Whether or not a search was conducted by the officer at that stop (0 = no search, 1 =  search)\n",
    "- <code>contra</code>: Whether or not a contraband (illegal items such as illegal drugs or guns) is found by the officer at that stop (0 = no contraband was found, either because officer did not search or because they did search and found none; 1 = contraband was found). *Officers only can find contraband if they conduct a search.*\n",
    "- <code>driver_age</code>: Age of driver (years)\n",
    "- <code>driver_race</code>: Race of driver (White = white; POC = non-white).\n",
    "- <code>officer_female</code>: Officer gender (0 = male; 1 = female). (There were no officers who identify with other genders in the dataset.)"
   ]
  },
  {
   "cell_type": "markdown",
   "metadata": {
    "deletable": false,
    "editable": false
   },
   "source": [
    "-----\n",
    "\n",
    "### Question 1 - Female Officers\n",
    "\n",
    "**Question 1a.** Subset `officerdata` to only observations where a female police officer conducted the stop. Save the results in `female.officer.stops`.\n",
    "\n",
    "To do so, replace \"`NULL # YOUR CODE HERE`\" below with the correct code.\n",
    "\n",
    "*Hint: In Lecture Notebook 2, I did exactly this! Use the `subset()` command. You can check the R Cheat Sheet in bCourses for a hint, too.*\n"
   ]
  },
  {
   "cell_type": "code",
   "execution_count": null,
   "metadata": {
    "scrolled": true,
    "tags": []
   },
   "outputs": [],
   "source": [
    "female.officer.stops <- NULL # YOUR CODE HERE"
   ]
  },
  {
   "cell_type": "code",
   "execution_count": null,
   "metadata": {
    "deletable": false,
    "editable": false
   },
   "outputs": [],
   "source": [
    ". = ottr::check(\"tests/q1a.R\")"
   ]
  },
  {
   "cell_type": "markdown",
   "metadata": {},
   "source": [
    "**Hint before you move on**: run the cell above and it will tell you if you subsetted correctly. If you see \"All tests passed!\", it means you did!"
   ]
  },
  {
   "cell_type": "markdown",
   "metadata": {
    "deletable": false,
    "editable": false
   },
   "source": [
    "----\n",
    "\n",
    "**Question 1b.** Out of all the officer stops *conducted by female officers*, what proportion resulted in a search being conducted? Compute this by simply taking the mean of the `search_occur` variable in the `female.officer.stops` dataset, just like we learned in Lecture 1. Save the result in a variable called `female.officer.search.rate`. In particular, replace \"`NULL # YOUR CODE HERE`\" below with code to take the mean of the `search_occur` variable in the `female.officer.stops` dataset that you just made.\n",
    "\n",
    "(On the second line, we multiply `female.officer.search.rate` by `* 100` before we print it out. This puts the answer in percentage points so it is easier to read. You don't need to change the second line.)\n"
   ]
  },
  {
   "cell_type": "code",
   "execution_count": null,
   "metadata": {
    "scrolled": true,
    "tags": []
   },
   "outputs": [],
   "source": [
    "female.officer.search.rate <- NULL # YOUR CODE HERE\n",
    "female.officer.search.rate * 100 # Don't change this line, it just prints the results in terms of a percentage."
   ]
  },
  {
   "cell_type": "code",
   "execution_count": null,
   "metadata": {
    "deletable": false,
    "editable": false
   },
   "outputs": [],
   "source": [
    ". = ottr::check(\"tests/q1b.R\")"
   ]
  },
  {
   "cell_type": "markdown",
   "metadata": {
    "deletable": false,
    "editable": false
   },
   "source": [
    "------\n",
    "\n",
    "**Question 1c.** Out of all of the stops instigated by *female* officers, what proportion resulted in contraband found? (That is, when looking at `female.officer.stops`, what is the average of the `contra` variable?) Save the resulting proportion in `female.officer.contra.found.rate`.\n",
    "\n",
    "Replace \"`NULL # YOUR CODE HERE`\" below with code to take the mean of the `contra` variable in the `female.officer.stops` dataset. On the second line, we again multiply this by 100 and print the result as a percentage to make it easier to interpret; you don't need to change the second line.\n"
   ]
  },
  {
   "cell_type": "code",
   "execution_count": null,
   "metadata": {
    "tags": []
   },
   "outputs": [],
   "source": [
    "female.officer.contra.found.rate <- NULL # YOUR CODE HERE\n",
    "female.officer.contra.found.rate * 100 # Don't change this line, it just prints the results in terms of a percentage."
   ]
  },
  {
   "cell_type": "code",
   "execution_count": null,
   "metadata": {
    "deletable": false,
    "editable": false
   },
   "outputs": [],
   "source": [
    ". = ottr::check(\"tests/q1c.R\")"
   ]
  },
  {
   "cell_type": "markdown",
   "metadata": {
    "deletable": false,
    "editable": false
   },
   "source": [
    "----\n",
    "\n",
    "**Question 1d.** Ideally, an officer would only search people when there is contraband to find. However, in real life, they search some people who don't have any contraband. **During what proportion of searches do female officers find contraband?**\n",
    "\n",
    "*Hint: You **can** take the subset of a subset!*"
   ]
  },
  {
   "cell_type": "code",
   "execution_count": null,
   "metadata": {
    "tags": []
   },
   "outputs": [],
   "source": [
    "# Hint: First subset female.officer.stops to cases when they conduct a search\n",
    "female.officer.searches <- NULL # YOUR CODE HERE\n",
    "\n",
    "# Then compute the mean of contraband within female.officer.searches\n",
    "female.officer.prop.searches.find.contra <- NULL # YOUR CODE HERE\n",
    "\n",
    "# Don't change this line, it just prints the results in terms of a percentage.\n",
    "female.officer.prop.searches.find.contra * 100"
   ]
  },
  {
   "cell_type": "code",
   "execution_count": null,
   "metadata": {
    "deletable": false,
    "editable": false
   },
   "outputs": [],
   "source": [
    ". = ottr::check(\"tests/q1d.R\")"
   ]
  },
  {
   "cell_type": "markdown",
   "metadata": {
    "deletable": false,
    "editable": false
   },
   "source": [
    "-----\n",
    "\n",
    "### Question 2\n",
    "\n",
    "In Question 2, we're going to do the exact same thing as you did in Questions 1a-1d, but now for male officers.\n",
    "\n",
    "**Question 2a.** Out of all of the stops instigated by **male** officers, what proportion resulted in searches conducted? To answer this question, you need to write **two** lines of code:\n",
    "\n",
    "1. The first line should save a subset of the `officerdata` where `officer_female` is `0`. You should save this into the new `male.officer.stops` dataset.\n",
    "2. The second line should take the average of `search_occur` within `male.officer.stops` and save the result in the `male.officer.search.rate` variable.\n"
   ]
  },
  {
   "cell_type": "code",
   "execution_count": null,
   "metadata": {
    "tags": []
   },
   "outputs": [],
   "source": [
    "male.officer.stops <- NULL # YOUR CODE HERE\n",
    "male.officer.search.rate <- NULL # YOUR CODE HERE\n",
    "male.officer.search.rate * 100 # Don't change this line, it just prints the results in terms of a percentage."
   ]
  },
  {
   "cell_type": "code",
   "execution_count": null,
   "metadata": {
    "deletable": false,
    "editable": false
   },
   "outputs": [],
   "source": [
    ". = ottr::check(\"tests/q2a.R\")"
   ]
  },
  {
   "cell_type": "markdown",
   "metadata": {
    "deletable": false,
    "editable": false
   },
   "source": [
    "-----\n",
    "\n",
    "**Question 2b.** Out of all of the stops instigated by **male** officers, what proportion resulted in contraband found?\n",
    "\n",
    "(That is, what is the mean of `contra` in the `male.officer.stops` dataset?)\n",
    "\n",
    "Save the resulting proportion in `male.officer.contra.found.rate`.\n"
   ]
  },
  {
   "cell_type": "code",
   "execution_count": null,
   "metadata": {
    "tags": []
   },
   "outputs": [],
   "source": [
    "male.officer.contra.found.rate <- NULL # YOUR CODE HERE\n",
    "male.officer.contra.found.rate * 100 # Again, this line just prints out the results as a percentage."
   ]
  },
  {
   "cell_type": "code",
   "execution_count": null,
   "metadata": {
    "deletable": false,
    "editable": false
   },
   "outputs": [],
   "source": [
    ". = ottr::check(\"tests/q2b.R\")"
   ]
  },
  {
   "cell_type": "markdown",
   "metadata": {
    "deletable": false,
    "editable": false
   },
   "source": [
    "----\n",
    "\n",
    "**Question 2c.** **During what proportion of searches do male officers find contraband?**\n",
    "\n",
    "*Hint: You can use a similar approach to the approach you took in Question 1d.*\n"
   ]
  },
  {
   "cell_type": "code",
   "execution_count": null,
   "metadata": {
    "tags": []
   },
   "outputs": [],
   "source": [
    "# Hint: First subset male.officer.stops to cases when they conduct a search\n",
    "male.officer.searches <- NULL # YOUR CODE HERE\n",
    "\n",
    "# Then compute the mean of contraband within male.officer.searches\n",
    "male.officer.prop.searches.find.contra <- NULL # YOUR CODE HERE\n",
    "\n",
    "# Don't change this line, it just prints the results in terms of a percentage.\n",
    "male.officer.prop.searches.find.contra * 100"
   ]
  },
  {
   "cell_type": "code",
   "execution_count": null,
   "metadata": {
    "deletable": false,
    "editable": false
   },
   "outputs": [],
   "source": [
    ". = ottr::check(\"tests/q2c.R\")"
   ]
  },
  {
   "cell_type": "markdown",
   "metadata": {},
   "source": [
    "## Discussion Questions\n",
    "\n",
    "We'll next ask you some discussion questions. These questions won't ask you to directly apply the techniques you learned. Instead, they'll ask you to step back and think about what you found. You might need to discuss what your findings mean with your group for a few minutes.\n",
    "\n",
    "First, run the cell below, which will make a small table that will remind you about what you just found."
   ]
  },
  {
   "cell_type": "code",
   "execution_count": null,
   "metadata": {
    "editable": false
   },
   "outputs": [],
   "source": [
    "# Don't change this code, and you don't need to understand it. Just run it and look at the results.\n",
    "data.frame(variable = c(\"% of Stops by Female Officers where they search\",\n",
    "                        \"% of Stops by Female Officers where they find contraband\",\n",
    "                        \"% of Searches by Female Officers where they find contraband\",\n",
    "                        \"% of Stops by Male Officers where they search\",\n",
    "                        \"% of Stops by Male Officers where they find contraband\",\n",
    "                        \"% of Searches by Male Officers where they find contraband\"),\n",
    "          value = paste0(round(c(female.officer.search.rate,\n",
    "                          female.officer.contra.found.rate,\n",
    "                          female.officer.prop.searches.find.contra,\n",
    "                          male.officer.search.rate,\n",
    "                          male.officer.contra.found.rate, \n",
    "                          male.officer.prop.searches.find.contra) * 100, 2), \"%\"))"
   ]
  },
  {
   "cell_type": "markdown",
   "metadata": {
    "deletable": false,
    "editable": false
   },
   "source": [
    "<!-- BEGIN QUESTION -->\n",
    "\n",
    "-----\n",
    "\n",
    "**Question 3.** Based on your analysis, do you think that female and male officers do their jobs any differently? If so, how?\n",
    "\n",
    "**Please limit your answer between 3-5 sentences for this question.** (To type your answer, double click where it says \"Type your answer here...\" and start typing.)\n"
   ]
  },
  {
   "cell_type": "markdown",
   "metadata": {},
   "source": [
    "_Type your answer here, replacing this text._"
   ]
  },
  {
   "cell_type": "markdown",
   "metadata": {
    "deletable": false,
    "editable": false
   },
   "source": [
    "<!-- END QUESTION -->\n",
    "\n",
    "<!-- BEGIN QUESTION -->\n",
    "\n",
    "------\n",
    "\n",
    "**Question 4.** Suppose you work in the Mayor's office of a City and are trying to evaluate the performance of individual police officers. Do you think the proportion of stops where officers find contraband, or the proportions of searches where they find contraband, are a good indicator of the effectiveness/performance of police officers? Why or why not? What are the pros and cons of these metrics?\n",
    "\n",
    "**Please limit your answer between 3-5 sentences for this question.** (To type your answer, double click where it says \"Type your answer here...\" and start typing.)\n"
   ]
  },
  {
   "cell_type": "markdown",
   "metadata": {},
   "source": [
    "_Type your answer here, replacing this text._"
   ]
  },
  {
   "cell_type": "markdown",
   "metadata": {
    "deletable": false,
    "editable": false
   },
   "source": [
    "<!-- END QUESTION -->\n",
    "\n",
    "------\n",
    "\n",
    "<span style=\"color:red\">**Only one** group member needs to turn in a notebook for your entire group.</span>\n",
    "\n",
    "------\n",
    "\n",
    "# Submitting Your Notebook (please read carefully!)\n",
    "\n",
    "To submit your notebook...\n",
    "\n",
    "### 1. Click `File` $\\rightarrow$ `Save and Checkpoint`.\n",
    "\n",
    "### 2. Wait 5 seconds.\n",
    "\n",
    "### 3. Select the cell below and hit run."
   ]
  },
  {
   "cell_type": "code",
   "execution_count": null,
   "metadata": {},
   "outputs": [],
   "source": [
    "ottr::export(\"Week2_Activity2group.ipynb\")"
   ]
  },
  {
   "cell_type": "markdown",
   "metadata": {},
   "source": [
    "After you hit \"Run\" on the cell above, click the download link. A .zip file should download to your computer.\n",
    "\n",
    "(If you make changes to your notebook, you'll need to hit save and then run the cell above again before you submit to get a new version of it.)\n",
    "\n",
    "### 4. Submit the .zip file you just downloaded <a href=\"https://www.gradescope.com/\" target=\"_blank\">on Gradescope here</a>.\n",
    "\n",
    "Notes:\n",
    "\n",
    "- **This does not seem to work on Chrome for iPad or iPhone.** If you're using an iPad or iPhone, you need to download the file using **Safari**.\n",
    "- If your web browser automatically unzips the .zip file (so you see a folder instead of a .zip file), you can just upload the .ipynb file that is inside the folder.\n",
    "- If this method is not working for you, try this: hit `File`, then `Download as`, then `Notebook (.ipynb)` and submit that."
   ]
  }
 ],
 "metadata": {
  "kernelspec": {
   "display_name": "R",
   "language": "R",
   "name": "ir"
  },
  "language_info": {
   "codemirror_mode": "r",
   "file_extension": ".r",
   "mimetype": "text/x-r-source",
   "name": "R",
   "pygments_lexer": "r",
   "version": "4.3.1"
  },
  "latex_envs": {
   "LaTeX_envs_menu_present": true,
   "autoclose": false,
   "autocomplete": true,
   "bibliofile": "biblio.bib",
   "cite_by": "apalike",
   "current_citInitial": 1,
   "eqLabelWithNumbers": true,
   "eqNumInitial": 1,
   "hotkeys": {
    "equation": "Ctrl-E",
    "itemize": "Ctrl-I"
   },
   "labels_anchors": false,
   "latex_user_defs": false,
   "report_style_numbering": false,
   "user_envs_cfg": false
  }
 },
 "nbformat": 4,
 "nbformat_minor": 2
}
